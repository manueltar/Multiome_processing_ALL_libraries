{
 "cells": [
  {
   "cell_type": "markdown",
   "id": "6aa90505-d963-4f35-be51-e57a2b285ffa",
   "metadata": {},
   "source": [
    "# Load packages and libraries"
   ]
  },
  {
   "cell_type": "code",
   "execution_count": 1,
   "id": "abcc97a1-28a1-4588-939d-0adc2b54439d",
   "metadata": {
    "execution": {
     "iopub.execute_input": "2025-04-23T18:48:43.057926Z",
     "iopub.status.busy": "2025-04-23T18:48:43.055495Z",
     "iopub.status.idle": "2025-04-23T18:50:28.915805Z",
     "shell.execute_reply": "2025-04-23T18:50:28.914553Z"
    },
    "vscode": {
     "languageId": "r"
    }
   },
   "outputs": [
    {
     "data": {
      "text/html": [
       "<style>\n",
       ".list-inline {list-style: none; margin:0; padding: 0}\n",
       ".list-inline>li {display: inline-block}\n",
       ".list-inline>li:not(:last-child)::after {content: \"\\00b7\"; padding: 0 .5ex}\n",
       "</style>\n",
       "<ol class=list-inline><li>'/home/manuel.tardaguila/R/x86_64-conda-linux-gnu-library/4.3'</li><li>'/home/manuel.tardaguila/conda_envs/multiome_QC_DEF/lib/R/library'</li></ol>\n"
      ],
      "text/latex": [
       "\\begin{enumerate*}\n",
       "\\item '/home/manuel.tardaguila/R/x86\\_64-conda-linux-gnu-library/4.3'\n",
       "\\item '/home/manuel.tardaguila/conda\\_envs/multiome\\_QC\\_DEF/lib/R/library'\n",
       "\\end{enumerate*}\n"
      ],
      "text/markdown": [
       "1. '/home/manuel.tardaguila/R/x86_64-conda-linux-gnu-library/4.3'\n",
       "2. '/home/manuel.tardaguila/conda_envs/multiome_QC_DEF/lib/R/library'\n",
       "\n",
       "\n"
      ],
      "text/plain": [
       "[1] \"/home/manuel.tardaguila/R/x86_64-conda-linux-gnu-library/4.3\"    \n",
       "[2] \"/home/manuel.tardaguila/conda_envs/multiome_QC_DEF/lib/R/library\""
      ]
     },
     "metadata": {},
     "output_type": "display_data"
    },
    {
     "data": {
      "text/html": [
       "'/home/manuel.tardaguila/conda_envs/multiome_QC_DEF/lib/R/library'"
      ],
      "text/latex": [
       "'/home/manuel.tardaguila/conda\\_envs/multiome\\_QC\\_DEF/lib/R/library'"
      ],
      "text/markdown": [
       "'/home/manuel.tardaguila/conda_envs/multiome_QC_DEF/lib/R/library'"
      ],
      "text/plain": [
       "[1] \"/home/manuel.tardaguila/conda_envs/multiome_QC_DEF/lib/R/library\""
      ]
     },
     "metadata": {},
     "output_type": "display_data"
    },
    {
     "data": {
      "text/html": [
       "TRUE"
      ],
      "text/latex": [
       "TRUE"
      ],
      "text/markdown": [
       "TRUE"
      ],
      "text/plain": [
       "[1] TRUE"
      ]
     },
     "metadata": {},
     "output_type": "display_data"
    },
    {
     "data": {
      "text/plain": [
       "Module(leidenalg)"
      ]
     },
     "metadata": {},
     "output_type": "display_data"
    },
    {
     "name": "stderr",
     "output_type": "stream",
     "text": [
      "Warning message:\n",
      "“package ‘optparse’ was built under R version 4.3.3”\n",
      "Warning message:\n",
      "“package ‘Seurat’ was built under R version 4.3.2”\n",
      "Warning message:\n",
      "“package ‘Signac’ was built under R version 4.3.2”\n",
      "Warning message:\n",
      "“package ‘ensembldb’ was built under R version 4.3.2”\n",
      "Warning message:\n",
      "“package ‘BiocGenerics’ was built under R version 4.3.2”\n",
      "Warning message:\n",
      "“package ‘GenomicRanges’ was built under R version 4.3.2”\n",
      "Warning message:\n",
      "“package ‘S4Vectors’ was built under R version 4.3.2”\n",
      "Warning message:\n",
      "“package ‘IRanges’ was built under R version 4.3.2”\n",
      "Warning message:\n",
      "“package ‘GenomeInfoDb’ was built under R version 4.3.2”\n",
      "Warning message:\n",
      "“package ‘GenomicFeatures’ was built under R version 4.3.2”\n",
      "Warning message:\n",
      "“package ‘AnnotationDbi’ was built under R version 4.3.2”\n",
      "Warning message:\n",
      "“package ‘Biobase’ was built under R version 4.3.2”\n",
      "Warning message:\n",
      "“package ‘AnnotationFilter’ was built under R version 4.3.2”\n",
      "Warning message:\n",
      "\"package 'scDblFinder' was built under R version 4.3.2\"\n",
      "Warning message:\n",
      "\"package 'SingleCellExperiment' was built under R version 4.3.2\"\n",
      "Warning message:\n",
      "\"package 'SummarizedExperiment' was built under R version 4.3.2\"\n",
      "Warning message:\n",
      "\"package 'MatrixGenerics' was built under R version 4.3.2\"\n",
      "Warning message:\n",
      "\"package 'biovizBase' was built under R version 4.3.3\"\n",
      "Warning message:\n",
      "\"package 'glmGamPoi' was built under R version 4.3.2\"\n",
      "Warning message:\n",
      "\"package 'SeuratData' was built under R version 4.3.3\"\n",
      "Warning message:\n",
      "\"package 'SeuratDisk' was built under R version 4.3.3\"\n",
      "Warning message:\n",
      "\"package 'svglite' was built under R version 4.3.3\"\n",
      "\n",
      "Attaching package: 'cowplot'\n",
      "\n",
      "\n",
      "The following object is masked from 'package:patchwork':\n",
      "\n",
      "    align_plots\n",
      "\n",
      "\n",
      "The following object is masked from 'package:ggpubr':\n",
      "\n",
      "    get_legend\n",
      "\n",
      "\n"
     ]
    }
   ],
   "source": [
    ".libPaths()\n",
    ".libPaths(new = c(\"/home/manuel.tardaguila/conda_envs/multiome_QC_DEF/lib/R/library\"))\n",
    ".libPaths()\n",
    "# sessionInfo()\n",
    "\n",
    "Sys.setenv(RETICULATE_PYTHON=\"/home/manuel.tardaguila/conda_envs/multiome_QC_DEF/bin/python\")\n",
    "library(reticulate)\n",
    "reticulate::use_python(\"/home/manuel.tardaguila/conda_envs/multiome_QC_DEF/bin/python\")\n",
    "reticulate::use_condaenv(\"/home/manuel.tardaguila/conda_envs/multiome_QC_DEF\")\n",
    "reticulate::py_module_available(module='leidenalg')\n",
    "reticulate::import('leidenalg')\n",
    "suppressMessages(library(\"optparse\"))\n",
    "suppressMessages(library(hdf5r))\n",
    "suppressMessages(library(Seurat))\n",
    "suppressMessages(library(Signac))\n",
    "suppressMessages(library(EnsDb.Hsapiens.v86))\n",
    "suppressMessages(library(dplyr))\n",
    "suppressMessages(library(ggplot2))\n",
    "suppressMessages(library(Matrix))\n",
    "suppressMessages(library(data.table))\n",
    "suppressMessages(library(ggpubr))\n",
    "suppressMessages(library(ggplot2))\n",
    "suppressMessages(library(scDblFinder))\n",
    "suppressMessages(library(\"tidyr\"))\n",
    "suppressMessages(library(\"tibble\"))\n",
    "suppressMessages(library(\"biovizBase\"))\n",
    "suppressMessages(library(\"patchwork\"))\n",
    "suppressMessages(library(glmGamPoi))\n",
    "suppressMessages(library(SeuratData))\n",
    "suppressMessages(library(SeuratDisk))\n",
    "library(svglite)\n",
    "library(RColorBrewer)\n",
    "library(forcats)\n",
    "library(cowplot)\n",
    "\n",
    "\n"
   ]
  },
  {
   "cell_type": "markdown",
   "id": "2fde3c4f-09d2-4108-b589-cb4d0808fb2a",
   "metadata": {},
   "source": [
    "# Checkpoint with all the cells, annotated and rpca integrated"
   ]
  },
  {
   "cell_type": "code",
   "execution_count": 2,
   "id": "2d776103-3535-41b6-a315-4c71270849cb",
   "metadata": {
    "execution": {
     "iopub.execute_input": "2025-04-23T18:50:28.939224Z",
     "iopub.status.busy": "2025-04-23T18:50:28.917750Z",
     "iopub.status.idle": "2025-04-23T18:54:40.174606Z",
     "shell.execute_reply": "2025-04-23T18:54:40.172309Z"
    }
   },
   "outputs": [],
   "source": [
    "setwd(\"/group/soranzo/manuel.tardaguila/2025_hESC_lymph_multiome/Multiome/processing_outputs/\")\n",
    "\n",
    "adata<-readRDS(file=\"merged_unprocessed_db_db_filt_clustered_QCed_cell_annotated_rpca_integrate_rpca_integrate_clustered.rds\")"
   ]
  },
  {
   "cell_type": "markdown",
   "id": "3cd05dd0-3d75-4403-bfc6-d470361f728d",
   "metadata": {},
   "source": [
    "# Read targeted amplified GEX no Cell Bender"
   ]
  },
  {
   "cell_type": "markdown",
   "id": "03346242-3bb4-4356-b67a-3180f3076fed",
   "metadata": {},
   "source": [
    "## Read each of the files in Seurat Diff1"
   ]
  },
  {
   "cell_type": "code",
   "execution_count": 3,
   "id": "7dc3f508-324b-4947-9c8f-6807954d9879",
   "metadata": {
    "execution": {
     "iopub.execute_input": "2025-04-23T18:54:40.178142Z",
     "iopub.status.busy": "2025-04-23T18:54:40.177000Z",
     "iopub.status.idle": "2025-04-23T18:54:52.797572Z",
     "shell.execute_reply": "2025-04-23T18:54:52.796275Z"
    }
   },
   "outputs": [
    {
     "name": "stderr",
     "output_type": "stream",
     "text": [
      "Warning message:\n",
      "\"Feature names cannot have underscores ('_'), replacing with dashes ('-')\"\n",
      "Warning message:\n",
      "\"Feature names cannot have underscores ('_'), replacing with dashes ('-')\"\n",
      "Warning message:\n",
      "\"Feature names cannot have underscores ('_'), replacing with dashes ('-')\"\n",
      "Warning message:\n",
      "\"Feature names cannot have underscores ('_'), replacing with dashes ('-')\"\n"
     ]
    }
   ],
   "source": [
    " adata_samp_1                 <- CreateSeuratObject(counts=Read10X_h5(file.path(\"/group/soranzo/manuel.tardaguila/2025_hESC_MK_multiome/GEX_reseq/alignment/cellranger/MCO_01326/outs/\", 'raw_feature_bc_matrix.h5')))\n",
    "  \n",
    " adata_samp_1$orig.ident<-'MCO_01326'\n",
    "\n",
    "adata_samp_2                 <- CreateSeuratObject(counts=Read10X_h5(file.path(\"/group/soranzo/manuel.tardaguila/2025_hESC_MK_multiome/GEX_reseq/alignment/cellranger/MCO_01327/outs/\", 'raw_feature_bc_matrix.h5')))\n",
    "  \n",
    "adata_samp_2$orig.ident<-'MCO_01327'\n",
    "\n",
    "\n",
    "adata_samp_3                 <- CreateSeuratObject(counts=Read10X_h5(file.path(\"/group/soranzo/manuel.tardaguila/2025_hESC_MK_multiome/GEX_reseq/alignment/cellranger/MCO_01328/outs/\", 'raw_feature_bc_matrix.h5')))\n",
    "  \n",
    " \n",
    "adata_samp_3$orig.ident<-'MCO_01328'\n",
    "\n",
    "adata_samp_4                 <- CreateSeuratObject(counts=Read10X_h5(file.path(\"/group/soranzo/manuel.tardaguila/2025_hESC_MK_multiome/GEX_reseq/alignment/cellranger/MCO_01329/outs/\", 'raw_feature_bc_matrix.h5')))\n",
    "  \n",
    "adata_samp_4$orig.ident<-'MCO_01329'\n"
   ]
  },
  {
   "cell_type": "markdown",
   "id": "6f2051da-055d-4363-b914-49bfde99d64a",
   "metadata": {},
   "source": [
    "## Read each of the files in Seurat Diff2"
   ]
  },
  {
   "cell_type": "code",
   "execution_count": 4,
   "id": "77fecb32-b9f6-4d4f-90e2-9004285c0ee0",
   "metadata": {
    "execution": {
     "iopub.execute_input": "2025-04-23T18:54:52.800489Z",
     "iopub.status.busy": "2025-04-23T18:54:52.799498Z",
     "iopub.status.idle": "2025-04-23T18:55:03.305976Z",
     "shell.execute_reply": "2025-04-23T18:55:03.304571Z"
    }
   },
   "outputs": [
    {
     "name": "stderr",
     "output_type": "stream",
     "text": [
      "Warning message:\n",
      "\"Feature names cannot have underscores ('_'), replacing with dashes ('-')\"\n",
      "Warning message:\n",
      "\"Feature names cannot have underscores ('_'), replacing with dashes ('-')\"\n",
      "Warning message:\n",
      "\"Feature names cannot have underscores ('_'), replacing with dashes ('-')\"\n",
      "Warning message:\n",
      "\"Feature names cannot have underscores ('_'), replacing with dashes ('-')\"\n"
     ]
    }
   ],
   "source": [
    "adata_samp_5                 <- CreateSeuratObject(counts=Read10X_h5(file.path(\"/group/soranzo/manuel.tardaguila/2025_hESC_lymph_multiome/targeted_amplicon_GEX/cellranger/MCO_01330/outs/\", 'raw_feature_bc_matrix.h5')))\n",
    "  \n",
    " adata_samp_5$orig.ident<-'MCO_01330'\n",
    "\n",
    "adata_samp_6                 <- CreateSeuratObject(counts=Read10X_h5(file.path(\"/group/soranzo/manuel.tardaguila/2025_hESC_lymph_multiome/targeted_amplicon_GEX/cellranger/MCO_01331/outs/\", 'raw_feature_bc_matrix.h5')))\n",
    "  \n",
    " adata_samp_6$orig.ident<-'MCO_01331'\n",
    "\n",
    "adata_samp_7                 <- CreateSeuratObject(counts=Read10X_h5(file.path(\"/group/soranzo/manuel.tardaguila/2025_hESC_lymph_multiome/targeted_amplicon_GEX/cellranger/MCO_01332/outs/\", 'raw_feature_bc_matrix.h5')))\n",
    "  \n",
    " adata_samp_7$orig.ident<-'MCO_01332'\n",
    "\n",
    "adata_samp_8                 <- CreateSeuratObject(counts=Read10X_h5(file.path(\"/group/soranzo/manuel.tardaguila/2025_hESC_lymph_multiome/targeted_amplicon_GEX/cellranger/MCO_01333/outs/\", 'raw_feature_bc_matrix.h5')))\n",
    "  \n",
    " adata_samp_8$orig.ident<-'MCO_01333'"
   ]
  },
  {
   "cell_type": "markdown",
   "id": "883e1372-5dfb-4333-8622-c8e5c19467fa",
   "metadata": {},
   "source": [
    "## combine them in a single object"
   ]
  },
  {
   "cell_type": "code",
   "execution_count": 5,
   "id": "891d4525-d580-496e-a00e-bf140a2967a6",
   "metadata": {
    "execution": {
     "iopub.execute_input": "2025-04-23T18:55:03.309121Z",
     "iopub.status.busy": "2025-04-23T18:55:03.308056Z",
     "iopub.status.idle": "2025-04-23T18:55:31.629377Z",
     "shell.execute_reply": "2025-04-23T18:55:31.628147Z"
    }
   },
   "outputs": [
    {
     "data": {
      "text/plain": [
       "An object of class Seurat \n",
       "12 features across 788876 samples within 1 assay \n",
       "Active assay: RNA (12 features, 0 variable features)\n",
       " 1 layer present: counts"
      ]
     },
     "metadata": {},
     "output_type": "display_data"
    }
   ],
   "source": [
    "adatas<-list()\n",
    "\n",
    "adatas[[1]]<-adata_samp_1\n",
    "adatas[[2]]<-adata_samp_2\n",
    "adatas[[3]]<-adata_samp_3\n",
    "adatas[[4]]<-adata_samp_4\n",
    "\n",
    "adatas[[5]]<-adata_samp_5\n",
    "adatas[[6]]<-adata_samp_6\n",
    "adatas[[7]]<-adata_samp_7\n",
    "adatas[[8]]<-adata_samp_8\n",
    "\n",
    "sample_array<-c('MCO_01326','MCO_01327','MCO_01328','MCO_01329','MCO_01330','MCO_01331','MCO_01332','MCO_01333')\n",
    "\n",
    "merged = merge(x =adatas[[1]], y=adatas[2:8], add.cell.ids = sample_array )\n",
    "\n",
    "merged[[\"RNA\"]] <-JoinLayers(merged[[\"RNA\"]])\n",
    "\n",
    "merged\n"
   ]
  },
  {
   "cell_type": "markdown",
   "id": "8d7a788d-3cc6-4736-bffb-c6c448200caf",
   "metadata": {},
   "source": [
    "## Only use the barcodes that are part of my final object"
   ]
  },
  {
   "cell_type": "code",
   "execution_count": 6,
   "id": "a7cf2654-05e6-435e-ad1a-530d8cdeed07",
   "metadata": {
    "execution": {
     "iopub.execute_input": "2025-04-23T18:55:31.632183Z",
     "iopub.status.busy": "2025-04-23T18:55:31.631243Z",
     "iopub.status.idle": "2025-04-23T18:55:31.702479Z",
     "shell.execute_reply": "2025-04-23T18:55:31.701261Z"
    }
   },
   "outputs": [
    {
     "name": "stdout",
     "output_type": "stream",
     "text": [
      " chr [1:99147] \"MCO_01326_AAACAGCCACAGCCAT-1\" ...\n"
     ]
    }
   ],
   "source": [
    "joint.bcs <- intersect(colnames(adata), colnames(merged))\n",
    "\n",
    "str(joint.bcs)"
   ]
  },
  {
   "cell_type": "code",
   "execution_count": 7,
   "id": "a6d552c5-186a-4937-8f1c-0191ec89e404",
   "metadata": {
    "execution": {
     "iopub.execute_input": "2025-04-23T18:55:31.705233Z",
     "iopub.status.busy": "2025-04-23T18:55:31.704287Z",
     "iopub.status.idle": "2025-04-23T18:55:37.607670Z",
     "shell.execute_reply": "2025-04-23T18:55:37.606342Z"
    }
   },
   "outputs": [
    {
     "data": {
      "text/plain": [
       "An object of class Seurat \n",
       "12 features across 99147 samples within 1 assay \n",
       "Active assay: RNA (12 features, 0 variable features)\n",
       " 1 layer present: counts"
      ]
     },
     "metadata": {},
     "output_type": "display_data"
    }
   ],
   "source": [
    "merged_restricted <- subset(merged, cells = joint.bcs)\n",
    "\n",
    "merged_restricted"
   ]
  },
  {
   "cell_type": "code",
   "execution_count": 8,
   "id": "e42d7ae0-37df-45a9-943e-abb9730e33e1",
   "metadata": {
    "execution": {
     "iopub.execute_input": "2025-04-23T18:55:37.610649Z",
     "iopub.status.busy": "2025-04-23T18:55:37.609686Z",
     "iopub.status.idle": "2025-04-23T18:55:37.661659Z",
     "shell.execute_reply": "2025-04-23T18:55:37.660204Z"
    }
   },
   "outputs": [],
   "source": [
    "HTO_NOCellBender_counts<-GetAssayData(\n",
    "  merged_restricted,\n",
    "  layer = c(\"counts\"))+1\n",
    "\n",
    "### Adding a pseudocount as seen in https://github.com/satijalab/seurat/issues/5640\n"
   ]
  },
  {
   "cell_type": "code",
   "execution_count": 9,
   "id": "0eadce3a-35bc-4d6f-9ac1-da15d73169dc",
   "metadata": {
    "execution": {
     "iopub.execute_input": "2025-04-23T18:55:37.664579Z",
     "iopub.status.busy": "2025-04-23T18:55:37.663583Z",
     "iopub.status.idle": "2025-04-23T18:55:37.677836Z",
     "shell.execute_reply": "2025-04-23T18:55:37.676691Z"
    }
   },
   "outputs": [
    {
     "name": "stdout",
     "output_type": "stream",
     "text": [
      "Formal class 'dgeMatrix' [package \"Matrix\"] with 4 slots\n",
      "  ..@ Dim     : int [1:2] 12 99147\n",
      "  ..@ Dimnames:List of 2\n",
      "  .. ..$ : chr [1:12] \"GFP-chrGFP-WTA\" \"GFP-chrGFP-WTB\" \"GFP-chrGFP-WTC\" \"GFP-chrGFP-rs1\" ...\n",
      "  .. ..$ : chr [1:99147] \"MCO_01326_AAACAGCCACAGCCAT-1\" \"MCO_01326_AAACAGCCACCAGGTT-1\" \"MCO_01326_AAACAGCCACGGTACT-1\" \"MCO_01326_AAACAGCCAGCCGCTA-1\" ...\n",
      "  ..@ x       : num [1:1189764] 1 1 1 2 1 2 4 1 29 4 ...\n",
      "  ..@ factors : list()\n"
     ]
    }
   ],
   "source": [
    "str(HTO_NOCellBender_counts)"
   ]
  },
  {
   "cell_type": "code",
   "execution_count": 10,
   "id": "b5c02647-ef1f-45f5-874d-8f139a37ad02",
   "metadata": {
    "execution": {
     "iopub.execute_input": "2025-04-23T18:55:37.680624Z",
     "iopub.status.busy": "2025-04-23T18:55:37.679631Z",
     "iopub.status.idle": "2025-04-23T18:55:40.792182Z",
     "shell.execute_reply": "2025-04-23T18:55:40.790645Z"
    }
   },
   "outputs": [],
   "source": [
    "merged_restricted[[\"HTO_NOCellBender\"]] <- CreateAssayObject(counts = HTO_NOCellBender_counts)"
   ]
  },
  {
   "cell_type": "code",
   "execution_count": 11,
   "id": "5793bb29-6de6-42c3-a342-5c8530d419f4",
   "metadata": {
    "execution": {
     "iopub.execute_input": "2025-04-23T18:55:40.795491Z",
     "iopub.status.busy": "2025-04-23T18:55:40.794363Z",
     "iopub.status.idle": "2025-04-23T18:55:40.810161Z",
     "shell.execute_reply": "2025-04-23T18:55:40.808934Z"
    }
   },
   "outputs": [
    {
     "data": {
      "text/plain": [
       "An object of class Seurat \n",
       "24 features across 99147 samples within 2 assays \n",
       "Active assay: RNA (12 features, 0 variable features)\n",
       " 1 layer present: counts\n",
       " 1 other assay present: HTO_NOCellBender"
      ]
     },
     "metadata": {},
     "output_type": "display_data"
    }
   ],
   "source": [
    "merged_restricted"
   ]
  },
  {
   "cell_type": "markdown",
   "id": "756f9c96-f9f7-40f7-b574-5ac82164f6a7",
   "metadata": {
    "editable": true,
    "slideshow": {
     "slide_type": ""
    },
    "tags": []
   },
   "source": [
    "## normalize CLR"
   ]
  },
  {
   "cell_type": "code",
   "execution_count": 12,
   "id": "9d3ae64a-9e7a-40b4-91d6-9b07a8af9cf4",
   "metadata": {
    "execution": {
     "iopub.execute_input": "2025-04-23T18:55:40.813171Z",
     "iopub.status.busy": "2025-04-23T18:55:40.812162Z",
     "iopub.status.idle": "2025-04-23T18:55:41.149358Z",
     "shell.execute_reply": "2025-04-23T18:55:41.147930Z"
    }
   },
   "outputs": [
    {
     "name": "stderr",
     "output_type": "stream",
     "text": [
      "Normalizing across features\n",
      "\n"
     ]
    }
   ],
   "source": [
    "merged_restricted <- NormalizeData(merged_restricted, assay = \"HTO_NOCellBender\", normalization.method = \"CLR\")\n"
   ]
  },
  {
   "cell_type": "markdown",
   "id": "66ad5e14-5bc4-46a8-9c5f-29fd4c753c09",
   "metadata": {},
   "source": [
    "## Demultiplex using HTO Demux"
   ]
  },
  {
   "cell_type": "code",
   "execution_count": 13,
   "id": "028e6591-0596-4f54-9d6b-2fe8798d43e6",
   "metadata": {
    "execution": {
     "iopub.execute_input": "2025-04-23T18:55:41.152637Z",
     "iopub.status.busy": "2025-04-23T18:55:41.151517Z",
     "iopub.status.idle": "2025-04-23T18:55:54.831480Z",
     "shell.execute_reply": "2025-04-23T18:55:54.829747Z"
    }
   },
   "outputs": [
    {
     "name": "stderr",
     "output_type": "stream",
     "text": [
      "As of Seurat v5, we recommend using AggregateExpression to perform pseudo-bulk analysis.\n",
      "\u001b[90mThis message is displayed once per session.\u001b[39m\n",
      "First group.by variable `ident` starts with a number, appending `g` to ensure valid variable names\n",
      "\u001b[90mThis message is displayed once every 8 hours.\u001b[39m\n",
      "Cutoff for GFP-chrGFP-WTA : 4 reads\n",
      "\n",
      "Cutoff for GFP-chrGFP-WTB : 4 reads\n",
      "\n",
      "Cutoff for GFP-chrGFP-WTC : 4 reads\n",
      "\n",
      "Cutoff for GFP-chrGFP-rs1 : 5 reads\n",
      "\n",
      "Cutoff for GFP-chrGFP-rs2 : 5 reads\n",
      "\n",
      "Cutoff for GFP-chrGFP-rs3 : 5 reads\n",
      "\n",
      "Cutoff for GFP-chrGFP-R882H1 : 4 reads\n",
      "\n",
      "Cutoff for GFP-chrGFP-R882H2 : 4 reads\n",
      "\n",
      "Cutoff for GFP-chrGFP-R882H3 : 4 reads\n",
      "\n",
      "Cutoff for GFP-chrGFP-rs-R882H1 : 4 reads\n",
      "\n",
      "Cutoff for GFP-chrGFP-rs-R882H2 : 4 reads\n",
      "\n",
      "Cutoff for GFP-chrGFP-rs-R882H3 : 4 reads\n",
      "\n"
     ]
    }
   ],
   "source": [
    "merged_restricted <- HTODemux(merged_restricted, assay = \"HTO_NOCellBender\", positive.quantile = 0.99)\n"
   ]
  },
  {
   "cell_type": "code",
   "execution_count": 14,
   "id": "43666a6d-d59f-470a-9014-7ca9dfef67f1",
   "metadata": {
    "execution": {
     "iopub.execute_input": "2025-04-23T18:55:54.834572Z",
     "iopub.status.busy": "2025-04-23T18:55:54.833562Z",
     "iopub.status.idle": "2025-04-23T18:55:54.849671Z",
     "shell.execute_reply": "2025-04-23T18:55:54.848581Z"
    }
   },
   "outputs": [
    {
     "name": "stdout",
     "output_type": "stream",
     "text": [
      "'data.frame':\t99147 obs. of  11 variables:\n",
      " $ orig.ident                            : chr  \"MCO_01326\" \"MCO_01326\" \"MCO_01326\" \"MCO_01326\" ...\n",
      " $ nCount_RNA                            : num  41 4 14 19 30 6 32 18 34 32 ...\n",
      " $ nFeature_RNA                          : int  7 3 9 8 8 6 7 9 8 9 ...\n",
      " $ nCount_HTO_NOCellBender               : num  53 16 26 31 42 18 44 30 46 44 ...\n",
      " $ nFeature_HTO_NOCellBender             : int  12 12 12 12 12 12 12 12 12 12 ...\n",
      " $ HTO_NOCellBender_maxID                : chr  \"GFP-chrGFP-R882H3\" \"GFP-chrGFP-rs-R882H3\" \"GFP-chrGFP-R882H1\" \"GFP-chrGFP-rs-R882H3\" ...\n",
      " $ HTO_NOCellBender_secondID             : chr  \"GFP-chrGFP-rs-R882H3\" \"GFP-chrGFP-rs-R882H2\" \"GFP-chrGFP-rs-R882H3\" \"GFP-chrGFP-R882H3\" ...\n",
      " $ HTO_NOCellBender_margin               : num  1.565 0.193 0.154 0.339 0.566 ...\n",
      " $ HTO_NOCellBender_classification       : chr  \"GFP-chrGFP-R882H3\" \"Negative\" \"Negative\" \"GFP-chrGFP-R882H3_GFP-chrGFP-rs-R882H3\" ...\n",
      " $ HTO_NOCellBender_classification.global: chr  \"Singlet\" \"Negative\" \"Negative\" \"Doublet\" ...\n",
      " $ hash.ID                               : Factor w/ 14 levels \"Doublet\",\"GFP-chrGFP-R882H3\",..: 2 3 3 1 1 3 4 3 1 1 ...\n"
     ]
    }
   ],
   "source": [
    "str(merged_restricted@meta.data)"
   ]
  },
  {
   "cell_type": "code",
   "execution_count": 15,
   "id": "0d074392-93dc-4799-b42c-c14704157003",
   "metadata": {
    "execution": {
     "iopub.execute_input": "2025-04-23T18:55:54.852476Z",
     "iopub.status.busy": "2025-04-23T18:55:54.851494Z",
     "iopub.status.idle": "2025-04-23T18:55:54.865451Z",
     "shell.execute_reply": "2025-04-23T18:55:54.864346Z"
    }
   },
   "outputs": [
    {
     "data": {
      "text/html": [
       "<style>\n",
       ".dl-inline {width: auto; margin:0; padding: 0}\n",
       ".dl-inline>dt, .dl-inline>dd {float: none; width: auto; display: inline-block}\n",
       ".dl-inline>dt::after {content: \":\\0020\"; padding-right: .5ex}\n",
       ".dl-inline>dt:not(:first-of-type) {padding-left: .5ex}\n",
       "</style><dl class=dl-inline><dt>Doublet</dt><dd>33535</dd><dt>GFP-chrGFP-R882H3</dt><dd>1321</dd><dt>Negative</dt><dd>33193</dd><dt>GFP-chrGFP-R882H1</dt><dd>857</dd><dt>GFP-chrGFP-rs-R882H2</dt><dd>536</dd><dt>GFP-chrGFP-rs-R882H3</dt><dd>520</dd><dt>GFP-chrGFP-rs-R882H1</dt><dd>955</dd><dt>GFP-chrGFP-R882H2</dt><dd>3563</dd><dt>GFP-chrGFP-rs3</dt><dd>13089</dd><dt>GFP-chrGFP-rs2</dt><dd>9420</dd><dt>GFP-chrGFP-rs1</dt><dd>1622</dd><dt>GFP-chrGFP-WTC</dt><dd>181</dd><dt>GFP-chrGFP-WTA</dt><dd>62</dd><dt>GFP-chrGFP-WTB</dt><dd>293</dd></dl>\n"
      ],
      "text/latex": [
       "\\begin{description*}\n",
       "\\item[Doublet] 33535\n",
       "\\item[GFP-chrGFP-R882H3] 1321\n",
       "\\item[Negative] 33193\n",
       "\\item[GFP-chrGFP-R882H1] 857\n",
       "\\item[GFP-chrGFP-rs-R882H2] 536\n",
       "\\item[GFP-chrGFP-rs-R882H3] 520\n",
       "\\item[GFP-chrGFP-rs-R882H1] 955\n",
       "\\item[GFP-chrGFP-R882H2] 3563\n",
       "\\item[GFP-chrGFP-rs3] 13089\n",
       "\\item[GFP-chrGFP-rs2] 9420\n",
       "\\item[GFP-chrGFP-rs1] 1622\n",
       "\\item[GFP-chrGFP-WTC] 181\n",
       "\\item[GFP-chrGFP-WTA] 62\n",
       "\\item[GFP-chrGFP-WTB] 293\n",
       "\\end{description*}\n"
      ],
      "text/markdown": [
       "Doublet\n",
       ":   33535GFP-chrGFP-R882H3\n",
       ":   1321Negative\n",
       ":   33193GFP-chrGFP-R882H1\n",
       ":   857GFP-chrGFP-rs-R882H2\n",
       ":   536GFP-chrGFP-rs-R882H3\n",
       ":   520GFP-chrGFP-rs-R882H1\n",
       ":   955GFP-chrGFP-R882H2\n",
       ":   3563GFP-chrGFP-rs3\n",
       ":   13089GFP-chrGFP-rs2\n",
       ":   9420GFP-chrGFP-rs1\n",
       ":   1622GFP-chrGFP-WTC\n",
       ":   181GFP-chrGFP-WTA\n",
       ":   62GFP-chrGFP-WTB\n",
       ":   293\n",
       "\n"
      ],
      "text/plain": [
       "             Doublet    GFP-chrGFP-R882H3             Negative \n",
       "               33535                 1321                33193 \n",
       "   GFP-chrGFP-R882H1 GFP-chrGFP-rs-R882H2 GFP-chrGFP-rs-R882H3 \n",
       "                 857                  536                  520 \n",
       "GFP-chrGFP-rs-R882H1    GFP-chrGFP-R882H2       GFP-chrGFP-rs3 \n",
       "                 955                 3563                13089 \n",
       "      GFP-chrGFP-rs2       GFP-chrGFP-rs1       GFP-chrGFP-WTC \n",
       "                9420                 1622                  181 \n",
       "      GFP-chrGFP-WTA       GFP-chrGFP-WTB \n",
       "                  62                  293 "
      ]
     },
     "metadata": {},
     "output_type": "display_data"
    }
   ],
   "source": [
    "summary(merged_restricted@meta.data$hash.ID)"
   ]
  },
  {
   "cell_type": "code",
   "execution_count": 16,
   "id": "7302e8fd-e5fa-4acd-93b1-a9370903a252",
   "metadata": {
    "execution": {
     "iopub.execute_input": "2025-04-23T18:55:54.868159Z",
     "iopub.status.busy": "2025-04-23T18:55:54.867171Z",
     "iopub.status.idle": "2025-04-23T18:55:54.888401Z",
     "shell.execute_reply": "2025-04-23T18:55:54.887271Z"
    }
   },
   "outputs": [
    {
     "data": {
      "text/plain": [
       "\n",
       " Doublet Negative  Singlet \n",
       "   33535    33193    32419 "
      ]
     },
     "metadata": {},
     "output_type": "display_data"
    }
   ],
   "source": [
    "table(merged_restricted$HTO_NOCellBender_classification.global)"
   ]
  },
  {
   "cell_type": "code",
   "execution_count": 17,
   "id": "a9116cf3-56a8-443c-8384-197ecccfee3d",
   "metadata": {
    "execution": {
     "iopub.execute_input": "2025-04-23T18:55:54.891331Z",
     "iopub.status.busy": "2025-04-23T18:55:54.890330Z",
     "iopub.status.idle": "2025-04-23T18:56:00.453620Z",
     "shell.execute_reply": "2025-04-23T18:56:00.452220Z"
    }
   },
   "outputs": [],
   "source": [
    "# Group cells based on the max HTO_NOCellBender signal\n",
    "Idents(merged_restricted) <- \"HTO_NOCellBender_maxID\"\n",
    "rp1<-RidgePlot(merged_restricted, assay = \"HTO_NOCellBender\", features = rownames(merged_restricted[[\"HTO_NOCellBender\"]])[1], ncol = 1)+\n",
    "             theme(legend.title = element_blank(),\n",
    "                      legend.text = element_text(color=\"black\", family=\"sans\"),\n",
    "                      legend.key.size = unit(0.25, 'cm'), #change legend key size\n",
    "                      legend.key.height = unit(0.25, 'cm'), #change legend key height\n",
    "                      legend.key.width = unit(0.25, 'cm'), #change legend key width\n",
    "                      legend.position=\"hidden\")\n",
    "\n",
    "rp2<-RidgePlot(merged_restricted, assay = \"HTO_NOCellBender\", features = rownames(merged_restricted[[\"HTO_NOCellBender\"]])[2], ncol = 1)+\n",
    "             theme(legend.title = element_blank(),\n",
    "                      legend.text = element_text(color=\"black\", family=\"sans\"),\n",
    "                      legend.key.size = unit(0.25, 'cm'), #change legend key size\n",
    "                      legend.key.height = unit(0.25, 'cm'), #change legend key height\n",
    "                      legend.key.width = unit(0.25, 'cm'), #change legend key width\n",
    "                      legend.position=\"hidden\")\n",
    "\n",
    "rp3<-RidgePlot(merged_restricted, assay = \"HTO_NOCellBender\", features = rownames(merged_restricted[[\"HTO_NOCellBender\"]])[3], ncol = 1)+\n",
    "             theme(legend.title = element_blank(),\n",
    "                      legend.text = element_text(color=\"black\", family=\"sans\"),\n",
    "                      legend.key.size = unit(0.25, 'cm'), #change legend key size\n",
    "                      legend.key.height = unit(0.25, 'cm'), #change legend key height\n",
    "                      legend.key.width = unit(0.25, 'cm'), #change legend key width\n",
    "                      legend.position=\"hidden\")\n",
    "\n",
    "rp4<-RidgePlot(merged_restricted, assay = \"HTO_NOCellBender\", features = rownames(merged_restricted[[\"HTO_NOCellBender\"]])[4], ncol = 1)+\n",
    "             theme(legend.title = element_blank(),\n",
    "                      legend.text = element_text(color=\"black\", family=\"sans\"),\n",
    "                      legend.key.size = unit(0.25, 'cm'), #change legend key size\n",
    "                      legend.key.height = unit(0.25, 'cm'), #change legend key height\n",
    "                      legend.key.width = unit(0.25, 'cm'), #change legend key width\n",
    "                      legend.position=\"hidden\")\n",
    "\n",
    "##\n",
    "\n",
    "rp5<-RidgePlot(merged_restricted, assay = \"HTO_NOCellBender\", features = rownames(merged_restricted[[\"HTO_NOCellBender\"]])[5], ncol = 1)+\n",
    "             theme(legend.title = element_blank(),\n",
    "                      legend.text = element_text(color=\"black\", family=\"sans\"),\n",
    "                      legend.key.size = unit(0.25, 'cm'), #change legend key size\n",
    "                      legend.key.height = unit(0.25, 'cm'), #change legend key height\n",
    "                      legend.key.width = unit(0.25, 'cm'), #change legend key width\n",
    "                      legend.position=\"hidden\")\n",
    "\n",
    "rp6<-RidgePlot(merged_restricted, assay = \"HTO_NOCellBender\", features = rownames(merged_restricted[[\"HTO_NOCellBender\"]])[6], ncol = 1)+\n",
    "             theme(legend.title = element_blank(),\n",
    "                      legend.text = element_text(color=\"black\", family=\"sans\"),\n",
    "                      legend.key.size = unit(0.25, 'cm'), #change legend key size\n",
    "                      legend.key.height = unit(0.25, 'cm'), #change legend key height\n",
    "                      legend.key.width = unit(0.25, 'cm'), #change legend key width\n",
    "                      legend.position=\"hidden\")\n",
    "\n",
    "rp7<-RidgePlot(merged_restricted, assay = \"HTO_NOCellBender\", features = rownames(merged_restricted[[\"HTO_NOCellBender\"]])[7], ncol = 1)+\n",
    "             theme(legend.title = element_blank(),\n",
    "                      legend.text = element_text(color=\"black\", family=\"sans\"),\n",
    "                      legend.key.size = unit(0.25, 'cm'), #change legend key size\n",
    "                      legend.key.height = unit(0.25, 'cm'), #change legend key height\n",
    "                      legend.key.width = unit(0.25, 'cm'), #change legend key width\n",
    "                      legend.position=\"hidden\")\n",
    "\n",
    "rp8<-RidgePlot(merged_restricted, assay = \"HTO_NOCellBender\", features = rownames(merged_restricted[[\"HTO_NOCellBender\"]])[8], ncol = 1)+\n",
    "             theme(legend.title = element_blank(),\n",
    "                      legend.text = element_text(color=\"black\", family=\"sans\"),\n",
    "                      legend.key.size = unit(0.25, 'cm'), #change legend key size\n",
    "                      legend.key.height = unit(0.25, 'cm'), #change legend key height\n",
    "                      legend.key.width = unit(0.25, 'cm'), #change legend key width\n",
    "                      legend.position=\"hidden\")\n",
    "\n",
    "##\n",
    "\n",
    "rp9<-RidgePlot(merged_restricted, assay = \"HTO_NOCellBender\", features = rownames(merged_restricted[[\"HTO_NOCellBender\"]])[9], ncol = 1)+\n",
    "             theme(legend.title = element_blank(),\n",
    "                      legend.text = element_text(color=\"black\", family=\"sans\"),\n",
    "                      legend.key.size = unit(0.25, 'cm'), #change legend key size\n",
    "                      legend.key.height = unit(0.25, 'cm'), #change legend key height\n",
    "                      legend.key.width = unit(0.25, 'cm'), #change legend key width\n",
    "                      legend.position=\"hidden\")\n",
    "\n",
    "rp10<-RidgePlot(merged_restricted, assay = \"HTO_NOCellBender\", features = rownames(merged_restricted[[\"HTO_NOCellBender\"]])[10], ncol = 1)+\n",
    "             theme(legend.title = element_blank(),\n",
    "                      legend.text = element_text(color=\"black\", family=\"sans\"),\n",
    "                      legend.key.size = unit(0.25, 'cm'), #change legend key size\n",
    "                      legend.key.height = unit(0.25, 'cm'), #change legend key height\n",
    "                      legend.key.width = unit(0.25, 'cm'), #change legend key width\n",
    "                      legend.position=\"hidden\")\n",
    "\n",
    "rp11<-RidgePlot(merged_restricted, assay = \"HTO_NOCellBender\", features = rownames(merged_restricted[[\"HTO_NOCellBender\"]])[11], ncol = 1)+\n",
    "             theme(legend.title = element_blank(),\n",
    "                      legend.text = element_text(color=\"black\", family=\"sans\"),\n",
    "                      legend.key.size = unit(0.25, 'cm'), #change legend key size\n",
    "                      legend.key.height = unit(0.25, 'cm'), #change legend key height\n",
    "                      legend.key.width = unit(0.25, 'cm'), #change legend key width\n",
    "                      legend.position=\"hidden\")\n",
    "\n",
    "rp12<-RidgePlot(merged_restricted, assay = \"HTO_NOCellBender\", features = rownames(merged_restricted[[\"HTO_NOCellBender\"]])[12], ncol = 1)+\n",
    "             theme(legend.title = element_blank(),\n",
    "                      legend.text = element_text(color=\"black\", family=\"sans\"),\n",
    "                      legend.key.size = unit(0.25, 'cm'), #change legend key size\n",
    "                      legend.key.height = unit(0.25, 'cm'), #change legend key height\n",
    "                      legend.key.width = unit(0.25, 'cm'), #change legend key width\n",
    "                      legend.position=\"hidden\")"
   ]
  },
  {
   "cell_type": "code",
   "execution_count": 18,
   "id": "7bce8857-38b5-4f32-a3b8-06d50f1d612d",
   "metadata": {
    "editable": true,
    "execution": {
     "iopub.execute_input": "2025-04-23T18:56:00.456527Z",
     "iopub.status.busy": "2025-04-23T18:56:00.455558Z",
     "iopub.status.idle": "2025-04-23T18:56:00.464403Z",
     "shell.execute_reply": "2025-04-23T18:56:00.463273Z"
    },
    "slideshow": {
     "slide_type": ""
    },
    "tags": []
   },
   "outputs": [],
   "source": [
    "path_graphs<-\"/group/soranzo/manuel.tardaguila/2025_hESC_lymph_multiome/targeted_amplicon_GEX/cellranger/processing_outputs/graphs/\""
   ]
  },
  {
   "cell_type": "code",
   "execution_count": 19,
   "id": "91a05bf3-1d92-4004-8761-77bfe38cb608",
   "metadata": {
    "execution": {
     "iopub.execute_input": "2025-04-23T18:56:00.467107Z",
     "iopub.status.busy": "2025-04-23T18:56:00.466161Z",
     "iopub.status.idle": "2025-04-23T18:56:00.480827Z",
     "shell.execute_reply": "2025-04-23T18:56:00.479719Z"
    }
   },
   "outputs": [
    {
     "data": {
      "text/plain": [
       "NULL"
      ]
     },
     "metadata": {},
     "output_type": "display_data"
    }
   ],
   "source": [
    "if (file.exists(path_graphs)){\n",
    "\n",
    "    }else{\n",
    "\n",
    "    dir.create(path_graphs)\n",
    "    }"
   ]
  },
  {
   "cell_type": "code",
   "execution_count": 20,
   "id": "61d8afd2-e771-44d1-862d-350fbd0e6668",
   "metadata": {
    "editable": true,
    "execution": {
     "iopub.execute_input": "2025-04-23T18:56:00.483568Z",
     "iopub.status.busy": "2025-04-23T18:56:00.482632Z",
     "iopub.status.idle": "2025-04-23T18:56:02.628109Z",
     "shell.execute_reply": "2025-04-23T18:56:02.626980Z"
    },
    "slideshow": {
     "slide_type": ""
    },
    "tags": []
   },
   "outputs": [
    {
     "name": "stderr",
     "output_type": "stream",
     "text": [
      "Picking joint bandwidth of 0.00608\n",
      "\n",
      "Picking joint bandwidth of 0.025\n",
      "\n",
      "Picking joint bandwidth of 0.0255\n",
      "\n"
     ]
    },
    {
     "data": {
      "text/html": [
       "<strong>png:</strong> 2"
      ],
      "text/latex": [
       "\\textbf{png:} 2"
      ],
      "text/markdown": [
       "**png:** 2"
      ],
      "text/plain": [
       "png \n",
       "  2 "
      ]
     },
     "metadata": {},
     "output_type": "display_data"
    }
   ],
   "source": [
    "setwd(path_graphs)\n",
    "png(file='Ridgeplot_assignation_WTs_NO_CellBender.png', width =1050, height = 350)\n",
    "rp1 | rp2 | rp3\n",
    "dev.off()"
   ]
  },
  {
   "cell_type": "code",
   "execution_count": 21,
   "id": "7211c25d-bdd8-4328-bd6c-af70ebe3663d",
   "metadata": {
    "editable": true,
    "execution": {
     "iopub.execute_input": "2025-04-23T18:56:02.630862Z",
     "iopub.status.busy": "2025-04-23T18:56:02.629935Z",
     "iopub.status.idle": "2025-04-23T18:56:03.863320Z",
     "shell.execute_reply": "2025-04-23T18:56:03.862160Z"
    },
    "slideshow": {
     "slide_type": ""
    },
    "tags": []
   },
   "outputs": [
    {
     "name": "stderr",
     "output_type": "stream",
     "text": [
      "Picking joint bandwidth of 0.0293\n",
      "\n",
      "Picking joint bandwidth of 0.0302\n",
      "\n",
      "Picking joint bandwidth of 0.0421\n",
      "\n"
     ]
    },
    {
     "data": {
      "text/html": [
       "<strong>png:</strong> 2"
      ],
      "text/latex": [
       "\\textbf{png:} 2"
      ],
      "text/markdown": [
       "**png:** 2"
      ],
      "text/plain": [
       "png \n",
       "  2 "
      ]
     },
     "metadata": {},
     "output_type": "display_data"
    }
   ],
   "source": [
    "setwd(path_graphs)\n",
    "png(file='Ridgeplot_assignation_rs_NO_CellBender.png', width =1050, height = 350)\n",
    "rp4 | rp5 | rp6\n",
    "dev.off()"
   ]
  },
  {
   "cell_type": "code",
   "execution_count": 22,
   "id": "9dbb387e-4f2c-4eda-90e6-698259ab8004",
   "metadata": {
    "execution": {
     "iopub.execute_input": "2025-04-23T18:56:03.866039Z",
     "iopub.status.busy": "2025-04-23T18:56:03.865102Z",
     "iopub.status.idle": "2025-04-23T18:56:05.107354Z",
     "shell.execute_reply": "2025-04-23T18:56:05.106180Z"
    }
   },
   "outputs": [
    {
     "name": "stderr",
     "output_type": "stream",
     "text": [
      "Picking joint bandwidth of 0.0405\n",
      "\n",
      "Picking joint bandwidth of 0.0215\n",
      "\n",
      "Picking joint bandwidth of 0.0393\n",
      "\n"
     ]
    },
    {
     "data": {
      "text/html": [
       "<strong>png:</strong> 2"
      ],
      "text/latex": [
       "\\textbf{png:} 2"
      ],
      "text/markdown": [
       "**png:** 2"
      ],
      "text/plain": [
       "png \n",
       "  2 "
      ]
     },
     "metadata": {},
     "output_type": "display_data"
    }
   ],
   "source": [
    "setwd(path_graphs)\n",
    "png(file='Ridgeplot_assignation_DNMT3A_NO_CellBender.png', width =1050, height = 350)\n",
    "rp7 | rp8 | rp9\n",
    "dev.off()"
   ]
  },
  {
   "cell_type": "code",
   "execution_count": 23,
   "id": "481681ab-8bf8-4901-a0e4-73006b9f1724",
   "metadata": {
    "execution": {
     "iopub.execute_input": "2025-04-23T18:56:05.110026Z",
     "iopub.status.busy": "2025-04-23T18:56:05.109097Z",
     "iopub.status.idle": "2025-04-23T18:56:06.180490Z",
     "shell.execute_reply": "2025-04-23T18:56:06.179300Z"
    }
   },
   "outputs": [
    {
     "name": "stderr",
     "output_type": "stream",
     "text": [
      "Picking joint bandwidth of 0.0375\n",
      "\n",
      "Picking joint bandwidth of 0.0358\n",
      "\n",
      "Picking joint bandwidth of 0.0365\n",
      "\n"
     ]
    },
    {
     "data": {
      "text/html": [
       "<strong>png:</strong> 2"
      ],
      "text/latex": [
       "\\textbf{png:} 2"
      ],
      "text/markdown": [
       "**png:** 2"
      ],
      "text/plain": [
       "png \n",
       "  2 "
      ]
     },
     "metadata": {},
     "output_type": "display_data"
    }
   ],
   "source": [
    "setwd(path_graphs)\n",
    "png(file='Ridgeplot_assignation_Double_mutants_NO_CellBender.png', width =1050, height = 350)\n",
    "rp10 | rp11 | rp12\n",
    "dev.off()"
   ]
  },
  {
   "cell_type": "markdown",
   "id": "18d82964-d1cf-4e8b-8738-15e9025580a6",
   "metadata": {
    "editable": true,
    "slideshow": {
     "slide_type": ""
    },
    "tags": []
   },
   "source": [
    "### Save this assignation"
   ]
  },
  {
   "cell_type": "code",
   "execution_count": 24,
   "id": "a1a872f4-9d2d-4bb6-a849-62c41c123318",
   "metadata": {
    "execution": {
     "iopub.execute_input": "2025-04-23T18:56:06.183209Z",
     "iopub.status.busy": "2025-04-23T18:56:06.182275Z",
     "iopub.status.idle": "2025-04-23T18:56:06.195928Z",
     "shell.execute_reply": "2025-04-23T18:56:06.194870Z"
    }
   },
   "outputs": [
    {
     "data": {
      "text/html": [
       "<style>\n",
       ".list-inline {list-style: none; margin:0; padding: 0}\n",
       ".list-inline>li {display: inline-block}\n",
       ".list-inline>li:not(:last-child)::after {content: \"\\00b7\"; padding: 0 .5ex}\n",
       "</style>\n",
       "<ol class=list-inline><li>'orig.ident'</li><li>'nCount_RNA'</li><li>'nFeature_RNA'</li><li>'nCount_HTO_NOCellBender'</li><li>'nFeature_HTO_NOCellBender'</li><li>'HTO_NOCellBender_maxID'</li><li>'HTO_NOCellBender_secondID'</li><li>'HTO_NOCellBender_margin'</li><li>'HTO_NOCellBender_classification'</li><li>'HTO_NOCellBender_classification.global'</li><li>'hash.ID'</li></ol>\n"
      ],
      "text/latex": [
       "\\begin{enumerate*}\n",
       "\\item 'orig.ident'\n",
       "\\item 'nCount\\_RNA'\n",
       "\\item 'nFeature\\_RNA'\n",
       "\\item 'nCount\\_HTO\\_NOCellBender'\n",
       "\\item 'nFeature\\_HTO\\_NOCellBender'\n",
       "\\item 'HTO\\_NOCellBender\\_maxID'\n",
       "\\item 'HTO\\_NOCellBender\\_secondID'\n",
       "\\item 'HTO\\_NOCellBender\\_margin'\n",
       "\\item 'HTO\\_NOCellBender\\_classification'\n",
       "\\item 'HTO\\_NOCellBender\\_classification.global'\n",
       "\\item 'hash.ID'\n",
       "\\end{enumerate*}\n"
      ],
      "text/markdown": [
       "1. 'orig.ident'\n",
       "2. 'nCount_RNA'\n",
       "3. 'nFeature_RNA'\n",
       "4. 'nCount_HTO_NOCellBender'\n",
       "5. 'nFeature_HTO_NOCellBender'\n",
       "6. 'HTO_NOCellBender_maxID'\n",
       "7. 'HTO_NOCellBender_secondID'\n",
       "8. 'HTO_NOCellBender_margin'\n",
       "9. 'HTO_NOCellBender_classification'\n",
       "10. 'HTO_NOCellBender_classification.global'\n",
       "11. 'hash.ID'\n",
       "\n",
       "\n"
      ],
      "text/plain": [
       " [1] \"orig.ident\"                            \n",
       " [2] \"nCount_RNA\"                            \n",
       " [3] \"nFeature_RNA\"                          \n",
       " [4] \"nCount_HTO_NOCellBender\"               \n",
       " [5] \"nFeature_HTO_NOCellBender\"             \n",
       " [6] \"HTO_NOCellBender_maxID\"                \n",
       " [7] \"HTO_NOCellBender_secondID\"             \n",
       " [8] \"HTO_NOCellBender_margin\"               \n",
       " [9] \"HTO_NOCellBender_classification\"       \n",
       "[10] \"HTO_NOCellBender_classification.global\"\n",
       "[11] \"hash.ID\"                               "
      ]
     },
     "metadata": {},
     "output_type": "display_data"
    },
    {
     "name": "stdout",
     "output_type": "stream",
     "text": [
      " chr [1:99147] \"MCO_01326_AAACAGCCACAGCCAT-1\" ...\n"
     ]
    }
   ],
   "source": [
    "colnames(merged_restricted@meta.data)\n",
    "\n",
    "\n",
    "str(row.names(merged_restricted@meta.data))"
   ]
  },
  {
   "cell_type": "code",
   "execution_count": 25,
   "id": "7519e725-1584-4bbc-bb3b-2bbe307310f1",
   "metadata": {
    "editable": true,
    "execution": {
     "iopub.execute_input": "2025-04-23T18:56:06.198635Z",
     "iopub.status.busy": "2025-04-23T18:56:06.197714Z",
     "iopub.status.idle": "2025-04-23T18:56:06.205319Z",
     "shell.execute_reply": "2025-04-23T18:56:06.204228Z"
    },
    "slideshow": {
     "slide_type": ""
    },
    "tags": []
   },
   "outputs": [],
   "source": [
    "path_save<-\"/group/soranzo/manuel.tardaguila/2025_hESC_lymph_multiome/targeted_amplicon_GEX/cellranger/processing_outputs/\""
   ]
  },
  {
   "cell_type": "code",
   "execution_count": 26,
   "id": "c5396a3e-b0b5-4de1-88e0-f92263189771",
   "metadata": {
    "execution": {
     "iopub.execute_input": "2025-04-23T18:56:06.207949Z",
     "iopub.status.busy": "2025-04-23T18:56:06.207011Z",
     "iopub.status.idle": "2025-04-23T18:56:06.778123Z",
     "shell.execute_reply": "2025-04-23T18:56:06.776119Z"
    }
   },
   "outputs": [],
   "source": [
    "setwd(path_save)\n",
    "\n",
    "write.csv(merged_restricted@meta.data,\"NO_CellBender_Barcodes_demux_assignation.csv\")"
   ]
  },
  {
   "cell_type": "markdown",
   "id": "84e1266d-95f5-47ca-8b60-3decc3354b9e",
   "metadata": {},
   "source": [
    "## Add new Genotype Annotation to adata"
   ]
  },
  {
   "cell_type": "code",
   "execution_count": 27,
   "id": "2e80fe4a-389a-4630-a30c-79190b3ca876",
   "metadata": {
    "execution": {
     "iopub.execute_input": "2025-04-23T18:56:06.781152Z",
     "iopub.status.busy": "2025-04-23T18:56:06.780172Z",
     "iopub.status.idle": "2025-04-23T18:56:06.792805Z",
     "shell.execute_reply": "2025-04-23T18:56:06.791735Z"
    }
   },
   "outputs": [
    {
     "data": {
      "text/html": [
       "<style>\n",
       ".list-inline {list-style: none; margin:0; padding: 0}\n",
       ".list-inline>li {display: inline-block}\n",
       ".list-inline>li:not(:last-child)::after {content: \"\\00b7\"; padding: 0 .5ex}\n",
       "</style>\n",
       "<ol class=list-inline><li>'orig.ident'</li><li>'nCount_RNA'</li><li>'nFeature_RNA'</li><li>'percent.mt'</li><li>'nCount_RNA_raw'</li><li>'nFeature_RNA_raw'</li><li>'nCount_ATAC'</li><li>'nFeature_ATAC'</li><li>'gex_raw_reads'</li><li>'gex_mapped_reads'</li><li>'gex_conf_intergenic_reads'</li><li>'gex_conf_exonic_reads'</li><li>'gex_conf_intronic_reads'</li><li>'gex_conf_exonic_unique_reads'</li><li>'gex_conf_exonic_antisense_reads'</li><li>'gex_conf_exonic_dup_reads'</li><li>'gex_exonic_umis'</li><li>'gex_conf_intronic_unique_reads'</li><li>'gex_conf_intronic_antisense_reads'</li><li>'gex_conf_intronic_dup_reads'</li><li>'gex_intronic_umis'</li><li>'gex_conf_txomic_unique_reads'</li><li>'gex_umis_count'</li><li>'gex_genes_count'</li><li>'atac_raw_reads'</li><li>'atac_unmapped_reads'</li><li>'atac_lowmapq'</li><li>'atac_dup_reads'</li><li>'atac_chimeric_reads'</li><li>'atac_mitochondrial_reads'</li><li>'atac_fragments'</li><li>'atac_TSS_fragments'</li><li>'atac_peak_region_fragments'</li><li>'atac_peak_region_cutsites'</li><li>'TSS.enrichment'</li><li>'TSS.percentile'</li><li>'scDblFinder.class'</li><li>'scDblFinder.score'</li><li>'scDblFinder.weighted'</li><li>'scDblFinder.cxds_score'</li><li>'scDblFinder.class_atac'</li><li>'scDblFinder.score_atac'</li><li>'scDblFinder.weighted_atac'</li><li>'scDblFinder.cxds_score_atac'</li><li>'No_assigned_GFPbc'</li><li>'Assigned_GFPbc'</li><li>'Assigned_GFPgenotype'</li><li>'DBL_comb'</li><li>'amulet_nFrags'</li><li>'amulet_uniqFrags'</li><li>'amulet_nAbove2'</li><li>'amulet_total.nAbove2'</li><li>'amulet_p.value'</li><li>'amulet_q.value'</li><li>'doublet_amulet'</li><li>'nCount_SCT'</li><li>'nFeature_SCT'</li><li>'SCT.weight'</li><li>'ATAC.weight'</li><li>'wsnn_res.0.2'</li><li>'seurat_clusters'</li><li>'Diff'</li><li>'doublet'</li><li>'wsnn_res.2'</li><li>'CellTypist_label_Alsinet'</li><li>'CellTypist_conf_score_Alsinet'</li><li>'CellTypist_label_FBMA'</li><li>'CellTypist_conf_score_FBMA'</li><li>'CellTypist_label_Immune_ALL_low'</li><li>'CellTypist_conf_score_Immune_ALL_low'</li><li>'Integrated_annotation'</li><li>'integrated_nn_res.0.5'</li></ol>\n"
      ],
      "text/latex": [
       "\\begin{enumerate*}\n",
       "\\item 'orig.ident'\n",
       "\\item 'nCount\\_RNA'\n",
       "\\item 'nFeature\\_RNA'\n",
       "\\item 'percent.mt'\n",
       "\\item 'nCount\\_RNA\\_raw'\n",
       "\\item 'nFeature\\_RNA\\_raw'\n",
       "\\item 'nCount\\_ATAC'\n",
       "\\item 'nFeature\\_ATAC'\n",
       "\\item 'gex\\_raw\\_reads'\n",
       "\\item 'gex\\_mapped\\_reads'\n",
       "\\item 'gex\\_conf\\_intergenic\\_reads'\n",
       "\\item 'gex\\_conf\\_exonic\\_reads'\n",
       "\\item 'gex\\_conf\\_intronic\\_reads'\n",
       "\\item 'gex\\_conf\\_exonic\\_unique\\_reads'\n",
       "\\item 'gex\\_conf\\_exonic\\_antisense\\_reads'\n",
       "\\item 'gex\\_conf\\_exonic\\_dup\\_reads'\n",
       "\\item 'gex\\_exonic\\_umis'\n",
       "\\item 'gex\\_conf\\_intronic\\_unique\\_reads'\n",
       "\\item 'gex\\_conf\\_intronic\\_antisense\\_reads'\n",
       "\\item 'gex\\_conf\\_intronic\\_dup\\_reads'\n",
       "\\item 'gex\\_intronic\\_umis'\n",
       "\\item 'gex\\_conf\\_txomic\\_unique\\_reads'\n",
       "\\item 'gex\\_umis\\_count'\n",
       "\\item 'gex\\_genes\\_count'\n",
       "\\item 'atac\\_raw\\_reads'\n",
       "\\item 'atac\\_unmapped\\_reads'\n",
       "\\item 'atac\\_lowmapq'\n",
       "\\item 'atac\\_dup\\_reads'\n",
       "\\item 'atac\\_chimeric\\_reads'\n",
       "\\item 'atac\\_mitochondrial\\_reads'\n",
       "\\item 'atac\\_fragments'\n",
       "\\item 'atac\\_TSS\\_fragments'\n",
       "\\item 'atac\\_peak\\_region\\_fragments'\n",
       "\\item 'atac\\_peak\\_region\\_cutsites'\n",
       "\\item 'TSS.enrichment'\n",
       "\\item 'TSS.percentile'\n",
       "\\item 'scDblFinder.class'\n",
       "\\item 'scDblFinder.score'\n",
       "\\item 'scDblFinder.weighted'\n",
       "\\item 'scDblFinder.cxds\\_score'\n",
       "\\item 'scDblFinder.class\\_atac'\n",
       "\\item 'scDblFinder.score\\_atac'\n",
       "\\item 'scDblFinder.weighted\\_atac'\n",
       "\\item 'scDblFinder.cxds\\_score\\_atac'\n",
       "\\item 'No\\_assigned\\_GFPbc'\n",
       "\\item 'Assigned\\_GFPbc'\n",
       "\\item 'Assigned\\_GFPgenotype'\n",
       "\\item 'DBL\\_comb'\n",
       "\\item 'amulet\\_nFrags'\n",
       "\\item 'amulet\\_uniqFrags'\n",
       "\\item 'amulet\\_nAbove2'\n",
       "\\item 'amulet\\_total.nAbove2'\n",
       "\\item 'amulet\\_p.value'\n",
       "\\item 'amulet\\_q.value'\n",
       "\\item 'doublet\\_amulet'\n",
       "\\item 'nCount\\_SCT'\n",
       "\\item 'nFeature\\_SCT'\n",
       "\\item 'SCT.weight'\n",
       "\\item 'ATAC.weight'\n",
       "\\item 'wsnn\\_res.0.2'\n",
       "\\item 'seurat\\_clusters'\n",
       "\\item 'Diff'\n",
       "\\item 'doublet'\n",
       "\\item 'wsnn\\_res.2'\n",
       "\\item 'CellTypist\\_label\\_Alsinet'\n",
       "\\item 'CellTypist\\_conf\\_score\\_Alsinet'\n",
       "\\item 'CellTypist\\_label\\_FBMA'\n",
       "\\item 'CellTypist\\_conf\\_score\\_FBMA'\n",
       "\\item 'CellTypist\\_label\\_Immune\\_ALL\\_low'\n",
       "\\item 'CellTypist\\_conf\\_score\\_Immune\\_ALL\\_low'\n",
       "\\item 'Integrated\\_annotation'\n",
       "\\item 'integrated\\_nn\\_res.0.5'\n",
       "\\end{enumerate*}\n"
      ],
      "text/markdown": [
       "1. 'orig.ident'\n",
       "2. 'nCount_RNA'\n",
       "3. 'nFeature_RNA'\n",
       "4. 'percent.mt'\n",
       "5. 'nCount_RNA_raw'\n",
       "6. 'nFeature_RNA_raw'\n",
       "7. 'nCount_ATAC'\n",
       "8. 'nFeature_ATAC'\n",
       "9. 'gex_raw_reads'\n",
       "10. 'gex_mapped_reads'\n",
       "11. 'gex_conf_intergenic_reads'\n",
       "12. 'gex_conf_exonic_reads'\n",
       "13. 'gex_conf_intronic_reads'\n",
       "14. 'gex_conf_exonic_unique_reads'\n",
       "15. 'gex_conf_exonic_antisense_reads'\n",
       "16. 'gex_conf_exonic_dup_reads'\n",
       "17. 'gex_exonic_umis'\n",
       "18. 'gex_conf_intronic_unique_reads'\n",
       "19. 'gex_conf_intronic_antisense_reads'\n",
       "20. 'gex_conf_intronic_dup_reads'\n",
       "21. 'gex_intronic_umis'\n",
       "22. 'gex_conf_txomic_unique_reads'\n",
       "23. 'gex_umis_count'\n",
       "24. 'gex_genes_count'\n",
       "25. 'atac_raw_reads'\n",
       "26. 'atac_unmapped_reads'\n",
       "27. 'atac_lowmapq'\n",
       "28. 'atac_dup_reads'\n",
       "29. 'atac_chimeric_reads'\n",
       "30. 'atac_mitochondrial_reads'\n",
       "31. 'atac_fragments'\n",
       "32. 'atac_TSS_fragments'\n",
       "33. 'atac_peak_region_fragments'\n",
       "34. 'atac_peak_region_cutsites'\n",
       "35. 'TSS.enrichment'\n",
       "36. 'TSS.percentile'\n",
       "37. 'scDblFinder.class'\n",
       "38. 'scDblFinder.score'\n",
       "39. 'scDblFinder.weighted'\n",
       "40. 'scDblFinder.cxds_score'\n",
       "41. 'scDblFinder.class_atac'\n",
       "42. 'scDblFinder.score_atac'\n",
       "43. 'scDblFinder.weighted_atac'\n",
       "44. 'scDblFinder.cxds_score_atac'\n",
       "45. 'No_assigned_GFPbc'\n",
       "46. 'Assigned_GFPbc'\n",
       "47. 'Assigned_GFPgenotype'\n",
       "48. 'DBL_comb'\n",
       "49. 'amulet_nFrags'\n",
       "50. 'amulet_uniqFrags'\n",
       "51. 'amulet_nAbove2'\n",
       "52. 'amulet_total.nAbove2'\n",
       "53. 'amulet_p.value'\n",
       "54. 'amulet_q.value'\n",
       "55. 'doublet_amulet'\n",
       "56. 'nCount_SCT'\n",
       "57. 'nFeature_SCT'\n",
       "58. 'SCT.weight'\n",
       "59. 'ATAC.weight'\n",
       "60. 'wsnn_res.0.2'\n",
       "61. 'seurat_clusters'\n",
       "62. 'Diff'\n",
       "63. 'doublet'\n",
       "64. 'wsnn_res.2'\n",
       "65. 'CellTypist_label_Alsinet'\n",
       "66. 'CellTypist_conf_score_Alsinet'\n",
       "67. 'CellTypist_label_FBMA'\n",
       "68. 'CellTypist_conf_score_FBMA'\n",
       "69. 'CellTypist_label_Immune_ALL_low'\n",
       "70. 'CellTypist_conf_score_Immune_ALL_low'\n",
       "71. 'Integrated_annotation'\n",
       "72. 'integrated_nn_res.0.5'\n",
       "\n",
       "\n"
      ],
      "text/plain": [
       " [1] \"orig.ident\"                          \n",
       " [2] \"nCount_RNA\"                          \n",
       " [3] \"nFeature_RNA\"                        \n",
       " [4] \"percent.mt\"                          \n",
       " [5] \"nCount_RNA_raw\"                      \n",
       " [6] \"nFeature_RNA_raw\"                    \n",
       " [7] \"nCount_ATAC\"                         \n",
       " [8] \"nFeature_ATAC\"                       \n",
       " [9] \"gex_raw_reads\"                       \n",
       "[10] \"gex_mapped_reads\"                    \n",
       "[11] \"gex_conf_intergenic_reads\"           \n",
       "[12] \"gex_conf_exonic_reads\"               \n",
       "[13] \"gex_conf_intronic_reads\"             \n",
       "[14] \"gex_conf_exonic_unique_reads\"        \n",
       "[15] \"gex_conf_exonic_antisense_reads\"     \n",
       "[16] \"gex_conf_exonic_dup_reads\"           \n",
       "[17] \"gex_exonic_umis\"                     \n",
       "[18] \"gex_conf_intronic_unique_reads\"      \n",
       "[19] \"gex_conf_intronic_antisense_reads\"   \n",
       "[20] \"gex_conf_intronic_dup_reads\"         \n",
       "[21] \"gex_intronic_umis\"                   \n",
       "[22] \"gex_conf_txomic_unique_reads\"        \n",
       "[23] \"gex_umis_count\"                      \n",
       "[24] \"gex_genes_count\"                     \n",
       "[25] \"atac_raw_reads\"                      \n",
       "[26] \"atac_unmapped_reads\"                 \n",
       "[27] \"atac_lowmapq\"                        \n",
       "[28] \"atac_dup_reads\"                      \n",
       "[29] \"atac_chimeric_reads\"                 \n",
       "[30] \"atac_mitochondrial_reads\"            \n",
       "[31] \"atac_fragments\"                      \n",
       "[32] \"atac_TSS_fragments\"                  \n",
       "[33] \"atac_peak_region_fragments\"          \n",
       "[34] \"atac_peak_region_cutsites\"           \n",
       "[35] \"TSS.enrichment\"                      \n",
       "[36] \"TSS.percentile\"                      \n",
       "[37] \"scDblFinder.class\"                   \n",
       "[38] \"scDblFinder.score\"                   \n",
       "[39] \"scDblFinder.weighted\"                \n",
       "[40] \"scDblFinder.cxds_score\"              \n",
       "[41] \"scDblFinder.class_atac\"              \n",
       "[42] \"scDblFinder.score_atac\"              \n",
       "[43] \"scDblFinder.weighted_atac\"           \n",
       "[44] \"scDblFinder.cxds_score_atac\"         \n",
       "[45] \"No_assigned_GFPbc\"                   \n",
       "[46] \"Assigned_GFPbc\"                      \n",
       "[47] \"Assigned_GFPgenotype\"                \n",
       "[48] \"DBL_comb\"                            \n",
       "[49] \"amulet_nFrags\"                       \n",
       "[50] \"amulet_uniqFrags\"                    \n",
       "[51] \"amulet_nAbove2\"                      \n",
       "[52] \"amulet_total.nAbove2\"                \n",
       "[53] \"amulet_p.value\"                      \n",
       "[54] \"amulet_q.value\"                      \n",
       "[55] \"doublet_amulet\"                      \n",
       "[56] \"nCount_SCT\"                          \n",
       "[57] \"nFeature_SCT\"                        \n",
       "[58] \"SCT.weight\"                          \n",
       "[59] \"ATAC.weight\"                         \n",
       "[60] \"wsnn_res.0.2\"                        \n",
       "[61] \"seurat_clusters\"                     \n",
       "[62] \"Diff\"                                \n",
       "[63] \"doublet\"                             \n",
       "[64] \"wsnn_res.2\"                          \n",
       "[65] \"CellTypist_label_Alsinet\"            \n",
       "[66] \"CellTypist_conf_score_Alsinet\"       \n",
       "[67] \"CellTypist_label_FBMA\"               \n",
       "[68] \"CellTypist_conf_score_FBMA\"          \n",
       "[69] \"CellTypist_label_Immune_ALL_low\"     \n",
       "[70] \"CellTypist_conf_score_Immune_ALL_low\"\n",
       "[71] \"Integrated_annotation\"               \n",
       "[72] \"integrated_nn_res.0.5\"               "
      ]
     },
     "metadata": {},
     "output_type": "display_data"
    }
   ],
   "source": [
    "colnames(adata@meta.data)"
   ]
  },
  {
   "cell_type": "markdown",
   "id": "019c5716-71d9-4b6d-a514-6654f049ef3e",
   "metadata": {},
   "source": [
    "### Eliminate residual Assigned_GFPbc from GEX not amplified libraries"
   ]
  },
  {
   "cell_type": "code",
   "execution_count": 28,
   "id": "d987d178-bc02-4842-810d-b6e3e60a3556",
   "metadata": {
    "execution": {
     "iopub.execute_input": "2025-04-23T18:56:06.795468Z",
     "iopub.status.busy": "2025-04-23T18:56:06.794553Z",
     "iopub.status.idle": "2025-04-23T18:56:06.802478Z",
     "shell.execute_reply": "2025-04-23T18:56:06.801411Z"
    }
   },
   "outputs": [],
   "source": [
    "adata@meta.data$Assigned_GFPbc<-NA"
   ]
  },
  {
   "cell_type": "code",
   "execution_count": 29,
   "id": "123996ac-ec86-48e8-83e3-45e534d4d626",
   "metadata": {
    "execution": {
     "iopub.execute_input": "2025-04-23T18:56:06.805150Z",
     "iopub.status.busy": "2025-04-23T18:56:06.804204Z",
     "iopub.status.idle": "2025-04-23T18:56:06.992870Z",
     "shell.execute_reply": "2025-04-23T18:56:06.991560Z"
    }
   },
   "outputs": [],
   "source": [
    "adata<-AddMetaData(object= adata,\n",
    "                  metadata= merged_restricted@meta.data$hash.ID,\n",
    "                  col.name = \"Assignation_demux_NO_CellBender\")"
   ]
  },
  {
   "cell_type": "code",
   "execution_count": 30,
   "id": "01938479-6ea1-46da-ace3-c5c576a24696",
   "metadata": {
    "execution": {
     "iopub.execute_input": "2025-04-23T18:56:06.995695Z",
     "iopub.status.busy": "2025-04-23T18:56:06.994730Z",
     "iopub.status.idle": "2025-04-23T18:56:07.008700Z",
     "shell.execute_reply": "2025-04-23T18:56:07.007564Z"
    }
   },
   "outputs": [
    {
     "data": {
      "text/html": [
       "<style>\n",
       ".dl-inline {width: auto; margin:0; padding: 0}\n",
       ".dl-inline>dt, .dl-inline>dd {float: none; width: auto; display: inline-block}\n",
       ".dl-inline>dt::after {content: \":\\0020\"; padding-right: .5ex}\n",
       ".dl-inline>dt:not(:first-of-type) {padding-left: .5ex}\n",
       "</style><dl class=dl-inline><dt>Doublet</dt><dd>33597</dd><dt>GFP-chrGFP-R882H3</dt><dd>1333</dd><dt>Negative</dt><dd>33212</dd><dt>GFP-chrGFP-R882H1</dt><dd>863</dd><dt>GFP-chrGFP-rs-R882H2</dt><dd>542</dd><dt>GFP-chrGFP-rs-R882H3</dt><dd>521</dd><dt>GFP-chrGFP-rs-R882H1</dt><dd>956</dd><dt>GFP-chrGFP-R882H2</dt><dd>3564</dd><dt>GFP-chrGFP-rs3</dt><dd>13089</dd><dt>GFP-chrGFP-rs2</dt><dd>9420</dd><dt>GFP-chrGFP-rs1</dt><dd>1622</dd><dt>GFP-chrGFP-WTC</dt><dd>181</dd><dt>GFP-chrGFP-WTA</dt><dd>62</dd><dt>GFP-chrGFP-WTB</dt><dd>293</dd></dl>\n"
      ],
      "text/latex": [
       "\\begin{description*}\n",
       "\\item[Doublet] 33597\n",
       "\\item[GFP-chrGFP-R882H3] 1333\n",
       "\\item[Negative] 33212\n",
       "\\item[GFP-chrGFP-R882H1] 863\n",
       "\\item[GFP-chrGFP-rs-R882H2] 542\n",
       "\\item[GFP-chrGFP-rs-R882H3] 521\n",
       "\\item[GFP-chrGFP-rs-R882H1] 956\n",
       "\\item[GFP-chrGFP-R882H2] 3564\n",
       "\\item[GFP-chrGFP-rs3] 13089\n",
       "\\item[GFP-chrGFP-rs2] 9420\n",
       "\\item[GFP-chrGFP-rs1] 1622\n",
       "\\item[GFP-chrGFP-WTC] 181\n",
       "\\item[GFP-chrGFP-WTA] 62\n",
       "\\item[GFP-chrGFP-WTB] 293\n",
       "\\end{description*}\n"
      ],
      "text/markdown": [
       "Doublet\n",
       ":   33597GFP-chrGFP-R882H3\n",
       ":   1333Negative\n",
       ":   33212GFP-chrGFP-R882H1\n",
       ":   863GFP-chrGFP-rs-R882H2\n",
       ":   542GFP-chrGFP-rs-R882H3\n",
       ":   521GFP-chrGFP-rs-R882H1\n",
       ":   956GFP-chrGFP-R882H2\n",
       ":   3564GFP-chrGFP-rs3\n",
       ":   13089GFP-chrGFP-rs2\n",
       ":   9420GFP-chrGFP-rs1\n",
       ":   1622GFP-chrGFP-WTC\n",
       ":   181GFP-chrGFP-WTA\n",
       ":   62GFP-chrGFP-WTB\n",
       ":   293\n",
       "\n"
      ],
      "text/plain": [
       "             Doublet    GFP-chrGFP-R882H3             Negative \n",
       "               33597                 1333                33212 \n",
       "   GFP-chrGFP-R882H1 GFP-chrGFP-rs-R882H2 GFP-chrGFP-rs-R882H3 \n",
       "                 863                  542                  521 \n",
       "GFP-chrGFP-rs-R882H1    GFP-chrGFP-R882H2       GFP-chrGFP-rs3 \n",
       "                 956                 3564                13089 \n",
       "      GFP-chrGFP-rs2       GFP-chrGFP-rs1       GFP-chrGFP-WTC \n",
       "                9420                 1622                  181 \n",
       "      GFP-chrGFP-WTA       GFP-chrGFP-WTB \n",
       "                  62                  293 "
      ]
     },
     "metadata": {},
     "output_type": "display_data"
    }
   ],
   "source": [
    "summary(as.factor(adata@meta.data$Assignation_demux_NO_CellBender))"
   ]
  },
  {
   "cell_type": "code",
   "execution_count": 31,
   "id": "62905367-fe31-48c5-8f8d-87635e303250",
   "metadata": {
    "execution": {
     "iopub.execute_input": "2025-04-23T18:56:07.011519Z",
     "iopub.status.busy": "2025-04-23T18:56:07.010540Z",
     "iopub.status.idle": "2025-04-23T18:56:07.026762Z",
     "shell.execute_reply": "2025-04-23T18:56:07.025641Z"
    }
   },
   "outputs": [],
   "source": [
    "adata@meta.data$Assigned_GFPbc_demux__NO_CellBender<-gsub(\"^GFP-\",\"\",adata@meta.data$Assignation_demux_NO_CellBender)"
   ]
  },
  {
   "cell_type": "code",
   "execution_count": 32,
   "id": "b4db5fb7-0f67-474b-bcc1-0f24e453a3a8",
   "metadata": {
    "execution": {
     "iopub.execute_input": "2025-04-23T18:56:07.029584Z",
     "iopub.status.busy": "2025-04-23T18:56:07.028597Z",
     "iopub.status.idle": "2025-04-23T18:56:07.064053Z",
     "shell.execute_reply": "2025-04-23T18:56:07.062987Z"
    }
   },
   "outputs": [],
   "source": [
    "adata@meta.data$Assigned_GFPbc_demux__NO_CellBender<-gsub(\"-\",\"_\",adata@meta.data$Assigned_GFPbc_demux__NO_CellBender)"
   ]
  },
  {
   "cell_type": "code",
   "execution_count": 33,
   "id": "99613a8c-096a-479e-a75e-4d771006b3d5",
   "metadata": {
    "execution": {
     "iopub.execute_input": "2025-04-23T18:56:07.066686Z",
     "iopub.status.busy": "2025-04-23T18:56:07.065767Z",
     "iopub.status.idle": "2025-04-23T18:56:07.079893Z",
     "shell.execute_reply": "2025-04-23T18:56:07.078814Z"
    }
   },
   "outputs": [
    {
     "data": {
      "text/html": [
       "<style>\n",
       ".dl-inline {width: auto; margin:0; padding: 0}\n",
       ".dl-inline>dt, .dl-inline>dd {float: none; width: auto; display: inline-block}\n",
       ".dl-inline>dt::after {content: \":\\0020\"; padding-right: .5ex}\n",
       ".dl-inline>dt:not(:first-of-type) {padding-left: .5ex}\n",
       "</style><dl class=dl-inline><dt>chrGFP_R882H1</dt><dd>863</dd><dt>chrGFP_R882H2</dt><dd>3564</dd><dt>chrGFP_R882H3</dt><dd>1333</dd><dt>chrGFP_rs_R882H1</dt><dd>956</dd><dt>chrGFP_rs_R882H2</dt><dd>542</dd><dt>chrGFP_rs_R882H3</dt><dd>521</dd><dt>chrGFP_rs1</dt><dd>1622</dd><dt>chrGFP_rs2</dt><dd>9420</dd><dt>chrGFP_rs3</dt><dd>13089</dd><dt>chrGFP_WTA</dt><dd>62</dd><dt>chrGFP_WTB</dt><dd>293</dd><dt>chrGFP_WTC</dt><dd>181</dd><dt>Doublet</dt><dd>33597</dd><dt>Negative</dt><dd>33212</dd></dl>\n"
      ],
      "text/latex": [
       "\\begin{description*}\n",
       "\\item[chrGFP\\textbackslash{}\\_R882H1] 863\n",
       "\\item[chrGFP\\textbackslash{}\\_R882H2] 3564\n",
       "\\item[chrGFP\\textbackslash{}\\_R882H3] 1333\n",
       "\\item[chrGFP\\textbackslash{}\\_rs\\textbackslash{}\\_R882H1] 956\n",
       "\\item[chrGFP\\textbackslash{}\\_rs\\textbackslash{}\\_R882H2] 542\n",
       "\\item[chrGFP\\textbackslash{}\\_rs\\textbackslash{}\\_R882H3] 521\n",
       "\\item[chrGFP\\textbackslash{}\\_rs1] 1622\n",
       "\\item[chrGFP\\textbackslash{}\\_rs2] 9420\n",
       "\\item[chrGFP\\textbackslash{}\\_rs3] 13089\n",
       "\\item[chrGFP\\textbackslash{}\\_WTA] 62\n",
       "\\item[chrGFP\\textbackslash{}\\_WTB] 293\n",
       "\\item[chrGFP\\textbackslash{}\\_WTC] 181\n",
       "\\item[Doublet] 33597\n",
       "\\item[Negative] 33212\n",
       "\\end{description*}\n"
      ],
      "text/markdown": [
       "chrGFP_R882H1\n",
       ":   863chrGFP_R882H2\n",
       ":   3564chrGFP_R882H3\n",
       ":   1333chrGFP_rs_R882H1\n",
       ":   956chrGFP_rs_R882H2\n",
       ":   542chrGFP_rs_R882H3\n",
       ":   521chrGFP_rs1\n",
       ":   1622chrGFP_rs2\n",
       ":   9420chrGFP_rs3\n",
       ":   13089chrGFP_WTA\n",
       ":   62chrGFP_WTB\n",
       ":   293chrGFP_WTC\n",
       ":   181Doublet\n",
       ":   33597Negative\n",
       ":   33212\n",
       "\n"
      ],
      "text/plain": [
       "   chrGFP_R882H1    chrGFP_R882H2    chrGFP_R882H3 chrGFP_rs_R882H1 \n",
       "             863             3564             1333              956 \n",
       "chrGFP_rs_R882H2 chrGFP_rs_R882H3       chrGFP_rs1       chrGFP_rs2 \n",
       "             542              521             1622             9420 \n",
       "      chrGFP_rs3       chrGFP_WTA       chrGFP_WTB       chrGFP_WTC \n",
       "           13089               62              293              181 \n",
       "         Doublet         Negative \n",
       "           33597            33212 "
      ]
     },
     "metadata": {},
     "output_type": "display_data"
    }
   ],
   "source": [
    "summary(as.factor(adata@meta.data$Assigned_GFPbc_demux__NO_CellBender))"
   ]
  },
  {
   "cell_type": "code",
   "execution_count": 34,
   "id": "00fca079-44f8-4e22-ac18-f0a7b28d1736",
   "metadata": {
    "execution": {
     "iopub.execute_input": "2025-04-23T18:56:07.082533Z",
     "iopub.status.busy": "2025-04-23T18:56:07.081615Z",
     "iopub.status.idle": "2025-04-23T18:56:07.090300Z",
     "shell.execute_reply": "2025-04-23T18:56:07.089149Z"
    }
   },
   "outputs": [],
   "source": [
    "adata@meta.data$Assigned_GFPbc_demux__NO_CellBender<-factor(adata@meta.data$Assigned_GFPbc_demux__NO_CellBender,\n",
    "                                       levels = c(\"chrGFP_WTA\",\"chrGFP_WTB\",\"chrGFP_WTC\",\n",
    "                                                  \"chrGFP_rs1\",\"chrGFP_rs2\",\"chrGFP_rs3\",\n",
    "                                                  \"chrGFP_R882H1\",\"chrGFP_R882H2\",\"chrGFP_R882H3\",\n",
    "                                                  \"chrGFP_rs_R882H1\",\"chrGFP_rs_R882H2\",\"chrGFP_rs_R882H3\",\"Doublet\",\"Negative\"),\n",
    "                                       ordered=T)"
   ]
  },
  {
   "cell_type": "code",
   "execution_count": 35,
   "id": "21a35382-6753-4b1e-8650-842d86165f4a",
   "metadata": {
    "execution": {
     "iopub.execute_input": "2025-04-23T18:56:07.093000Z",
     "iopub.status.busy": "2025-04-23T18:56:07.092085Z",
     "iopub.status.idle": "2025-04-23T18:56:07.104167Z",
     "shell.execute_reply": "2025-04-23T18:56:07.103115Z"
    }
   },
   "outputs": [
    {
     "data": {
      "text/html": [
       "<style>\n",
       ".dl-inline {width: auto; margin:0; padding: 0}\n",
       ".dl-inline>dt, .dl-inline>dd {float: none; width: auto; display: inline-block}\n",
       ".dl-inline>dt::after {content: \":\\0020\"; padding-right: .5ex}\n",
       ".dl-inline>dt:not(:first-of-type) {padding-left: .5ex}\n",
       "</style><dl class=dl-inline><dt>chrGFP_WTA</dt><dd>62</dd><dt>chrGFP_WTB</dt><dd>293</dd><dt>chrGFP_WTC</dt><dd>181</dd><dt>chrGFP_rs1</dt><dd>1622</dd><dt>chrGFP_rs2</dt><dd>9420</dd><dt>chrGFP_rs3</dt><dd>13089</dd><dt>chrGFP_R882H1</dt><dd>863</dd><dt>chrGFP_R882H2</dt><dd>3564</dd><dt>chrGFP_R882H3</dt><dd>1333</dd><dt>chrGFP_rs_R882H1</dt><dd>956</dd><dt>chrGFP_rs_R882H2</dt><dd>542</dd><dt>chrGFP_rs_R882H3</dt><dd>521</dd><dt>Doublet</dt><dd>33597</dd><dt>Negative</dt><dd>33212</dd></dl>\n"
      ],
      "text/latex": [
       "\\begin{description*}\n",
       "\\item[chrGFP\\textbackslash{}\\_WTA] 62\n",
       "\\item[chrGFP\\textbackslash{}\\_WTB] 293\n",
       "\\item[chrGFP\\textbackslash{}\\_WTC] 181\n",
       "\\item[chrGFP\\textbackslash{}\\_rs1] 1622\n",
       "\\item[chrGFP\\textbackslash{}\\_rs2] 9420\n",
       "\\item[chrGFP\\textbackslash{}\\_rs3] 13089\n",
       "\\item[chrGFP\\textbackslash{}\\_R882H1] 863\n",
       "\\item[chrGFP\\textbackslash{}\\_R882H2] 3564\n",
       "\\item[chrGFP\\textbackslash{}\\_R882H3] 1333\n",
       "\\item[chrGFP\\textbackslash{}\\_rs\\textbackslash{}\\_R882H1] 956\n",
       "\\item[chrGFP\\textbackslash{}\\_rs\\textbackslash{}\\_R882H2] 542\n",
       "\\item[chrGFP\\textbackslash{}\\_rs\\textbackslash{}\\_R882H3] 521\n",
       "\\item[Doublet] 33597\n",
       "\\item[Negative] 33212\n",
       "\\end{description*}\n"
      ],
      "text/markdown": [
       "chrGFP_WTA\n",
       ":   62chrGFP_WTB\n",
       ":   293chrGFP_WTC\n",
       ":   181chrGFP_rs1\n",
       ":   1622chrGFP_rs2\n",
       ":   9420chrGFP_rs3\n",
       ":   13089chrGFP_R882H1\n",
       ":   863chrGFP_R882H2\n",
       ":   3564chrGFP_R882H3\n",
       ":   1333chrGFP_rs_R882H1\n",
       ":   956chrGFP_rs_R882H2\n",
       ":   542chrGFP_rs_R882H3\n",
       ":   521Doublet\n",
       ":   33597Negative\n",
       ":   33212\n",
       "\n"
      ],
      "text/plain": [
       "      chrGFP_WTA       chrGFP_WTB       chrGFP_WTC       chrGFP_rs1 \n",
       "              62              293              181             1622 \n",
       "      chrGFP_rs2       chrGFP_rs3    chrGFP_R882H1    chrGFP_R882H2 \n",
       "            9420            13089              863             3564 \n",
       "   chrGFP_R882H3 chrGFP_rs_R882H1 chrGFP_rs_R882H2 chrGFP_rs_R882H3 \n",
       "            1333              956              542              521 \n",
       "         Doublet         Negative \n",
       "           33597            33212 "
      ]
     },
     "metadata": {},
     "output_type": "display_data"
    }
   ],
   "source": [
    "summary(adata@meta.data$Assigned_GFPbc_demux__NO_CellBender)"
   ]
  },
  {
   "cell_type": "code",
   "execution_count": 36,
   "id": "c707fb01-8c71-4c16-9085-631e04379c6b",
   "metadata": {
    "execution": {
     "iopub.execute_input": "2025-04-23T18:56:07.106772Z",
     "iopub.status.busy": "2025-04-23T18:56:07.105870Z",
     "iopub.status.idle": "2025-04-23T18:56:07.119952Z",
     "shell.execute_reply": "2025-04-23T18:56:07.118890Z"
    }
   },
   "outputs": [
    {
     "data": {
      "text/plain": [
       "   Mode    NA's \n",
       "logical   99255 "
      ]
     },
     "metadata": {},
     "output_type": "display_data"
    }
   ],
   "source": [
    "summary(adata@meta.data$Assigned_GFPbc)"
   ]
  },
  {
   "cell_type": "markdown",
   "id": "e53cd2e7-db45-4561-a2ef-9b1b8321433a",
   "metadata": {},
   "source": [
    "# Read targeted amplified GEX with Cell Bender correction"
   ]
  },
  {
   "cell_type": "markdown",
   "id": "533d9c6e-b615-4c40-bae1-70ee8217e36f",
   "metadata": {},
   "source": [
    "## From diff 1"
   ]
  },
  {
   "cell_type": "code",
   "execution_count": 37,
   "id": "afb1e3e7-94b6-4525-807d-065a295a26e2",
   "metadata": {
    "execution": {
     "iopub.execute_input": "2025-04-23T18:56:07.122582Z",
     "iopub.status.busy": "2025-04-23T18:56:07.121657Z",
     "iopub.status.idle": "2025-04-23T18:56:19.541605Z",
     "shell.execute_reply": "2025-04-23T18:56:19.540273Z"
    }
   },
   "outputs": [
    {
     "name": "stderr",
     "output_type": "stream",
     "text": [
      "Warning message:\n",
      "\"Feature names cannot have underscores ('_'), replacing with dashes ('-')\"\n",
      "Warning message:\n",
      "\"Feature names cannot have underscores ('_'), replacing with dashes ('-')\"\n",
      "Warning message:\n",
      "\"Feature names cannot have underscores ('_'), replacing with dashes ('-')\"\n",
      "Warning message:\n",
      "\"Feature names cannot have underscores ('_'), replacing with dashes ('-')\"\n"
     ]
    }
   ],
   "source": [
    "cb_counts = Read10X_h5(file.path(\"/group/soranzo/manuel.tardaguila/2025_hESC_MK_multiome/GEX_reseq/alignment/cellranger/processing_outputs/MCO_01326/\", 'cellbender_gex_seurat.h5'))\n",
    "\n",
    "adata_samp_1_CellBender = CreateSeuratObject(counts = cb_counts)\n",
    "adata_samp_1_CellBender$orig.ident<-'MCO_01326'\n",
    "\n",
    "cb_counts = Read10X_h5(file.path(\"/group/soranzo/manuel.tardaguila/2025_hESC_MK_multiome/GEX_reseq/alignment/cellranger/processing_outputs/MCO_01327/\", 'cellbender_gex_seurat.h5'))\n",
    "\n",
    "adata_samp_2_CellBender = CreateSeuratObject(counts = cb_counts)\n",
    "adata_samp_2_CellBender$orig.ident<-'MCO_01327'\n",
    "\n",
    "cb_counts = Read10X_h5(file.path(\"/group/soranzo/manuel.tardaguila/2025_hESC_MK_multiome/GEX_reseq/alignment/cellranger/processing_outputs/MCO_01328/\", 'cellbender_gex_seurat.h5'))\n",
    "\n",
    "adata_samp_3_CellBender = CreateSeuratObject(counts = cb_counts)\n",
    "adata_samp_3_CellBender$orig.ident<-'MCO_01328'\n",
    "\n",
    "cb_counts = Read10X_h5(file.path(\"/group/soranzo/manuel.tardaguila/2025_hESC_MK_multiome/GEX_reseq/alignment/cellranger/processing_outputs/MCO_01329/\", 'cellbender_gex_seurat.h5'))\n",
    "\n",
    "adata_samp_4_CellBender = CreateSeuratObject(counts = cb_counts)\n",
    "adata_samp_4_CellBender$orig.ident<-'MCO_01329'"
   ]
  },
  {
   "cell_type": "markdown",
   "id": "80c19b79-4cce-46f3-9c3c-1c30726da179",
   "metadata": {},
   "source": [
    "## From diff 2"
   ]
  },
  {
   "cell_type": "code",
   "execution_count": 38,
   "id": "6d91fd33-58f1-43cd-ac11-6666ef59634a",
   "metadata": {
    "execution": {
     "iopub.execute_input": "2025-04-23T18:56:19.544651Z",
     "iopub.status.busy": "2025-04-23T18:56:19.543673Z",
     "iopub.status.idle": "2025-04-23T18:56:30.444700Z",
     "shell.execute_reply": "2025-04-23T18:56:30.443298Z"
    }
   },
   "outputs": [
    {
     "name": "stderr",
     "output_type": "stream",
     "text": [
      "Warning message:\n",
      "\"Feature names cannot have underscores ('_'), replacing with dashes ('-')\"\n",
      "Warning message:\n",
      "\"Feature names cannot have underscores ('_'), replacing with dashes ('-')\"\n",
      "Warning message:\n",
      "\"Feature names cannot have underscores ('_'), replacing with dashes ('-')\"\n",
      "Warning message:\n",
      "\"Feature names cannot have underscores ('_'), replacing with dashes ('-')\"\n"
     ]
    }
   ],
   "source": [
    "cb_counts = Read10X_h5(file.path(\"/group/soranzo/manuel.tardaguila/2025_hESC_lymph_multiome/targeted_amplicon_GEX/cellranger/processing_outputs/MCO_01330/\", 'cellbender_gex_seurat.h5'))\n",
    "\n",
    "adata_samp_5_CellBender = CreateSeuratObject(counts = cb_counts)\n",
    "adata_samp_5_CellBender$orig.ident<-'MCO_01330'\n",
    "\n",
    "cb_counts = Read10X_h5(file.path(\"/group/soranzo/manuel.tardaguila/2025_hESC_lymph_multiome/targeted_amplicon_GEX/cellranger/processing_outputs/MCO_01331/\", 'cellbender_gex_seurat.h5'))\n",
    "\n",
    "adata_samp_6_CellBender = CreateSeuratObject(counts = cb_counts)\n",
    "adata_samp_6_CellBender$orig.ident<-'MCO_01331'\n",
    "\n",
    "cb_counts = Read10X_h5(file.path(\"/group/soranzo/manuel.tardaguila/2025_hESC_lymph_multiome/targeted_amplicon_GEX/cellranger/processing_outputs/MCO_01332/\", 'cellbender_gex_seurat.h5'))\n",
    "\n",
    "adata_samp_7_CellBender = CreateSeuratObject(counts = cb_counts)\n",
    "adata_samp_7_CellBender$orig.ident<-'MCO_01332'\n",
    "\n",
    "cb_counts = Read10X_h5(file.path(\"/group/soranzo/manuel.tardaguila/2025_hESC_lymph_multiome/targeted_amplicon_GEX/cellranger/processing_outputs/MCO_01333/\", 'cellbender_gex_seurat.h5'))\n",
    "\n",
    "adata_samp_8_CellBender = CreateSeuratObject(counts = cb_counts)\n",
    "adata_samp_8_CellBender$orig.ident<-'MCO_01333'"
   ]
  },
  {
   "cell_type": "markdown",
   "id": "fca1d645-0b4c-4fe5-8aa3-72ef25fe846b",
   "metadata": {},
   "source": [
    "## combine them in a single object"
   ]
  },
  {
   "cell_type": "code",
   "execution_count": 39,
   "id": "23f45b28-b605-4162-8b55-f0e401e2d1b8",
   "metadata": {
    "execution": {
     "iopub.execute_input": "2025-04-23T18:56:30.447754Z",
     "iopub.status.busy": "2025-04-23T18:56:30.446721Z",
     "iopub.status.idle": "2025-04-23T18:56:57.580211Z",
     "shell.execute_reply": "2025-04-23T18:56:57.578742Z"
    }
   },
   "outputs": [
    {
     "data": {
      "text/plain": [
       "An object of class Seurat \n",
       "12 features across 788876 samples within 1 assay \n",
       "Active assay: RNA (12 features, 0 variable features)\n",
       " 1 layer present: counts"
      ]
     },
     "metadata": {},
     "output_type": "display_data"
    }
   ],
   "source": [
    "adatas<-list()\n",
    "\n",
    "adatas[[1]]<-adata_samp_1_CellBender\n",
    "adatas[[2]]<-adata_samp_2_CellBender\n",
    "adatas[[3]]<-adata_samp_3_CellBender\n",
    "adatas[[4]]<-adata_samp_4_CellBender\n",
    "\n",
    "adatas[[5]]<-adata_samp_5_CellBender\n",
    "adatas[[6]]<-adata_samp_6_CellBender\n",
    "adatas[[7]]<-adata_samp_7_CellBender\n",
    "adatas[[8]]<-adata_samp_8_CellBender\n",
    "\n",
    "sample_array<-c('MCO_01326','MCO_01327','MCO_01328','MCO_01329','MCO_01330','MCO_01331','MCO_01332','MCO_01333')\n",
    "\n",
    "merged_CellBender = merge(x =adatas[[1]], y=adatas[2:8], add.cell.ids = sample_array )\n",
    "\n",
    "merged_CellBender[[\"RNA\"]] <-JoinLayers(merged_CellBender[[\"RNA\"]])\n",
    "\n",
    "merged_CellBender\n"
   ]
  },
  {
   "cell_type": "markdown",
   "id": "98591a66-99b6-47d4-97ec-ce83c6be63aa",
   "metadata": {},
   "source": [
    "## Only use the barcodes that are part of my final object"
   ]
  },
  {
   "cell_type": "code",
   "execution_count": 40,
   "id": "0e7b95bb-b3f3-4dd8-9606-2b74fd4f6a52",
   "metadata": {
    "execution": {
     "iopub.execute_input": "2025-04-23T18:56:57.583647Z",
     "iopub.status.busy": "2025-04-23T18:56:57.582517Z",
     "iopub.status.idle": "2025-04-23T18:56:57.648294Z",
     "shell.execute_reply": "2025-04-23T18:56:57.646863Z"
    }
   },
   "outputs": [
    {
     "name": "stdout",
     "output_type": "stream",
     "text": [
      " chr [1:99147] \"MCO_01326_AAACAGCCACAGCCAT-1\" ...\n"
     ]
    }
   ],
   "source": [
    "joint.bcs <- intersect(colnames(adata), colnames(merged_CellBender))\n",
    "\n",
    "str(joint.bcs)"
   ]
  },
  {
   "cell_type": "code",
   "execution_count": 41,
   "id": "74c9a6d1-325b-463e-b27b-05130bb7e560",
   "metadata": {
    "execution": {
     "iopub.execute_input": "2025-04-23T18:56:57.651559Z",
     "iopub.status.busy": "2025-04-23T18:56:57.650435Z",
     "iopub.status.idle": "2025-04-23T18:57:03.756296Z",
     "shell.execute_reply": "2025-04-23T18:57:03.755112Z"
    }
   },
   "outputs": [
    {
     "data": {
      "text/plain": [
       "An object of class Seurat \n",
       "12 features across 99147 samples within 1 assay \n",
       "Active assay: RNA (12 features, 0 variable features)\n",
       " 1 layer present: counts"
      ]
     },
     "metadata": {},
     "output_type": "display_data"
    }
   ],
   "source": [
    "merged_CellBender_restricted <- subset(merged_CellBender, cells = joint.bcs)\n",
    "\n",
    "merged_CellBender_restricted"
   ]
  },
  {
   "cell_type": "code",
   "execution_count": 42,
   "id": "e3ff5011-1101-4f3c-8251-e0a11c96e55c",
   "metadata": {
    "execution": {
     "iopub.execute_input": "2025-04-23T18:57:03.759016Z",
     "iopub.status.busy": "2025-04-23T18:57:03.758089Z",
     "iopub.status.idle": "2025-04-23T18:57:03.800944Z",
     "shell.execute_reply": "2025-04-23T18:57:03.799634Z"
    }
   },
   "outputs": [],
   "source": [
    "hto_CellBender_counts<-GetAssayData(\n",
    "  merged_CellBender_restricted,\n",
    "  layer = c(\"counts\"))+1\n",
    "\n",
    "### Adding a pseudocount as seen in https://github.com/satijalab/seurat/issues/5640\n"
   ]
  },
  {
   "cell_type": "code",
   "execution_count": 43,
   "id": "c417b97e-c158-41df-9ad1-5f654f3d1eeb",
   "metadata": {
    "execution": {
     "iopub.execute_input": "2025-04-23T18:57:03.803752Z",
     "iopub.status.busy": "2025-04-23T18:57:03.802809Z",
     "iopub.status.idle": "2025-04-23T18:57:03.815074Z",
     "shell.execute_reply": "2025-04-23T18:57:03.813983Z"
    }
   },
   "outputs": [
    {
     "name": "stdout",
     "output_type": "stream",
     "text": [
      "Formal class 'dgeMatrix' [package \"Matrix\"] with 4 slots\n",
      "  ..@ Dim     : int [1:2] 12 99147\n",
      "  ..@ Dimnames:List of 2\n",
      "  .. ..$ : chr [1:12] \"GFP-chrGFP-WTA\" \"GFP-chrGFP-WTB\" \"GFP-chrGFP-WTC\" \"GFP-chrGFP-rs1\" ...\n",
      "  .. ..$ : chr [1:99147] \"MCO_01326_AAACAGCCACAGCCAT-1\" \"MCO_01326_AAACAGCCACCAGGTT-1\" \"MCO_01326_AAACAGCCACGGTACT-1\" \"MCO_01326_AAACAGCCAGCCGCTA-1\" ...\n",
      "  ..@ x       : num [1:1189764] 1 1 1 1 1 1 2 1 27 3 ...\n",
      "  ..@ factors : list()\n"
     ]
    }
   ],
   "source": [
    "str(hto_CellBender_counts)"
   ]
  },
  {
   "cell_type": "code",
   "execution_count": 44,
   "id": "b1bd5267-ed4c-4ee3-9123-144b1ff4af1c",
   "metadata": {
    "execution": {
     "iopub.execute_input": "2025-04-23T18:57:03.817701Z",
     "iopub.status.busy": "2025-04-23T18:57:03.816805Z",
     "iopub.status.idle": "2025-04-23T18:57:06.700565Z",
     "shell.execute_reply": "2025-04-23T18:57:06.699204Z"
    }
   },
   "outputs": [],
   "source": [
    "merged_CellBender_restricted[[\"HTO_CellBender\"]] <- CreateAssayObject(counts = hto_CellBender_counts)"
   ]
  },
  {
   "cell_type": "code",
   "execution_count": 45,
   "id": "98b850b6-62f6-4dcd-b1e1-6c00818d1113",
   "metadata": {
    "execution": {
     "iopub.execute_input": "2025-04-23T18:57:06.703428Z",
     "iopub.status.busy": "2025-04-23T18:57:06.702462Z",
     "iopub.status.idle": "2025-04-23T18:57:06.716292Z",
     "shell.execute_reply": "2025-04-23T18:57:06.715111Z"
    }
   },
   "outputs": [
    {
     "data": {
      "text/plain": [
       "An object of class Seurat \n",
       "24 features across 99147 samples within 2 assays \n",
       "Active assay: RNA (12 features, 0 variable features)\n",
       " 1 layer present: counts\n",
       " 1 other assay present: HTO_CellBender"
      ]
     },
     "metadata": {},
     "output_type": "display_data"
    }
   ],
   "source": [
    "merged_CellBender_restricted"
   ]
  },
  {
   "cell_type": "markdown",
   "id": "7d252a72-84ac-4b20-965c-06a736c7feb1",
   "metadata": {
    "editable": true,
    "slideshow": {
     "slide_type": ""
    },
    "tags": []
   },
   "source": [
    "## normalize CLR"
   ]
  },
  {
   "cell_type": "code",
   "execution_count": 46,
   "id": "fdf4223f-85e9-4e79-b56d-5252cc6ccc27",
   "metadata": {
    "execution": {
     "iopub.execute_input": "2025-04-23T18:57:06.719005Z",
     "iopub.status.busy": "2025-04-23T18:57:06.718056Z",
     "iopub.status.idle": "2025-04-23T18:57:07.077293Z",
     "shell.execute_reply": "2025-04-23T18:57:07.075960Z"
    }
   },
   "outputs": [
    {
     "name": "stderr",
     "output_type": "stream",
     "text": [
      "Normalizing across features\n",
      "\n"
     ]
    }
   ],
   "source": [
    "merged_CellBender_restricted <- NormalizeData(merged_CellBender_restricted, assay = \"HTO_CellBender\", normalization.method = \"CLR\")\n"
   ]
  },
  {
   "cell_type": "markdown",
   "id": "a9bc45dd-d884-4ae0-bbe3-96c7fb06eaae",
   "metadata": {},
   "source": [
    "## Demultiplex using HTO Demux"
   ]
  },
  {
   "cell_type": "code",
   "execution_count": 47,
   "id": "edb8b853-2797-4e03-adc9-557c9519733c",
   "metadata": {
    "execution": {
     "iopub.execute_input": "2025-04-23T18:57:07.080205Z",
     "iopub.status.busy": "2025-04-23T18:57:07.079218Z",
     "iopub.status.idle": "2025-04-23T18:57:28.443272Z",
     "shell.execute_reply": "2025-04-23T18:57:28.441817Z"
    }
   },
   "outputs": [
    {
     "name": "stderr",
     "output_type": "stream",
     "text": [
      "Cutoff for GFP-chrGFP-WTA : 4 reads\n",
      "\n",
      "Cutoff for GFP-chrGFP-WTB : 4 reads\n",
      "\n",
      "Cutoff for GFP-chrGFP-WTC : 4 reads\n",
      "\n",
      "Cutoff for GFP-chrGFP-rs1 : 4 reads\n",
      "\n",
      "Cutoff for GFP-chrGFP-rs2 : 4 reads\n",
      "\n",
      "Cutoff for GFP-chrGFP-rs3 : 4 reads\n",
      "\n",
      "Cutoff for GFP-chrGFP-R882H1 : 4 reads\n",
      "\n",
      "Cutoff for GFP-chrGFP-R882H2 : 4 reads\n",
      "\n",
      "Cutoff for GFP-chrGFP-R882H3 : 4 reads\n",
      "\n",
      "Cutoff for GFP-chrGFP-rs-R882H1 : 4 reads\n",
      "\n",
      "Cutoff for GFP-chrGFP-rs-R882H2 : 4 reads\n",
      "\n",
      "Cutoff for GFP-chrGFP-rs-R882H3 : 4 reads\n",
      "\n"
     ]
    }
   ],
   "source": [
    "merged_CellBender_restricted <- HTODemux(merged_CellBender_restricted, assay = \"HTO_CellBender\", positive.quantile = 0.99)\n"
   ]
  },
  {
   "cell_type": "code",
   "execution_count": 48,
   "id": "3f0f999f-a7d9-4b11-a7ee-fa1967f2efee",
   "metadata": {
    "execution": {
     "iopub.execute_input": "2025-04-23T18:57:28.446162Z",
     "iopub.status.busy": "2025-04-23T18:57:28.445232Z",
     "iopub.status.idle": "2025-04-23T18:57:28.459423Z",
     "shell.execute_reply": "2025-04-23T18:57:28.458347Z"
    }
   },
   "outputs": [
    {
     "data": {
      "text/html": [
       "<style>\n",
       ".dl-inline {width: auto; margin:0; padding: 0}\n",
       ".dl-inline>dt, .dl-inline>dd {float: none; width: auto; display: inline-block}\n",
       ".dl-inline>dt::after {content: \":\\0020\"; padding-right: .5ex}\n",
       ".dl-inline>dt:not(:first-of-type) {padding-left: .5ex}\n",
       "</style><dl class=dl-inline><dt>Doublet</dt><dd>19166</dd><dt>GFP-chrGFP-R882H3</dt><dd>853</dd><dt>Negative</dt><dd>56933</dd><dt>GFP-chrGFP-rs1</dt><dd>1237</dd><dt>GFP-chrGFP-R882H1</dt><dd>753</dd><dt>GFP-chrGFP-rs-R882H2</dt><dd>537</dd><dt>GFP-chrGFP-rs-R882H3</dt><dd>634</dd><dt>GFP-chrGFP-WTC</dt><dd>199</dd><dt>GFP-chrGFP-rs3</dt><dd>9438</dd><dt>GFP-chrGFP-R882H2</dt><dd>1032</dd><dt>GFP-chrGFP-rs-R882H1</dt><dd>1088</dd><dt>GFP-chrGFP-rs2</dt><dd>6961</dd><dt>GFP-chrGFP-WTA</dt><dd>84</dd><dt>GFP-chrGFP-WTB</dt><dd>232</dd></dl>\n"
      ],
      "text/latex": [
       "\\begin{description*}\n",
       "\\item[Doublet] 19166\n",
       "\\item[GFP-chrGFP-R882H3] 853\n",
       "\\item[Negative] 56933\n",
       "\\item[GFP-chrGFP-rs1] 1237\n",
       "\\item[GFP-chrGFP-R882H1] 753\n",
       "\\item[GFP-chrGFP-rs-R882H2] 537\n",
       "\\item[GFP-chrGFP-rs-R882H3] 634\n",
       "\\item[GFP-chrGFP-WTC] 199\n",
       "\\item[GFP-chrGFP-rs3] 9438\n",
       "\\item[GFP-chrGFP-R882H2] 1032\n",
       "\\item[GFP-chrGFP-rs-R882H1] 1088\n",
       "\\item[GFP-chrGFP-rs2] 6961\n",
       "\\item[GFP-chrGFP-WTA] 84\n",
       "\\item[GFP-chrGFP-WTB] 232\n",
       "\\end{description*}\n"
      ],
      "text/markdown": [
       "Doublet\n",
       ":   19166GFP-chrGFP-R882H3\n",
       ":   853Negative\n",
       ":   56933GFP-chrGFP-rs1\n",
       ":   1237GFP-chrGFP-R882H1\n",
       ":   753GFP-chrGFP-rs-R882H2\n",
       ":   537GFP-chrGFP-rs-R882H3\n",
       ":   634GFP-chrGFP-WTC\n",
       ":   199GFP-chrGFP-rs3\n",
       ":   9438GFP-chrGFP-R882H2\n",
       ":   1032GFP-chrGFP-rs-R882H1\n",
       ":   1088GFP-chrGFP-rs2\n",
       ":   6961GFP-chrGFP-WTA\n",
       ":   84GFP-chrGFP-WTB\n",
       ":   232\n",
       "\n"
      ],
      "text/plain": [
       "             Doublet    GFP-chrGFP-R882H3             Negative \n",
       "               19166                  853                56933 \n",
       "      GFP-chrGFP-rs1    GFP-chrGFP-R882H1 GFP-chrGFP-rs-R882H2 \n",
       "                1237                  753                  537 \n",
       "GFP-chrGFP-rs-R882H3       GFP-chrGFP-WTC       GFP-chrGFP-rs3 \n",
       "                 634                  199                 9438 \n",
       "   GFP-chrGFP-R882H2 GFP-chrGFP-rs-R882H1       GFP-chrGFP-rs2 \n",
       "                1032                 1088                 6961 \n",
       "      GFP-chrGFP-WTA       GFP-chrGFP-WTB \n",
       "                  84                  232 "
      ]
     },
     "metadata": {},
     "output_type": "display_data"
    }
   ],
   "source": [
    "summary(merged_CellBender_restricted@meta.data$hash.ID)"
   ]
  },
  {
   "cell_type": "markdown",
   "id": "d9af12bc-e1fb-42e6-b99b-af8f43b2718b",
   "metadata": {},
   "source": [
    "## Add CellBender Demux to Genotype Annotation to adata"
   ]
  },
  {
   "cell_type": "code",
   "execution_count": 49,
   "id": "b902a3fa-7804-4097-8dc4-36ac20b58974",
   "metadata": {
    "execution": {
     "iopub.execute_input": "2025-04-23T18:57:28.462143Z",
     "iopub.status.busy": "2025-04-23T18:57:28.461236Z",
     "iopub.status.idle": "2025-04-23T18:57:28.652052Z",
     "shell.execute_reply": "2025-04-23T18:57:28.650779Z"
    }
   },
   "outputs": [],
   "source": [
    "adata<-AddMetaData(object= adata,\n",
    "                  metadata= merged_CellBender_restricted@meta.data$hash.ID,\n",
    "                  col.name = \"Assignation_demux_CellBender\")"
   ]
  },
  {
   "cell_type": "code",
   "execution_count": 50,
   "id": "06dc45b2-ecf1-47c2-98d0-3c6883a5803e",
   "metadata": {
    "execution": {
     "iopub.execute_input": "2025-04-23T18:57:28.654848Z",
     "iopub.status.busy": "2025-04-23T18:57:28.653906Z",
     "iopub.status.idle": "2025-04-23T18:57:28.667096Z",
     "shell.execute_reply": "2025-04-23T18:57:28.666025Z"
    }
   },
   "outputs": [
    {
     "data": {
      "text/html": [
       "<style>\n",
       ".dl-inline {width: auto; margin:0; padding: 0}\n",
       ".dl-inline>dt, .dl-inline>dd {float: none; width: auto; display: inline-block}\n",
       ".dl-inline>dt::after {content: \":\\0020\"; padding-right: .5ex}\n",
       ".dl-inline>dt:not(:first-of-type) {padding-left: .5ex}\n",
       "</style><dl class=dl-inline><dt>Doublet</dt><dd>19196</dd><dt>GFP-chrGFP-R882H3</dt><dd>865</dd><dt>Negative</dt><dd>56976</dd><dt>GFP-chrGFP-rs1</dt><dd>1238</dd><dt>GFP-chrGFP-R882H1</dt><dd>762</dd><dt>GFP-chrGFP-rs-R882H2</dt><dd>541</dd><dt>GFP-chrGFP-rs-R882H3</dt><dd>638</dd><dt>GFP-chrGFP-WTC</dt><dd>200</dd><dt>GFP-chrGFP-rs3</dt><dd>9440</dd><dt>GFP-chrGFP-R882H2</dt><dd>1033</dd><dt>GFP-chrGFP-rs-R882H1</dt><dd>1089</dd><dt>GFP-chrGFP-rs2</dt><dd>6961</dd><dt>GFP-chrGFP-WTA</dt><dd>84</dd><dt>GFP-chrGFP-WTB</dt><dd>232</dd></dl>\n"
      ],
      "text/latex": [
       "\\begin{description*}\n",
       "\\item[Doublet] 19196\n",
       "\\item[GFP-chrGFP-R882H3] 865\n",
       "\\item[Negative] 56976\n",
       "\\item[GFP-chrGFP-rs1] 1238\n",
       "\\item[GFP-chrGFP-R882H1] 762\n",
       "\\item[GFP-chrGFP-rs-R882H2] 541\n",
       "\\item[GFP-chrGFP-rs-R882H3] 638\n",
       "\\item[GFP-chrGFP-WTC] 200\n",
       "\\item[GFP-chrGFP-rs3] 9440\n",
       "\\item[GFP-chrGFP-R882H2] 1033\n",
       "\\item[GFP-chrGFP-rs-R882H1] 1089\n",
       "\\item[GFP-chrGFP-rs2] 6961\n",
       "\\item[GFP-chrGFP-WTA] 84\n",
       "\\item[GFP-chrGFP-WTB] 232\n",
       "\\end{description*}\n"
      ],
      "text/markdown": [
       "Doublet\n",
       ":   19196GFP-chrGFP-R882H3\n",
       ":   865Negative\n",
       ":   56976GFP-chrGFP-rs1\n",
       ":   1238GFP-chrGFP-R882H1\n",
       ":   762GFP-chrGFP-rs-R882H2\n",
       ":   541GFP-chrGFP-rs-R882H3\n",
       ":   638GFP-chrGFP-WTC\n",
       ":   200GFP-chrGFP-rs3\n",
       ":   9440GFP-chrGFP-R882H2\n",
       ":   1033GFP-chrGFP-rs-R882H1\n",
       ":   1089GFP-chrGFP-rs2\n",
       ":   6961GFP-chrGFP-WTA\n",
       ":   84GFP-chrGFP-WTB\n",
       ":   232\n",
       "\n"
      ],
      "text/plain": [
       "             Doublet    GFP-chrGFP-R882H3             Negative \n",
       "               19196                  865                56976 \n",
       "      GFP-chrGFP-rs1    GFP-chrGFP-R882H1 GFP-chrGFP-rs-R882H2 \n",
       "                1238                  762                  541 \n",
       "GFP-chrGFP-rs-R882H3       GFP-chrGFP-WTC       GFP-chrGFP-rs3 \n",
       "                 638                  200                 9440 \n",
       "   GFP-chrGFP-R882H2 GFP-chrGFP-rs-R882H1       GFP-chrGFP-rs2 \n",
       "                1033                 1089                 6961 \n",
       "      GFP-chrGFP-WTA       GFP-chrGFP-WTB \n",
       "                  84                  232 "
      ]
     },
     "metadata": {},
     "output_type": "display_data"
    }
   ],
   "source": [
    "summary(as.factor(adata@meta.data$Assignation_demux_CellBender))"
   ]
  },
  {
   "cell_type": "code",
   "execution_count": 51,
   "id": "ea639aad-b1da-4dcf-a716-5867ffd79b81",
   "metadata": {
    "execution": {
     "iopub.execute_input": "2025-04-23T18:57:28.669749Z",
     "iopub.status.busy": "2025-04-23T18:57:28.668848Z",
     "iopub.status.idle": "2025-04-23T18:57:28.677686Z",
     "shell.execute_reply": "2025-04-23T18:57:28.676682Z"
    }
   },
   "outputs": [],
   "source": [
    "adata@meta.data$Assigned_GFPbc_demux_CellBender<-gsub(\"^GFP-\",\"\",adata@meta.data$Assignation_demux_CellBender)"
   ]
  },
  {
   "cell_type": "code",
   "execution_count": 52,
   "id": "dd433240-960c-40da-9ae7-776b84d527c0",
   "metadata": {
    "execution": {
     "iopub.execute_input": "2025-04-23T18:57:28.680341Z",
     "iopub.status.busy": "2025-04-23T18:57:28.679425Z",
     "iopub.status.idle": "2025-04-23T18:57:28.711333Z",
     "shell.execute_reply": "2025-04-23T18:57:28.710327Z"
    }
   },
   "outputs": [],
   "source": [
    "adata@meta.data$Assigned_GFPbc_demux_CellBender<-gsub(\"-\",\"_\",adata@meta.data$Assigned_GFPbc_demux_CellBender)"
   ]
  },
  {
   "cell_type": "code",
   "execution_count": 53,
   "id": "39ef92d6-6179-4aee-8fa2-81f8aae3a2f7",
   "metadata": {
    "execution": {
     "iopub.execute_input": "2025-04-23T18:57:28.713971Z",
     "iopub.status.busy": "2025-04-23T18:57:28.713051Z",
     "iopub.status.idle": "2025-04-23T18:57:28.727331Z",
     "shell.execute_reply": "2025-04-23T18:57:28.726271Z"
    }
   },
   "outputs": [
    {
     "data": {
      "text/html": [
       "<style>\n",
       ".dl-inline {width: auto; margin:0; padding: 0}\n",
       ".dl-inline>dt, .dl-inline>dd {float: none; width: auto; display: inline-block}\n",
       ".dl-inline>dt::after {content: \":\\0020\"; padding-right: .5ex}\n",
       ".dl-inline>dt:not(:first-of-type) {padding-left: .5ex}\n",
       "</style><dl class=dl-inline><dt>chrGFP_R882H1</dt><dd>762</dd><dt>chrGFP_R882H2</dt><dd>1033</dd><dt>chrGFP_R882H3</dt><dd>865</dd><dt>chrGFP_rs_R882H1</dt><dd>1089</dd><dt>chrGFP_rs_R882H2</dt><dd>541</dd><dt>chrGFP_rs_R882H3</dt><dd>638</dd><dt>chrGFP_rs1</dt><dd>1238</dd><dt>chrGFP_rs2</dt><dd>6961</dd><dt>chrGFP_rs3</dt><dd>9440</dd><dt>chrGFP_WTA</dt><dd>84</dd><dt>chrGFP_WTB</dt><dd>232</dd><dt>chrGFP_WTC</dt><dd>200</dd><dt>Doublet</dt><dd>19196</dd><dt>Negative</dt><dd>56976</dd></dl>\n"
      ],
      "text/latex": [
       "\\begin{description*}\n",
       "\\item[chrGFP\\textbackslash{}\\_R882H1] 762\n",
       "\\item[chrGFP\\textbackslash{}\\_R882H2] 1033\n",
       "\\item[chrGFP\\textbackslash{}\\_R882H3] 865\n",
       "\\item[chrGFP\\textbackslash{}\\_rs\\textbackslash{}\\_R882H1] 1089\n",
       "\\item[chrGFP\\textbackslash{}\\_rs\\textbackslash{}\\_R882H2] 541\n",
       "\\item[chrGFP\\textbackslash{}\\_rs\\textbackslash{}\\_R882H3] 638\n",
       "\\item[chrGFP\\textbackslash{}\\_rs1] 1238\n",
       "\\item[chrGFP\\textbackslash{}\\_rs2] 6961\n",
       "\\item[chrGFP\\textbackslash{}\\_rs3] 9440\n",
       "\\item[chrGFP\\textbackslash{}\\_WTA] 84\n",
       "\\item[chrGFP\\textbackslash{}\\_WTB] 232\n",
       "\\item[chrGFP\\textbackslash{}\\_WTC] 200\n",
       "\\item[Doublet] 19196\n",
       "\\item[Negative] 56976\n",
       "\\end{description*}\n"
      ],
      "text/markdown": [
       "chrGFP_R882H1\n",
       ":   762chrGFP_R882H2\n",
       ":   1033chrGFP_R882H3\n",
       ":   865chrGFP_rs_R882H1\n",
       ":   1089chrGFP_rs_R882H2\n",
       ":   541chrGFP_rs_R882H3\n",
       ":   638chrGFP_rs1\n",
       ":   1238chrGFP_rs2\n",
       ":   6961chrGFP_rs3\n",
       ":   9440chrGFP_WTA\n",
       ":   84chrGFP_WTB\n",
       ":   232chrGFP_WTC\n",
       ":   200Doublet\n",
       ":   19196Negative\n",
       ":   56976\n",
       "\n"
      ],
      "text/plain": [
       "   chrGFP_R882H1    chrGFP_R882H2    chrGFP_R882H3 chrGFP_rs_R882H1 \n",
       "             762             1033              865             1089 \n",
       "chrGFP_rs_R882H2 chrGFP_rs_R882H3       chrGFP_rs1       chrGFP_rs2 \n",
       "             541              638             1238             6961 \n",
       "      chrGFP_rs3       chrGFP_WTA       chrGFP_WTB       chrGFP_WTC \n",
       "            9440               84              232              200 \n",
       "         Doublet         Negative \n",
       "           19196            56976 "
      ]
     },
     "metadata": {},
     "output_type": "display_data"
    }
   ],
   "source": [
    "summary(as.factor(adata@meta.data$Assigned_GFPbc_demux_CellBender))"
   ]
  },
  {
   "cell_type": "code",
   "execution_count": 54,
   "id": "971ce387-f05d-4ede-9d2d-c6617520dcff",
   "metadata": {
    "execution": {
     "iopub.execute_input": "2025-04-23T18:57:28.729954Z",
     "iopub.status.busy": "2025-04-23T18:57:28.729046Z",
     "iopub.status.idle": "2025-04-23T18:57:28.737608Z",
     "shell.execute_reply": "2025-04-23T18:57:28.736607Z"
    }
   },
   "outputs": [],
   "source": [
    "adata@meta.data$Assigned_GFPbc_demux_CellBender<-factor(adata@meta.data$Assigned_GFPbc_demux_CellBender,\n",
    "                                       levels = c(\"chrGFP_WTA\",\"chrGFP_WTB\",\"chrGFP_WTC\",\n",
    "                                                  \"chrGFP_rs1\",\"chrGFP_rs2\",\"chrGFP_rs3\",\n",
    "                                                  \"chrGFP_R882H1\",\"chrGFP_R882H2\",\"chrGFP_R882H3\",\n",
    "                                                  \"chrGFP_rs_R882H1\",\"chrGFP_rs_R882H2\",\"chrGFP_rs_R882H3\",\"Doublet\",\"Negative\"),\n",
    "                                       ordered=T)"
   ]
  },
  {
   "cell_type": "code",
   "execution_count": 55,
   "id": "91da3d76-27b4-4827-af2f-7f08449e1a5b",
   "metadata": {
    "execution": {
     "iopub.execute_input": "2025-04-23T18:57:28.740199Z",
     "iopub.status.busy": "2025-04-23T18:57:28.739304Z",
     "iopub.status.idle": "2025-04-23T18:57:28.750845Z",
     "shell.execute_reply": "2025-04-23T18:57:28.749805Z"
    }
   },
   "outputs": [
    {
     "data": {
      "text/html": [
       "<style>\n",
       ".dl-inline {width: auto; margin:0; padding: 0}\n",
       ".dl-inline>dt, .dl-inline>dd {float: none; width: auto; display: inline-block}\n",
       ".dl-inline>dt::after {content: \":\\0020\"; padding-right: .5ex}\n",
       ".dl-inline>dt:not(:first-of-type) {padding-left: .5ex}\n",
       "</style><dl class=dl-inline><dt>chrGFP_WTA</dt><dd>84</dd><dt>chrGFP_WTB</dt><dd>232</dd><dt>chrGFP_WTC</dt><dd>200</dd><dt>chrGFP_rs1</dt><dd>1238</dd><dt>chrGFP_rs2</dt><dd>6961</dd><dt>chrGFP_rs3</dt><dd>9440</dd><dt>chrGFP_R882H1</dt><dd>762</dd><dt>chrGFP_R882H2</dt><dd>1033</dd><dt>chrGFP_R882H3</dt><dd>865</dd><dt>chrGFP_rs_R882H1</dt><dd>1089</dd><dt>chrGFP_rs_R882H2</dt><dd>541</dd><dt>chrGFP_rs_R882H3</dt><dd>638</dd><dt>Doublet</dt><dd>19196</dd><dt>Negative</dt><dd>56976</dd></dl>\n"
      ],
      "text/latex": [
       "\\begin{description*}\n",
       "\\item[chrGFP\\textbackslash{}\\_WTA] 84\n",
       "\\item[chrGFP\\textbackslash{}\\_WTB] 232\n",
       "\\item[chrGFP\\textbackslash{}\\_WTC] 200\n",
       "\\item[chrGFP\\textbackslash{}\\_rs1] 1238\n",
       "\\item[chrGFP\\textbackslash{}\\_rs2] 6961\n",
       "\\item[chrGFP\\textbackslash{}\\_rs3] 9440\n",
       "\\item[chrGFP\\textbackslash{}\\_R882H1] 762\n",
       "\\item[chrGFP\\textbackslash{}\\_R882H2] 1033\n",
       "\\item[chrGFP\\textbackslash{}\\_R882H3] 865\n",
       "\\item[chrGFP\\textbackslash{}\\_rs\\textbackslash{}\\_R882H1] 1089\n",
       "\\item[chrGFP\\textbackslash{}\\_rs\\textbackslash{}\\_R882H2] 541\n",
       "\\item[chrGFP\\textbackslash{}\\_rs\\textbackslash{}\\_R882H3] 638\n",
       "\\item[Doublet] 19196\n",
       "\\item[Negative] 56976\n",
       "\\end{description*}\n"
      ],
      "text/markdown": [
       "chrGFP_WTA\n",
       ":   84chrGFP_WTB\n",
       ":   232chrGFP_WTC\n",
       ":   200chrGFP_rs1\n",
       ":   1238chrGFP_rs2\n",
       ":   6961chrGFP_rs3\n",
       ":   9440chrGFP_R882H1\n",
       ":   762chrGFP_R882H2\n",
       ":   1033chrGFP_R882H3\n",
       ":   865chrGFP_rs_R882H1\n",
       ":   1089chrGFP_rs_R882H2\n",
       ":   541chrGFP_rs_R882H3\n",
       ":   638Doublet\n",
       ":   19196Negative\n",
       ":   56976\n",
       "\n"
      ],
      "text/plain": [
       "      chrGFP_WTA       chrGFP_WTB       chrGFP_WTC       chrGFP_rs1 \n",
       "              84              232              200             1238 \n",
       "      chrGFP_rs2       chrGFP_rs3    chrGFP_R882H1    chrGFP_R882H2 \n",
       "            6961             9440              762             1033 \n",
       "   chrGFP_R882H3 chrGFP_rs_R882H1 chrGFP_rs_R882H2 chrGFP_rs_R882H3 \n",
       "             865             1089              541              638 \n",
       "         Doublet         Negative \n",
       "           19196            56976 "
      ]
     },
     "metadata": {},
     "output_type": "display_data"
    }
   ],
   "source": [
    "summary(adata@meta.data$Assigned_GFPbc_demux_CellBender)"
   ]
  },
  {
   "cell_type": "markdown",
   "id": "461d4c6b-64bb-4460-ae31-0e1b3ddf0f41",
   "metadata": {
    "editable": true,
    "slideshow": {
     "slide_type": ""
    },
    "tags": []
   },
   "source": [
    "### Save this assignation"
   ]
  },
  {
   "cell_type": "code",
   "execution_count": 56,
   "id": "5dea4b71-858f-4798-9bad-767ea5860886",
   "metadata": {
    "execution": {
     "iopub.execute_input": "2025-04-23T18:57:28.753437Z",
     "iopub.status.busy": "2025-04-23T18:57:28.752543Z",
     "iopub.status.idle": "2025-04-23T18:57:28.765159Z",
     "shell.execute_reply": "2025-04-23T18:57:28.764055Z"
    }
   },
   "outputs": [
    {
     "data": {
      "text/html": [
       "<style>\n",
       ".list-inline {list-style: none; margin:0; padding: 0}\n",
       ".list-inline>li {display: inline-block}\n",
       ".list-inline>li:not(:last-child)::after {content: \"\\00b7\"; padding: 0 .5ex}\n",
       "</style>\n",
       "<ol class=list-inline><li>'orig.ident'</li><li>'nCount_RNA'</li><li>'nFeature_RNA'</li><li>'nCount_HTO_CellBender'</li><li>'nFeature_HTO_CellBender'</li><li>'HTO_CellBender_maxID'</li><li>'HTO_CellBender_secondID'</li><li>'HTO_CellBender_margin'</li><li>'HTO_CellBender_classification'</li><li>'HTO_CellBender_classification.global'</li><li>'hash.ID'</li></ol>\n"
      ],
      "text/latex": [
       "\\begin{enumerate*}\n",
       "\\item 'orig.ident'\n",
       "\\item 'nCount\\_RNA'\n",
       "\\item 'nFeature\\_RNA'\n",
       "\\item 'nCount\\_HTO\\_CellBender'\n",
       "\\item 'nFeature\\_HTO\\_CellBender'\n",
       "\\item 'HTO\\_CellBender\\_maxID'\n",
       "\\item 'HTO\\_CellBender\\_secondID'\n",
       "\\item 'HTO\\_CellBender\\_margin'\n",
       "\\item 'HTO\\_CellBender\\_classification'\n",
       "\\item 'HTO\\_CellBender\\_classification.global'\n",
       "\\item 'hash.ID'\n",
       "\\end{enumerate*}\n"
      ],
      "text/markdown": [
       "1. 'orig.ident'\n",
       "2. 'nCount_RNA'\n",
       "3. 'nFeature_RNA'\n",
       "4. 'nCount_HTO_CellBender'\n",
       "5. 'nFeature_HTO_CellBender'\n",
       "6. 'HTO_CellBender_maxID'\n",
       "7. 'HTO_CellBender_secondID'\n",
       "8. 'HTO_CellBender_margin'\n",
       "9. 'HTO_CellBender_classification'\n",
       "10. 'HTO_CellBender_classification.global'\n",
       "11. 'hash.ID'\n",
       "\n",
       "\n"
      ],
      "text/plain": [
       " [1] \"orig.ident\"                          \n",
       " [2] \"nCount_RNA\"                          \n",
       " [3] \"nFeature_RNA\"                        \n",
       " [4] \"nCount_HTO_CellBender\"               \n",
       " [5] \"nFeature_HTO_CellBender\"             \n",
       " [6] \"HTO_CellBender_maxID\"                \n",
       " [7] \"HTO_CellBender_secondID\"             \n",
       " [8] \"HTO_CellBender_margin\"               \n",
       " [9] \"HTO_CellBender_classification\"       \n",
       "[10] \"HTO_CellBender_classification.global\"\n",
       "[11] \"hash.ID\"                             "
      ]
     },
     "metadata": {},
     "output_type": "display_data"
    },
    {
     "name": "stdout",
     "output_type": "stream",
     "text": [
      " chr [1:99147] \"MCO_01326_AAACAGCCACAGCCAT-1\" ...\n"
     ]
    }
   ],
   "source": [
    "colnames(merged_CellBender_restricted@meta.data)\n",
    "\n",
    "\n",
    "str(row.names(merged_CellBender_restricted@meta.data))"
   ]
  },
  {
   "cell_type": "code",
   "execution_count": 57,
   "id": "04b56835-fb27-4fdf-aacf-cb9a92ecf024",
   "metadata": {
    "editable": true,
    "execution": {
     "iopub.execute_input": "2025-04-23T18:57:28.767826Z",
     "iopub.status.busy": "2025-04-23T18:57:28.766928Z",
     "iopub.status.idle": "2025-04-23T18:57:28.774321Z",
     "shell.execute_reply": "2025-04-23T18:57:28.773319Z"
    },
    "slideshow": {
     "slide_type": ""
    },
    "tags": []
   },
   "outputs": [],
   "source": [
    "path_save<-\"/group/soranzo/manuel.tardaguila/2025_hESC_lymph_multiome/targeted_amplicon_GEX/cellranger/processing_outputs/\""
   ]
  },
  {
   "cell_type": "code",
   "execution_count": 58,
   "id": "a93e8360-93f7-446b-b06b-e8d65aea6551",
   "metadata": {
    "execution": {
     "iopub.execute_input": "2025-04-23T18:57:28.776956Z",
     "iopub.status.busy": "2025-04-23T18:57:28.776034Z",
     "iopub.status.idle": "2025-04-23T18:57:29.298910Z",
     "shell.execute_reply": "2025-04-23T18:57:29.297703Z"
    }
   },
   "outputs": [],
   "source": [
    "setwd(path_save)\n",
    "\n",
    "write.csv(merged_CellBender_restricted@meta.data,\"CellBender_Barcodes_demux_assignation.csv\")"
   ]
  },
  {
   "cell_type": "markdown",
   "id": "ff26067d-5053-4e78-86c5-5092e33c1070",
   "metadata": {},
   "source": [
    "# Add genotyping from GEX not amplified alignment"
   ]
  },
  {
   "cell_type": "markdown",
   "id": "da96ce9c-073b-4e99-93b2-c5bfe5bebe6e",
   "metadata": {},
   "source": [
    "## Diff1"
   ]
  },
  {
   "cell_type": "code",
   "execution_count": 59,
   "id": "504a5966-212a-447e-83b2-91216f95a7e6",
   "metadata": {
    "execution": {
     "iopub.execute_input": "2025-04-23T18:57:29.301636Z",
     "iopub.status.busy": "2025-04-23T18:57:29.300697Z",
     "iopub.status.idle": "2025-04-23T18:57:29.522609Z",
     "shell.execute_reply": "2025-04-23T18:57:29.521496Z"
    }
   },
   "outputs": [
    {
     "name": "stdout",
     "output_type": "stream",
     "text": [
      "'data.frame':\t157998 obs. of  5 variables:\n",
      " $ sample           : Ord.factor w/ 4 levels \"MCO_01326\"<\"MCO_01327\"<..: 1 1 1 1 1 1 1 1 1 1 ...\n",
      " $ CellBC           : chr  \"CB:Z:AAACAGCCAATGCGCT-1\" \"CB:Z:AAACCGAAGTCACCAG-1\" \"CB:Z:AAACGGATCGGCTATG-1\" \"CB:Z:AAAGGACGTGCGCATG-1\" ...\n",
      " $ GFPbc            : Ord.factor w/ 13 levels \"chrGFP_WTA\"<\"chrGFP_WTB\"<..: 1 1 1 1 1 1 1 1 1 1 ...\n",
      " $ GFPbc_attribution: int  1 1 1 1 1 1 1 1 1 1 ...\n",
      " $ Number_of_UMIS   : int  1 1 1 1 1 1 1 1 1 1 ...\n"
     ]
    }
   ],
   "source": [
    "diff1<-readRDS(file=\"/group/soranzo/manuel.tardaguila/2025_hESC_MK_multiome/deconvolute_LARRY/count_and_filter/Uniquely_genotyped_larry_barcodes_assignments.rds\")\n",
    "\n",
    "str(diff1)"
   ]
  },
  {
   "cell_type": "markdown",
   "id": "120a6f23-caf0-45ac-9fb8-96a3a512cc12",
   "metadata": {},
   "source": [
    "## Diff2"
   ]
  },
  {
   "cell_type": "code",
   "execution_count": 60,
   "id": "e4c16e05-2920-4ee2-8884-ee9ded858149",
   "metadata": {
    "execution": {
     "iopub.execute_input": "2025-04-23T18:57:29.525248Z",
     "iopub.status.busy": "2025-04-23T18:57:29.524355Z",
     "iopub.status.idle": "2025-04-23T18:57:29.652606Z",
     "shell.execute_reply": "2025-04-23T18:57:29.651539Z"
    }
   },
   "outputs": [
    {
     "name": "stdout",
     "output_type": "stream",
     "text": [
      "'data.frame':\t107578 obs. of  5 variables:\n",
      " $ sample           : Ord.factor w/ 4 levels \"MCO_01330\"<\"MCO_01331\"<..: 1 1 1 1 1 1 1 1 1 1 ...\n",
      " $ CellBC           : chr  \"CB:Z:AAACCGAAGGGTTAGA-1\" \"CB:Z:AAAGCACCAGTTTACG-1\" \"CB:Z:AAAGCCGCATGCTATG-1\" \"CB:Z:AAAGGACGTTAGGCGT-1\" ...\n",
      " $ GFPbc            : Ord.factor w/ 13 levels \"chrGFP_WTA\"<\"chrGFP_WTB\"<..: 1 1 1 1 1 1 1 1 1 1 ...\n",
      " $ GFPbc_attribution: int  1 1 1 1 1 1 1 1 1 1 ...\n",
      " $ Number_of_UMIS   : int  4 5 1 1 1 1 1 1 1 1 ...\n"
     ]
    }
   ],
   "source": [
    "diff2<-readRDS(file=\"/group/soranzo/manuel.tardaguila/2025_hESC_lymph_multiome/Multiome/deconvolute_LARRY/count_and_filter/Uniquely_genotyped_larry_barcodes_assignments.rds\")\n",
    "\n",
    "str(diff2)"
   ]
  },
  {
   "cell_type": "code",
   "execution_count": 61,
   "id": "2086e231-838f-4673-83fc-f68d30f3aaa6",
   "metadata": {
    "execution": {
     "iopub.execute_input": "2025-04-23T18:57:29.655227Z",
     "iopub.status.busy": "2025-04-23T18:57:29.654333Z",
     "iopub.status.idle": "2025-04-23T18:57:29.880577Z",
     "shell.execute_reply": "2025-04-23T18:57:29.879336Z"
    }
   },
   "outputs": [
    {
     "name": "stdout",
     "output_type": "stream",
     "text": [
      "'data.frame':\t265576 obs. of  5 variables:\n",
      " $ sample           : Ord.factor w/ 8 levels \"MCO_01326\"<\"MCO_01327\"<..: 1 1 1 1 1 1 1 1 1 1 ...\n",
      " $ CellBC           : chr  \"CB:Z:AAACAGCCAATGCGCT-1\" \"CB:Z:AAACCGAAGTCACCAG-1\" \"CB:Z:AAACGGATCGGCTATG-1\" \"CB:Z:AAAGGACGTGCGCATG-1\" ...\n",
      " $ GFPbc            : Ord.factor w/ 13 levels \"chrGFP_WTA\"<\"chrGFP_WTB\"<..: 1 1 1 1 1 1 1 1 1 1 ...\n",
      " $ GFPbc_attribution: int  1 1 1 1 1 1 1 1 1 1 ...\n",
      " $ Number_of_UMIS   : int  1 1 1 1 1 1 1 1 1 1 ...\n"
     ]
    }
   ],
   "source": [
    "df<-rbind(diff1,diff2)\n",
    "\n",
    "\n",
    "str(df)"
   ]
  },
  {
   "cell_type": "code",
   "execution_count": 62,
   "id": "2dc256a0-3109-4974-8038-171d7327707e",
   "metadata": {
    "execution": {
     "iopub.execute_input": "2025-04-23T18:57:29.883335Z",
     "iopub.status.busy": "2025-04-23T18:57:29.882398Z",
     "iopub.status.idle": "2025-04-23T18:57:30.285606Z",
     "shell.execute_reply": "2025-04-23T18:57:30.284394Z"
    }
   },
   "outputs": [
    {
     "name": "stdout",
     "output_type": "stream",
     "text": [
      "'data.frame':\t265576 obs. of  6 variables:\n",
      " $ sample           : Ord.factor w/ 8 levels \"MCO_01326\"<\"MCO_01327\"<..: 1 1 1 1 1 1 1 1 1 1 ...\n",
      " $ CellBC           : chr  \"CB:Z:AAACAGCCAATGCGCT-1\" \"CB:Z:AAACCGAAGTCACCAG-1\" \"CB:Z:AAACGGATCGGCTATG-1\" \"CB:Z:AAAGGACGTGCGCATG-1\" ...\n",
      " $ GFPbc            : Ord.factor w/ 13 levels \"chrGFP_WTA\"<\"chrGFP_WTB\"<..: 1 1 1 1 1 1 1 1 1 1 ...\n",
      " $ GFPbc_attribution: int  1 1 1 1 1 1 1 1 1 1 ...\n",
      " $ Number_of_UMIS   : int  1 1 1 1 1 1 1 1 1 1 ...\n",
      " $ CellID           : chr  \"MCO_01326_AAACAGCCAATGCGCT-1\" \"MCO_01326_AAACCGAAGTCACCAG-1\" \"MCO_01326_AAACGGATCGGCTATG-1\" \"MCO_01326_AAAGGACGTGCGCATG-1\" ...\n"
     ]
    }
   ],
   "source": [
    "# desired format MCO_01326_AAACAGCCACAGCCAT-1\n",
    "\n",
    "df$CellID<-paste(df$sample,gsub(\"^[^:]+:[^:]+:\",\"\", df$CellBC),sep=\"_\")\n",
    "\n",
    "str(df)\n"
   ]
  },
  {
   "cell_type": "markdown",
   "id": "19728346-4c3f-4f24-973f-ca6b1ad08dfb",
   "metadata": {},
   "source": [
    "## Filter to 3 UMIs"
   ]
  },
  {
   "cell_type": "code",
   "execution_count": 63,
   "id": "12f792c6-2bc3-4eee-a70a-489b2631cc0a",
   "metadata": {
    "execution": {
     "iopub.execute_input": "2025-04-23T18:57:30.288386Z",
     "iopub.status.busy": "2025-04-23T18:57:30.287426Z",
     "iopub.status.idle": "2025-04-23T18:57:30.307645Z",
     "shell.execute_reply": "2025-04-23T18:57:30.306559Z"
    }
   },
   "outputs": [
    {
     "name": "stdout",
     "output_type": "stream",
     "text": [
      "'data.frame':\t21556 obs. of  6 variables:\n",
      " $ sample           : Ord.factor w/ 8 levels \"MCO_01326\"<\"MCO_01327\"<..: 1 1 1 1 1 1 1 1 1 1 ...\n",
      " $ CellBC           : chr  \"CB:Z:AGTAATGCATTGCAGC-1\" \"CB:Z:CTAGCTTGTGAGCGAA-1\" \"CB:Z:CTTACCGGTAAAGCGG-1\" \"CB:Z:CTTACTAGTCTTTATG-1\" ...\n",
      " $ GFPbc            : Ord.factor w/ 13 levels \"chrGFP_WTA\"<\"chrGFP_WTB\"<..: 1 1 1 1 1 1 2 2 2 2 ...\n",
      " $ GFPbc_attribution: int  1 1 1 1 1 1 1 1 1 1 ...\n",
      " $ Number_of_UMIS   : int  3 3 3 3 4 6 3 12 5 5 ...\n",
      " $ CellID           : chr  \"MCO_01326_AGTAATGCATTGCAGC-1\" \"MCO_01326_CTAGCTTGTGAGCGAA-1\" \"MCO_01326_CTTACCGGTAAAGCGG-1\" \"MCO_01326_CTTACTAGTCTTTATG-1\" ...\n"
     ]
    }
   ],
   "source": [
    "df_thresholded<-df[which(df$Number_of_UMIS >= 3 & df$GFPbc_attribution == 1),]\n",
    "\n",
    "str(df_thresholded)"
   ]
  },
  {
   "cell_type": "code",
   "execution_count": 64,
   "id": "f885e53f-9b70-4a2e-8537-15abb85e7255",
   "metadata": {
    "execution": {
     "iopub.execute_input": "2025-04-23T18:57:30.310294Z",
     "iopub.status.busy": "2025-04-23T18:57:30.309384Z",
     "iopub.status.idle": "2025-04-23T18:57:30.317955Z",
     "shell.execute_reply": "2025-04-23T18:57:30.316936Z"
    }
   },
   "outputs": [],
   "source": [
    "row.names(df_thresholded)<-df_thresholded$CellID"
   ]
  },
  {
   "cell_type": "code",
   "execution_count": 65,
   "id": "8ad9465e-e0e9-4fe4-b05f-b1ce1832b8dd",
   "metadata": {
    "execution": {
     "iopub.execute_input": "2025-04-23T18:57:30.320628Z",
     "iopub.status.busy": "2025-04-23T18:57:30.319713Z",
     "iopub.status.idle": "2025-04-23T18:57:30.332160Z",
     "shell.execute_reply": "2025-04-23T18:57:30.331071Z"
    }
   },
   "outputs": [
    {
     "data": {
      "text/html": [
       "21556"
      ],
      "text/latex": [
       "21556"
      ],
      "text/markdown": [
       "21556"
      ],
      "text/plain": [
       "[1] 21556"
      ]
     },
     "metadata": {},
     "output_type": "display_data"
    },
    {
     "name": "stdout",
     "output_type": "stream",
     "text": [
      " chr [1:21556] \"MCO_01326_AGTAATGCATTGCAGC-1\" ...\n"
     ]
    }
   ],
   "source": [
    "dim(df_thresholded)[1]\n",
    "\n",
    "str(row.names(df_thresholded))"
   ]
  },
  {
   "cell_type": "code",
   "execution_count": 66,
   "id": "e17fe371-d0a9-4db0-a2a6-815259059b36",
   "metadata": {
    "execution": {
     "iopub.execute_input": "2025-04-23T18:57:30.334737Z",
     "iopub.status.busy": "2025-04-23T18:57:30.333831Z",
     "iopub.status.idle": "2025-04-23T18:57:30.344764Z",
     "shell.execute_reply": "2025-04-23T18:57:30.343701Z"
    }
   },
   "outputs": [
    {
     "data": {
      "text/html": [
       "<style>\n",
       ".dl-inline {width: auto; margin:0; padding: 0}\n",
       ".dl-inline>dt, .dl-inline>dd {float: none; width: auto; display: inline-block}\n",
       ".dl-inline>dt::after {content: \":\\0020\"; padding-right: .5ex}\n",
       ".dl-inline>dt:not(:first-of-type) {padding-left: .5ex}\n",
       "</style><dl class=dl-inline><dt>chrGFP_WTA</dt><dd>99</dd><dt>chrGFP_WTB</dt><dd>190</dd><dt>chrGFP_WTC</dt><dd>142</dd><dt>chrGFP_rs1</dt><dd>1493</dd><dt>chrGFP_rs2</dt><dd>7989</dd><dt>chrGFP_rs3</dt><dd>9321</dd><dt>chrGFP_R882H1</dt><dd>344</dd><dt>chrGFP_R882H2</dt><dd>425</dd><dt>chrGFP_R882H3</dt><dd>303</dd><dt>chrGFP_rs_R882H1</dt><dd>455</dd><dt>chrGFP_rs_R882H2</dt><dd>273</dd><dt>chrGFP_rs_R882H3</dt><dd>242</dd><dt>No_GFPbcs</dt><dd>280</dd></dl>\n"
      ],
      "text/latex": [
       "\\begin{description*}\n",
       "\\item[chrGFP\\textbackslash{}\\_WTA] 99\n",
       "\\item[chrGFP\\textbackslash{}\\_WTB] 190\n",
       "\\item[chrGFP\\textbackslash{}\\_WTC] 142\n",
       "\\item[chrGFP\\textbackslash{}\\_rs1] 1493\n",
       "\\item[chrGFP\\textbackslash{}\\_rs2] 7989\n",
       "\\item[chrGFP\\textbackslash{}\\_rs3] 9321\n",
       "\\item[chrGFP\\textbackslash{}\\_R882H1] 344\n",
       "\\item[chrGFP\\textbackslash{}\\_R882H2] 425\n",
       "\\item[chrGFP\\textbackslash{}\\_R882H3] 303\n",
       "\\item[chrGFP\\textbackslash{}\\_rs\\textbackslash{}\\_R882H1] 455\n",
       "\\item[chrGFP\\textbackslash{}\\_rs\\textbackslash{}\\_R882H2] 273\n",
       "\\item[chrGFP\\textbackslash{}\\_rs\\textbackslash{}\\_R882H3] 242\n",
       "\\item[No\\textbackslash{}\\_GFPbcs] 280\n",
       "\\end{description*}\n"
      ],
      "text/markdown": [
       "chrGFP_WTA\n",
       ":   99chrGFP_WTB\n",
       ":   190chrGFP_WTC\n",
       ":   142chrGFP_rs1\n",
       ":   1493chrGFP_rs2\n",
       ":   7989chrGFP_rs3\n",
       ":   9321chrGFP_R882H1\n",
       ":   344chrGFP_R882H2\n",
       ":   425chrGFP_R882H3\n",
       ":   303chrGFP_rs_R882H1\n",
       ":   455chrGFP_rs_R882H2\n",
       ":   273chrGFP_rs_R882H3\n",
       ":   242No_GFPbcs\n",
       ":   280\n",
       "\n"
      ],
      "text/plain": [
       "      chrGFP_WTA       chrGFP_WTB       chrGFP_WTC       chrGFP_rs1 \n",
       "              99              190              142             1493 \n",
       "      chrGFP_rs2       chrGFP_rs3    chrGFP_R882H1    chrGFP_R882H2 \n",
       "            7989             9321              344              425 \n",
       "   chrGFP_R882H3 chrGFP_rs_R882H1 chrGFP_rs_R882H2 chrGFP_rs_R882H3 \n",
       "             303              455              273              242 \n",
       "       No_GFPbcs \n",
       "             280 "
      ]
     },
     "metadata": {},
     "output_type": "display_data"
    }
   ],
   "source": [
    "summary(as.factor(df_thresholded$GFPbc))"
   ]
  },
  {
   "cell_type": "markdown",
   "id": "fcdacdbb-974f-4b89-89f3-afc021d87425",
   "metadata": {},
   "source": [
    "## Add df_thresholded$GFPbc to adata"
   ]
  },
  {
   "cell_type": "code",
   "execution_count": 67,
   "id": "d5d1b6f0-5d31-458f-b010-c21d7fa12e67",
   "metadata": {
    "execution": {
     "iopub.execute_input": "2025-04-23T18:57:30.347360Z",
     "iopub.status.busy": "2025-04-23T18:57:30.346459Z",
     "iopub.status.idle": "2025-04-23T18:57:30.356858Z",
     "shell.execute_reply": "2025-04-23T18:57:30.355807Z"
    }
   },
   "outputs": [
    {
     "data": {
      "text/html": [
       "<style>\n",
       ".list-inline {list-style: none; margin:0; padding: 0}\n",
       ".list-inline>li {display: inline-block}\n",
       ".list-inline>li:not(:last-child)::after {content: \"\\00b7\"; padding: 0 .5ex}\n",
       "</style>\n",
       "<ol class=list-inline><li>'orig.ident'</li><li>'nCount_RNA'</li><li>'nFeature_RNA'</li><li>'percent.mt'</li><li>'nCount_RNA_raw'</li><li>'nFeature_RNA_raw'</li><li>'nCount_ATAC'</li><li>'nFeature_ATAC'</li><li>'gex_raw_reads'</li><li>'gex_mapped_reads'</li><li>'gex_conf_intergenic_reads'</li><li>'gex_conf_exonic_reads'</li><li>'gex_conf_intronic_reads'</li><li>'gex_conf_exonic_unique_reads'</li><li>'gex_conf_exonic_antisense_reads'</li><li>'gex_conf_exonic_dup_reads'</li><li>'gex_exonic_umis'</li><li>'gex_conf_intronic_unique_reads'</li><li>'gex_conf_intronic_antisense_reads'</li><li>'gex_conf_intronic_dup_reads'</li><li>'gex_intronic_umis'</li><li>'gex_conf_txomic_unique_reads'</li><li>'gex_umis_count'</li><li>'gex_genes_count'</li><li>'atac_raw_reads'</li><li>'atac_unmapped_reads'</li><li>'atac_lowmapq'</li><li>'atac_dup_reads'</li><li>'atac_chimeric_reads'</li><li>'atac_mitochondrial_reads'</li><li>'atac_fragments'</li><li>'atac_TSS_fragments'</li><li>'atac_peak_region_fragments'</li><li>'atac_peak_region_cutsites'</li><li>'TSS.enrichment'</li><li>'TSS.percentile'</li><li>'scDblFinder.class'</li><li>'scDblFinder.score'</li><li>'scDblFinder.weighted'</li><li>'scDblFinder.cxds_score'</li><li>'scDblFinder.class_atac'</li><li>'scDblFinder.score_atac'</li><li>'scDblFinder.weighted_atac'</li><li>'scDblFinder.cxds_score_atac'</li><li>'No_assigned_GFPbc'</li><li>'Assigned_GFPbc'</li><li>'Assigned_GFPgenotype'</li><li>'DBL_comb'</li><li>'amulet_nFrags'</li><li>'amulet_uniqFrags'</li><li>'amulet_nAbove2'</li><li>'amulet_total.nAbove2'</li><li>'amulet_p.value'</li><li>'amulet_q.value'</li><li>'doublet_amulet'</li><li>'nCount_SCT'</li><li>'nFeature_SCT'</li><li>'SCT.weight'</li><li>'ATAC.weight'</li><li>'wsnn_res.0.2'</li><li>'seurat_clusters'</li><li>'Diff'</li><li>'doublet'</li><li>'wsnn_res.2'</li><li>'CellTypist_label_Alsinet'</li><li>'CellTypist_conf_score_Alsinet'</li><li>'CellTypist_label_FBMA'</li><li>'CellTypist_conf_score_FBMA'</li><li>'CellTypist_label_Immune_ALL_low'</li><li>'CellTypist_conf_score_Immune_ALL_low'</li><li>'Integrated_annotation'</li><li>'integrated_nn_res.0.5'</li><li>'Assignation_demux_NO_CellBender'</li><li>'Assigned_GFPbc_demux__NO_CellBender'</li><li>'Assignation_demux_CellBender'</li><li>'Assigned_GFPbc_demux_CellBender'</li></ol>\n"
      ],
      "text/latex": [
       "\\begin{enumerate*}\n",
       "\\item 'orig.ident'\n",
       "\\item 'nCount\\_RNA'\n",
       "\\item 'nFeature\\_RNA'\n",
       "\\item 'percent.mt'\n",
       "\\item 'nCount\\_RNA\\_raw'\n",
       "\\item 'nFeature\\_RNA\\_raw'\n",
       "\\item 'nCount\\_ATAC'\n",
       "\\item 'nFeature\\_ATAC'\n",
       "\\item 'gex\\_raw\\_reads'\n",
       "\\item 'gex\\_mapped\\_reads'\n",
       "\\item 'gex\\_conf\\_intergenic\\_reads'\n",
       "\\item 'gex\\_conf\\_exonic\\_reads'\n",
       "\\item 'gex\\_conf\\_intronic\\_reads'\n",
       "\\item 'gex\\_conf\\_exonic\\_unique\\_reads'\n",
       "\\item 'gex\\_conf\\_exonic\\_antisense\\_reads'\n",
       "\\item 'gex\\_conf\\_exonic\\_dup\\_reads'\n",
       "\\item 'gex\\_exonic\\_umis'\n",
       "\\item 'gex\\_conf\\_intronic\\_unique\\_reads'\n",
       "\\item 'gex\\_conf\\_intronic\\_antisense\\_reads'\n",
       "\\item 'gex\\_conf\\_intronic\\_dup\\_reads'\n",
       "\\item 'gex\\_intronic\\_umis'\n",
       "\\item 'gex\\_conf\\_txomic\\_unique\\_reads'\n",
       "\\item 'gex\\_umis\\_count'\n",
       "\\item 'gex\\_genes\\_count'\n",
       "\\item 'atac\\_raw\\_reads'\n",
       "\\item 'atac\\_unmapped\\_reads'\n",
       "\\item 'atac\\_lowmapq'\n",
       "\\item 'atac\\_dup\\_reads'\n",
       "\\item 'atac\\_chimeric\\_reads'\n",
       "\\item 'atac\\_mitochondrial\\_reads'\n",
       "\\item 'atac\\_fragments'\n",
       "\\item 'atac\\_TSS\\_fragments'\n",
       "\\item 'atac\\_peak\\_region\\_fragments'\n",
       "\\item 'atac\\_peak\\_region\\_cutsites'\n",
       "\\item 'TSS.enrichment'\n",
       "\\item 'TSS.percentile'\n",
       "\\item 'scDblFinder.class'\n",
       "\\item 'scDblFinder.score'\n",
       "\\item 'scDblFinder.weighted'\n",
       "\\item 'scDblFinder.cxds\\_score'\n",
       "\\item 'scDblFinder.class\\_atac'\n",
       "\\item 'scDblFinder.score\\_atac'\n",
       "\\item 'scDblFinder.weighted\\_atac'\n",
       "\\item 'scDblFinder.cxds\\_score\\_atac'\n",
       "\\item 'No\\_assigned\\_GFPbc'\n",
       "\\item 'Assigned\\_GFPbc'\n",
       "\\item 'Assigned\\_GFPgenotype'\n",
       "\\item 'DBL\\_comb'\n",
       "\\item 'amulet\\_nFrags'\n",
       "\\item 'amulet\\_uniqFrags'\n",
       "\\item 'amulet\\_nAbove2'\n",
       "\\item 'amulet\\_total.nAbove2'\n",
       "\\item 'amulet\\_p.value'\n",
       "\\item 'amulet\\_q.value'\n",
       "\\item 'doublet\\_amulet'\n",
       "\\item 'nCount\\_SCT'\n",
       "\\item 'nFeature\\_SCT'\n",
       "\\item 'SCT.weight'\n",
       "\\item 'ATAC.weight'\n",
       "\\item 'wsnn\\_res.0.2'\n",
       "\\item 'seurat\\_clusters'\n",
       "\\item 'Diff'\n",
       "\\item 'doublet'\n",
       "\\item 'wsnn\\_res.2'\n",
       "\\item 'CellTypist\\_label\\_Alsinet'\n",
       "\\item 'CellTypist\\_conf\\_score\\_Alsinet'\n",
       "\\item 'CellTypist\\_label\\_FBMA'\n",
       "\\item 'CellTypist\\_conf\\_score\\_FBMA'\n",
       "\\item 'CellTypist\\_label\\_Immune\\_ALL\\_low'\n",
       "\\item 'CellTypist\\_conf\\_score\\_Immune\\_ALL\\_low'\n",
       "\\item 'Integrated\\_annotation'\n",
       "\\item 'integrated\\_nn\\_res.0.5'\n",
       "\\item 'Assignation\\_demux\\_NO\\_CellBender'\n",
       "\\item 'Assigned\\_GFPbc\\_demux\\_\\_NO\\_CellBender'\n",
       "\\item 'Assignation\\_demux\\_CellBender'\n",
       "\\item 'Assigned\\_GFPbc\\_demux\\_CellBender'\n",
       "\\end{enumerate*}\n"
      ],
      "text/markdown": [
       "1. 'orig.ident'\n",
       "2. 'nCount_RNA'\n",
       "3. 'nFeature_RNA'\n",
       "4. 'percent.mt'\n",
       "5. 'nCount_RNA_raw'\n",
       "6. 'nFeature_RNA_raw'\n",
       "7. 'nCount_ATAC'\n",
       "8. 'nFeature_ATAC'\n",
       "9. 'gex_raw_reads'\n",
       "10. 'gex_mapped_reads'\n",
       "11. 'gex_conf_intergenic_reads'\n",
       "12. 'gex_conf_exonic_reads'\n",
       "13. 'gex_conf_intronic_reads'\n",
       "14. 'gex_conf_exonic_unique_reads'\n",
       "15. 'gex_conf_exonic_antisense_reads'\n",
       "16. 'gex_conf_exonic_dup_reads'\n",
       "17. 'gex_exonic_umis'\n",
       "18. 'gex_conf_intronic_unique_reads'\n",
       "19. 'gex_conf_intronic_antisense_reads'\n",
       "20. 'gex_conf_intronic_dup_reads'\n",
       "21. 'gex_intronic_umis'\n",
       "22. 'gex_conf_txomic_unique_reads'\n",
       "23. 'gex_umis_count'\n",
       "24. 'gex_genes_count'\n",
       "25. 'atac_raw_reads'\n",
       "26. 'atac_unmapped_reads'\n",
       "27. 'atac_lowmapq'\n",
       "28. 'atac_dup_reads'\n",
       "29. 'atac_chimeric_reads'\n",
       "30. 'atac_mitochondrial_reads'\n",
       "31. 'atac_fragments'\n",
       "32. 'atac_TSS_fragments'\n",
       "33. 'atac_peak_region_fragments'\n",
       "34. 'atac_peak_region_cutsites'\n",
       "35. 'TSS.enrichment'\n",
       "36. 'TSS.percentile'\n",
       "37. 'scDblFinder.class'\n",
       "38. 'scDblFinder.score'\n",
       "39. 'scDblFinder.weighted'\n",
       "40. 'scDblFinder.cxds_score'\n",
       "41. 'scDblFinder.class_atac'\n",
       "42. 'scDblFinder.score_atac'\n",
       "43. 'scDblFinder.weighted_atac'\n",
       "44. 'scDblFinder.cxds_score_atac'\n",
       "45. 'No_assigned_GFPbc'\n",
       "46. 'Assigned_GFPbc'\n",
       "47. 'Assigned_GFPgenotype'\n",
       "48. 'DBL_comb'\n",
       "49. 'amulet_nFrags'\n",
       "50. 'amulet_uniqFrags'\n",
       "51. 'amulet_nAbove2'\n",
       "52. 'amulet_total.nAbove2'\n",
       "53. 'amulet_p.value'\n",
       "54. 'amulet_q.value'\n",
       "55. 'doublet_amulet'\n",
       "56. 'nCount_SCT'\n",
       "57. 'nFeature_SCT'\n",
       "58. 'SCT.weight'\n",
       "59. 'ATAC.weight'\n",
       "60. 'wsnn_res.0.2'\n",
       "61. 'seurat_clusters'\n",
       "62. 'Diff'\n",
       "63. 'doublet'\n",
       "64. 'wsnn_res.2'\n",
       "65. 'CellTypist_label_Alsinet'\n",
       "66. 'CellTypist_conf_score_Alsinet'\n",
       "67. 'CellTypist_label_FBMA'\n",
       "68. 'CellTypist_conf_score_FBMA'\n",
       "69. 'CellTypist_label_Immune_ALL_low'\n",
       "70. 'CellTypist_conf_score_Immune_ALL_low'\n",
       "71. 'Integrated_annotation'\n",
       "72. 'integrated_nn_res.0.5'\n",
       "73. 'Assignation_demux_NO_CellBender'\n",
       "74. 'Assigned_GFPbc_demux__NO_CellBender'\n",
       "75. 'Assignation_demux_CellBender'\n",
       "76. 'Assigned_GFPbc_demux_CellBender'\n",
       "\n",
       "\n"
      ],
      "text/plain": [
       " [1] \"orig.ident\"                          \n",
       " [2] \"nCount_RNA\"                          \n",
       " [3] \"nFeature_RNA\"                        \n",
       " [4] \"percent.mt\"                          \n",
       " [5] \"nCount_RNA_raw\"                      \n",
       " [6] \"nFeature_RNA_raw\"                    \n",
       " [7] \"nCount_ATAC\"                         \n",
       " [8] \"nFeature_ATAC\"                       \n",
       " [9] \"gex_raw_reads\"                       \n",
       "[10] \"gex_mapped_reads\"                    \n",
       "[11] \"gex_conf_intergenic_reads\"           \n",
       "[12] \"gex_conf_exonic_reads\"               \n",
       "[13] \"gex_conf_intronic_reads\"             \n",
       "[14] \"gex_conf_exonic_unique_reads\"        \n",
       "[15] \"gex_conf_exonic_antisense_reads\"     \n",
       "[16] \"gex_conf_exonic_dup_reads\"           \n",
       "[17] \"gex_exonic_umis\"                     \n",
       "[18] \"gex_conf_intronic_unique_reads\"      \n",
       "[19] \"gex_conf_intronic_antisense_reads\"   \n",
       "[20] \"gex_conf_intronic_dup_reads\"         \n",
       "[21] \"gex_intronic_umis\"                   \n",
       "[22] \"gex_conf_txomic_unique_reads\"        \n",
       "[23] \"gex_umis_count\"                      \n",
       "[24] \"gex_genes_count\"                     \n",
       "[25] \"atac_raw_reads\"                      \n",
       "[26] \"atac_unmapped_reads\"                 \n",
       "[27] \"atac_lowmapq\"                        \n",
       "[28] \"atac_dup_reads\"                      \n",
       "[29] \"atac_chimeric_reads\"                 \n",
       "[30] \"atac_mitochondrial_reads\"            \n",
       "[31] \"atac_fragments\"                      \n",
       "[32] \"atac_TSS_fragments\"                  \n",
       "[33] \"atac_peak_region_fragments\"          \n",
       "[34] \"atac_peak_region_cutsites\"           \n",
       "[35] \"TSS.enrichment\"                      \n",
       "[36] \"TSS.percentile\"                      \n",
       "[37] \"scDblFinder.class\"                   \n",
       "[38] \"scDblFinder.score\"                   \n",
       "[39] \"scDblFinder.weighted\"                \n",
       "[40] \"scDblFinder.cxds_score\"              \n",
       "[41] \"scDblFinder.class_atac\"              \n",
       "[42] \"scDblFinder.score_atac\"              \n",
       "[43] \"scDblFinder.weighted_atac\"           \n",
       "[44] \"scDblFinder.cxds_score_atac\"         \n",
       "[45] \"No_assigned_GFPbc\"                   \n",
       "[46] \"Assigned_GFPbc\"                      \n",
       "[47] \"Assigned_GFPgenotype\"                \n",
       "[48] \"DBL_comb\"                            \n",
       "[49] \"amulet_nFrags\"                       \n",
       "[50] \"amulet_uniqFrags\"                    \n",
       "[51] \"amulet_nAbove2\"                      \n",
       "[52] \"amulet_total.nAbove2\"                \n",
       "[53] \"amulet_p.value\"                      \n",
       "[54] \"amulet_q.value\"                      \n",
       "[55] \"doublet_amulet\"                      \n",
       "[56] \"nCount_SCT\"                          \n",
       "[57] \"nFeature_SCT\"                        \n",
       "[58] \"SCT.weight\"                          \n",
       "[59] \"ATAC.weight\"                         \n",
       "[60] \"wsnn_res.0.2\"                        \n",
       "[61] \"seurat_clusters\"                     \n",
       "[62] \"Diff\"                                \n",
       "[63] \"doublet\"                             \n",
       "[64] \"wsnn_res.2\"                          \n",
       "[65] \"CellTypist_label_Alsinet\"            \n",
       "[66] \"CellTypist_conf_score_Alsinet\"       \n",
       "[67] \"CellTypist_label_FBMA\"               \n",
       "[68] \"CellTypist_conf_score_FBMA\"          \n",
       "[69] \"CellTypist_label_Immune_ALL_low\"     \n",
       "[70] \"CellTypist_conf_score_Immune_ALL_low\"\n",
       "[71] \"Integrated_annotation\"               \n",
       "[72] \"integrated_nn_res.0.5\"               \n",
       "[73] \"Assignation_demux_NO_CellBender\"     \n",
       "[74] \"Assigned_GFPbc_demux__NO_CellBender\" \n",
       "[75] \"Assignation_demux_CellBender\"        \n",
       "[76] \"Assigned_GFPbc_demux_CellBender\"     "
      ]
     },
     "metadata": {},
     "output_type": "display_data"
    }
   ],
   "source": [
    "colnames(adata@meta.data)"
   ]
  },
  {
   "cell_type": "code",
   "execution_count": 68,
   "id": "afdbd880-f1f7-4b32-b1d1-eb0d7fd4d789",
   "metadata": {
    "execution": {
     "iopub.execute_input": "2025-04-23T18:57:30.359485Z",
     "iopub.status.busy": "2025-04-23T18:57:30.358585Z",
     "iopub.status.idle": "2025-04-23T18:57:30.366583Z",
     "shell.execute_reply": "2025-04-23T18:57:30.365569Z"
    }
   },
   "outputs": [],
   "source": [
    "# Remove the specified column from the metadata\n",
    "adata@meta.data <- adata@meta.data[, !names(adata@meta.data) %in% c('No_assigned_GFPbc','Assigned_GFPbc','Assigned_GFPgenotype','Assignation_GEX_not_amplified')]"
   ]
  },
  {
   "cell_type": "code",
   "execution_count": 69,
   "id": "10238818-b2a2-468a-9ff6-6709f30feb56",
   "metadata": {
    "execution": {
     "iopub.execute_input": "2025-04-23T18:57:30.369187Z",
     "iopub.status.busy": "2025-04-23T18:57:30.368287Z",
     "iopub.status.idle": "2025-04-23T18:57:30.378523Z",
     "shell.execute_reply": "2025-04-23T18:57:30.377436Z"
    }
   },
   "outputs": [
    {
     "data": {
      "text/html": [
       "<style>\n",
       ".list-inline {list-style: none; margin:0; padding: 0}\n",
       ".list-inline>li {display: inline-block}\n",
       ".list-inline>li:not(:last-child)::after {content: \"\\00b7\"; padding: 0 .5ex}\n",
       "</style>\n",
       "<ol class=list-inline><li>'orig.ident'</li><li>'nCount_RNA'</li><li>'nFeature_RNA'</li><li>'percent.mt'</li><li>'nCount_RNA_raw'</li><li>'nFeature_RNA_raw'</li><li>'nCount_ATAC'</li><li>'nFeature_ATAC'</li><li>'gex_raw_reads'</li><li>'gex_mapped_reads'</li><li>'gex_conf_intergenic_reads'</li><li>'gex_conf_exonic_reads'</li><li>'gex_conf_intronic_reads'</li><li>'gex_conf_exonic_unique_reads'</li><li>'gex_conf_exonic_antisense_reads'</li><li>'gex_conf_exonic_dup_reads'</li><li>'gex_exonic_umis'</li><li>'gex_conf_intronic_unique_reads'</li><li>'gex_conf_intronic_antisense_reads'</li><li>'gex_conf_intronic_dup_reads'</li><li>'gex_intronic_umis'</li><li>'gex_conf_txomic_unique_reads'</li><li>'gex_umis_count'</li><li>'gex_genes_count'</li><li>'atac_raw_reads'</li><li>'atac_unmapped_reads'</li><li>'atac_lowmapq'</li><li>'atac_dup_reads'</li><li>'atac_chimeric_reads'</li><li>'atac_mitochondrial_reads'</li><li>'atac_fragments'</li><li>'atac_TSS_fragments'</li><li>'atac_peak_region_fragments'</li><li>'atac_peak_region_cutsites'</li><li>'TSS.enrichment'</li><li>'TSS.percentile'</li><li>'scDblFinder.class'</li><li>'scDblFinder.score'</li><li>'scDblFinder.weighted'</li><li>'scDblFinder.cxds_score'</li><li>'scDblFinder.class_atac'</li><li>'scDblFinder.score_atac'</li><li>'scDblFinder.weighted_atac'</li><li>'scDblFinder.cxds_score_atac'</li><li>'DBL_comb'</li><li>'amulet_nFrags'</li><li>'amulet_uniqFrags'</li><li>'amulet_nAbove2'</li><li>'amulet_total.nAbove2'</li><li>'amulet_p.value'</li><li>'amulet_q.value'</li><li>'doublet_amulet'</li><li>'nCount_SCT'</li><li>'nFeature_SCT'</li><li>'SCT.weight'</li><li>'ATAC.weight'</li><li>'wsnn_res.0.2'</li><li>'seurat_clusters'</li><li>'Diff'</li><li>'doublet'</li><li>'wsnn_res.2'</li><li>'CellTypist_label_Alsinet'</li><li>'CellTypist_conf_score_Alsinet'</li><li>'CellTypist_label_FBMA'</li><li>'CellTypist_conf_score_FBMA'</li><li>'CellTypist_label_Immune_ALL_low'</li><li>'CellTypist_conf_score_Immune_ALL_low'</li><li>'Integrated_annotation'</li><li>'integrated_nn_res.0.5'</li><li>'Assignation_demux_NO_CellBender'</li><li>'Assigned_GFPbc_demux__NO_CellBender'</li><li>'Assignation_demux_CellBender'</li><li>'Assigned_GFPbc_demux_CellBender'</li></ol>\n"
      ],
      "text/latex": [
       "\\begin{enumerate*}\n",
       "\\item 'orig.ident'\n",
       "\\item 'nCount\\_RNA'\n",
       "\\item 'nFeature\\_RNA'\n",
       "\\item 'percent.mt'\n",
       "\\item 'nCount\\_RNA\\_raw'\n",
       "\\item 'nFeature\\_RNA\\_raw'\n",
       "\\item 'nCount\\_ATAC'\n",
       "\\item 'nFeature\\_ATAC'\n",
       "\\item 'gex\\_raw\\_reads'\n",
       "\\item 'gex\\_mapped\\_reads'\n",
       "\\item 'gex\\_conf\\_intergenic\\_reads'\n",
       "\\item 'gex\\_conf\\_exonic\\_reads'\n",
       "\\item 'gex\\_conf\\_intronic\\_reads'\n",
       "\\item 'gex\\_conf\\_exonic\\_unique\\_reads'\n",
       "\\item 'gex\\_conf\\_exonic\\_antisense\\_reads'\n",
       "\\item 'gex\\_conf\\_exonic\\_dup\\_reads'\n",
       "\\item 'gex\\_exonic\\_umis'\n",
       "\\item 'gex\\_conf\\_intronic\\_unique\\_reads'\n",
       "\\item 'gex\\_conf\\_intronic\\_antisense\\_reads'\n",
       "\\item 'gex\\_conf\\_intronic\\_dup\\_reads'\n",
       "\\item 'gex\\_intronic\\_umis'\n",
       "\\item 'gex\\_conf\\_txomic\\_unique\\_reads'\n",
       "\\item 'gex\\_umis\\_count'\n",
       "\\item 'gex\\_genes\\_count'\n",
       "\\item 'atac\\_raw\\_reads'\n",
       "\\item 'atac\\_unmapped\\_reads'\n",
       "\\item 'atac\\_lowmapq'\n",
       "\\item 'atac\\_dup\\_reads'\n",
       "\\item 'atac\\_chimeric\\_reads'\n",
       "\\item 'atac\\_mitochondrial\\_reads'\n",
       "\\item 'atac\\_fragments'\n",
       "\\item 'atac\\_TSS\\_fragments'\n",
       "\\item 'atac\\_peak\\_region\\_fragments'\n",
       "\\item 'atac\\_peak\\_region\\_cutsites'\n",
       "\\item 'TSS.enrichment'\n",
       "\\item 'TSS.percentile'\n",
       "\\item 'scDblFinder.class'\n",
       "\\item 'scDblFinder.score'\n",
       "\\item 'scDblFinder.weighted'\n",
       "\\item 'scDblFinder.cxds\\_score'\n",
       "\\item 'scDblFinder.class\\_atac'\n",
       "\\item 'scDblFinder.score\\_atac'\n",
       "\\item 'scDblFinder.weighted\\_atac'\n",
       "\\item 'scDblFinder.cxds\\_score\\_atac'\n",
       "\\item 'DBL\\_comb'\n",
       "\\item 'amulet\\_nFrags'\n",
       "\\item 'amulet\\_uniqFrags'\n",
       "\\item 'amulet\\_nAbove2'\n",
       "\\item 'amulet\\_total.nAbove2'\n",
       "\\item 'amulet\\_p.value'\n",
       "\\item 'amulet\\_q.value'\n",
       "\\item 'doublet\\_amulet'\n",
       "\\item 'nCount\\_SCT'\n",
       "\\item 'nFeature\\_SCT'\n",
       "\\item 'SCT.weight'\n",
       "\\item 'ATAC.weight'\n",
       "\\item 'wsnn\\_res.0.2'\n",
       "\\item 'seurat\\_clusters'\n",
       "\\item 'Diff'\n",
       "\\item 'doublet'\n",
       "\\item 'wsnn\\_res.2'\n",
       "\\item 'CellTypist\\_label\\_Alsinet'\n",
       "\\item 'CellTypist\\_conf\\_score\\_Alsinet'\n",
       "\\item 'CellTypist\\_label\\_FBMA'\n",
       "\\item 'CellTypist\\_conf\\_score\\_FBMA'\n",
       "\\item 'CellTypist\\_label\\_Immune\\_ALL\\_low'\n",
       "\\item 'CellTypist\\_conf\\_score\\_Immune\\_ALL\\_low'\n",
       "\\item 'Integrated\\_annotation'\n",
       "\\item 'integrated\\_nn\\_res.0.5'\n",
       "\\item 'Assignation\\_demux\\_NO\\_CellBender'\n",
       "\\item 'Assigned\\_GFPbc\\_demux\\_\\_NO\\_CellBender'\n",
       "\\item 'Assignation\\_demux\\_CellBender'\n",
       "\\item 'Assigned\\_GFPbc\\_demux\\_CellBender'\n",
       "\\end{enumerate*}\n"
      ],
      "text/markdown": [
       "1. 'orig.ident'\n",
       "2. 'nCount_RNA'\n",
       "3. 'nFeature_RNA'\n",
       "4. 'percent.mt'\n",
       "5. 'nCount_RNA_raw'\n",
       "6. 'nFeature_RNA_raw'\n",
       "7. 'nCount_ATAC'\n",
       "8. 'nFeature_ATAC'\n",
       "9. 'gex_raw_reads'\n",
       "10. 'gex_mapped_reads'\n",
       "11. 'gex_conf_intergenic_reads'\n",
       "12. 'gex_conf_exonic_reads'\n",
       "13. 'gex_conf_intronic_reads'\n",
       "14. 'gex_conf_exonic_unique_reads'\n",
       "15. 'gex_conf_exonic_antisense_reads'\n",
       "16. 'gex_conf_exonic_dup_reads'\n",
       "17. 'gex_exonic_umis'\n",
       "18. 'gex_conf_intronic_unique_reads'\n",
       "19. 'gex_conf_intronic_antisense_reads'\n",
       "20. 'gex_conf_intronic_dup_reads'\n",
       "21. 'gex_intronic_umis'\n",
       "22. 'gex_conf_txomic_unique_reads'\n",
       "23. 'gex_umis_count'\n",
       "24. 'gex_genes_count'\n",
       "25. 'atac_raw_reads'\n",
       "26. 'atac_unmapped_reads'\n",
       "27. 'atac_lowmapq'\n",
       "28. 'atac_dup_reads'\n",
       "29. 'atac_chimeric_reads'\n",
       "30. 'atac_mitochondrial_reads'\n",
       "31. 'atac_fragments'\n",
       "32. 'atac_TSS_fragments'\n",
       "33. 'atac_peak_region_fragments'\n",
       "34. 'atac_peak_region_cutsites'\n",
       "35. 'TSS.enrichment'\n",
       "36. 'TSS.percentile'\n",
       "37. 'scDblFinder.class'\n",
       "38. 'scDblFinder.score'\n",
       "39. 'scDblFinder.weighted'\n",
       "40. 'scDblFinder.cxds_score'\n",
       "41. 'scDblFinder.class_atac'\n",
       "42. 'scDblFinder.score_atac'\n",
       "43. 'scDblFinder.weighted_atac'\n",
       "44. 'scDblFinder.cxds_score_atac'\n",
       "45. 'DBL_comb'\n",
       "46. 'amulet_nFrags'\n",
       "47. 'amulet_uniqFrags'\n",
       "48. 'amulet_nAbove2'\n",
       "49. 'amulet_total.nAbove2'\n",
       "50. 'amulet_p.value'\n",
       "51. 'amulet_q.value'\n",
       "52. 'doublet_amulet'\n",
       "53. 'nCount_SCT'\n",
       "54. 'nFeature_SCT'\n",
       "55. 'SCT.weight'\n",
       "56. 'ATAC.weight'\n",
       "57. 'wsnn_res.0.2'\n",
       "58. 'seurat_clusters'\n",
       "59. 'Diff'\n",
       "60. 'doublet'\n",
       "61. 'wsnn_res.2'\n",
       "62. 'CellTypist_label_Alsinet'\n",
       "63. 'CellTypist_conf_score_Alsinet'\n",
       "64. 'CellTypist_label_FBMA'\n",
       "65. 'CellTypist_conf_score_FBMA'\n",
       "66. 'CellTypist_label_Immune_ALL_low'\n",
       "67. 'CellTypist_conf_score_Immune_ALL_low'\n",
       "68. 'Integrated_annotation'\n",
       "69. 'integrated_nn_res.0.5'\n",
       "70. 'Assignation_demux_NO_CellBender'\n",
       "71. 'Assigned_GFPbc_demux__NO_CellBender'\n",
       "72. 'Assignation_demux_CellBender'\n",
       "73. 'Assigned_GFPbc_demux_CellBender'\n",
       "\n",
       "\n"
      ],
      "text/plain": [
       " [1] \"orig.ident\"                          \n",
       " [2] \"nCount_RNA\"                          \n",
       " [3] \"nFeature_RNA\"                        \n",
       " [4] \"percent.mt\"                          \n",
       " [5] \"nCount_RNA_raw\"                      \n",
       " [6] \"nFeature_RNA_raw\"                    \n",
       " [7] \"nCount_ATAC\"                         \n",
       " [8] \"nFeature_ATAC\"                       \n",
       " [9] \"gex_raw_reads\"                       \n",
       "[10] \"gex_mapped_reads\"                    \n",
       "[11] \"gex_conf_intergenic_reads\"           \n",
       "[12] \"gex_conf_exonic_reads\"               \n",
       "[13] \"gex_conf_intronic_reads\"             \n",
       "[14] \"gex_conf_exonic_unique_reads\"        \n",
       "[15] \"gex_conf_exonic_antisense_reads\"     \n",
       "[16] \"gex_conf_exonic_dup_reads\"           \n",
       "[17] \"gex_exonic_umis\"                     \n",
       "[18] \"gex_conf_intronic_unique_reads\"      \n",
       "[19] \"gex_conf_intronic_antisense_reads\"   \n",
       "[20] \"gex_conf_intronic_dup_reads\"         \n",
       "[21] \"gex_intronic_umis\"                   \n",
       "[22] \"gex_conf_txomic_unique_reads\"        \n",
       "[23] \"gex_umis_count\"                      \n",
       "[24] \"gex_genes_count\"                     \n",
       "[25] \"atac_raw_reads\"                      \n",
       "[26] \"atac_unmapped_reads\"                 \n",
       "[27] \"atac_lowmapq\"                        \n",
       "[28] \"atac_dup_reads\"                      \n",
       "[29] \"atac_chimeric_reads\"                 \n",
       "[30] \"atac_mitochondrial_reads\"            \n",
       "[31] \"atac_fragments\"                      \n",
       "[32] \"atac_TSS_fragments\"                  \n",
       "[33] \"atac_peak_region_fragments\"          \n",
       "[34] \"atac_peak_region_cutsites\"           \n",
       "[35] \"TSS.enrichment\"                      \n",
       "[36] \"TSS.percentile\"                      \n",
       "[37] \"scDblFinder.class\"                   \n",
       "[38] \"scDblFinder.score\"                   \n",
       "[39] \"scDblFinder.weighted\"                \n",
       "[40] \"scDblFinder.cxds_score\"              \n",
       "[41] \"scDblFinder.class_atac\"              \n",
       "[42] \"scDblFinder.score_atac\"              \n",
       "[43] \"scDblFinder.weighted_atac\"           \n",
       "[44] \"scDblFinder.cxds_score_atac\"         \n",
       "[45] \"DBL_comb\"                            \n",
       "[46] \"amulet_nFrags\"                       \n",
       "[47] \"amulet_uniqFrags\"                    \n",
       "[48] \"amulet_nAbove2\"                      \n",
       "[49] \"amulet_total.nAbove2\"                \n",
       "[50] \"amulet_p.value\"                      \n",
       "[51] \"amulet_q.value\"                      \n",
       "[52] \"doublet_amulet\"                      \n",
       "[53] \"nCount_SCT\"                          \n",
       "[54] \"nFeature_SCT\"                        \n",
       "[55] \"SCT.weight\"                          \n",
       "[56] \"ATAC.weight\"                         \n",
       "[57] \"wsnn_res.0.2\"                        \n",
       "[58] \"seurat_clusters\"                     \n",
       "[59] \"Diff\"                                \n",
       "[60] \"doublet\"                             \n",
       "[61] \"wsnn_res.2\"                          \n",
       "[62] \"CellTypist_label_Alsinet\"            \n",
       "[63] \"CellTypist_conf_score_Alsinet\"       \n",
       "[64] \"CellTypist_label_FBMA\"               \n",
       "[65] \"CellTypist_conf_score_FBMA\"          \n",
       "[66] \"CellTypist_label_Immune_ALL_low\"     \n",
       "[67] \"CellTypist_conf_score_Immune_ALL_low\"\n",
       "[68] \"Integrated_annotation\"               \n",
       "[69] \"integrated_nn_res.0.5\"               \n",
       "[70] \"Assignation_demux_NO_CellBender\"     \n",
       "[71] \"Assigned_GFPbc_demux__NO_CellBender\" \n",
       "[72] \"Assignation_demux_CellBender\"        \n",
       "[73] \"Assigned_GFPbc_demux_CellBender\"     "
      ]
     },
     "metadata": {},
     "output_type": "display_data"
    }
   ],
   "source": [
    "colnames(adata@meta.data)"
   ]
  },
  {
   "cell_type": "code",
   "execution_count": 70,
   "id": "2ee3292f-3098-4014-aa03-f925da329283",
   "metadata": {
    "execution": {
     "iopub.execute_input": "2025-04-23T18:57:30.381082Z",
     "iopub.status.busy": "2025-04-23T18:57:30.380182Z",
     "iopub.status.idle": "2025-04-23T18:57:30.395478Z",
     "shell.execute_reply": "2025-04-23T18:57:30.394427Z"
    }
   },
   "outputs": [
    {
     "name": "stdout",
     "output_type": "stream",
     "text": [
      "'data.frame':\t21556 obs. of  6 variables:\n",
      " $ sample           : Ord.factor w/ 8 levels \"MCO_01326\"<\"MCO_01327\"<..: 1 1 1 1 1 1 1 1 1 1 ...\n",
      " $ CellBC           : chr  \"CB:Z:AGTAATGCATTGCAGC-1\" \"CB:Z:CTAGCTTGTGAGCGAA-1\" \"CB:Z:CTTACCGGTAAAGCGG-1\" \"CB:Z:CTTACTAGTCTTTATG-1\" ...\n",
      " $ GFPbc            : Ord.factor w/ 13 levels \"chrGFP_WTA\"<\"chrGFP_WTB\"<..: 1 1 1 1 1 1 2 2 2 2 ...\n",
      " $ GFPbc_attribution: int  1 1 1 1 1 1 1 1 1 1 ...\n",
      " $ Number_of_UMIS   : int  3 3 3 3 4 6 3 12 5 5 ...\n",
      " $ CellID           : chr  \"MCO_01326_AGTAATGCATTGCAGC-1\" \"MCO_01326_CTAGCTTGTGAGCGAA-1\" \"MCO_01326_CTTACCGGTAAAGCGG-1\" \"MCO_01326_CTTACTAGTCTTTATG-1\" ...\n"
     ]
    },
    {
     "data": {
      "text/html": [
       "<style>\n",
       ".dl-inline {width: auto; margin:0; padding: 0}\n",
       ".dl-inline>dt, .dl-inline>dd {float: none; width: auto; display: inline-block}\n",
       ".dl-inline>dt::after {content: \":\\0020\"; padding-right: .5ex}\n",
       ".dl-inline>dt:not(:first-of-type) {padding-left: .5ex}\n",
       "</style><dl class=dl-inline><dt>chrGFP_WTA</dt><dd>99</dd><dt>chrGFP_WTB</dt><dd>190</dd><dt>chrGFP_WTC</dt><dd>142</dd><dt>chrGFP_rs1</dt><dd>1493</dd><dt>chrGFP_rs2</dt><dd>7989</dd><dt>chrGFP_rs3</dt><dd>9321</dd><dt>chrGFP_R882H1</dt><dd>344</dd><dt>chrGFP_R882H2</dt><dd>425</dd><dt>chrGFP_R882H3</dt><dd>303</dd><dt>chrGFP_rs_R882H1</dt><dd>455</dd><dt>chrGFP_rs_R882H2</dt><dd>273</dd><dt>chrGFP_rs_R882H3</dt><dd>242</dd><dt>No_GFPbcs</dt><dd>280</dd></dl>\n"
      ],
      "text/latex": [
       "\\begin{description*}\n",
       "\\item[chrGFP\\textbackslash{}\\_WTA] 99\n",
       "\\item[chrGFP\\textbackslash{}\\_WTB] 190\n",
       "\\item[chrGFP\\textbackslash{}\\_WTC] 142\n",
       "\\item[chrGFP\\textbackslash{}\\_rs1] 1493\n",
       "\\item[chrGFP\\textbackslash{}\\_rs2] 7989\n",
       "\\item[chrGFP\\textbackslash{}\\_rs3] 9321\n",
       "\\item[chrGFP\\textbackslash{}\\_R882H1] 344\n",
       "\\item[chrGFP\\textbackslash{}\\_R882H2] 425\n",
       "\\item[chrGFP\\textbackslash{}\\_R882H3] 303\n",
       "\\item[chrGFP\\textbackslash{}\\_rs\\textbackslash{}\\_R882H1] 455\n",
       "\\item[chrGFP\\textbackslash{}\\_rs\\textbackslash{}\\_R882H2] 273\n",
       "\\item[chrGFP\\textbackslash{}\\_rs\\textbackslash{}\\_R882H3] 242\n",
       "\\item[No\\textbackslash{}\\_GFPbcs] 280\n",
       "\\end{description*}\n"
      ],
      "text/markdown": [
       "chrGFP_WTA\n",
       ":   99chrGFP_WTB\n",
       ":   190chrGFP_WTC\n",
       ":   142chrGFP_rs1\n",
       ":   1493chrGFP_rs2\n",
       ":   7989chrGFP_rs3\n",
       ":   9321chrGFP_R882H1\n",
       ":   344chrGFP_R882H2\n",
       ":   425chrGFP_R882H3\n",
       ":   303chrGFP_rs_R882H1\n",
       ":   455chrGFP_rs_R882H2\n",
       ":   273chrGFP_rs_R882H3\n",
       ":   242No_GFPbcs\n",
       ":   280\n",
       "\n"
      ],
      "text/plain": [
       "      chrGFP_WTA       chrGFP_WTB       chrGFP_WTC       chrGFP_rs1 \n",
       "              99              190              142             1493 \n",
       "      chrGFP_rs2       chrGFP_rs3    chrGFP_R882H1    chrGFP_R882H2 \n",
       "            7989             9321              344              425 \n",
       "   chrGFP_R882H3 chrGFP_rs_R882H1 chrGFP_rs_R882H2 chrGFP_rs_R882H3 \n",
       "             303              455              273              242 \n",
       "       No_GFPbcs \n",
       "             280 "
      ]
     },
     "metadata": {},
     "output_type": "display_data"
    }
   ],
   "source": [
    "str(df_thresholded)\n",
    "summary(as.factor(df_thresholded$GFPbc))"
   ]
  },
  {
   "cell_type": "code",
   "execution_count": 71,
   "id": "21a0a513-e47f-40d9-b905-37f62bc6f9ec",
   "metadata": {
    "execution": {
     "iopub.execute_input": "2025-04-23T18:57:30.398070Z",
     "iopub.status.busy": "2025-04-23T18:57:30.397147Z",
     "iopub.status.idle": "2025-04-23T18:57:30.404948Z",
     "shell.execute_reply": "2025-04-23T18:57:30.403902Z"
    }
   },
   "outputs": [],
   "source": [
    "adata@meta.data$Assignation_GEX_not_amplified<-NA"
   ]
  },
  {
   "cell_type": "code",
   "execution_count": 72,
   "id": "57e99af9-564e-4645-a3dc-6a9b64ad5bde",
   "metadata": {
    "execution": {
     "iopub.execute_input": "2025-04-23T18:57:30.407639Z",
     "iopub.status.busy": "2025-04-23T18:57:30.406710Z",
     "iopub.status.idle": "2025-04-23T18:57:30.421946Z",
     "shell.execute_reply": "2025-04-23T18:57:30.420894Z"
    }
   },
   "outputs": [
    {
     "name": "stdout",
     "output_type": "stream",
     "text": [
      "gfp1_0\n",
      " Named chr [1:21556] \"chrGFP_WTA\" \"chrGFP_WTA\" \"chrGFP_WTA\" \"chrGFP_WTA\" ...\n",
      " - attr(*, \"names\")= chr [1:21556] \"MCO_01326_AGTAATGCATTGCAGC-1\" \"MCO_01326_CTAGCTTGTGAGCGAA-1\" \"MCO_01326_CTTACCGGTAAAGCGG-1\" \"MCO_01326_CTTACTAGTCTTTATG-1\" ...\n",
      "\n"
     ]
    }
   ],
   "source": [
    "gfp1      = setNames(as.character(df_thresholded$GFPbc), \n",
    "                       df_thresholded$CellID)\n",
    "  \n",
    "  cat(\"gfp1_0\\n\")\n",
    "  cat(str(gfp1))\n",
    "  cat(\"\\n\")"
   ]
  },
  {
   "cell_type": "code",
   "execution_count": 73,
   "id": "7c65a614-24d8-4832-bbb2-67812748548a",
   "metadata": {
    "execution": {
     "iopub.execute_input": "2025-04-23T18:57:30.424584Z",
     "iopub.status.busy": "2025-04-23T18:57:30.423684Z",
     "iopub.status.idle": "2025-04-23T18:57:30.446432Z",
     "shell.execute_reply": "2025-04-23T18:57:30.445272Z"
    }
   },
   "outputs": [],
   "source": [
    "adata@meta.data$Assignation_GEX_not_amplified = gfp1[rownames(adata@meta.data)]\n"
   ]
  },
  {
   "cell_type": "code",
   "execution_count": 74,
   "id": "5d650228-c71d-444f-a4b2-a55368c456f5",
   "metadata": {
    "execution": {
     "iopub.execute_input": "2025-04-23T18:57:30.449191Z",
     "iopub.status.busy": "2025-04-23T18:57:30.448237Z",
     "iopub.status.idle": "2025-04-23T18:57:30.463128Z",
     "shell.execute_reply": "2025-04-23T18:57:30.462016Z"
    }
   },
   "outputs": [
    {
     "data": {
      "text/html": [
       "<style>\n",
       ".dl-inline {width: auto; margin:0; padding: 0}\n",
       ".dl-inline>dt, .dl-inline>dd {float: none; width: auto; display: inline-block}\n",
       ".dl-inline>dt::after {content: \":\\0020\"; padding-right: .5ex}\n",
       ".dl-inline>dt:not(:first-of-type) {padding-left: .5ex}\n",
       "</style><dl class=dl-inline><dt>chrGFP_R882H1</dt><dd>189</dd><dt>chrGFP_R882H2</dt><dd>302</dd><dt>chrGFP_R882H3</dt><dd>159</dd><dt>chrGFP_rs_R882H1</dt><dd>285</dd><dt>chrGFP_rs_R882H2</dt><dd>186</dd><dt>chrGFP_rs_R882H3</dt><dd>156</dd><dt>chrGFP_rs1</dt><dd>1053</dd><dt>chrGFP_rs2</dt><dd>5050</dd><dt>chrGFP_rs3</dt><dd>5489</dd><dt>chrGFP_WTA</dt><dd>74</dd><dt>chrGFP_WTB</dt><dd>126</dd><dt>chrGFP_WTC</dt><dd>102</dd><dt>NA's</dt><dd>86084</dd></dl>\n"
      ],
      "text/latex": [
       "\\begin{description*}\n",
       "\\item[chrGFP\\textbackslash{}\\_R882H1] 189\n",
       "\\item[chrGFP\\textbackslash{}\\_R882H2] 302\n",
       "\\item[chrGFP\\textbackslash{}\\_R882H3] 159\n",
       "\\item[chrGFP\\textbackslash{}\\_rs\\textbackslash{}\\_R882H1] 285\n",
       "\\item[chrGFP\\textbackslash{}\\_rs\\textbackslash{}\\_R882H2] 186\n",
       "\\item[chrGFP\\textbackslash{}\\_rs\\textbackslash{}\\_R882H3] 156\n",
       "\\item[chrGFP\\textbackslash{}\\_rs1] 1053\n",
       "\\item[chrGFP\\textbackslash{}\\_rs2] 5050\n",
       "\\item[chrGFP\\textbackslash{}\\_rs3] 5489\n",
       "\\item[chrGFP\\textbackslash{}\\_WTA] 74\n",
       "\\item[chrGFP\\textbackslash{}\\_WTB] 126\n",
       "\\item[chrGFP\\textbackslash{}\\_WTC] 102\n",
       "\\item[NA's] 86084\n",
       "\\end{description*}\n"
      ],
      "text/markdown": [
       "chrGFP_R882H1\n",
       ":   189chrGFP_R882H2\n",
       ":   302chrGFP_R882H3\n",
       ":   159chrGFP_rs_R882H1\n",
       ":   285chrGFP_rs_R882H2\n",
       ":   186chrGFP_rs_R882H3\n",
       ":   156chrGFP_rs1\n",
       ":   1053chrGFP_rs2\n",
       ":   5050chrGFP_rs3\n",
       ":   5489chrGFP_WTA\n",
       ":   74chrGFP_WTB\n",
       ":   126chrGFP_WTC\n",
       ":   102NA's\n",
       ":   86084\n",
       "\n"
      ],
      "text/plain": [
       "   chrGFP_R882H1    chrGFP_R882H2    chrGFP_R882H3 chrGFP_rs_R882H1 \n",
       "             189              302              159              285 \n",
       "chrGFP_rs_R882H2 chrGFP_rs_R882H3       chrGFP_rs1       chrGFP_rs2 \n",
       "             186              156             1053             5050 \n",
       "      chrGFP_rs3       chrGFP_WTA       chrGFP_WTB       chrGFP_WTC \n",
       "            5489               74              126              102 \n",
       "            NA's \n",
       "           86084 "
      ]
     },
     "metadata": {},
     "output_type": "display_data"
    }
   ],
   "source": [
    "summary(as.factor(adata@meta.data$Assignation_GEX_not_amplified))"
   ]
  },
  {
   "cell_type": "code",
   "execution_count": 75,
   "id": "8a998ddd-ffe6-436f-98ff-b0c612635dd8",
   "metadata": {
    "execution": {
     "iopub.execute_input": "2025-04-23T18:57:30.465812Z",
     "iopub.status.busy": "2025-04-23T18:57:30.464873Z",
     "iopub.status.idle": "2025-04-23T18:57:30.474331Z",
     "shell.execute_reply": "2025-04-23T18:57:30.473300Z"
    }
   },
   "outputs": [],
   "source": [
    "adata@meta.data$Assignation_GEX_not_amplified<-factor(adata@meta.data$Assignation_GEX_not_amplified,\n",
    "                                       levels = c(\"chrGFP_WTA\",\"chrGFP_WTB\",\"chrGFP_WTC\",\n",
    "                                                  \"chrGFP_rs1\",\"chrGFP_rs2\",\"chrGFP_rs3\",\n",
    "                                                  \"chrGFP_R882H1\",\"chrGFP_R882H2\",\"chrGFP_R882H3\",\n",
    "                                                  \"chrGFP_rs_R882H1\",\"chrGFP_rs_R882H2\",\"chrGFP_rs_R882H3\",\"Doublet\",\"Negative\"),\n",
    "                                       ordered=T)"
   ]
  },
  {
   "cell_type": "code",
   "execution_count": 76,
   "id": "b3d1f01d-ee34-4af7-b10b-1a5bed043a22",
   "metadata": {
    "execution": {
     "iopub.execute_input": "2025-04-23T18:57:30.477165Z",
     "iopub.status.busy": "2025-04-23T18:57:30.476228Z",
     "iopub.status.idle": "2025-04-23T18:57:30.488279Z",
     "shell.execute_reply": "2025-04-23T18:57:30.487173Z"
    }
   },
   "outputs": [
    {
     "data": {
      "text/html": [
       "<style>\n",
       ".dl-inline {width: auto; margin:0; padding: 0}\n",
       ".dl-inline>dt, .dl-inline>dd {float: none; width: auto; display: inline-block}\n",
       ".dl-inline>dt::after {content: \":\\0020\"; padding-right: .5ex}\n",
       ".dl-inline>dt:not(:first-of-type) {padding-left: .5ex}\n",
       "</style><dl class=dl-inline><dt>chrGFP_WTA</dt><dd>74</dd><dt>chrGFP_WTB</dt><dd>126</dd><dt>chrGFP_WTC</dt><dd>102</dd><dt>chrGFP_rs1</dt><dd>1053</dd><dt>chrGFP_rs2</dt><dd>5050</dd><dt>chrGFP_rs3</dt><dd>5489</dd><dt>chrGFP_R882H1</dt><dd>189</dd><dt>chrGFP_R882H2</dt><dd>302</dd><dt>chrGFP_R882H3</dt><dd>159</dd><dt>chrGFP_rs_R882H1</dt><dd>285</dd><dt>chrGFP_rs_R882H2</dt><dd>186</dd><dt>chrGFP_rs_R882H3</dt><dd>156</dd><dt>Doublet</dt><dd>0</dd><dt>Negative</dt><dd>0</dd><dt>NA's</dt><dd>86084</dd></dl>\n"
      ],
      "text/latex": [
       "\\begin{description*}\n",
       "\\item[chrGFP\\textbackslash{}\\_WTA] 74\n",
       "\\item[chrGFP\\textbackslash{}\\_WTB] 126\n",
       "\\item[chrGFP\\textbackslash{}\\_WTC] 102\n",
       "\\item[chrGFP\\textbackslash{}\\_rs1] 1053\n",
       "\\item[chrGFP\\textbackslash{}\\_rs2] 5050\n",
       "\\item[chrGFP\\textbackslash{}\\_rs3] 5489\n",
       "\\item[chrGFP\\textbackslash{}\\_R882H1] 189\n",
       "\\item[chrGFP\\textbackslash{}\\_R882H2] 302\n",
       "\\item[chrGFP\\textbackslash{}\\_R882H3] 159\n",
       "\\item[chrGFP\\textbackslash{}\\_rs\\textbackslash{}\\_R882H1] 285\n",
       "\\item[chrGFP\\textbackslash{}\\_rs\\textbackslash{}\\_R882H2] 186\n",
       "\\item[chrGFP\\textbackslash{}\\_rs\\textbackslash{}\\_R882H3] 156\n",
       "\\item[Doublet] 0\n",
       "\\item[Negative] 0\n",
       "\\item[NA's] 86084\n",
       "\\end{description*}\n"
      ],
      "text/markdown": [
       "chrGFP_WTA\n",
       ":   74chrGFP_WTB\n",
       ":   126chrGFP_WTC\n",
       ":   102chrGFP_rs1\n",
       ":   1053chrGFP_rs2\n",
       ":   5050chrGFP_rs3\n",
       ":   5489chrGFP_R882H1\n",
       ":   189chrGFP_R882H2\n",
       ":   302chrGFP_R882H3\n",
       ":   159chrGFP_rs_R882H1\n",
       ":   285chrGFP_rs_R882H2\n",
       ":   186chrGFP_rs_R882H3\n",
       ":   156Doublet\n",
       ":   0Negative\n",
       ":   0NA's\n",
       ":   86084\n",
       "\n"
      ],
      "text/plain": [
       "      chrGFP_WTA       chrGFP_WTB       chrGFP_WTC       chrGFP_rs1 \n",
       "              74              126              102             1053 \n",
       "      chrGFP_rs2       chrGFP_rs3    chrGFP_R882H1    chrGFP_R882H2 \n",
       "            5050             5489              189              302 \n",
       "   chrGFP_R882H3 chrGFP_rs_R882H1 chrGFP_rs_R882H2 chrGFP_rs_R882H3 \n",
       "             159              285              186              156 \n",
       "         Doublet         Negative             NA's \n",
       "               0                0            86084 "
      ]
     },
     "metadata": {},
     "output_type": "display_data"
    }
   ],
   "source": [
    "summary(as.factor(adata@meta.data$Assignation_GEX_not_amplified))"
   ]
  },
  {
   "cell_type": "code",
   "execution_count": 77,
   "id": "81523f74-2549-4c73-88a9-cfb331386113",
   "metadata": {
    "execution": {
     "iopub.execute_input": "2025-04-23T18:57:30.491037Z",
     "iopub.status.busy": "2025-04-23T18:57:30.490061Z",
     "iopub.status.idle": "2025-04-23T18:57:30.500617Z",
     "shell.execute_reply": "2025-04-23T18:57:30.499530Z"
    }
   },
   "outputs": [
    {
     "data": {
      "text/html": [
       "<style>\n",
       ".list-inline {list-style: none; margin:0; padding: 0}\n",
       ".list-inline>li {display: inline-block}\n",
       ".list-inline>li:not(:last-child)::after {content: \"\\00b7\"; padding: 0 .5ex}\n",
       "</style>\n",
       "<ol class=list-inline><li>'orig.ident'</li><li>'nCount_RNA'</li><li>'nFeature_RNA'</li><li>'percent.mt'</li><li>'nCount_RNA_raw'</li><li>'nFeature_RNA_raw'</li><li>'nCount_ATAC'</li><li>'nFeature_ATAC'</li><li>'gex_raw_reads'</li><li>'gex_mapped_reads'</li><li>'gex_conf_intergenic_reads'</li><li>'gex_conf_exonic_reads'</li><li>'gex_conf_intronic_reads'</li><li>'gex_conf_exonic_unique_reads'</li><li>'gex_conf_exonic_antisense_reads'</li><li>'gex_conf_exonic_dup_reads'</li><li>'gex_exonic_umis'</li><li>'gex_conf_intronic_unique_reads'</li><li>'gex_conf_intronic_antisense_reads'</li><li>'gex_conf_intronic_dup_reads'</li><li>'gex_intronic_umis'</li><li>'gex_conf_txomic_unique_reads'</li><li>'gex_umis_count'</li><li>'gex_genes_count'</li><li>'atac_raw_reads'</li><li>'atac_unmapped_reads'</li><li>'atac_lowmapq'</li><li>'atac_dup_reads'</li><li>'atac_chimeric_reads'</li><li>'atac_mitochondrial_reads'</li><li>'atac_fragments'</li><li>'atac_TSS_fragments'</li><li>'atac_peak_region_fragments'</li><li>'atac_peak_region_cutsites'</li><li>'TSS.enrichment'</li><li>'TSS.percentile'</li><li>'scDblFinder.class'</li><li>'scDblFinder.score'</li><li>'scDblFinder.weighted'</li><li>'scDblFinder.cxds_score'</li><li>'scDblFinder.class_atac'</li><li>'scDblFinder.score_atac'</li><li>'scDblFinder.weighted_atac'</li><li>'scDblFinder.cxds_score_atac'</li><li>'DBL_comb'</li><li>'amulet_nFrags'</li><li>'amulet_uniqFrags'</li><li>'amulet_nAbove2'</li><li>'amulet_total.nAbove2'</li><li>'amulet_p.value'</li><li>'amulet_q.value'</li><li>'doublet_amulet'</li><li>'nCount_SCT'</li><li>'nFeature_SCT'</li><li>'SCT.weight'</li><li>'ATAC.weight'</li><li>'wsnn_res.0.2'</li><li>'seurat_clusters'</li><li>'Diff'</li><li>'doublet'</li><li>'wsnn_res.2'</li><li>'CellTypist_label_Alsinet'</li><li>'CellTypist_conf_score_Alsinet'</li><li>'CellTypist_label_FBMA'</li><li>'CellTypist_conf_score_FBMA'</li><li>'CellTypist_label_Immune_ALL_low'</li><li>'CellTypist_conf_score_Immune_ALL_low'</li><li>'Integrated_annotation'</li><li>'integrated_nn_res.0.5'</li><li>'Assignation_demux_NO_CellBender'</li><li>'Assigned_GFPbc_demux__NO_CellBender'</li><li>'Assignation_demux_CellBender'</li><li>'Assigned_GFPbc_demux_CellBender'</li><li>'Assignation_GEX_not_amplified'</li></ol>\n"
      ],
      "text/latex": [
       "\\begin{enumerate*}\n",
       "\\item 'orig.ident'\n",
       "\\item 'nCount\\_RNA'\n",
       "\\item 'nFeature\\_RNA'\n",
       "\\item 'percent.mt'\n",
       "\\item 'nCount\\_RNA\\_raw'\n",
       "\\item 'nFeature\\_RNA\\_raw'\n",
       "\\item 'nCount\\_ATAC'\n",
       "\\item 'nFeature\\_ATAC'\n",
       "\\item 'gex\\_raw\\_reads'\n",
       "\\item 'gex\\_mapped\\_reads'\n",
       "\\item 'gex\\_conf\\_intergenic\\_reads'\n",
       "\\item 'gex\\_conf\\_exonic\\_reads'\n",
       "\\item 'gex\\_conf\\_intronic\\_reads'\n",
       "\\item 'gex\\_conf\\_exonic\\_unique\\_reads'\n",
       "\\item 'gex\\_conf\\_exonic\\_antisense\\_reads'\n",
       "\\item 'gex\\_conf\\_exonic\\_dup\\_reads'\n",
       "\\item 'gex\\_exonic\\_umis'\n",
       "\\item 'gex\\_conf\\_intronic\\_unique\\_reads'\n",
       "\\item 'gex\\_conf\\_intronic\\_antisense\\_reads'\n",
       "\\item 'gex\\_conf\\_intronic\\_dup\\_reads'\n",
       "\\item 'gex\\_intronic\\_umis'\n",
       "\\item 'gex\\_conf\\_txomic\\_unique\\_reads'\n",
       "\\item 'gex\\_umis\\_count'\n",
       "\\item 'gex\\_genes\\_count'\n",
       "\\item 'atac\\_raw\\_reads'\n",
       "\\item 'atac\\_unmapped\\_reads'\n",
       "\\item 'atac\\_lowmapq'\n",
       "\\item 'atac\\_dup\\_reads'\n",
       "\\item 'atac\\_chimeric\\_reads'\n",
       "\\item 'atac\\_mitochondrial\\_reads'\n",
       "\\item 'atac\\_fragments'\n",
       "\\item 'atac\\_TSS\\_fragments'\n",
       "\\item 'atac\\_peak\\_region\\_fragments'\n",
       "\\item 'atac\\_peak\\_region\\_cutsites'\n",
       "\\item 'TSS.enrichment'\n",
       "\\item 'TSS.percentile'\n",
       "\\item 'scDblFinder.class'\n",
       "\\item 'scDblFinder.score'\n",
       "\\item 'scDblFinder.weighted'\n",
       "\\item 'scDblFinder.cxds\\_score'\n",
       "\\item 'scDblFinder.class\\_atac'\n",
       "\\item 'scDblFinder.score\\_atac'\n",
       "\\item 'scDblFinder.weighted\\_atac'\n",
       "\\item 'scDblFinder.cxds\\_score\\_atac'\n",
       "\\item 'DBL\\_comb'\n",
       "\\item 'amulet\\_nFrags'\n",
       "\\item 'amulet\\_uniqFrags'\n",
       "\\item 'amulet\\_nAbove2'\n",
       "\\item 'amulet\\_total.nAbove2'\n",
       "\\item 'amulet\\_p.value'\n",
       "\\item 'amulet\\_q.value'\n",
       "\\item 'doublet\\_amulet'\n",
       "\\item 'nCount\\_SCT'\n",
       "\\item 'nFeature\\_SCT'\n",
       "\\item 'SCT.weight'\n",
       "\\item 'ATAC.weight'\n",
       "\\item 'wsnn\\_res.0.2'\n",
       "\\item 'seurat\\_clusters'\n",
       "\\item 'Diff'\n",
       "\\item 'doublet'\n",
       "\\item 'wsnn\\_res.2'\n",
       "\\item 'CellTypist\\_label\\_Alsinet'\n",
       "\\item 'CellTypist\\_conf\\_score\\_Alsinet'\n",
       "\\item 'CellTypist\\_label\\_FBMA'\n",
       "\\item 'CellTypist\\_conf\\_score\\_FBMA'\n",
       "\\item 'CellTypist\\_label\\_Immune\\_ALL\\_low'\n",
       "\\item 'CellTypist\\_conf\\_score\\_Immune\\_ALL\\_low'\n",
       "\\item 'Integrated\\_annotation'\n",
       "\\item 'integrated\\_nn\\_res.0.5'\n",
       "\\item 'Assignation\\_demux\\_NO\\_CellBender'\n",
       "\\item 'Assigned\\_GFPbc\\_demux\\_\\_NO\\_CellBender'\n",
       "\\item 'Assignation\\_demux\\_CellBender'\n",
       "\\item 'Assigned\\_GFPbc\\_demux\\_CellBender'\n",
       "\\item 'Assignation\\_GEX\\_not\\_amplified'\n",
       "\\end{enumerate*}\n"
      ],
      "text/markdown": [
       "1. 'orig.ident'\n",
       "2. 'nCount_RNA'\n",
       "3. 'nFeature_RNA'\n",
       "4. 'percent.mt'\n",
       "5. 'nCount_RNA_raw'\n",
       "6. 'nFeature_RNA_raw'\n",
       "7. 'nCount_ATAC'\n",
       "8. 'nFeature_ATAC'\n",
       "9. 'gex_raw_reads'\n",
       "10. 'gex_mapped_reads'\n",
       "11. 'gex_conf_intergenic_reads'\n",
       "12. 'gex_conf_exonic_reads'\n",
       "13. 'gex_conf_intronic_reads'\n",
       "14. 'gex_conf_exonic_unique_reads'\n",
       "15. 'gex_conf_exonic_antisense_reads'\n",
       "16. 'gex_conf_exonic_dup_reads'\n",
       "17. 'gex_exonic_umis'\n",
       "18. 'gex_conf_intronic_unique_reads'\n",
       "19. 'gex_conf_intronic_antisense_reads'\n",
       "20. 'gex_conf_intronic_dup_reads'\n",
       "21. 'gex_intronic_umis'\n",
       "22. 'gex_conf_txomic_unique_reads'\n",
       "23. 'gex_umis_count'\n",
       "24. 'gex_genes_count'\n",
       "25. 'atac_raw_reads'\n",
       "26. 'atac_unmapped_reads'\n",
       "27. 'atac_lowmapq'\n",
       "28. 'atac_dup_reads'\n",
       "29. 'atac_chimeric_reads'\n",
       "30. 'atac_mitochondrial_reads'\n",
       "31. 'atac_fragments'\n",
       "32. 'atac_TSS_fragments'\n",
       "33. 'atac_peak_region_fragments'\n",
       "34. 'atac_peak_region_cutsites'\n",
       "35. 'TSS.enrichment'\n",
       "36. 'TSS.percentile'\n",
       "37. 'scDblFinder.class'\n",
       "38. 'scDblFinder.score'\n",
       "39. 'scDblFinder.weighted'\n",
       "40. 'scDblFinder.cxds_score'\n",
       "41. 'scDblFinder.class_atac'\n",
       "42. 'scDblFinder.score_atac'\n",
       "43. 'scDblFinder.weighted_atac'\n",
       "44. 'scDblFinder.cxds_score_atac'\n",
       "45. 'DBL_comb'\n",
       "46. 'amulet_nFrags'\n",
       "47. 'amulet_uniqFrags'\n",
       "48. 'amulet_nAbove2'\n",
       "49. 'amulet_total.nAbove2'\n",
       "50. 'amulet_p.value'\n",
       "51. 'amulet_q.value'\n",
       "52. 'doublet_amulet'\n",
       "53. 'nCount_SCT'\n",
       "54. 'nFeature_SCT'\n",
       "55. 'SCT.weight'\n",
       "56. 'ATAC.weight'\n",
       "57. 'wsnn_res.0.2'\n",
       "58. 'seurat_clusters'\n",
       "59. 'Diff'\n",
       "60. 'doublet'\n",
       "61. 'wsnn_res.2'\n",
       "62. 'CellTypist_label_Alsinet'\n",
       "63. 'CellTypist_conf_score_Alsinet'\n",
       "64. 'CellTypist_label_FBMA'\n",
       "65. 'CellTypist_conf_score_FBMA'\n",
       "66. 'CellTypist_label_Immune_ALL_low'\n",
       "67. 'CellTypist_conf_score_Immune_ALL_low'\n",
       "68. 'Integrated_annotation'\n",
       "69. 'integrated_nn_res.0.5'\n",
       "70. 'Assignation_demux_NO_CellBender'\n",
       "71. 'Assigned_GFPbc_demux__NO_CellBender'\n",
       "72. 'Assignation_demux_CellBender'\n",
       "73. 'Assigned_GFPbc_demux_CellBender'\n",
       "74. 'Assignation_GEX_not_amplified'\n",
       "\n",
       "\n"
      ],
      "text/plain": [
       " [1] \"orig.ident\"                          \n",
       " [2] \"nCount_RNA\"                          \n",
       " [3] \"nFeature_RNA\"                        \n",
       " [4] \"percent.mt\"                          \n",
       " [5] \"nCount_RNA_raw\"                      \n",
       " [6] \"nFeature_RNA_raw\"                    \n",
       " [7] \"nCount_ATAC\"                         \n",
       " [8] \"nFeature_ATAC\"                       \n",
       " [9] \"gex_raw_reads\"                       \n",
       "[10] \"gex_mapped_reads\"                    \n",
       "[11] \"gex_conf_intergenic_reads\"           \n",
       "[12] \"gex_conf_exonic_reads\"               \n",
       "[13] \"gex_conf_intronic_reads\"             \n",
       "[14] \"gex_conf_exonic_unique_reads\"        \n",
       "[15] \"gex_conf_exonic_antisense_reads\"     \n",
       "[16] \"gex_conf_exonic_dup_reads\"           \n",
       "[17] \"gex_exonic_umis\"                     \n",
       "[18] \"gex_conf_intronic_unique_reads\"      \n",
       "[19] \"gex_conf_intronic_antisense_reads\"   \n",
       "[20] \"gex_conf_intronic_dup_reads\"         \n",
       "[21] \"gex_intronic_umis\"                   \n",
       "[22] \"gex_conf_txomic_unique_reads\"        \n",
       "[23] \"gex_umis_count\"                      \n",
       "[24] \"gex_genes_count\"                     \n",
       "[25] \"atac_raw_reads\"                      \n",
       "[26] \"atac_unmapped_reads\"                 \n",
       "[27] \"atac_lowmapq\"                        \n",
       "[28] \"atac_dup_reads\"                      \n",
       "[29] \"atac_chimeric_reads\"                 \n",
       "[30] \"atac_mitochondrial_reads\"            \n",
       "[31] \"atac_fragments\"                      \n",
       "[32] \"atac_TSS_fragments\"                  \n",
       "[33] \"atac_peak_region_fragments\"          \n",
       "[34] \"atac_peak_region_cutsites\"           \n",
       "[35] \"TSS.enrichment\"                      \n",
       "[36] \"TSS.percentile\"                      \n",
       "[37] \"scDblFinder.class\"                   \n",
       "[38] \"scDblFinder.score\"                   \n",
       "[39] \"scDblFinder.weighted\"                \n",
       "[40] \"scDblFinder.cxds_score\"              \n",
       "[41] \"scDblFinder.class_atac\"              \n",
       "[42] \"scDblFinder.score_atac\"              \n",
       "[43] \"scDblFinder.weighted_atac\"           \n",
       "[44] \"scDblFinder.cxds_score_atac\"         \n",
       "[45] \"DBL_comb\"                            \n",
       "[46] \"amulet_nFrags\"                       \n",
       "[47] \"amulet_uniqFrags\"                    \n",
       "[48] \"amulet_nAbove2\"                      \n",
       "[49] \"amulet_total.nAbove2\"                \n",
       "[50] \"amulet_p.value\"                      \n",
       "[51] \"amulet_q.value\"                      \n",
       "[52] \"doublet_amulet\"                      \n",
       "[53] \"nCount_SCT\"                          \n",
       "[54] \"nFeature_SCT\"                        \n",
       "[55] \"SCT.weight\"                          \n",
       "[56] \"ATAC.weight\"                         \n",
       "[57] \"wsnn_res.0.2\"                        \n",
       "[58] \"seurat_clusters\"                     \n",
       "[59] \"Diff\"                                \n",
       "[60] \"doublet\"                             \n",
       "[61] \"wsnn_res.2\"                          \n",
       "[62] \"CellTypist_label_Alsinet\"            \n",
       "[63] \"CellTypist_conf_score_Alsinet\"       \n",
       "[64] \"CellTypist_label_FBMA\"               \n",
       "[65] \"CellTypist_conf_score_FBMA\"          \n",
       "[66] \"CellTypist_label_Immune_ALL_low\"     \n",
       "[67] \"CellTypist_conf_score_Immune_ALL_low\"\n",
       "[68] \"Integrated_annotation\"               \n",
       "[69] \"integrated_nn_res.0.5\"               \n",
       "[70] \"Assignation_demux_NO_CellBender\"     \n",
       "[71] \"Assigned_GFPbc_demux__NO_CellBender\" \n",
       "[72] \"Assignation_demux_CellBender\"        \n",
       "[73] \"Assigned_GFPbc_demux_CellBender\"     \n",
       "[74] \"Assignation_GEX_not_amplified\"       "
      ]
     },
     "metadata": {},
     "output_type": "display_data"
    }
   ],
   "source": [
    "colnames(adata@meta.data)"
   ]
  },
  {
   "cell_type": "markdown",
   "id": "3d72ad92-fb2e-4f21-8363-1fd08e972443",
   "metadata": {},
   "source": [
    "# Add time_point and factor diff and Integrated_annotation"
   ]
  },
  {
   "cell_type": "code",
   "execution_count": 78,
   "id": "65d76cf0-1215-4197-a0a8-590cf51e6c24",
   "metadata": {
    "execution": {
     "iopub.execute_input": "2025-04-23T18:57:30.503252Z",
     "iopub.status.busy": "2025-04-23T18:57:30.502330Z",
     "iopub.status.idle": "2025-04-23T18:57:30.510055Z",
     "shell.execute_reply": "2025-04-23T18:57:30.509003Z"
    }
   },
   "outputs": [],
   "source": [
    "adata@meta.data$time_point<-NA"
   ]
  },
  {
   "cell_type": "code",
   "execution_count": 79,
   "id": "682a7d3e-2fa0-4599-bd73-5eb5255b5aee",
   "metadata": {
    "execution": {
     "iopub.execute_input": "2025-04-23T18:57:30.512732Z",
     "iopub.status.busy": "2025-04-23T18:57:30.511807Z",
     "iopub.status.idle": "2025-04-23T18:57:30.525549Z",
     "shell.execute_reply": "2025-04-23T18:57:30.524464Z"
    }
   },
   "outputs": [
    {
     "data": {
      "text/html": [
       "<style>\n",
       ".dl-inline {width: auto; margin:0; padding: 0}\n",
       ".dl-inline>dt, .dl-inline>dd {float: none; width: auto; display: inline-block}\n",
       ".dl-inline>dt::after {content: \":\\0020\"; padding-right: .5ex}\n",
       ".dl-inline>dt:not(:first-of-type) {padding-left: .5ex}\n",
       "</style><dl class=dl-inline><dt>MCO_01326</dt><dd>13727</dd><dt>MCO_01327</dt><dd>1502</dd><dt>MCO_01328</dt><dd>11368</dd><dt>MCO_01329</dt><dd>11203</dd><dt>MCO_01330</dt><dd>18055</dd><dt>MCO_01331</dt><dd>22294</dd><dt>MCO_01332</dt><dd>7490</dd><dt>MCO_01333</dt><dd>13616</dd></dl>\n"
      ],
      "text/latex": [
       "\\begin{description*}\n",
       "\\item[MCO\\textbackslash{}\\_01326] 13727\n",
       "\\item[MCO\\textbackslash{}\\_01327] 1502\n",
       "\\item[MCO\\textbackslash{}\\_01328] 11368\n",
       "\\item[MCO\\textbackslash{}\\_01329] 11203\n",
       "\\item[MCO\\textbackslash{}\\_01330] 18055\n",
       "\\item[MCO\\textbackslash{}\\_01331] 22294\n",
       "\\item[MCO\\textbackslash{}\\_01332] 7490\n",
       "\\item[MCO\\textbackslash{}\\_01333] 13616\n",
       "\\end{description*}\n"
      ],
      "text/markdown": [
       "MCO_01326\n",
       ":   13727MCO_01327\n",
       ":   1502MCO_01328\n",
       ":   11368MCO_01329\n",
       ":   11203MCO_01330\n",
       ":   18055MCO_01331\n",
       ":   22294MCO_01332\n",
       ":   7490MCO_01333\n",
       ":   13616\n",
       "\n"
      ],
      "text/plain": [
       "MCO_01326 MCO_01327 MCO_01328 MCO_01329 MCO_01330 MCO_01331 MCO_01332 MCO_01333 \n",
       "    13727      1502     11368     11203     18055     22294      7490     13616 "
      ]
     },
     "metadata": {},
     "output_type": "display_data"
    }
   ],
   "source": [
    "summary(as.factor(adata@meta.data$orig.ident))"
   ]
  },
  {
   "cell_type": "code",
   "execution_count": 80,
   "id": "a11ad84c-613d-435a-b75f-f8205af21873",
   "metadata": {
    "execution": {
     "iopub.execute_input": "2025-04-23T18:57:30.528251Z",
     "iopub.status.busy": "2025-04-23T18:57:30.527306Z",
     "iopub.status.idle": "2025-04-23T18:57:30.550357Z",
     "shell.execute_reply": "2025-04-23T18:57:30.549290Z"
    }
   },
   "outputs": [],
   "source": [
    "adata@meta.data$time_point[which(adata@meta.data$orig.ident == \"MCO_01326\")]<-'0_days'\n",
    "adata@meta.data$time_point[which(adata@meta.data$orig.ident == \"MCO_01327\")]<-'8_days'\n",
    "adata@meta.data$time_point[which(adata@meta.data$orig.ident == \"MCO_01328\")]<-'12_days'\n",
    "adata@meta.data$time_point[which(adata@meta.data$orig.ident == \"MCO_01329\")]<-'15_days'\n",
    "adata@meta.data$time_point[which(adata@meta.data$orig.ident == \"MCO_01330\")]<-'0_days'\n",
    "adata@meta.data$time_point[which(adata@meta.data$orig.ident == \"MCO_01331\")]<-'14_days'\n",
    "adata@meta.data$time_point[which(adata@meta.data$orig.ident == \"MCO_01332\")]<-'28_days'\n",
    "adata@meta.data$time_point[which(adata@meta.data$orig.ident == \"MCO_01333\")]<-'35_days'"
   ]
  },
  {
   "cell_type": "code",
   "execution_count": 81,
   "id": "310ccd5e-d59d-4004-98e9-9738a967dfec",
   "metadata": {
    "execution": {
     "iopub.execute_input": "2025-04-23T18:57:30.553079Z",
     "iopub.status.busy": "2025-04-23T18:57:30.552144Z",
     "iopub.status.idle": "2025-04-23T18:57:30.566940Z",
     "shell.execute_reply": "2025-04-23T18:57:30.565846Z"
    }
   },
   "outputs": [
    {
     "data": {
      "text/html": [
       "<style>\n",
       ".dl-inline {width: auto; margin:0; padding: 0}\n",
       ".dl-inline>dt, .dl-inline>dd {float: none; width: auto; display: inline-block}\n",
       ".dl-inline>dt::after {content: \":\\0020\"; padding-right: .5ex}\n",
       ".dl-inline>dt:not(:first-of-type) {padding-left: .5ex}\n",
       "</style><dl class=dl-inline><dt>0_days</dt><dd>31782</dd><dt>8_days</dt><dd>1502</dd><dt>12_days</dt><dd>11368</dd><dt>14_days</dt><dd>22294</dd><dt>15_days</dt><dd>11203</dd><dt>28_days</dt><dd>7490</dd><dt>35_days</dt><dd>13616</dd></dl>\n"
      ],
      "text/latex": [
       "\\begin{description*}\n",
       "\\item[0\\textbackslash{}\\_days] 31782\n",
       "\\item[8\\textbackslash{}\\_days] 1502\n",
       "\\item[12\\textbackslash{}\\_days] 11368\n",
       "\\item[14\\textbackslash{}\\_days] 22294\n",
       "\\item[15\\textbackslash{}\\_days] 11203\n",
       "\\item[28\\textbackslash{}\\_days] 7490\n",
       "\\item[35\\textbackslash{}\\_days] 13616\n",
       "\\end{description*}\n"
      ],
      "text/markdown": [
       "0_days\n",
       ":   317828_days\n",
       ":   150212_days\n",
       ":   1136814_days\n",
       ":   2229415_days\n",
       ":   1120328_days\n",
       ":   749035_days\n",
       ":   13616\n",
       "\n"
      ],
      "text/plain": [
       " 0_days  8_days 12_days 14_days 15_days 28_days 35_days \n",
       "  31782    1502   11368   22294   11203    7490   13616 "
      ]
     },
     "metadata": {},
     "output_type": "display_data"
    }
   ],
   "source": [
    "adata@meta.data$time_point<-factor(adata@meta.data$time_point,\n",
    "                                       levels = c(\"0_days\",\"8_days\",\"12_days\",\n",
    "                                                  \"14_days\",\"15_days\",\"28_days\",\n",
    "                                                  \"35_days\"),\n",
    "                                       ordered=T)\n",
    "\n",
    "summary(adata@meta.data$time_point)"
   ]
  },
  {
   "cell_type": "code",
   "execution_count": 82,
   "id": "4f273a9b-464a-43e0-9592-47df84e6ffac",
   "metadata": {
    "execution": {
     "iopub.execute_input": "2025-04-23T18:57:30.569675Z",
     "iopub.status.busy": "2025-04-23T18:57:30.568704Z",
     "iopub.status.idle": "2025-04-23T18:57:30.582400Z",
     "shell.execute_reply": "2025-04-23T18:57:30.581299Z"
    }
   },
   "outputs": [
    {
     "data": {
      "text/html": [
       "<style>\n",
       ".dl-inline {width: auto; margin:0; padding: 0}\n",
       ".dl-inline>dt, .dl-inline>dd {float: none; width: auto; display: inline-block}\n",
       ".dl-inline>dt::after {content: \":\\0020\"; padding-right: .5ex}\n",
       ".dl-inline>dt:not(:first-of-type) {padding-left: .5ex}\n",
       "</style><dl class=dl-inline><dt>Diff_lymph</dt><dd>61455</dd><dt>Diff_MK</dt><dd>37800</dd></dl>\n"
      ],
      "text/latex": [
       "\\begin{description*}\n",
       "\\item[Diff\\textbackslash{}\\_lymph] 61455\n",
       "\\item[Diff\\textbackslash{}\\_MK] 37800\n",
       "\\end{description*}\n"
      ],
      "text/markdown": [
       "Diff_lymph\n",
       ":   61455Diff_MK\n",
       ":   37800\n",
       "\n"
      ],
      "text/plain": [
       "Diff_lymph    Diff_MK \n",
       "     61455      37800 "
      ]
     },
     "metadata": {},
     "output_type": "display_data"
    }
   ],
   "source": [
    "summary(as.factor(adata@meta.data$Diff))"
   ]
  },
  {
   "cell_type": "code",
   "execution_count": 83,
   "id": "6cfe71e2-656c-409f-bd47-c5dcb8ee168a",
   "metadata": {
    "execution": {
     "iopub.execute_input": "2025-04-23T18:57:30.585161Z",
     "iopub.status.busy": "2025-04-23T18:57:30.584167Z",
     "iopub.status.idle": "2025-04-23T18:57:30.598065Z",
     "shell.execute_reply": "2025-04-23T18:57:30.596948Z"
    }
   },
   "outputs": [
    {
     "data": {
      "text/html": [
       "<style>\n",
       ".dl-inline {width: auto; margin:0; padding: 0}\n",
       ".dl-inline>dt, .dl-inline>dd {float: none; width: auto; display: inline-block}\n",
       ".dl-inline>dt::after {content: \":\\0020\"; padding-right: .5ex}\n",
       ".dl-inline>dt:not(:first-of-type) {padding-left: .5ex}\n",
       "</style><dl class=dl-inline><dt>Diff_MK</dt><dd>37800</dd><dt>Diff_lymph</dt><dd>61455</dd></dl>\n"
      ],
      "text/latex": [
       "\\begin{description*}\n",
       "\\item[Diff\\textbackslash{}\\_MK] 37800\n",
       "\\item[Diff\\textbackslash{}\\_lymph] 61455\n",
       "\\end{description*}\n"
      ],
      "text/markdown": [
       "Diff_MK\n",
       ":   37800Diff_lymph\n",
       ":   61455\n",
       "\n"
      ],
      "text/plain": [
       "   Diff_MK Diff_lymph \n",
       "     37800      61455 "
      ]
     },
     "metadata": {},
     "output_type": "display_data"
    }
   ],
   "source": [
    "adata@meta.data$Diff<-factor(adata@meta.data$Diff,\n",
    "                                       levels = c(\"Diff_MK\",\"Diff_lymph\"),\n",
    "                                       ordered=T)\n",
    "\n",
    "summary(adata@meta.data$Diff)"
   ]
  },
  {
   "cell_type": "code",
   "execution_count": 84,
   "id": "3972fa23-dbc7-4df4-b0bd-5007b88a0dbc",
   "metadata": {
    "execution": {
     "iopub.execute_input": "2025-04-23T18:57:30.600772Z",
     "iopub.status.busy": "2025-04-23T18:57:30.599815Z",
     "iopub.status.idle": "2025-04-23T18:57:30.614258Z",
     "shell.execute_reply": "2025-04-23T18:57:30.613166Z"
    }
   },
   "outputs": [
    {
     "data": {
      "text/html": [
       "<style>\n",
       ".dl-inline {width: auto; margin:0; padding: 0}\n",
       ".dl-inline>dt, .dl-inline>dd {float: none; width: auto; display: inline-block}\n",
       ".dl-inline>dt::after {content: \":\\0020\"; padding-right: .5ex}\n",
       ".dl-inline>dt:not(:first-of-type) {padding-left: .5ex}\n",
       "</style><dl class=dl-inline><dt>CD16- NK cells</dt><dd>7298</dd><dt>Classical monocytes</dt><dd>624</dd><dt>Double-negative thymocytes</dt><dd>1332</dd><dt>early erythroid</dt><dd>3286</dd><dt>early MK</dt><dd>1324</dd><dt>Epithelial cells</dt><dd>774</dd><dt>Fibroblasts</dt><dd>303</dd><dt>gamma-delta T cells</dt><dd>1258</dd><dt>HemogenicEndothelium</dt><dd>11887</dd><dt>hESC</dt><dd>18863</dd><dt>ILC3</dt><dd>10147</dd><dt>late erythroid</dt><dd>5413</dd><dt>Mast cells</dt><dd>3790</dd><dt>MEP</dt><dd>10056</dd><dt>MK</dt><dd>9671</dd><dt>NK cells</dt><dd>4786</dd><dt>Plasmablasts</dt><dd>526</dd><dt>Regulatory T cells</dt><dd>619</dd><dt>Tem/Effector helper T cells</dt><dd>1170</dd><dt>Type 17 helper T cells</dt><dd>2326</dd><dt>unassigned</dt><dd>3802</dd></dl>\n"
      ],
      "text/latex": [
       "\\begin{description*}\n",
       "\\item[CD16- NK cells] 7298\n",
       "\\item[Classical monocytes] 624\n",
       "\\item[Double-negative thymocytes] 1332\n",
       "\\item[early erythroid] 3286\n",
       "\\item[early MK] 1324\n",
       "\\item[Epithelial cells] 774\n",
       "\\item[Fibroblasts] 303\n",
       "\\item[gamma-delta T cells] 1258\n",
       "\\item[HemogenicEndothelium] 11887\n",
       "\\item[hESC] 18863\n",
       "\\item[ILC3] 10147\n",
       "\\item[late erythroid] 5413\n",
       "\\item[Mast cells] 3790\n",
       "\\item[MEP] 10056\n",
       "\\item[MK] 9671\n",
       "\\item[NK cells] 4786\n",
       "\\item[Plasmablasts] 526\n",
       "\\item[Regulatory T cells] 619\n",
       "\\item[Tem/Effector helper T cells] 1170\n",
       "\\item[Type 17 helper T cells] 2326\n",
       "\\item[unassigned] 3802\n",
       "\\end{description*}\n"
      ],
      "text/markdown": [
       "CD16- NK cells\n",
       ":   7298Classical monocytes\n",
       ":   624Double-negative thymocytes\n",
       ":   1332early erythroid\n",
       ":   3286early MK\n",
       ":   1324Epithelial cells\n",
       ":   774Fibroblasts\n",
       ":   303gamma-delta T cells\n",
       ":   1258HemogenicEndothelium\n",
       ":   11887hESC\n",
       ":   18863ILC3\n",
       ":   10147late erythroid\n",
       ":   5413Mast cells\n",
       ":   3790MEP\n",
       ":   10056MK\n",
       ":   9671NK cells\n",
       ":   4786Plasmablasts\n",
       ":   526Regulatory T cells\n",
       ":   619Tem/Effector helper T cells\n",
       ":   1170Type 17 helper T cells\n",
       ":   2326unassigned\n",
       ":   3802\n",
       "\n"
      ],
      "text/plain": [
       "             CD16- NK cells         Classical monocytes \n",
       "                       7298                         624 \n",
       " Double-negative thymocytes             early erythroid \n",
       "                       1332                        3286 \n",
       "                   early MK            Epithelial cells \n",
       "                       1324                         774 \n",
       "                Fibroblasts         gamma-delta T cells \n",
       "                        303                        1258 \n",
       "       HemogenicEndothelium                        hESC \n",
       "                      11887                       18863 \n",
       "                       ILC3              late erythroid \n",
       "                      10147                        5413 \n",
       "                 Mast cells                         MEP \n",
       "                       3790                       10056 \n",
       "                         MK                    NK cells \n",
       "                       9671                        4786 \n",
       "               Plasmablasts          Regulatory T cells \n",
       "                        526                         619 \n",
       "Tem/Effector helper T cells      Type 17 helper T cells \n",
       "                       1170                        2326 \n",
       "                 unassigned \n",
       "                       3802 "
      ]
     },
     "metadata": {},
     "output_type": "display_data"
    }
   ],
   "source": [
    "summary(as.factor(adata@meta.data$Integrated_annotation))"
   ]
  },
  {
   "cell_type": "code",
   "execution_count": 85,
   "id": "3217d707-36e0-494d-ad55-f74164d93c1c",
   "metadata": {
    "execution": {
     "iopub.execute_input": "2025-04-23T18:57:30.617005Z",
     "iopub.status.busy": "2025-04-23T18:57:30.616040Z",
     "iopub.status.idle": "2025-04-23T18:57:30.630533Z",
     "shell.execute_reply": "2025-04-23T18:57:30.629439Z"
    }
   },
   "outputs": [
    {
     "data": {
      "text/html": [
       "<style>\n",
       ".dl-inline {width: auto; margin:0; padding: 0}\n",
       ".dl-inline>dt, .dl-inline>dd {float: none; width: auto; display: inline-block}\n",
       ".dl-inline>dt::after {content: \":\\0020\"; padding-right: .5ex}\n",
       ".dl-inline>dt:not(:first-of-type) {padding-left: .5ex}\n",
       "</style><dl class=dl-inline><dt>hESC</dt><dd>18863</dd><dt>HemogenicEndothelium</dt><dd>11887</dd><dt>MEP</dt><dd>10056</dd><dt>early erythroid</dt><dd>3286</dd><dt>late erythroid</dt><dd>5413</dd><dt>early MK</dt><dd>1324</dd><dt>MK</dt><dd>9671</dd><dt>Mast cells</dt><dd>3790</dd><dt>Classical monocytes</dt><dd>624</dd><dt>Double-negative thymocytes</dt><dd>1332</dd><dt>gamma-delta T cells</dt><dd>1258</dd><dt>ILC3</dt><dd>10147</dd><dt>Regulatory T cells</dt><dd>619</dd><dt>Tem/Effector helper T cells</dt><dd>1170</dd><dt>Type 17 helper T cells</dt><dd>2326</dd><dt>Plasmablasts</dt><dd>526</dd><dt>NK cells</dt><dd>4786</dd><dt>CD16- NK cells</dt><dd>7298</dd><dt>Epithelial cells</dt><dd>774</dd><dt>Fibroblasts</dt><dd>303</dd><dt>unassigned</dt><dd>3802</dd></dl>\n"
      ],
      "text/latex": [
       "\\begin{description*}\n",
       "\\item[hESC] 18863\n",
       "\\item[HemogenicEndothelium] 11887\n",
       "\\item[MEP] 10056\n",
       "\\item[early erythroid] 3286\n",
       "\\item[late erythroid] 5413\n",
       "\\item[early MK] 1324\n",
       "\\item[MK] 9671\n",
       "\\item[Mast cells] 3790\n",
       "\\item[Classical monocytes] 624\n",
       "\\item[Double-negative thymocytes] 1332\n",
       "\\item[gamma-delta T cells] 1258\n",
       "\\item[ILC3] 10147\n",
       "\\item[Regulatory T cells] 619\n",
       "\\item[Tem/Effector helper T cells] 1170\n",
       "\\item[Type 17 helper T cells] 2326\n",
       "\\item[Plasmablasts] 526\n",
       "\\item[NK cells] 4786\n",
       "\\item[CD16- NK cells] 7298\n",
       "\\item[Epithelial cells] 774\n",
       "\\item[Fibroblasts] 303\n",
       "\\item[unassigned] 3802\n",
       "\\end{description*}\n"
      ],
      "text/markdown": [
       "hESC\n",
       ":   18863HemogenicEndothelium\n",
       ":   11887MEP\n",
       ":   10056early erythroid\n",
       ":   3286late erythroid\n",
       ":   5413early MK\n",
       ":   1324MK\n",
       ":   9671Mast cells\n",
       ":   3790Classical monocytes\n",
       ":   624Double-negative thymocytes\n",
       ":   1332gamma-delta T cells\n",
       ":   1258ILC3\n",
       ":   10147Regulatory T cells\n",
       ":   619Tem/Effector helper T cells\n",
       ":   1170Type 17 helper T cells\n",
       ":   2326Plasmablasts\n",
       ":   526NK cells\n",
       ":   4786CD16- NK cells\n",
       ":   7298Epithelial cells\n",
       ":   774Fibroblasts\n",
       ":   303unassigned\n",
       ":   3802\n",
       "\n"
      ],
      "text/plain": [
       "                       hESC        HemogenicEndothelium \n",
       "                      18863                       11887 \n",
       "                        MEP             early erythroid \n",
       "                      10056                        3286 \n",
       "             late erythroid                    early MK \n",
       "                       5413                        1324 \n",
       "                         MK                  Mast cells \n",
       "                       9671                        3790 \n",
       "        Classical monocytes  Double-negative thymocytes \n",
       "                        624                        1332 \n",
       "        gamma-delta T cells                        ILC3 \n",
       "                       1258                       10147 \n",
       "         Regulatory T cells Tem/Effector helper T cells \n",
       "                        619                        1170 \n",
       "     Type 17 helper T cells                Plasmablasts \n",
       "                       2326                         526 \n",
       "                   NK cells              CD16- NK cells \n",
       "                       4786                        7298 \n",
       "           Epithelial cells                 Fibroblasts \n",
       "                        774                         303 \n",
       "                 unassigned \n",
       "                       3802 "
      ]
     },
     "metadata": {},
     "output_type": "display_data"
    }
   ],
   "source": [
    "test<-factor(adata@meta.data$Integrated_annotation,\n",
    "                                       levels = c(\"hESC\",\"HemogenicEndothelium\",\"MEP\",\"early erythroid\",\"late erythroid\",\n",
    "                                                 \"early MK\",\"MK\",\"Mast cells\",\"Classical monocytes\",\n",
    "                                                 \"Double-negative thymocytes\",\"gamma-delta T cells\",\"ILC3\",\"Regulatory T cells\",\n",
    "                                                 \"Tem/Effector helper T cells\",\"Type 17 helper T cells\",\"Plasmablasts\",\"NK cells\",\"CD16- NK cells\",\n",
    "                                                 \"Epithelial cells\",\"Fibroblasts\",\"unassigned\"),\n",
    "                                       ordered=T)\n",
    "\n",
    "summary(test)"
   ]
  },
  {
   "cell_type": "code",
   "execution_count": 86,
   "id": "102a64d5-c044-4fc5-89fe-129e77cafffb",
   "metadata": {
    "execution": {
     "iopub.execute_input": "2025-04-23T18:57:30.633241Z",
     "iopub.status.busy": "2025-04-23T18:57:30.632274Z",
     "iopub.status.idle": "2025-04-23T18:57:30.646762Z",
     "shell.execute_reply": "2025-04-23T18:57:30.645659Z"
    }
   },
   "outputs": [
    {
     "data": {
      "text/html": [
       "<style>\n",
       ".dl-inline {width: auto; margin:0; padding: 0}\n",
       ".dl-inline>dt, .dl-inline>dd {float: none; width: auto; display: inline-block}\n",
       ".dl-inline>dt::after {content: \":\\0020\"; padding-right: .5ex}\n",
       ".dl-inline>dt:not(:first-of-type) {padding-left: .5ex}\n",
       "</style><dl class=dl-inline><dt>hESC</dt><dd>18863</dd><dt>HemogenicEndothelium</dt><dd>11887</dd><dt>MEP</dt><dd>10056</dd><dt>early erythroid</dt><dd>3286</dd><dt>late erythroid</dt><dd>5413</dd><dt>early MK</dt><dd>1324</dd><dt>MK</dt><dd>9671</dd><dt>Mast cells</dt><dd>3790</dd><dt>Classical monocytes</dt><dd>624</dd><dt>Double-negative thymocytes</dt><dd>1332</dd><dt>gamma-delta T cells</dt><dd>1258</dd><dt>ILC3</dt><dd>10147</dd><dt>Regulatory T cells</dt><dd>619</dd><dt>Tem/Effector helper T cells</dt><dd>1170</dd><dt>Type 17 helper T cells</dt><dd>2326</dd><dt>Plasmablasts</dt><dd>526</dd><dt>NK cells</dt><dd>4786</dd><dt>CD16- NK cells</dt><dd>7298</dd><dt>Epithelial cells</dt><dd>774</dd><dt>Fibroblasts</dt><dd>303</dd><dt>unassigned</dt><dd>3802</dd></dl>\n"
      ],
      "text/latex": [
       "\\begin{description*}\n",
       "\\item[hESC] 18863\n",
       "\\item[HemogenicEndothelium] 11887\n",
       "\\item[MEP] 10056\n",
       "\\item[early erythroid] 3286\n",
       "\\item[late erythroid] 5413\n",
       "\\item[early MK] 1324\n",
       "\\item[MK] 9671\n",
       "\\item[Mast cells] 3790\n",
       "\\item[Classical monocytes] 624\n",
       "\\item[Double-negative thymocytes] 1332\n",
       "\\item[gamma-delta T cells] 1258\n",
       "\\item[ILC3] 10147\n",
       "\\item[Regulatory T cells] 619\n",
       "\\item[Tem/Effector helper T cells] 1170\n",
       "\\item[Type 17 helper T cells] 2326\n",
       "\\item[Plasmablasts] 526\n",
       "\\item[NK cells] 4786\n",
       "\\item[CD16- NK cells] 7298\n",
       "\\item[Epithelial cells] 774\n",
       "\\item[Fibroblasts] 303\n",
       "\\item[unassigned] 3802\n",
       "\\end{description*}\n"
      ],
      "text/markdown": [
       "hESC\n",
       ":   18863HemogenicEndothelium\n",
       ":   11887MEP\n",
       ":   10056early erythroid\n",
       ":   3286late erythroid\n",
       ":   5413early MK\n",
       ":   1324MK\n",
       ":   9671Mast cells\n",
       ":   3790Classical monocytes\n",
       ":   624Double-negative thymocytes\n",
       ":   1332gamma-delta T cells\n",
       ":   1258ILC3\n",
       ":   10147Regulatory T cells\n",
       ":   619Tem/Effector helper T cells\n",
       ":   1170Type 17 helper T cells\n",
       ":   2326Plasmablasts\n",
       ":   526NK cells\n",
       ":   4786CD16- NK cells\n",
       ":   7298Epithelial cells\n",
       ":   774Fibroblasts\n",
       ":   303unassigned\n",
       ":   3802\n",
       "\n"
      ],
      "text/plain": [
       "                       hESC        HemogenicEndothelium \n",
       "                      18863                       11887 \n",
       "                        MEP             early erythroid \n",
       "                      10056                        3286 \n",
       "             late erythroid                    early MK \n",
       "                       5413                        1324 \n",
       "                         MK                  Mast cells \n",
       "                       9671                        3790 \n",
       "        Classical monocytes  Double-negative thymocytes \n",
       "                        624                        1332 \n",
       "        gamma-delta T cells                        ILC3 \n",
       "                       1258                       10147 \n",
       "         Regulatory T cells Tem/Effector helper T cells \n",
       "                        619                        1170 \n",
       "     Type 17 helper T cells                Plasmablasts \n",
       "                       2326                         526 \n",
       "                   NK cells              CD16- NK cells \n",
       "                       4786                        7298 \n",
       "           Epithelial cells                 Fibroblasts \n",
       "                        774                         303 \n",
       "                 unassigned \n",
       "                       3802 "
      ]
     },
     "metadata": {},
     "output_type": "display_data"
    }
   ],
   "source": [
    "adata@meta.data$Integrated_annotation<-factor(adata@meta.data$Integrated_annotation,\n",
    "                                       levels = c(\"hESC\",\"HemogenicEndothelium\",\"MEP\",\"early erythroid\",\"late erythroid\",\n",
    "                                                 \"early MK\",\"MK\",\"Mast cells\",\"Classical monocytes\",\n",
    "                                                 \"Double-negative thymocytes\",\"gamma-delta T cells\",\"ILC3\",\"Regulatory T cells\",\n",
    "                                                 \"Tem/Effector helper T cells\",\"Type 17 helper T cells\",\"Plasmablasts\",\"NK cells\",\"CD16- NK cells\",\n",
    "                                                 \"Epithelial cells\",\"Fibroblasts\",\"unassigned\"),\n",
    "                                       ordered=T)\n",
    "\n",
    "summary(adata@meta.data$Integrated_annotation)"
   ]
  },
  {
   "cell_type": "markdown",
   "id": "a4a5f0fd-3a7e-4a19-81c8-8c6333757e34",
   "metadata": {},
   "source": [
    "# Comparison of results "
   ]
  },
  {
   "cell_type": "markdown",
   "id": "a0d68018-90e9-4c92-af43-d6d5ca2c3c99",
   "metadata": {},
   "source": [
    "## Assignation_GEX_not_amplified vs Integrated_annotation vs time_point vs Diff"
   ]
  },
  {
   "cell_type": "code",
   "execution_count": 87,
   "id": "340c6ae0-0138-4070-a9cd-29416593085c",
   "metadata": {
    "execution": {
     "iopub.execute_input": "2025-04-23T18:57:30.649435Z",
     "iopub.status.busy": "2025-04-23T18:57:30.648490Z",
     "iopub.status.idle": "2025-04-23T18:57:30.656192Z",
     "shell.execute_reply": "2025-04-23T18:57:30.655129Z"
    }
   },
   "outputs": [],
   "source": [
    "met<-adata[[]]"
   ]
  },
  {
   "cell_type": "code",
   "execution_count": 88,
   "id": "7d25167c-6e59-4265-895e-0c1100c24c77",
   "metadata": {
    "execution": {
     "iopub.execute_input": "2025-04-23T18:57:30.658907Z",
     "iopub.status.busy": "2025-04-23T18:57:30.657954Z",
     "iopub.status.idle": "2025-04-23T18:57:30.664834Z",
     "shell.execute_reply": "2025-04-23T18:57:30.663763Z"
    }
   },
   "outputs": [],
   "source": [
    "#colnames(met)"
   ]
  },
  {
   "cell_type": "code",
   "execution_count": 89,
   "id": "b760c385-97c1-4a01-a543-58b944852eef",
   "metadata": {
    "execution": {
     "iopub.execute_input": "2025-04-23T18:57:30.667579Z",
     "iopub.status.busy": "2025-04-23T18:57:30.666622Z",
     "iopub.status.idle": "2025-04-23T18:57:30.763727Z",
     "shell.execute_reply": "2025-04-23T18:57:30.762360Z"
    }
   },
   "outputs": [],
   "source": [
    "met.dt<-data.table(met,key=c(\"time_point\",\"Integrated_annotation\",\"Assignation_GEX_not_amplified\",\"Diff\"))"
   ]
  },
  {
   "cell_type": "code",
   "execution_count": 90,
   "id": "8d6fc726-cc43-46c0-8c02-6c7c4ccbd5d8",
   "metadata": {
    "execution": {
     "iopub.execute_input": "2025-04-23T18:57:30.766679Z",
     "iopub.status.busy": "2025-04-23T18:57:30.765689Z",
     "iopub.status.idle": "2025-04-23T18:57:30.773266Z",
     "shell.execute_reply": "2025-04-23T18:57:30.772145Z"
    }
   },
   "outputs": [],
   "source": [
    "#str(met.dt)"
   ]
  },
  {
   "cell_type": "code",
   "execution_count": 91,
   "id": "bbccb725-20fb-442d-90f0-19855a7cb965",
   "metadata": {
    "execution": {
     "iopub.execute_input": "2025-04-23T18:57:30.776033Z",
     "iopub.status.busy": "2025-04-23T18:57:30.775080Z",
     "iopub.status.idle": "2025-04-23T18:57:30.797693Z",
     "shell.execute_reply": "2025-04-23T18:57:30.796603Z"
    }
   },
   "outputs": [
    {
     "name": "stdout",
     "output_type": "stream",
     "text": [
      "'data.frame':\t636 obs. of  5 variables:\n",
      " $ time_point                   : Ord.factor w/ 7 levels \"0_days\"<\"8_days\"<..: 1 1 1 1 1 1 1 1 1 1 ...\n",
      " $ Integrated_annotation        : Ord.factor w/ 21 levels \"hESC\"<\"HemogenicEndothelium\"<..: 1 1 1 1 1 1 1 1 1 1 ...\n",
      " $ Assignation_GEX_not_amplified: Ord.factor w/ 14 levels \"chrGFP_WTA\"<\"chrGFP_WTB\"<..: NA NA 1 1 2 2 3 3 4 4 ...\n",
      " $ Diff                         : Ord.factor w/ 2 levels \"Diff_MK\"<\"Diff_lymph\": 1 2 1 2 1 2 1 2 1 2 ...\n",
      " $ Freq                         : int  13289 3465 3 11 10 15 7 8 13 3 ...\n"
     ]
    }
   ],
   "source": [
    "Freq.table<-as.data.frame(met.dt[,.(Freq=.N),by=key(met.dt)], stringsAsFactors=F)\n",
    "\n",
    "str(Freq.table)"
   ]
  },
  {
   "cell_type": "code",
   "execution_count": 92,
   "id": "79fe4b34-3f16-456a-866c-ba05037968f1",
   "metadata": {
    "execution": {
     "iopub.execute_input": "2025-04-23T18:57:30.800409Z",
     "iopub.status.busy": "2025-04-23T18:57:30.799457Z",
     "iopub.status.idle": "2025-04-23T18:57:30.847965Z",
     "shell.execute_reply": "2025-04-23T18:57:30.846807Z"
    }
   },
   "outputs": [
    {
     "name": "stdout",
     "output_type": "stream",
     "text": [
      "'data.frame':\t137 obs. of  4 variables:\n",
      " $ time_point           : Ord.factor w/ 7 levels \"0_days\"<\"8_days\"<..: 1 1 1 1 1 1 1 1 1 1 ...\n",
      " $ Integrated_annotation: Ord.factor w/ 21 levels \"hESC\"<\"HemogenicEndothelium\"<..: 1 1 2 3 4 5 6 7 8 9 ...\n",
      " $ Diff                 : Ord.factor w/ 2 levels \"Diff_MK\"<\"Diff_lymph\": 1 2 2 2 2 2 2 2 2 2 ...\n",
      " $ TOTAL                : int  13726 3580 10891 582 44 740 88 477 63 62 ...\n"
     ]
    }
   ],
   "source": [
    "met.dt<-data.table(met, key=c(\"time_point\",\"Integrated_annotation\",\"Diff\"))\n",
    "Freq.TOTAL<-as.data.frame(met.dt[,.(TOTAL=.N),by=key(met.dt)], stringsAsFactors=F)\n",
    "\n",
    "str(Freq.TOTAL)"
   ]
  },
  {
   "cell_type": "code",
   "execution_count": 93,
   "id": "412c82ce-369e-4590-9064-5ecbf9cdac02",
   "metadata": {
    "execution": {
     "iopub.execute_input": "2025-04-23T18:57:30.850796Z",
     "iopub.status.busy": "2025-04-23T18:57:30.849787Z",
     "iopub.status.idle": "2025-04-23T18:57:30.863859Z",
     "shell.execute_reply": "2025-04-23T18:57:30.862814Z"
    }
   },
   "outputs": [],
   "source": [
    "Freq.table<-merge(Freq.table,\n",
    "                  Freq.TOTAL,\n",
    "                  by=c(\"time_point\",\"Integrated_annotation\",\"Diff\"))\n",
    "Freq.table$Perc<-round((100*(Freq.table$Freq/Freq.table$TOTAL)),2)\n",
    "\n",
    "#Freq.table"
   ]
  },
  {
   "cell_type": "code",
   "execution_count": 94,
   "id": "1e0e0c1d-7a90-4cee-929d-5643ebfb22b6",
   "metadata": {
    "execution": {
     "iopub.execute_input": "2025-04-23T18:57:30.866573Z",
     "iopub.status.busy": "2025-04-23T18:57:30.865645Z",
     "iopub.status.idle": "2025-04-23T18:57:30.877518Z",
     "shell.execute_reply": "2025-04-23T18:57:30.876420Z"
    }
   },
   "outputs": [
    {
     "name": "stdout",
     "output_type": "stream",
     "text": [
      "'data.frame':\t636 obs. of  7 variables:\n",
      " $ time_point                   : Ord.factor w/ 7 levels \"0_days\"<\"8_days\"<..: 1 1 1 1 1 1 1 1 1 1 ...\n",
      " $ Integrated_annotation        : Ord.factor w/ 21 levels \"hESC\"<\"HemogenicEndothelium\"<..: 18 18 18 18 18 18 18 18 18 9 ...\n",
      " $ Diff                         : Ord.factor w/ 2 levels \"Diff_MK\"<\"Diff_lymph\": 2 2 2 2 2 2 2 2 2 2 ...\n",
      " $ Assignation_GEX_not_amplified: Ord.factor w/ 14 levels \"chrGFP_WTA\"<\"chrGFP_WTB\"<..: NA 1 2 3 5 6 7 8 9 NA ...\n",
      " $ Freq                         : int  95 1 1 3 5 2 1 2 2 58 ...\n",
      " $ TOTAL                        : int  112 112 112 112 112 112 112 112 112 62 ...\n",
      " $ Perc                         : num  84.82 0.89 0.89 2.68 4.46 ...\n"
     ]
    }
   ],
   "source": [
    "str(Freq.table)"
   ]
  },
  {
   "cell_type": "code",
   "execution_count": 95,
   "id": "68861415-bd45-4be9-b534-b78f2f13f2f6",
   "metadata": {
    "execution": {
     "iopub.execute_input": "2025-04-23T18:57:30.880195Z",
     "iopub.status.busy": "2025-04-23T18:57:30.879249Z",
     "iopub.status.idle": "2025-04-23T18:57:30.924910Z",
     "shell.execute_reply": "2025-04-23T18:57:30.923776Z"
    }
   },
   "outputs": [
    {
     "name": "stdout",
     "output_type": "stream",
     "text": [
      "'data.frame':\t8 obs. of  3 variables:\n",
      " $ time_point: Ord.factor w/ 7 levels \"0_days\"<\"8_days\"<..: 1 1 2 3 4 5 6 7\n",
      " $ Diff      : Ord.factor w/ 2 levels \"Diff_MK\"<\"Diff_lymph\": 1 2 1 1 2 1 2 2\n",
      " $ ntime     : int  13727 18055 1502 11368 22294 11203 7490 13616\n"
     ]
    }
   ],
   "source": [
    "met.dt<-data.table(met, key=c(\"time_point\",\"Diff\"))\n",
    "Freq.time_point<-as.data.frame(met.dt[,.(ntime=.N),by=key(met.dt)], stringsAsFactors=F)\n",
    "\n",
    "\n",
    "str(Freq.time_point)"
   ]
  },
  {
   "cell_type": "code",
   "execution_count": 96,
   "id": "c4fdef4a-f843-452e-a81f-ab2b873e6fac",
   "metadata": {
    "execution": {
     "iopub.execute_input": "2025-04-23T18:57:30.927681Z",
     "iopub.status.busy": "2025-04-23T18:57:30.926706Z",
     "iopub.status.idle": "2025-04-23T18:57:30.942745Z",
     "shell.execute_reply": "2025-04-23T18:57:30.941644Z"
    }
   },
   "outputs": [
    {
     "name": "stdout",
     "output_type": "stream",
     "text": [
      "'data.frame':\t636 obs. of  8 variables:\n",
      " $ time_point                   : Ord.factor w/ 7 levels \"0_days\"<\"8_days\"<..: 1 1 1 1 1 1 1 1 1 1 ...\n",
      " $ Diff                         : Ord.factor w/ 2 levels \"Diff_MK\"<\"Diff_lymph\": 2 2 2 2 2 2 2 2 2 2 ...\n",
      " $ Integrated_annotation        : Ord.factor w/ 21 levels \"hESC\"<\"HemogenicEndothelium\"<..: 18 18 18 18 18 18 18 18 18 9 ...\n",
      " $ Assignation_GEX_not_amplified: Ord.factor w/ 14 levels \"chrGFP_WTA\"<\"chrGFP_WTB\"<..: NA 1 2 3 5 6 7 8 9 NA ...\n",
      " $ Freq                         : int  95 1 1 3 5 2 1 2 2 58 ...\n",
      " $ TOTAL                        : int  112 112 112 112 112 112 112 112 112 62 ...\n",
      " $ Perc                         : num  84.82 0.89 0.89 2.68 4.46 ...\n",
      " $ ntime                        : int  18055 18055 18055 18055 18055 18055 18055 18055 18055 18055 ...\n"
     ]
    }
   ],
   "source": [
    "Freq.table<-merge(Freq.table,\n",
    "                  Freq.time_point,\n",
    "                  by=c(\"time_point\",\"Diff\"))\n",
    "\n",
    "str(Freq.table)"
   ]
  },
  {
   "cell_type": "code",
   "execution_count": 97,
   "id": "beca7ce6-7c7d-44c5-8fe3-d5e8349b9388",
   "metadata": {
    "execution": {
     "iopub.execute_input": "2025-04-23T18:57:30.945438Z",
     "iopub.status.busy": "2025-04-23T18:57:30.944501Z",
     "iopub.status.idle": "2025-04-23T18:57:30.958284Z",
     "shell.execute_reply": "2025-04-23T18:57:30.957188Z"
    }
   },
   "outputs": [
    {
     "name": "stdout",
     "output_type": "stream",
     "text": [
      "'data.frame':\t458 obs. of  8 variables:\n",
      " $ time_point                   : Ord.factor w/ 7 levels \"0_days\"<\"8_days\"<..: 1 1 1 1 1 1 1 1 1 1 ...\n",
      " $ Diff                         : Ord.factor w/ 2 levels \"Diff_MK\"<\"Diff_lymph\": 2 2 2 2 2 2 2 2 2 2 ...\n",
      " $ Integrated_annotation        : Ord.factor w/ 21 levels \"hESC\"<\"HemogenicEndothelium\"<..: 18 18 18 18 18 18 18 18 18 19 ...\n",
      " $ Assignation_GEX_not_amplified: Ord.factor w/ 14 levels \"chrGFP_WTA\"<\"chrGFP_WTB\"<..: NA 1 2 3 5 6 7 8 9 NA ...\n",
      " $ Freq                         : int  95 1 1 3 5 2 1 2 2 259 ...\n",
      " $ TOTAL                        : int  112 112 112 112 112 112 112 112 112 275 ...\n",
      " $ Perc                         : num  84.82 0.89 0.89 2.68 4.46 ...\n",
      " $ ntime                        : int  18055 18055 18055 18055 18055 18055 18055 18055 18055 18055 ...\n"
     ]
    }
   ],
   "source": [
    "Freq.table_filtered<-Freq.table[which(Freq.table$TOTAL >= 100),]\n",
    "\n",
    "str(Freq.table_filtered)"
   ]
  },
  {
   "cell_type": "code",
   "execution_count": 98,
   "id": "bd58b516-b07b-4fee-9680-56fbde37f337",
   "metadata": {
    "execution": {
     "iopub.execute_input": "2025-04-23T18:57:30.961036Z",
     "iopub.status.busy": "2025-04-23T18:57:30.960038Z",
     "iopub.status.idle": "2025-04-23T18:57:31.006279Z",
     "shell.execute_reply": "2025-04-23T18:57:31.005213Z"
    }
   },
   "outputs": [],
   "source": [
    "fill_colours<-c(brewer.pal(9, \"Greens\")[c(5,6,7)],brewer.pal(9, \"Reds\")[c(5,6,7)],brewer.pal(9, \"Purples\")[c(5,6,7)],brewer.pal(9, \"PuRd\")[c(5,6,7)],'gray','black')"
   ]
  },
  {
   "cell_type": "code",
   "execution_count": 99,
   "id": "bca96846-e39e-4f6e-baa3-130158f11e85",
   "metadata": {
    "execution": {
     "iopub.execute_input": "2025-04-23T18:57:31.008994Z",
     "iopub.status.busy": "2025-04-23T18:57:31.008026Z",
     "iopub.status.idle": "2025-04-23T18:57:31.020258Z",
     "shell.execute_reply": "2025-04-23T18:57:31.019146Z"
    }
   },
   "outputs": [
    {
     "name": "stdout",
     "output_type": "stream",
     "text": [
      "'data.frame':\t458 obs. of  8 variables:\n",
      " $ time_point                   : Ord.factor w/ 7 levels \"0_days\"<\"8_days\"<..: 1 1 1 1 1 1 1 1 1 1 ...\n",
      " $ Diff                         : Ord.factor w/ 2 levels \"Diff_MK\"<\"Diff_lymph\": 2 2 2 2 2 2 2 2 2 2 ...\n",
      " $ Integrated_annotation        : Ord.factor w/ 21 levels \"hESC\"<\"HemogenicEndothelium\"<..: 18 18 18 18 18 18 18 18 18 19 ...\n",
      " $ Assignation_GEX_not_amplified: Ord.factor w/ 14 levels \"chrGFP_WTA\"<\"chrGFP_WTB\"<..: NA 1 2 3 5 6 7 8 9 NA ...\n",
      " $ Freq                         : int  95 1 1 3 5 2 1 2 2 259 ...\n",
      " $ TOTAL                        : int  112 112 112 112 112 112 112 112 112 275 ...\n",
      " $ Perc                         : num  84.82 0.89 0.89 2.68 4.46 ...\n",
      " $ ntime                        : int  18055 18055 18055 18055 18055 18055 18055 18055 18055 18055 ...\n"
     ]
    }
   ],
   "source": [
    "str(Freq.table_filtered)"
   ]
  },
  {
   "cell_type": "code",
   "execution_count": 100,
   "id": "082a76ff-257d-4b5b-83aa-3854543f1779",
   "metadata": {
    "execution": {
     "iopub.execute_input": "2025-04-23T18:57:31.023023Z",
     "iopub.status.busy": "2025-04-23T18:57:31.022058Z",
     "iopub.status.idle": "2025-04-23T18:57:32.617631Z",
     "shell.execute_reply": "2025-04-23T18:57:32.616387Z"
    }
   },
   "outputs": [
    {
     "name": "stdout",
     "output_type": "stream",
     "text": [
      "-------------------------------------->\t0 25 50 75 100\n"
     ]
    },
    {
     "name": "stderr",
     "output_type": "stream",
     "text": [
      "Warning message:\n",
      "\"\u001b[1m\u001b[22mThe `size` argument of `element_rect()` is deprecated as of ggplot2 3.4.0.\n",
      "\u001b[36mℹ\u001b[39m Please use the `linewidth` argument instead.\"\n",
      "Warning message:\n",
      "\"\u001b[1m\u001b[22mThe `size` argument of `element_line()` is deprecated as of ggplot2 3.4.0.\n",
      "\u001b[36mℹ\u001b[39m Please use the `linewidth` argument instead.\"\n"
     ]
    },
    {
     "data": {
      "image/png": "[encoded data removed]",
      "text/plain": [
       "plot without title"
      ]
     },
     "metadata": {
      "image/png": {
       "height": 420,
       "width": 420
      }
     },
     "output_type": "display_data"
    }
   ],
   "source": [
    "#### Stacked Graph #1---------------\n",
    "  \n",
    "  breaks.Rank<-(seq(0,100,by=25))\n",
    "  labels.Rank<-as.character(breaks.Rank)\n",
    "  \n",
    "  cat(\"-------------------------------------->\\t\")\n",
    "  cat(sprintf(as.character(labels.Rank)))\n",
    "  cat(\"\\n\")\n",
    "  \n",
    "  \n",
    "  stacked_barplot<-Freq.table_filtered %>%\n",
    "    mutate(myaxis = paste0(Integrated_annotation, \" \", \"n=\", TOTAL), drop=F) %>%\n",
    "    mutate(myaxis=fct_reorder(myaxis,as.numeric(Integrated_annotation)), drop=F) %>%\n",
    "    ggplot(aes(x=myaxis, y=Perc, fill=Assignation_GEX_not_amplified)) +\n",
    "    geom_bar(stat=\"identity\",colour='white')+\n",
    "    scale_y_continuous(name=paste(\"Percentage of cells in each cell type\",sep=\" \"),breaks=breaks.Rank,labels=labels.Rank,\n",
    "                       limits=c(breaks.Rank[1],breaks.Rank[length(breaks.Rank)]+1))+\n",
    "    scale_fill_manual(values=fill_colours,\n",
    "                      drop=F,\n",
    "                      name=\"Genotype\")\n",
    "\n",
    " stacked_barplot<-stacked_barplot+\n",
    "    theme_cowplot(font_size = 2)+\n",
    "    facet_grid(Diff ~ time_point+ntime, scales='free_x', space='free_x', switch=\"y\", \n",
    "               labeller=labeller(paste0(Freq.table_filtered$time_point, \"\\n\", \"n=\", Freq.table_filtered$ntime, drop=T)))+   \n",
    "    scale_x_discrete(name=\"Integrated_annotation\", drop=T)+\n",
    "    theme( strip.background = element_blank(),\n",
    "           strip.placement = \"outside\",\n",
    "           strip.text = element_text(size=6),\n",
    "           panel.spacing = unit(0.2, \"lines\"),\n",
    "           panel.background=element_rect(fill=\"white\"),\n",
    "           panel.border=element_rect(colour=\"white\",size=0,5),\n",
    "           panel.grid.major = element_blank(),\n",
    "           panel.grid.minor = element_blank())+\n",
    "        theme_classic()+\n",
    "            theme(axis.title.y=element_text(size=12, color=\"black\", family=\"sans\"),\n",
    "                  axis.title.x=element_blank(),\n",
    "                  axis.text.y=element_text(angle=0,size=10, color=\"black\", family=\"sans\"),\n",
    "                  axis.text.x=element_text(angle=90,size=8,hjust=1,vjust=0.5,color=\"black\", family=\"sans\"),\n",
    "                  axis.line.x = element_line(size = 0.2),\n",
    "                  axis.ticks.x = element_line(size = 0.2),\n",
    "                  axis.ticks.y = element_line(size = 0.2),\n",
    "                  axis.line.y = element_line(size = 0.2))+\n",
    "            theme(legend.title = element_blank(),\n",
    "                  legend.text = element_text(size=8, color=\"black\", family=\"sans\"),\n",
    "                  legend.key.size = unit(0.25, 'cm'), #change legend key size\n",
    "                  legend.key.height = unit(0.25, 'cm'), #change legend key height\n",
    "                  legend.key.width = unit(0.25, 'cm'), #change legend key width\n",
    "                  legend.position=\"bottom\")\n",
    "\n",
    "\n",
    "\n",
    "stacked_barplot"
   ]
  },
  {
   "cell_type": "code",
   "execution_count": 101,
   "id": "c5f60812-1eee-4052-8b78-1647230df07e",
   "metadata": {
    "execution": {
     "iopub.execute_input": "2025-04-23T18:57:32.620471Z",
     "iopub.status.busy": "2025-04-23T18:57:32.619487Z",
     "iopub.status.idle": "2025-04-23T18:57:34.253325Z",
     "shell.execute_reply": "2025-04-23T18:57:34.251998Z"
    }
   },
   "outputs": [],
   "source": [
    "setwd(path_graphs)\n",
    "\n",
    "svgname<-paste(\"stacked_barplot_Diff_vs_time_point_Integrated_annotation_vs_Assignation_GEX_not_amplified\",\".png\",sep='')\n",
    "makesvg = TRUE\n",
    "\n",
    "if (makesvg == TRUE)\n",
    "{\n",
    "  ggsave(svgname, plot= stacked_barplot,\n",
    "         device=\"png\",\n",
    "        width=13, height=13)\n",
    "}"
   ]
  },
  {
   "cell_type": "markdown",
   "id": "2045d37f-b9aa-4b47-a491-4bd0d5c38019",
   "metadata": {},
   "source": [
    "## Assigned_GFPbc_demux__NO_CellBender vs Integrated_annotation vs time_point vs Diff"
   ]
  },
  {
   "cell_type": "code",
   "execution_count": 102,
   "id": "7271633a-12b9-4cd1-9ebb-cf88d87e28fc",
   "metadata": {
    "execution": {
     "iopub.execute_input": "2025-04-23T18:57:34.256243Z",
     "iopub.status.busy": "2025-04-23T18:57:34.255226Z",
     "iopub.status.idle": "2025-04-23T18:57:34.263791Z",
     "shell.execute_reply": "2025-04-23T18:57:34.262711Z"
    }
   },
   "outputs": [],
   "source": [
    "met<-adata[[]]"
   ]
  },
  {
   "cell_type": "code",
   "execution_count": 103,
   "id": "6cdce489-4cb7-431e-87d5-a6362f328f74",
   "metadata": {
    "execution": {
     "iopub.execute_input": "2025-04-23T18:57:34.266523Z",
     "iopub.status.busy": "2025-04-23T18:57:34.265540Z",
     "iopub.status.idle": "2025-04-23T18:57:34.276174Z",
     "shell.execute_reply": "2025-04-23T18:57:34.275072Z"
    }
   },
   "outputs": [
    {
     "data": {
      "text/html": [
       "<style>\n",
       ".list-inline {list-style: none; margin:0; padding: 0}\n",
       ".list-inline>li {display: inline-block}\n",
       ".list-inline>li:not(:last-child)::after {content: \"\\00b7\"; padding: 0 .5ex}\n",
       "</style>\n",
       "<ol class=list-inline><li>'orig.ident'</li><li>'nCount_RNA'</li><li>'nFeature_RNA'</li><li>'percent.mt'</li><li>'nCount_RNA_raw'</li><li>'nFeature_RNA_raw'</li><li>'nCount_ATAC'</li><li>'nFeature_ATAC'</li><li>'gex_raw_reads'</li><li>'gex_mapped_reads'</li><li>'gex_conf_intergenic_reads'</li><li>'gex_conf_exonic_reads'</li><li>'gex_conf_intronic_reads'</li><li>'gex_conf_exonic_unique_reads'</li><li>'gex_conf_exonic_antisense_reads'</li><li>'gex_conf_exonic_dup_reads'</li><li>'gex_exonic_umis'</li><li>'gex_conf_intronic_unique_reads'</li><li>'gex_conf_intronic_antisense_reads'</li><li>'gex_conf_intronic_dup_reads'</li><li>'gex_intronic_umis'</li><li>'gex_conf_txomic_unique_reads'</li><li>'gex_umis_count'</li><li>'gex_genes_count'</li><li>'atac_raw_reads'</li><li>'atac_unmapped_reads'</li><li>'atac_lowmapq'</li><li>'atac_dup_reads'</li><li>'atac_chimeric_reads'</li><li>'atac_mitochondrial_reads'</li><li>'atac_fragments'</li><li>'atac_TSS_fragments'</li><li>'atac_peak_region_fragments'</li><li>'atac_peak_region_cutsites'</li><li>'TSS.enrichment'</li><li>'TSS.percentile'</li><li>'scDblFinder.class'</li><li>'scDblFinder.score'</li><li>'scDblFinder.weighted'</li><li>'scDblFinder.cxds_score'</li><li>'scDblFinder.class_atac'</li><li>'scDblFinder.score_atac'</li><li>'scDblFinder.weighted_atac'</li><li>'scDblFinder.cxds_score_atac'</li><li>'DBL_comb'</li><li>'amulet_nFrags'</li><li>'amulet_uniqFrags'</li><li>'amulet_nAbove2'</li><li>'amulet_total.nAbove2'</li><li>'amulet_p.value'</li><li>'amulet_q.value'</li><li>'doublet_amulet'</li><li>'nCount_SCT'</li><li>'nFeature_SCT'</li><li>'SCT.weight'</li><li>'ATAC.weight'</li><li>'wsnn_res.0.2'</li><li>'seurat_clusters'</li><li>'Diff'</li><li>'doublet'</li><li>'wsnn_res.2'</li><li>'CellTypist_label_Alsinet'</li><li>'CellTypist_conf_score_Alsinet'</li><li>'CellTypist_label_FBMA'</li><li>'CellTypist_conf_score_FBMA'</li><li>'CellTypist_label_Immune_ALL_low'</li><li>'CellTypist_conf_score_Immune_ALL_low'</li><li>'Integrated_annotation'</li><li>'integrated_nn_res.0.5'</li><li>'Assignation_demux_NO_CellBender'</li><li>'Assigned_GFPbc_demux__NO_CellBender'</li><li>'Assignation_demux_CellBender'</li><li>'Assigned_GFPbc_demux_CellBender'</li><li>'Assignation_GEX_not_amplified'</li><li>'time_point'</li></ol>\n"
      ],
      "text/latex": [
       "\\begin{enumerate*}\n",
       "\\item 'orig.ident'\n",
       "\\item 'nCount\\_RNA'\n",
       "\\item 'nFeature\\_RNA'\n",
       "\\item 'percent.mt'\n",
       "\\item 'nCount\\_RNA\\_raw'\n",
       "\\item 'nFeature\\_RNA\\_raw'\n",
       "\\item 'nCount\\_ATAC'\n",
       "\\item 'nFeature\\_ATAC'\n",
       "\\item 'gex\\_raw\\_reads'\n",
       "\\item 'gex\\_mapped\\_reads'\n",
       "\\item 'gex\\_conf\\_intergenic\\_reads'\n",
       "\\item 'gex\\_conf\\_exonic\\_reads'\n",
       "\\item 'gex\\_conf\\_intronic\\_reads'\n",
       "\\item 'gex\\_conf\\_exonic\\_unique\\_reads'\n",
       "\\item 'gex\\_conf\\_exonic\\_antisense\\_reads'\n",
       "\\item 'gex\\_conf\\_exonic\\_dup\\_reads'\n",
       "\\item 'gex\\_exonic\\_umis'\n",
       "\\item 'gex\\_conf\\_intronic\\_unique\\_reads'\n",
       "\\item 'gex\\_conf\\_intronic\\_antisense\\_reads'\n",
       "\\item 'gex\\_conf\\_intronic\\_dup\\_reads'\n",
       "\\item 'gex\\_intronic\\_umis'\n",
       "\\item 'gex\\_conf\\_txomic\\_unique\\_reads'\n",
       "\\item 'gex\\_umis\\_count'\n",
       "\\item 'gex\\_genes\\_count'\n",
       "\\item 'atac\\_raw\\_reads'\n",
       "\\item 'atac\\_unmapped\\_reads'\n",
       "\\item 'atac\\_lowmapq'\n",
       "\\item 'atac\\_dup\\_reads'\n",
       "\\item 'atac\\_chimeric\\_reads'\n",
       "\\item 'atac\\_mitochondrial\\_reads'\n",
       "\\item 'atac\\_fragments'\n",
       "\\item 'atac\\_TSS\\_fragments'\n",
       "\\item 'atac\\_peak\\_region\\_fragments'\n",
       "\\item 'atac\\_peak\\_region\\_cutsites'\n",
       "\\item 'TSS.enrichment'\n",
       "\\item 'TSS.percentile'\n",
       "\\item 'scDblFinder.class'\n",
       "\\item 'scDblFinder.score'\n",
       "\\item 'scDblFinder.weighted'\n",
       "\\item 'scDblFinder.cxds\\_score'\n",
       "\\item 'scDblFinder.class\\_atac'\n",
       "\\item 'scDblFinder.score\\_atac'\n",
       "\\item 'scDblFinder.weighted\\_atac'\n",
       "\\item 'scDblFinder.cxds\\_score\\_atac'\n",
       "\\item 'DBL\\_comb'\n",
       "\\item 'amulet\\_nFrags'\n",
       "\\item 'amulet\\_uniqFrags'\n",
       "\\item 'amulet\\_nAbove2'\n",
       "\\item 'amulet\\_total.nAbove2'\n",
       "\\item 'amulet\\_p.value'\n",
       "\\item 'amulet\\_q.value'\n",
       "\\item 'doublet\\_amulet'\n",
       "\\item 'nCount\\_SCT'\n",
       "\\item 'nFeature\\_SCT'\n",
       "\\item 'SCT.weight'\n",
       "\\item 'ATAC.weight'\n",
       "\\item 'wsnn\\_res.0.2'\n",
       "\\item 'seurat\\_clusters'\n",
       "\\item 'Diff'\n",
       "\\item 'doublet'\n",
       "\\item 'wsnn\\_res.2'\n",
       "\\item 'CellTypist\\_label\\_Alsinet'\n",
       "\\item 'CellTypist\\_conf\\_score\\_Alsinet'\n",
       "\\item 'CellTypist\\_label\\_FBMA'\n",
       "\\item 'CellTypist\\_conf\\_score\\_FBMA'\n",
       "\\item 'CellTypist\\_label\\_Immune\\_ALL\\_low'\n",
       "\\item 'CellTypist\\_conf\\_score\\_Immune\\_ALL\\_low'\n",
       "\\item 'Integrated\\_annotation'\n",
       "\\item 'integrated\\_nn\\_res.0.5'\n",
       "\\item 'Assignation\\_demux\\_NO\\_CellBender'\n",
       "\\item 'Assigned\\_GFPbc\\_demux\\_\\_NO\\_CellBender'\n",
       "\\item 'Assignation\\_demux\\_CellBender'\n",
       "\\item 'Assigned\\_GFPbc\\_demux\\_CellBender'\n",
       "\\item 'Assignation\\_GEX\\_not\\_amplified'\n",
       "\\item 'time\\_point'\n",
       "\\end{enumerate*}\n"
      ],
      "text/markdown": [
       "1. 'orig.ident'\n",
       "2. 'nCount_RNA'\n",
       "3. 'nFeature_RNA'\n",
       "4. 'percent.mt'\n",
       "5. 'nCount_RNA_raw'\n",
       "6. 'nFeature_RNA_raw'\n",
       "7. 'nCount_ATAC'\n",
       "8. 'nFeature_ATAC'\n",
       "9. 'gex_raw_reads'\n",
       "10. 'gex_mapped_reads'\n",
       "11. 'gex_conf_intergenic_reads'\n",
       "12. 'gex_conf_exonic_reads'\n",
       "13. 'gex_conf_intronic_reads'\n",
       "14. 'gex_conf_exonic_unique_reads'\n",
       "15. 'gex_conf_exonic_antisense_reads'\n",
       "16. 'gex_conf_exonic_dup_reads'\n",
       "17. 'gex_exonic_umis'\n",
       "18. 'gex_conf_intronic_unique_reads'\n",
       "19. 'gex_conf_intronic_antisense_reads'\n",
       "20. 'gex_conf_intronic_dup_reads'\n",
       "21. 'gex_intronic_umis'\n",
       "22. 'gex_conf_txomic_unique_reads'\n",
       "23. 'gex_umis_count'\n",
       "24. 'gex_genes_count'\n",
       "25. 'atac_raw_reads'\n",
       "26. 'atac_unmapped_reads'\n",
       "27. 'atac_lowmapq'\n",
       "28. 'atac_dup_reads'\n",
       "29. 'atac_chimeric_reads'\n",
       "30. 'atac_mitochondrial_reads'\n",
       "31. 'atac_fragments'\n",
       "32. 'atac_TSS_fragments'\n",
       "33. 'atac_peak_region_fragments'\n",
       "34. 'atac_peak_region_cutsites'\n",
       "35. 'TSS.enrichment'\n",
       "36. 'TSS.percentile'\n",
       "37. 'scDblFinder.class'\n",
       "38. 'scDblFinder.score'\n",
       "39. 'scDblFinder.weighted'\n",
       "40. 'scDblFinder.cxds_score'\n",
       "41. 'scDblFinder.class_atac'\n",
       "42. 'scDblFinder.score_atac'\n",
       "43. 'scDblFinder.weighted_atac'\n",
       "44. 'scDblFinder.cxds_score_atac'\n",
       "45. 'DBL_comb'\n",
       "46. 'amulet_nFrags'\n",
       "47. 'amulet_uniqFrags'\n",
       "48. 'amulet_nAbove2'\n",
       "49. 'amulet_total.nAbove2'\n",
       "50. 'amulet_p.value'\n",
       "51. 'amulet_q.value'\n",
       "52. 'doublet_amulet'\n",
       "53. 'nCount_SCT'\n",
       "54. 'nFeature_SCT'\n",
       "55. 'SCT.weight'\n",
       "56. 'ATAC.weight'\n",
       "57. 'wsnn_res.0.2'\n",
       "58. 'seurat_clusters'\n",
       "59. 'Diff'\n",
       "60. 'doublet'\n",
       "61. 'wsnn_res.2'\n",
       "62. 'CellTypist_label_Alsinet'\n",
       "63. 'CellTypist_conf_score_Alsinet'\n",
       "64. 'CellTypist_label_FBMA'\n",
       "65. 'CellTypist_conf_score_FBMA'\n",
       "66. 'CellTypist_label_Immune_ALL_low'\n",
       "67. 'CellTypist_conf_score_Immune_ALL_low'\n",
       "68. 'Integrated_annotation'\n",
       "69. 'integrated_nn_res.0.5'\n",
       "70. 'Assignation_demux_NO_CellBender'\n",
       "71. 'Assigned_GFPbc_demux__NO_CellBender'\n",
       "72. 'Assignation_demux_CellBender'\n",
       "73. 'Assigned_GFPbc_demux_CellBender'\n",
       "74. 'Assignation_GEX_not_amplified'\n",
       "75. 'time_point'\n",
       "\n",
       "\n"
      ],
      "text/plain": [
       " [1] \"orig.ident\"                          \n",
       " [2] \"nCount_RNA\"                          \n",
       " [3] \"nFeature_RNA\"                        \n",
       " [4] \"percent.mt\"                          \n",
       " [5] \"nCount_RNA_raw\"                      \n",
       " [6] \"nFeature_RNA_raw\"                    \n",
       " [7] \"nCount_ATAC\"                         \n",
       " [8] \"nFeature_ATAC\"                       \n",
       " [9] \"gex_raw_reads\"                       \n",
       "[10] \"gex_mapped_reads\"                    \n",
       "[11] \"gex_conf_intergenic_reads\"           \n",
       "[12] \"gex_conf_exonic_reads\"               \n",
       "[13] \"gex_conf_intronic_reads\"             \n",
       "[14] \"gex_conf_exonic_unique_reads\"        \n",
       "[15] \"gex_conf_exonic_antisense_reads\"     \n",
       "[16] \"gex_conf_exonic_dup_reads\"           \n",
       "[17] \"gex_exonic_umis\"                     \n",
       "[18] \"gex_conf_intronic_unique_reads\"      \n",
       "[19] \"gex_conf_intronic_antisense_reads\"   \n",
       "[20] \"gex_conf_intronic_dup_reads\"         \n",
       "[21] \"gex_intronic_umis\"                   \n",
       "[22] \"gex_conf_txomic_unique_reads\"        \n",
       "[23] \"gex_umis_count\"                      \n",
       "[24] \"gex_genes_count\"                     \n",
       "[25] \"atac_raw_reads\"                      \n",
       "[26] \"atac_unmapped_reads\"                 \n",
       "[27] \"atac_lowmapq\"                        \n",
       "[28] \"atac_dup_reads\"                      \n",
       "[29] \"atac_chimeric_reads\"                 \n",
       "[30] \"atac_mitochondrial_reads\"            \n",
       "[31] \"atac_fragments\"                      \n",
       "[32] \"atac_TSS_fragments\"                  \n",
       "[33] \"atac_peak_region_fragments\"          \n",
       "[34] \"atac_peak_region_cutsites\"           \n",
       "[35] \"TSS.enrichment\"                      \n",
       "[36] \"TSS.percentile\"                      \n",
       "[37] \"scDblFinder.class\"                   \n",
       "[38] \"scDblFinder.score\"                   \n",
       "[39] \"scDblFinder.weighted\"                \n",
       "[40] \"scDblFinder.cxds_score\"              \n",
       "[41] \"scDblFinder.class_atac\"              \n",
       "[42] \"scDblFinder.score_atac\"              \n",
       "[43] \"scDblFinder.weighted_atac\"           \n",
       "[44] \"scDblFinder.cxds_score_atac\"         \n",
       "[45] \"DBL_comb\"                            \n",
       "[46] \"amulet_nFrags\"                       \n",
       "[47] \"amulet_uniqFrags\"                    \n",
       "[48] \"amulet_nAbove2\"                      \n",
       "[49] \"amulet_total.nAbove2\"                \n",
       "[50] \"amulet_p.value\"                      \n",
       "[51] \"amulet_q.value\"                      \n",
       "[52] \"doublet_amulet\"                      \n",
       "[53] \"nCount_SCT\"                          \n",
       "[54] \"nFeature_SCT\"                        \n",
       "[55] \"SCT.weight\"                          \n",
       "[56] \"ATAC.weight\"                         \n",
       "[57] \"wsnn_res.0.2\"                        \n",
       "[58] \"seurat_clusters\"                     \n",
       "[59] \"Diff\"                                \n",
       "[60] \"doublet\"                             \n",
       "[61] \"wsnn_res.2\"                          \n",
       "[62] \"CellTypist_label_Alsinet\"            \n",
       "[63] \"CellTypist_conf_score_Alsinet\"       \n",
       "[64] \"CellTypist_label_FBMA\"               \n",
       "[65] \"CellTypist_conf_score_FBMA\"          \n",
       "[66] \"CellTypist_label_Immune_ALL_low\"     \n",
       "[67] \"CellTypist_conf_score_Immune_ALL_low\"\n",
       "[68] \"Integrated_annotation\"               \n",
       "[69] \"integrated_nn_res.0.5\"               \n",
       "[70] \"Assignation_demux_NO_CellBender\"     \n",
       "[71] \"Assigned_GFPbc_demux__NO_CellBender\" \n",
       "[72] \"Assignation_demux_CellBender\"        \n",
       "[73] \"Assigned_GFPbc_demux_CellBender\"     \n",
       "[74] \"Assignation_GEX_not_amplified\"       \n",
       "[75] \"time_point\"                          "
      ]
     },
     "metadata": {},
     "output_type": "display_data"
    }
   ],
   "source": [
    "colnames(met)"
   ]
  },
  {
   "cell_type": "code",
   "execution_count": 104,
   "id": "68eb66b9-6e99-47fd-aab6-a0dff0b5d98a",
   "metadata": {
    "execution": {
     "iopub.execute_input": "2025-04-23T18:57:34.278848Z",
     "iopub.status.busy": "2025-04-23T18:57:34.277904Z",
     "iopub.status.idle": "2025-04-23T18:57:34.315444Z",
     "shell.execute_reply": "2025-04-23T18:57:34.314151Z"
    }
   },
   "outputs": [],
   "source": [
    "met.dt<-data.table(met,key=c(\"time_point\",\"Integrated_annotation\",\"Assigned_GFPbc_demux__NO_CellBender\",\"Diff\"))"
   ]
  },
  {
   "cell_type": "code",
   "execution_count": 105,
   "id": "d0bdca54-cebd-432a-8bc4-7c6805539c1b",
   "metadata": {
    "execution": {
     "iopub.execute_input": "2025-04-23T18:57:34.318251Z",
     "iopub.status.busy": "2025-04-23T18:57:34.317267Z",
     "iopub.status.idle": "2025-04-23T18:57:34.324617Z",
     "shell.execute_reply": "2025-04-23T18:57:34.323547Z"
    }
   },
   "outputs": [],
   "source": [
    "#str(met.dt)"
   ]
  },
  {
   "cell_type": "code",
   "execution_count": 106,
   "id": "6703cbfe-7bc0-4063-b310-eb74baae7bd2",
   "metadata": {
    "execution": {
     "iopub.execute_input": "2025-04-23T18:57:34.327269Z",
     "iopub.status.busy": "2025-04-23T18:57:34.326332Z",
     "iopub.status.idle": "2025-04-23T18:57:34.343113Z",
     "shell.execute_reply": "2025-04-23T18:57:34.342004Z"
    }
   },
   "outputs": [
    {
     "name": "stdout",
     "output_type": "stream",
     "text": [
      "'data.frame':\t843 obs. of  5 variables:\n",
      " $ time_point                         : Ord.factor w/ 7 levels \"0_days\"<\"8_days\"<..: 1 1 1 1 1 1 1 1 1 1 ...\n",
      " $ Integrated_annotation              : Ord.factor w/ 21 levels \"hESC\"<\"HemogenicEndothelium\"<..: 1 1 1 1 1 1 1 1 1 1 ...\n",
      " $ Assigned_GFPbc_demux__NO_CellBender: Ord.factor w/ 14 levels \"chrGFP_WTA\"<\"chrGFP_WTB\"<..: 1 1 2 2 3 3 4 4 5 5 ...\n",
      " $ Diff                               : Ord.factor w/ 2 levels \"Diff_MK\"<\"Diff_lymph\": 1 2 1 2 1 2 1 2 1 2 ...\n",
      " $ Freq                               : int  17 2 31 48 19 4 15 1 20 18 ...\n"
     ]
    }
   ],
   "source": [
    "Freq.table<-as.data.frame(met.dt[,.(Freq=.N),by=key(met.dt)], stringsAsFactors=F)\n",
    "\n",
    "str(Freq.table)"
   ]
  },
  {
   "cell_type": "code",
   "execution_count": 107,
   "id": "9bd3e9ec-eb99-4b49-bda6-c090d5e12b3d",
   "metadata": {
    "execution": {
     "iopub.execute_input": "2025-04-23T18:57:34.345803Z",
     "iopub.status.busy": "2025-04-23T18:57:34.344842Z",
     "iopub.status.idle": "2025-04-23T18:57:34.389459Z",
     "shell.execute_reply": "2025-04-23T18:57:34.388294Z"
    }
   },
   "outputs": [
    {
     "name": "stdout",
     "output_type": "stream",
     "text": [
      "'data.frame':\t137 obs. of  4 variables:\n",
      " $ time_point           : Ord.factor w/ 7 levels \"0_days\"<\"8_days\"<..: 1 1 1 1 1 1 1 1 1 1 ...\n",
      " $ Integrated_annotation: Ord.factor w/ 21 levels \"hESC\"<\"HemogenicEndothelium\"<..: 1 1 2 3 4 5 6 7 8 9 ...\n",
      " $ Diff                 : Ord.factor w/ 2 levels \"Diff_MK\"<\"Diff_lymph\": 1 2 2 2 2 2 2 2 2 2 ...\n",
      " $ TOTAL                : int  13726 3580 10891 582 44 740 88 477 63 62 ...\n"
     ]
    }
   ],
   "source": [
    "met.dt<-data.table(met, key=c(\"time_point\",\"Integrated_annotation\",\"Diff\"))\n",
    "Freq.TOTAL<-as.data.frame(met.dt[,.(TOTAL=.N),by=key(met.dt)], stringsAsFactors=F)\n",
    "\n",
    "str(Freq.TOTAL)"
   ]
  },
  {
   "cell_type": "code",
   "execution_count": 108,
   "id": "289b8b39-1eca-4856-8fe8-9d2d1c40d5cc",
   "metadata": {
    "execution": {
     "iopub.execute_input": "2025-04-23T18:57:34.392225Z",
     "iopub.status.busy": "2025-04-23T18:57:34.391257Z",
     "iopub.status.idle": "2025-04-23T18:57:34.404389Z",
     "shell.execute_reply": "2025-04-23T18:57:34.403274Z"
    }
   },
   "outputs": [],
   "source": [
    "Freq.table<-merge(Freq.table,\n",
    "                  Freq.TOTAL,\n",
    "                  by=c(\"time_point\",\"Integrated_annotation\",\"Diff\"))\n",
    "Freq.table$Perc<-round((100*(Freq.table$Freq/Freq.table$TOTAL)),2)\n",
    "\n",
    "#Freq.table"
   ]
  },
  {
   "cell_type": "code",
   "execution_count": 109,
   "id": "744c49fb-7452-4498-b51d-4701612ba632",
   "metadata": {
    "execution": {
     "iopub.execute_input": "2025-04-23T18:57:34.407121Z",
     "iopub.status.busy": "2025-04-23T18:57:34.406147Z",
     "iopub.status.idle": "2025-04-23T18:57:34.418059Z",
     "shell.execute_reply": "2025-04-23T18:57:34.416947Z"
    }
   },
   "outputs": [
    {
     "name": "stdout",
     "output_type": "stream",
     "text": [
      "'data.frame':\t843 obs. of  7 variables:\n",
      " $ time_point                         : Ord.factor w/ 7 levels \"0_days\"<\"8_days\"<..: 1 1 1 1 1 1 1 1 1 1 ...\n",
      " $ Integrated_annotation              : Ord.factor w/ 21 levels \"hESC\"<\"HemogenicEndothelium\"<..: 18 18 18 18 18 18 18 18 18 9 ...\n",
      " $ Diff                               : Ord.factor w/ 2 levels \"Diff_MK\"<\"Diff_lymph\": 2 2 2 2 2 2 2 2 2 2 ...\n",
      " $ Assigned_GFPbc_demux__NO_CellBender: Ord.factor w/ 14 levels \"chrGFP_WTA\"<\"chrGFP_WTB\"<..: 2 4 5 8 9 11 12 13 14 8 ...\n",
      " $ Freq                               : int  2 1 1 20 1 1 1 8 77 16 ...\n",
      " $ TOTAL                              : int  112 112 112 112 112 112 112 112 112 62 ...\n",
      " $ Perc                               : num  1.79 0.89 0.89 17.86 0.89 ...\n"
     ]
    }
   ],
   "source": [
    "str(Freq.table)"
   ]
  },
  {
   "cell_type": "code",
   "execution_count": 110,
   "id": "5fe349b7-d2cc-4ec7-a587-a66ffa1cb34f",
   "metadata": {
    "execution": {
     "iopub.execute_input": "2025-04-23T18:57:34.420738Z",
     "iopub.status.busy": "2025-04-23T18:57:34.419799Z",
     "iopub.status.idle": "2025-04-23T18:57:34.458659Z",
     "shell.execute_reply": "2025-04-23T18:57:34.457546Z"
    }
   },
   "outputs": [
    {
     "name": "stdout",
     "output_type": "stream",
     "text": [
      "'data.frame':\t8 obs. of  3 variables:\n",
      " $ time_point: Ord.factor w/ 7 levels \"0_days\"<\"8_days\"<..: 1 1 2 3 4 5 6 7\n",
      " $ Diff      : Ord.factor w/ 2 levels \"Diff_MK\"<\"Diff_lymph\": 1 2 1 1 2 1 2 2\n",
      " $ ntime     : int  13727 18055 1502 11368 22294 11203 7490 13616\n"
     ]
    }
   ],
   "source": [
    "met.dt<-data.table(met, key=c(\"time_point\",\"Diff\"))\n",
    "Freq.time_point<-as.data.frame(met.dt[,.(ntime=.N),by=key(met.dt)], stringsAsFactors=F)\n",
    "\n",
    "\n",
    "str(Freq.time_point)"
   ]
  },
  {
   "cell_type": "code",
   "execution_count": 111,
   "id": "adf5a545-2e77-4b8b-a20e-da9023af81ac",
   "metadata": {
    "execution": {
     "iopub.execute_input": "2025-04-23T18:57:34.461399Z",
     "iopub.status.busy": "2025-04-23T18:57:34.460434Z",
     "iopub.status.idle": "2025-04-23T18:57:34.476268Z",
     "shell.execute_reply": "2025-04-23T18:57:34.475180Z"
    }
   },
   "outputs": [
    {
     "name": "stdout",
     "output_type": "stream",
     "text": [
      "'data.frame':\t843 obs. of  8 variables:\n",
      " $ time_point                         : Ord.factor w/ 7 levels \"0_days\"<\"8_days\"<..: 1 1 1 1 1 1 1 1 1 1 ...\n",
      " $ Diff                               : Ord.factor w/ 2 levels \"Diff_MK\"<\"Diff_lymph\": 2 2 2 2 2 2 2 2 2 2 ...\n",
      " $ Integrated_annotation              : Ord.factor w/ 21 levels \"hESC\"<\"HemogenicEndothelium\"<..: 18 18 18 18 18 18 18 18 18 9 ...\n",
      " $ Assigned_GFPbc_demux__NO_CellBender: Ord.factor w/ 14 levels \"chrGFP_WTA\"<\"chrGFP_WTB\"<..: 2 4 5 8 9 11 12 13 14 8 ...\n",
      " $ Freq                               : int  2 1 1 20 1 1 1 8 77 16 ...\n",
      " $ TOTAL                              : int  112 112 112 112 112 112 112 112 112 62 ...\n",
      " $ Perc                               : num  1.79 0.89 0.89 17.86 0.89 ...\n",
      " $ ntime                              : int  18055 18055 18055 18055 18055 18055 18055 18055 18055 18055 ...\n"
     ]
    }
   ],
   "source": [
    "Freq.table<-merge(Freq.table,\n",
    "                  Freq.time_point,\n",
    "                  by=c(\"time_point\",\"Diff\"))\n",
    "\n",
    "str(Freq.table)"
   ]
  },
  {
   "cell_type": "code",
   "execution_count": 112,
   "id": "f843a70c-eec6-4102-a571-d7be6f5c4042",
   "metadata": {
    "execution": {
     "iopub.execute_input": "2025-04-23T18:57:34.478956Z",
     "iopub.status.busy": "2025-04-23T18:57:34.477989Z",
     "iopub.status.idle": "2025-04-23T18:57:34.491741Z",
     "shell.execute_reply": "2025-04-23T18:57:34.490662Z"
    }
   },
   "outputs": [
    {
     "name": "stdout",
     "output_type": "stream",
     "text": [
      "'data.frame':\t584 obs. of  8 variables:\n",
      " $ time_point                         : Ord.factor w/ 7 levels \"0_days\"<\"8_days\"<..: 1 1 1 1 1 1 1 1 1 1 ...\n",
      " $ Diff                               : Ord.factor w/ 2 levels \"Diff_MK\"<\"Diff_lymph\": 2 2 2 2 2 2 2 2 2 2 ...\n",
      " $ Integrated_annotation              : Ord.factor w/ 21 levels \"hESC\"<\"HemogenicEndothelium\"<..: 18 18 18 18 18 18 18 18 18 19 ...\n",
      " $ Assigned_GFPbc_demux__NO_CellBender: Ord.factor w/ 14 levels \"chrGFP_WTA\"<\"chrGFP_WTB\"<..: 2 4 5 8 9 11 12 13 14 2 ...\n",
      " $ Freq                               : int  2 1 1 20 1 1 1 8 77 2 ...\n",
      " $ TOTAL                              : int  112 112 112 112 112 112 112 112 112 275 ...\n",
      " $ Perc                               : num  1.79 0.89 0.89 17.86 0.89 ...\n",
      " $ ntime                              : int  18055 18055 18055 18055 18055 18055 18055 18055 18055 18055 ...\n"
     ]
    }
   ],
   "source": [
    "Freq.table_filtered<-Freq.table[which(Freq.table$TOTAL >= 100),]\n",
    "\n",
    "str(Freq.table_filtered)"
   ]
  },
  {
   "cell_type": "code",
   "execution_count": 113,
   "id": "3b4cedd4-0013-4451-92d6-2552beb79eb2",
   "metadata": {
    "execution": {
     "iopub.execute_input": "2025-04-23T18:57:34.494405Z",
     "iopub.status.busy": "2025-04-23T18:57:34.493462Z",
     "iopub.status.idle": "2025-04-23T18:57:34.501250Z",
     "shell.execute_reply": "2025-04-23T18:57:34.500198Z"
    }
   },
   "outputs": [],
   "source": [
    "fill_colours<-c(brewer.pal(9, \"Greens\")[c(5,6,7)],brewer.pal(9, \"Reds\")[c(5,6,7)],brewer.pal(9, \"Purples\")[c(5,6,7)],brewer.pal(9, \"PuRd\")[c(5,6,7)],'gray','black')"
   ]
  },
  {
   "cell_type": "code",
   "execution_count": 114,
   "id": "12de5063-da99-43c7-8c85-d92f828ab784",
   "metadata": {
    "execution": {
     "iopub.execute_input": "2025-04-23T18:57:34.503923Z",
     "iopub.status.busy": "2025-04-23T18:57:34.502965Z",
     "iopub.status.idle": "2025-04-23T18:57:34.515089Z",
     "shell.execute_reply": "2025-04-23T18:57:34.514006Z"
    }
   },
   "outputs": [
    {
     "name": "stdout",
     "output_type": "stream",
     "text": [
      "'data.frame':\t584 obs. of  8 variables:\n",
      " $ time_point                         : Ord.factor w/ 7 levels \"0_days\"<\"8_days\"<..: 1 1 1 1 1 1 1 1 1 1 ...\n",
      " $ Diff                               : Ord.factor w/ 2 levels \"Diff_MK\"<\"Diff_lymph\": 2 2 2 2 2 2 2 2 2 2 ...\n",
      " $ Integrated_annotation              : Ord.factor w/ 21 levels \"hESC\"<\"HemogenicEndothelium\"<..: 18 18 18 18 18 18 18 18 18 19 ...\n",
      " $ Assigned_GFPbc_demux__NO_CellBender: Ord.factor w/ 14 levels \"chrGFP_WTA\"<\"chrGFP_WTB\"<..: 2 4 5 8 9 11 12 13 14 2 ...\n",
      " $ Freq                               : int  2 1 1 20 1 1 1 8 77 2 ...\n",
      " $ TOTAL                              : int  112 112 112 112 112 112 112 112 112 275 ...\n",
      " $ Perc                               : num  1.79 0.89 0.89 17.86 0.89 ...\n",
      " $ ntime                              : int  18055 18055 18055 18055 18055 18055 18055 18055 18055 18055 ...\n"
     ]
    }
   ],
   "source": [
    "str(Freq.table_filtered)"
   ]
  },
  {
   "cell_type": "code",
   "execution_count": 115,
   "id": "7104bff9-6616-41eb-9d2d-956651b72054",
   "metadata": {
    "execution": {
     "iopub.execute_input": "2025-04-23T18:57:34.517810Z",
     "iopub.status.busy": "2025-04-23T18:57:34.516865Z",
     "iopub.status.idle": "2025-04-23T18:57:35.721749Z",
     "shell.execute_reply": "2025-04-23T18:57:35.720484Z"
    }
   },
   "outputs": [
    {
     "name": "stdout",
     "output_type": "stream",
     "text": [
      "-------------------------------------->\t0 25 50 75 100\n"
     ]
    },
    {
     "data": {
      "image/png": "[encoded data removed]",
      "text/plain": [
       "plot without title"
      ]
     },
     "metadata": {
      "image/png": {
       "height": 420,
       "width": 420
      }
     },
     "output_type": "display_data"
    }
   ],
   "source": [
    "#### Stacked Graph #1---------------\n",
    "  \n",
    "  breaks.Rank<-(seq(0,100,by=25))\n",
    "  labels.Rank<-as.character(breaks.Rank)\n",
    "  \n",
    "  cat(\"-------------------------------------->\\t\")\n",
    "  cat(sprintf(as.character(labels.Rank)))\n",
    "  cat(\"\\n\")\n",
    "  \n",
    "  \n",
    "  stacked_barplot<-Freq.table_filtered %>%\n",
    "    mutate(myaxis = paste0(Integrated_annotation, \" \", \"n=\", TOTAL), drop=F) %>%\n",
    "    mutate(myaxis=fct_reorder(myaxis,as.numeric(Integrated_annotation)), drop=F) %>%\n",
    "    ggplot(aes(x=myaxis, y=Perc, fill=Assigned_GFPbc_demux__NO_CellBender)) +\n",
    "    geom_bar(stat=\"identity\",colour='white')+\n",
    "    scale_y_continuous(name=paste(\"Percentage of cells in each cell type\",sep=\" \"),breaks=breaks.Rank,labels=labels.Rank,\n",
    "                       limits=c(breaks.Rank[1],breaks.Rank[length(breaks.Rank)]+1))+\n",
    "    scale_fill_manual(values=fill_colours,\n",
    "                      drop=F,\n",
    "                      name=\"Genotype\")\n",
    "\n",
    " stacked_barplot<-stacked_barplot+\n",
    "    theme_cowplot(font_size = 2)+\n",
    "    facet_grid(Diff ~ time_point+ntime, scales='free_x', space='free_x', switch=\"y\", \n",
    "               labeller=labeller(paste0(Freq.table_filtered$time_point, \"\\n\", \"n=\", Freq.table_filtered$ntime, drop=T)))+   \n",
    "    scale_x_discrete(name=\"Integrated_annotation\", drop=T)+\n",
    "    theme( strip.background = element_blank(),\n",
    "           strip.placement = \"outside\",\n",
    "           strip.text = element_text(size=6),\n",
    "           panel.spacing = unit(0.2, \"lines\"),\n",
    "           panel.background=element_rect(fill=\"white\"),\n",
    "           panel.border=element_rect(colour=\"white\",size=0,5),\n",
    "           panel.grid.major = element_blank(),\n",
    "           panel.grid.minor = element_blank())+\n",
    "        theme_classic()+\n",
    "            theme(axis.title.y=element_text(size=12, color=\"black\", family=\"sans\"),\n",
    "                  axis.title.x=element_blank(),\n",
    "                  axis.text.y=element_text(angle=0,size=10, color=\"black\", family=\"sans\"),\n",
    "                  axis.text.x=element_text(angle=90,size=8,hjust=1,vjust=0.5,color=\"black\", family=\"sans\"),\n",
    "                  axis.line.x = element_line(size = 0.2),\n",
    "                  axis.ticks.x = element_line(size = 0.2),\n",
    "                  axis.ticks.y = element_line(size = 0.2),\n",
    "                  axis.line.y = element_line(size = 0.2))+\n",
    "            theme(legend.title = element_blank(),\n",
    "                  legend.text = element_text(size=8, color=\"black\", family=\"sans\"),\n",
    "                  legend.key.size = unit(0.25, 'cm'), #change legend key size\n",
    "                  legend.key.height = unit(0.25, 'cm'), #change legend key height\n",
    "                  legend.key.width = unit(0.25, 'cm'), #change legend key width\n",
    "                  legend.position=\"bottom\")\n",
    "\n",
    "\n",
    "\n",
    "stacked_barplot"
   ]
  },
  {
   "cell_type": "code",
   "execution_count": 116,
   "id": "830f761f-1fbc-4bce-93e4-5215ed4d722f",
   "metadata": {
    "execution": {
     "iopub.execute_input": "2025-04-23T18:57:35.724600Z",
     "iopub.status.busy": "2025-04-23T18:57:35.723618Z",
     "iopub.status.idle": "2025-04-23T18:57:37.036795Z",
     "shell.execute_reply": "2025-04-23T18:57:37.035473Z"
    }
   },
   "outputs": [],
   "source": [
    "setwd(path_graphs)\n",
    "\n",
    "svgname<-paste(\"stacked_barplot_Diff_vs_time_point_Integrated_annotation_vs_Assigned_GFPbc_demux__NO_CellBender\",\".png\",sep='')\n",
    "makesvg = TRUE\n",
    "\n",
    "if (makesvg == TRUE)\n",
    "{\n",
    "  ggsave(svgname, plot= stacked_barplot,\n",
    "         device=\"png\",\n",
    "        width=13, height=13)\n",
    "}"
   ]
  },
  {
   "cell_type": "markdown",
   "id": "bc06ef63-07ad-46ec-aa17-dd9c701b5645",
   "metadata": {},
   "source": [
    "## Assigned_GFPbc_demux_CellBender vs Integrated_annotation vs time_point vs Diff"
   ]
  },
  {
   "cell_type": "code",
   "execution_count": 117,
   "id": "27229176-a56d-4b61-9218-5a15531d0f02",
   "metadata": {
    "execution": {
     "iopub.execute_input": "2025-04-23T18:57:37.039647Z",
     "iopub.status.busy": "2025-04-23T18:57:37.038684Z",
     "iopub.status.idle": "2025-04-23T18:57:37.046993Z",
     "shell.execute_reply": "2025-04-23T18:57:37.045941Z"
    }
   },
   "outputs": [],
   "source": [
    "met<-adata[[]]"
   ]
  },
  {
   "cell_type": "code",
   "execution_count": 118,
   "id": "c3235f5a-e1a3-459c-96ab-79a0daafecb4",
   "metadata": {
    "execution": {
     "iopub.execute_input": "2025-04-23T18:57:37.049668Z",
     "iopub.status.busy": "2025-04-23T18:57:37.048717Z",
     "iopub.status.idle": "2025-04-23T18:57:37.055466Z",
     "shell.execute_reply": "2025-04-23T18:57:37.054425Z"
    }
   },
   "outputs": [],
   "source": [
    "#colnames(met)"
   ]
  },
  {
   "cell_type": "code",
   "execution_count": 119,
   "id": "43c3b034-30a2-4cc3-b805-5c501702bff2",
   "metadata": {
    "execution": {
     "iopub.execute_input": "2025-04-23T18:57:37.058076Z",
     "iopub.status.busy": "2025-04-23T18:57:37.057157Z",
     "iopub.status.idle": "2025-04-23T18:57:37.093909Z",
     "shell.execute_reply": "2025-04-23T18:57:37.092725Z"
    }
   },
   "outputs": [],
   "source": [
    "met.dt<-data.table(met,key=c(\"time_point\",\"Integrated_annotation\",\"Assigned_GFPbc_demux_CellBender\",\"Diff\"))"
   ]
  },
  {
   "cell_type": "code",
   "execution_count": 120,
   "id": "b8d043f3-b01e-42c2-ae20-d29cdd325a75",
   "metadata": {
    "execution": {
     "iopub.execute_input": "2025-04-23T18:57:37.096636Z",
     "iopub.status.busy": "2025-04-23T18:57:37.095712Z",
     "iopub.status.idle": "2025-04-23T18:57:37.102691Z",
     "shell.execute_reply": "2025-04-23T18:57:37.101695Z"
    }
   },
   "outputs": [],
   "source": [
    "#str(met.dt)"
   ]
  },
  {
   "cell_type": "code",
   "execution_count": 121,
   "id": "cc2c5e91-2ec5-4f43-8859-9234bc18e2bb",
   "metadata": {
    "execution": {
     "iopub.execute_input": "2025-04-23T18:57:37.105252Z",
     "iopub.status.busy": "2025-04-23T18:57:37.104347Z",
     "iopub.status.idle": "2025-04-23T18:57:37.120834Z",
     "shell.execute_reply": "2025-04-23T18:57:37.119796Z"
    }
   },
   "outputs": [
    {
     "name": "stdout",
     "output_type": "stream",
     "text": [
      "'data.frame':\t788 obs. of  5 variables:\n",
      " $ time_point                     : Ord.factor w/ 7 levels \"0_days\"<\"8_days\"<..: 1 1 1 1 1 1 1 1 1 1 ...\n",
      " $ Integrated_annotation          : Ord.factor w/ 21 levels \"hESC\"<\"HemogenicEndothelium\"<..: 1 1 1 1 1 1 1 1 1 1 ...\n",
      " $ Assigned_GFPbc_demux_CellBender: Ord.factor w/ 14 levels \"chrGFP_WTA\"<\"chrGFP_WTB\"<..: 1 2 2 3 3 4 4 5 5 6 ...\n",
      " $ Diff                           : Ord.factor w/ 2 levels \"Diff_MK\"<\"Diff_lymph\": 1 1 2 1 2 1 2 1 2 1 ...\n",
      " $ Freq                           : int  41 86 23 57 1 115 1 90 15 228 ...\n"
     ]
    }
   ],
   "source": [
    "Freq.table<-as.data.frame(met.dt[,.(Freq=.N),by=key(met.dt)], stringsAsFactors=F)\n",
    "\n",
    "str(Freq.table)"
   ]
  },
  {
   "cell_type": "code",
   "execution_count": 122,
   "id": "44b11410-516e-4e37-bda6-63baac0f3ef5",
   "metadata": {
    "execution": {
     "iopub.execute_input": "2025-04-23T18:57:37.123429Z",
     "iopub.status.busy": "2025-04-23T18:57:37.122537Z",
     "iopub.status.idle": "2025-04-23T18:57:37.166857Z",
     "shell.execute_reply": "2025-04-23T18:57:37.165738Z"
    }
   },
   "outputs": [
    {
     "name": "stdout",
     "output_type": "stream",
     "text": [
      "'data.frame':\t137 obs. of  4 variables:\n",
      " $ time_point           : Ord.factor w/ 7 levels \"0_days\"<\"8_days\"<..: 1 1 1 1 1 1 1 1 1 1 ...\n",
      " $ Integrated_annotation: Ord.factor w/ 21 levels \"hESC\"<\"HemogenicEndothelium\"<..: 1 1 2 3 4 5 6 7 8 9 ...\n",
      " $ Diff                 : Ord.factor w/ 2 levels \"Diff_MK\"<\"Diff_lymph\": 1 2 2 2 2 2 2 2 2 2 ...\n",
      " $ TOTAL                : int  13726 3580 10891 582 44 740 88 477 63 62 ...\n"
     ]
    }
   ],
   "source": [
    "met.dt<-data.table(met, key=c(\"time_point\",\"Integrated_annotation\",\"Diff\"))\n",
    "Freq.TOTAL<-as.data.frame(met.dt[,.(TOTAL=.N),by=key(met.dt)], stringsAsFactors=F)\n",
    "\n",
    "str(Freq.TOTAL)"
   ]
  },
  {
   "cell_type": "code",
   "execution_count": 123,
   "id": "56c59638-0fa3-4172-97b7-c73728a319b7",
   "metadata": {
    "execution": {
     "iopub.execute_input": "2025-04-23T18:57:37.169548Z",
     "iopub.status.busy": "2025-04-23T18:57:37.168620Z",
     "iopub.status.idle": "2025-04-23T18:57:37.181264Z",
     "shell.execute_reply": "2025-04-23T18:57:37.180220Z"
    }
   },
   "outputs": [],
   "source": [
    "Freq.table<-merge(Freq.table,\n",
    "                  Freq.TOTAL,\n",
    "                  by=c(\"time_point\",\"Integrated_annotation\",\"Diff\"))\n",
    "Freq.table$Perc<-round((100*(Freq.table$Freq/Freq.table$TOTAL)),2)\n",
    "\n",
    "#Freq.table"
   ]
  },
  {
   "cell_type": "code",
   "execution_count": 124,
   "id": "79dd3154-bc65-4bf9-855f-436b315684c1",
   "metadata": {
    "execution": {
     "iopub.execute_input": "2025-04-23T18:57:37.183906Z",
     "iopub.status.busy": "2025-04-23T18:57:37.182984Z",
     "iopub.status.idle": "2025-04-23T18:57:37.194467Z",
     "shell.execute_reply": "2025-04-23T18:57:37.193430Z"
    }
   },
   "outputs": [
    {
     "name": "stdout",
     "output_type": "stream",
     "text": [
      "'data.frame':\t788 obs. of  7 variables:\n",
      " $ time_point                     : Ord.factor w/ 7 levels \"0_days\"<\"8_days\"<..: 1 1 1 1 1 1 1 1 1 1 ...\n",
      " $ Integrated_annotation          : Ord.factor w/ 21 levels \"hESC\"<\"HemogenicEndothelium\"<..: 18 18 18 18 18 9 9 9 9 10 ...\n",
      " $ Diff                           : Ord.factor w/ 2 levels \"Diff_MK\"<\"Diff_lymph\": 2 2 2 2 2 2 2 2 2 2 ...\n",
      " $ Assigned_GFPbc_demux_CellBender: Ord.factor w/ 14 levels \"chrGFP_WTA\"<\"chrGFP_WTB\"<..: 2 5 8 13 14 5 8 13 14 2 ...\n",
      " $ Freq                           : int  1 2 4 5 100 1 6 3 52 1 ...\n",
      " $ TOTAL                          : int  112 112 112 112 112 62 62 62 62 87 ...\n",
      " $ Perc                           : num  0.89 1.79 3.57 4.46 89.29 ...\n"
     ]
    }
   ],
   "source": [
    "str(Freq.table)"
   ]
  },
  {
   "cell_type": "code",
   "execution_count": 125,
   "id": "32d3daac-2b3e-43ee-901e-d569b925ce9c",
   "metadata": {
    "execution": {
     "iopub.execute_input": "2025-04-23T18:57:37.197021Z",
     "iopub.status.busy": "2025-04-23T18:57:37.196120Z",
     "iopub.status.idle": "2025-04-23T18:57:37.234313Z",
     "shell.execute_reply": "2025-04-23T18:57:37.233214Z"
    }
   },
   "outputs": [
    {
     "name": "stdout",
     "output_type": "stream",
     "text": [
      "'data.frame':\t8 obs. of  3 variables:\n",
      " $ time_point: Ord.factor w/ 7 levels \"0_days\"<\"8_days\"<..: 1 1 2 3 4 5 6 7\n",
      " $ Diff      : Ord.factor w/ 2 levels \"Diff_MK\"<\"Diff_lymph\": 1 2 1 1 2 1 2 2\n",
      " $ ntime     : int  13727 18055 1502 11368 22294 11203 7490 13616\n"
     ]
    }
   ],
   "source": [
    "met.dt<-data.table(met, key=c(\"time_point\",\"Diff\"))\n",
    "Freq.time_point<-as.data.frame(met.dt[,.(ntime=.N),by=key(met.dt)], stringsAsFactors=F)\n",
    "\n",
    "\n",
    "str(Freq.time_point)"
   ]
  },
  {
   "cell_type": "code",
   "execution_count": 126,
   "id": "8aacca93-ece6-40be-be77-6c879d053d83",
   "metadata": {
    "execution": {
     "iopub.execute_input": "2025-04-23T18:57:37.236964Z",
     "iopub.status.busy": "2025-04-23T18:57:37.236004Z",
     "iopub.status.idle": "2025-04-23T18:57:37.251715Z",
     "shell.execute_reply": "2025-04-23T18:57:37.250656Z"
    }
   },
   "outputs": [
    {
     "name": "stdout",
     "output_type": "stream",
     "text": [
      "'data.frame':\t788 obs. of  8 variables:\n",
      " $ time_point                     : Ord.factor w/ 7 levels \"0_days\"<\"8_days\"<..: 1 1 1 1 1 1 1 1 1 1 ...\n",
      " $ Diff                           : Ord.factor w/ 2 levels \"Diff_MK\"<\"Diff_lymph\": 2 2 2 2 2 2 2 2 2 2 ...\n",
      " $ Integrated_annotation          : Ord.factor w/ 21 levels \"hESC\"<\"HemogenicEndothelium\"<..: 18 18 18 18 18 9 9 9 9 10 ...\n",
      " $ Assigned_GFPbc_demux_CellBender: Ord.factor w/ 14 levels \"chrGFP_WTA\"<\"chrGFP_WTB\"<..: 2 5 8 13 14 5 8 13 14 2 ...\n",
      " $ Freq                           : int  1 2 4 5 100 1 6 3 52 1 ...\n",
      " $ TOTAL                          : int  112 112 112 112 112 62 62 62 62 87 ...\n",
      " $ Perc                           : num  0.89 1.79 3.57 4.46 89.29 ...\n",
      " $ ntime                          : int  18055 18055 18055 18055 18055 18055 18055 18055 18055 18055 ...\n"
     ]
    }
   ],
   "source": [
    "Freq.table<-merge(Freq.table,\n",
    "                  Freq.time_point,\n",
    "                  by=c(\"time_point\",\"Diff\"))\n",
    "\n",
    "str(Freq.table)"
   ]
  },
  {
   "cell_type": "code",
   "execution_count": 127,
   "id": "e4450ff7-e343-486e-8935-255a3c6b64c1",
   "metadata": {
    "execution": {
     "iopub.execute_input": "2025-04-23T18:57:37.254296Z",
     "iopub.status.busy": "2025-04-23T18:57:37.253401Z",
     "iopub.status.idle": "2025-04-23T18:57:37.266970Z",
     "shell.execute_reply": "2025-04-23T18:57:37.265880Z"
    }
   },
   "outputs": [
    {
     "name": "stdout",
     "output_type": "stream",
     "text": [
      "'data.frame':\t551 obs. of  8 variables:\n",
      " $ time_point                     : Ord.factor w/ 7 levels \"0_days\"<\"8_days\"<..: 1 1 1 1 1 1 1 1 1 1 ...\n",
      " $ Diff                           : Ord.factor w/ 2 levels \"Diff_MK\"<\"Diff_lymph\": 2 2 2 2 2 2 2 2 2 2 ...\n",
      " $ Integrated_annotation          : Ord.factor w/ 21 levels \"hESC\"<\"HemogenicEndothelium\"<..: 18 18 18 18 18 19 19 19 19 19 ...\n",
      " $ Assigned_GFPbc_demux_CellBender: Ord.factor w/ 14 levels \"chrGFP_WTA\"<\"chrGFP_WTB\"<..: 2 5 8 13 14 5 8 14 10 11 ...\n",
      " $ Freq                           : int  1 2 4 5 100 2 15 238 2 2 ...\n",
      " $ TOTAL                          : int  112 112 112 112 112 275 275 275 275 275 ...\n",
      " $ Perc                           : num  0.89 1.79 3.57 4.46 89.29 ...\n",
      " $ ntime                          : int  18055 18055 18055 18055 18055 18055 18055 18055 18055 18055 ...\n"
     ]
    }
   ],
   "source": [
    "Freq.table_filtered<-Freq.table[which(Freq.table$TOTAL >= 100),]\n",
    "\n",
    "str(Freq.table_filtered)"
   ]
  },
  {
   "cell_type": "code",
   "execution_count": 128,
   "id": "a6176e3c-c79f-4da6-b581-473b3d17d21f",
   "metadata": {
    "execution": {
     "iopub.execute_input": "2025-04-23T18:57:37.269619Z",
     "iopub.status.busy": "2025-04-23T18:57:37.268692Z",
     "iopub.status.idle": "2025-04-23T18:57:37.276464Z",
     "shell.execute_reply": "2025-04-23T18:57:37.275406Z"
    }
   },
   "outputs": [],
   "source": [
    "fill_colours<-c(brewer.pal(9, \"Greens\")[c(5,6,7)],brewer.pal(9, \"Reds\")[c(5,6,7)],brewer.pal(9, \"Purples\")[c(5,6,7)],brewer.pal(9, \"PuRd\")[c(5,6,7)],'gray','black')"
   ]
  },
  {
   "cell_type": "code",
   "execution_count": 129,
   "id": "5d0bb376-3c34-4529-89f3-67693cba3ec0",
   "metadata": {
    "execution": {
     "iopub.execute_input": "2025-04-23T18:57:37.279122Z",
     "iopub.status.busy": "2025-04-23T18:57:37.278203Z",
     "iopub.status.idle": "2025-04-23T18:57:37.290173Z",
     "shell.execute_reply": "2025-04-23T18:57:37.289087Z"
    }
   },
   "outputs": [
    {
     "name": "stdout",
     "output_type": "stream",
     "text": [
      "'data.frame':\t551 obs. of  8 variables:\n",
      " $ time_point                     : Ord.factor w/ 7 levels \"0_days\"<\"8_days\"<..: 1 1 1 1 1 1 1 1 1 1 ...\n",
      " $ Diff                           : Ord.factor w/ 2 levels \"Diff_MK\"<\"Diff_lymph\": 2 2 2 2 2 2 2 2 2 2 ...\n",
      " $ Integrated_annotation          : Ord.factor w/ 21 levels \"hESC\"<\"HemogenicEndothelium\"<..: 18 18 18 18 18 19 19 19 19 19 ...\n",
      " $ Assigned_GFPbc_demux_CellBender: Ord.factor w/ 14 levels \"chrGFP_WTA\"<\"chrGFP_WTB\"<..: 2 5 8 13 14 5 8 14 10 11 ...\n",
      " $ Freq                           : int  1 2 4 5 100 2 15 238 2 2 ...\n",
      " $ TOTAL                          : int  112 112 112 112 112 275 275 275 275 275 ...\n",
      " $ Perc                           : num  0.89 1.79 3.57 4.46 89.29 ...\n",
      " $ ntime                          : int  18055 18055 18055 18055 18055 18055 18055 18055 18055 18055 ...\n"
     ]
    }
   ],
   "source": [
    "str(Freq.table_filtered)"
   ]
  },
  {
   "cell_type": "code",
   "execution_count": 130,
   "id": "d916a304-9ed0-4347-bb61-00cf5aa89c95",
   "metadata": {
    "execution": {
     "iopub.execute_input": "2025-04-23T18:57:37.292914Z",
     "iopub.status.busy": "2025-04-23T18:57:37.291950Z",
     "iopub.status.idle": "2025-04-23T18:57:38.482686Z",
     "shell.execute_reply": "2025-04-23T18:57:38.481458Z"
    }
   },
   "outputs": [
    {
     "name": "stdout",
     "output_type": "stream",
     "text": [
      "-------------------------------------->\t0 25 50 75 100\n"
     ]
    },
    {
     "data": {
      "image/png": "[encoded data removed]",
      "text/plain": [
       "plot without title"
      ]
     },
     "metadata": {
      "image/png": {
       "height": 420,
       "width": 420
      }
     },
     "output_type": "display_data"
    }
   ],
   "source": [
    "#### Stacked Graph #1---------------\n",
    "  \n",
    "  breaks.Rank<-(seq(0,100,by=25))\n",
    "  labels.Rank<-as.character(breaks.Rank)\n",
    "  \n",
    "  cat(\"-------------------------------------->\\t\")\n",
    "  cat(sprintf(as.character(labels.Rank)))\n",
    "  cat(\"\\n\")\n",
    "  \n",
    "  \n",
    "  stacked_barplot<-Freq.table_filtered %>%\n",
    "    mutate(myaxis = paste0(Integrated_annotation, \" \", \"n=\", TOTAL), drop=F) %>%\n",
    "    mutate(myaxis=fct_reorder(myaxis,as.numeric(Integrated_annotation)), drop=F) %>%\n",
    "    ggplot(aes(x=myaxis, y=Perc, fill=Assigned_GFPbc_demux_CellBender)) +\n",
    "    geom_bar(stat=\"identity\",colour='white')+\n",
    "    scale_y_continuous(name=paste(\"Percentage of cells in each cell type\",sep=\" \"),breaks=breaks.Rank,labels=labels.Rank,\n",
    "                       limits=c(breaks.Rank[1],breaks.Rank[length(breaks.Rank)]+1))+\n",
    "    scale_fill_manual(values=fill_colours,\n",
    "                      drop=F,\n",
    "                      name=\"Genotype\")\n",
    "\n",
    " stacked_barplot<-stacked_barplot+\n",
    "    theme_cowplot(font_size = 2)+\n",
    "    facet_grid(Diff ~ time_point+ntime, scales='free_x', space='free_x', switch=\"y\", \n",
    "               labeller=labeller(paste0(Freq.table_filtered$time_point, \"\\n\", \"n=\", Freq.table_filtered$ntime, drop=T)))+   \n",
    "    scale_x_discrete(name=\"Integrated_annotation\", drop=T)+\n",
    "    theme( strip.background = element_blank(),\n",
    "           strip.placement = \"outside\",\n",
    "           strip.text = element_text(size=6),\n",
    "           panel.spacing = unit(0.2, \"lines\"),\n",
    "           panel.background=element_rect(fill=\"white\"),\n",
    "           panel.border=element_rect(colour=\"white\",size=0,5),\n",
    "           panel.grid.major = element_blank(),\n",
    "           panel.grid.minor = element_blank())+\n",
    "        theme_classic()+\n",
    "            theme(axis.title.y=element_text(size=12, color=\"black\", family=\"sans\"),\n",
    "                  axis.title.x=element_blank(),\n",
    "                  axis.text.y=element_text(angle=0,size=10, color=\"black\", family=\"sans\"),\n",
    "                  axis.text.x=element_text(angle=90,size=8,hjust=1,vjust=0.5,color=\"black\", family=\"sans\"),\n",
    "                  axis.line.x = element_line(size = 0.2),\n",
    "                  axis.ticks.x = element_line(size = 0.2),\n",
    "                  axis.ticks.y = element_line(size = 0.2),\n",
    "                  axis.line.y = element_line(size = 0.2))+\n",
    "            theme(legend.title = element_blank(),\n",
    "                  legend.text = element_text(size=8, color=\"black\", family=\"sans\"),\n",
    "                  legend.key.size = unit(0.25, 'cm'), #change legend key size\n",
    "                  legend.key.height = unit(0.25, 'cm'), #change legend key height\n",
    "                  legend.key.width = unit(0.25, 'cm'), #change legend key width\n",
    "                  legend.position=\"bottom\")\n",
    "\n",
    "\n",
    "\n",
    "stacked_barplot"
   ]
  },
  {
   "cell_type": "code",
   "execution_count": 131,
   "id": "ee9ff7e5-1fe5-428b-ae0a-e3e40b9275a3",
   "metadata": {
    "execution": {
     "iopub.execute_input": "2025-04-23T18:57:38.485423Z",
     "iopub.status.busy": "2025-04-23T18:57:38.484477Z",
     "iopub.status.idle": "2025-04-23T18:57:39.792207Z",
     "shell.execute_reply": "2025-04-23T18:57:39.790921Z"
    }
   },
   "outputs": [],
   "source": [
    "setwd(path_graphs)\n",
    "\n",
    "svgname<-paste(\"stacked_barplot_Diff_vs_time_point_Integrated_annotation_vs_Assigned_GFPbc_demux_CellBender\",\".png\",sep='')\n",
    "makesvg = TRUE\n",
    "\n",
    "if (makesvg == TRUE)\n",
    "{\n",
    "  ggsave(svgname, plot= stacked_barplot,\n",
    "         device=\"png\",\n",
    "        width=13, height=13)\n",
    "}"
   ]
  },
  {
   "cell_type": "markdown",
   "id": "4a177c7b-172d-4a33-988e-a101fe261cca",
   "metadata": {},
   "source": [
    "# Create an integrative genotype assignation"
   ]
  },
  {
   "cell_type": "code",
   "execution_count": 132,
   "id": "374b315f-cf9f-47c5-b52f-ffe693e0da0f",
   "metadata": {
    "execution": {
     "iopub.execute_input": "2025-04-23T18:57:39.794964Z",
     "iopub.status.busy": "2025-04-23T18:57:39.794005Z",
     "iopub.status.idle": "2025-04-23T18:57:39.802710Z",
     "shell.execute_reply": "2025-04-23T18:57:39.801669Z"
    }
   },
   "outputs": [],
   "source": [
    "# Remove the specified column from the metadata\n",
    "adata@meta.data <- adata@meta.data[, !names(adata@meta.data) %in% c('integrative_annotation')]"
   ]
  },
  {
   "cell_type": "code",
   "execution_count": 133,
   "id": "1a615d65-8951-4997-b5a7-29c2d86932b6",
   "metadata": {
    "execution": {
     "iopub.execute_input": "2025-04-23T18:57:39.805312Z",
     "iopub.status.busy": "2025-04-23T18:57:39.804419Z",
     "iopub.status.idle": "2025-04-23T18:57:39.812097Z",
     "shell.execute_reply": "2025-04-23T18:57:39.811082Z"
    }
   },
   "outputs": [],
   "source": [
    "adata@meta.data$integrative_genotyping<-NA"
   ]
  },
  {
   "cell_type": "code",
   "execution_count": 134,
   "id": "02ebbd7f-97f2-4e1a-8795-f83ae802f496",
   "metadata": {
    "execution": {
     "iopub.execute_input": "2025-04-23T18:57:39.814726Z",
     "iopub.status.busy": "2025-04-23T18:57:39.813787Z",
     "iopub.status.idle": "2025-04-23T18:57:39.826353Z",
     "shell.execute_reply": "2025-04-23T18:57:39.825268Z"
    }
   },
   "outputs": [
    {
     "data": {
      "text/html": [
       "<strong>NA's:</strong> 99255"
      ],
      "text/latex": [
       "\\textbf{NA's:} 99255"
      ],
      "text/markdown": [
       "**NA's:** 99255"
      ],
      "text/plain": [
       " NA's \n",
       "99255 "
      ]
     },
     "metadata": {},
     "output_type": "display_data"
    }
   ],
   "source": [
    "summary(as.factor(adata@meta.data$integrative_genotyping))"
   ]
  },
  {
   "cell_type": "markdown",
   "id": "0c50766e-29a4-489b-910d-83ae986c9a99",
   "metadata": {},
   "source": [
    "## 1. First keep the genotype assignation from the GEX library using Paola's criteria (3 UMIs and no conflicting barcodes)"
   ]
  },
  {
   "cell_type": "code",
   "execution_count": 135,
   "id": "25a3d1a1-2c87-4ca4-8860-cabffce84206",
   "metadata": {
    "execution": {
     "iopub.execute_input": "2025-04-23T18:57:39.829014Z",
     "iopub.status.busy": "2025-04-23T18:57:39.828123Z",
     "iopub.status.idle": "2025-04-23T18:57:39.842412Z",
     "shell.execute_reply": "2025-04-23T18:57:39.841344Z"
    }
   },
   "outputs": [
    {
     "name": "stdout",
     "output_type": "stream",
     "text": [
      " logi [1:99255] FALSE FALSE FALSE FALSE FALSE FALSE ...\n",
      " logi [1:99255] TRUE TRUE TRUE TRUE TRUE TRUE ...\n"
     ]
    }
   ],
   "source": [
    "indx.keep<-!is.na(adata@meta.data$Assignation_GEX_not_amplified)\n",
    "\n",
    "str(indx.keep)\n",
    "\n",
    "indx.change<-is.na(adata@meta.data$Assignation_GEX_not_amplified)\n",
    "\n",
    "str(indx.change)"
   ]
  },
  {
   "cell_type": "code",
   "execution_count": 136,
   "id": "1df6a8f6-39b8-408e-bdad-9c3166d0a208",
   "metadata": {
    "execution": {
     "iopub.execute_input": "2025-04-23T18:57:39.844960Z",
     "iopub.status.busy": "2025-04-23T18:57:39.844052Z",
     "iopub.status.idle": "2025-04-23T18:57:39.852956Z",
     "shell.execute_reply": "2025-04-23T18:57:39.851949Z"
    }
   },
   "outputs": [],
   "source": [
    "adata@meta.data$integrative_genotyping[indx.keep]<-as.character(adata@meta.data$Assignation_GEX_not_amplified[indx.keep])"
   ]
  },
  {
   "cell_type": "code",
   "execution_count": 137,
   "id": "a4ed7856-679b-4074-bc21-1312e07f0789",
   "metadata": {
    "execution": {
     "iopub.execute_input": "2025-04-23T18:57:39.855575Z",
     "iopub.status.busy": "2025-04-23T18:57:39.854645Z",
     "iopub.status.idle": "2025-04-23T18:57:39.868545Z",
     "shell.execute_reply": "2025-04-23T18:57:39.867495Z"
    }
   },
   "outputs": [
    {
     "data": {
      "text/html": [
       "<style>\n",
       ".dl-inline {width: auto; margin:0; padding: 0}\n",
       ".dl-inline>dt, .dl-inline>dd {float: none; width: auto; display: inline-block}\n",
       ".dl-inline>dt::after {content: \":\\0020\"; padding-right: .5ex}\n",
       ".dl-inline>dt:not(:first-of-type) {padding-left: .5ex}\n",
       "</style><dl class=dl-inline><dt>chrGFP_R882H1</dt><dd>189</dd><dt>chrGFP_R882H2</dt><dd>302</dd><dt>chrGFP_R882H3</dt><dd>159</dd><dt>chrGFP_rs_R882H1</dt><dd>285</dd><dt>chrGFP_rs_R882H2</dt><dd>186</dd><dt>chrGFP_rs_R882H3</dt><dd>156</dd><dt>chrGFP_rs1</dt><dd>1053</dd><dt>chrGFP_rs2</dt><dd>5050</dd><dt>chrGFP_rs3</dt><dd>5489</dd><dt>chrGFP_WTA</dt><dd>74</dd><dt>chrGFP_WTB</dt><dd>126</dd><dt>chrGFP_WTC</dt><dd>102</dd><dt>NA's</dt><dd>86084</dd></dl>\n"
      ],
      "text/latex": [
       "\\begin{description*}\n",
       "\\item[chrGFP\\textbackslash{}\\_R882H1] 189\n",
       "\\item[chrGFP\\textbackslash{}\\_R882H2] 302\n",
       "\\item[chrGFP\\textbackslash{}\\_R882H3] 159\n",
       "\\item[chrGFP\\textbackslash{}\\_rs\\textbackslash{}\\_R882H1] 285\n",
       "\\item[chrGFP\\textbackslash{}\\_rs\\textbackslash{}\\_R882H2] 186\n",
       "\\item[chrGFP\\textbackslash{}\\_rs\\textbackslash{}\\_R882H3] 156\n",
       "\\item[chrGFP\\textbackslash{}\\_rs1] 1053\n",
       "\\item[chrGFP\\textbackslash{}\\_rs2] 5050\n",
       "\\item[chrGFP\\textbackslash{}\\_rs3] 5489\n",
       "\\item[chrGFP\\textbackslash{}\\_WTA] 74\n",
       "\\item[chrGFP\\textbackslash{}\\_WTB] 126\n",
       "\\item[chrGFP\\textbackslash{}\\_WTC] 102\n",
       "\\item[NA's] 86084\n",
       "\\end{description*}\n"
      ],
      "text/markdown": [
       "chrGFP_R882H1\n",
       ":   189chrGFP_R882H2\n",
       ":   302chrGFP_R882H3\n",
       ":   159chrGFP_rs_R882H1\n",
       ":   285chrGFP_rs_R882H2\n",
       ":   186chrGFP_rs_R882H3\n",
       ":   156chrGFP_rs1\n",
       ":   1053chrGFP_rs2\n",
       ":   5050chrGFP_rs3\n",
       ":   5489chrGFP_WTA\n",
       ":   74chrGFP_WTB\n",
       ":   126chrGFP_WTC\n",
       ":   102NA's\n",
       ":   86084\n",
       "\n"
      ],
      "text/plain": [
       "   chrGFP_R882H1    chrGFP_R882H2    chrGFP_R882H3 chrGFP_rs_R882H1 \n",
       "             189              302              159              285 \n",
       "chrGFP_rs_R882H2 chrGFP_rs_R882H3       chrGFP_rs1       chrGFP_rs2 \n",
       "             186              156             1053             5050 \n",
       "      chrGFP_rs3       chrGFP_WTA       chrGFP_WTB       chrGFP_WTC \n",
       "            5489               74              126              102 \n",
       "            NA's \n",
       "           86084 "
      ]
     },
     "metadata": {},
     "output_type": "display_data"
    }
   ],
   "source": [
    "summary(as.factor(adata@meta.data$integrative_genotyping))"
   ]
  },
  {
   "cell_type": "markdown",
   "id": "bf7bf0c0-456b-4965-aaa0-3cd0d322ec17",
   "metadata": {},
   "source": [
    "## 2. Inside the 'Genotype missing' use the targeted amplification data. For the targeted amplification library use the assignation of Demux without CellBender except for the Doublets label"
   ]
  },
  {
   "cell_type": "code",
   "execution_count": 138,
   "id": "32f52e3f-31a4-44fc-b318-d35a97be019b",
   "metadata": {
    "execution": {
     "iopub.execute_input": "2025-04-23T18:57:39.871106Z",
     "iopub.status.busy": "2025-04-23T18:57:39.870201Z",
     "iopub.status.idle": "2025-04-23T18:57:39.885856Z",
     "shell.execute_reply": "2025-04-23T18:57:39.884790Z"
    }
   },
   "outputs": [
    {
     "name": "stdout",
     "output_type": "stream",
     "text": [
      " chr [1:99255] NA NA NA NA NA NA NA NA NA NA \"chrGFP_R882H1\" NA NA NA NA NA ...\n",
      "\n",
      " Ord.factor w/ 14 levels \"chrGFP_WTA\"<\"chrGFP_WTB\"<..: 9 14 14 13 13 14 7 14 13 13 ...\n",
      "\n"
     ]
    }
   ],
   "source": [
    "str(adata@meta.data$integrative_genotyping)\n",
    "cat(\"\\n\")\n",
    "\n",
    "str(adata@meta.data$Assigned_GFPbc_demux__NO_CellBender)\n",
    "cat(\"\\n\")"
   ]
  },
  {
   "cell_type": "code",
   "execution_count": 139,
   "id": "a3325145-31f2-4ddf-90f5-9a70bbec610f",
   "metadata": {
    "execution": {
     "iopub.execute_input": "2025-04-23T18:57:39.888422Z",
     "iopub.status.busy": "2025-04-23T18:57:39.887510Z",
     "iopub.status.idle": "2025-04-23T18:57:39.901777Z",
     "shell.execute_reply": "2025-04-23T18:57:39.900721Z"
    }
   },
   "outputs": [
    {
     "name": "stdout",
     "output_type": "stream",
     "text": [
      " logi [1:99255] TRUE TRUE TRUE FALSE FALSE TRUE ...\n"
     ]
    },
    {
     "data": {
      "text/html": [
       "56489"
      ],
      "text/latex": [
       "56489"
      ],
      "text/markdown": [
       "56489"
      ],
      "text/plain": [
       "[1] 56489"
      ]
     },
     "metadata": {},
     "output_type": "display_data"
    }
   ],
   "source": [
    "indx.keep.2<-is.na(adata@meta.data$integrative_genotyping) & adata@meta.data$Assigned_GFPbc_demux__NO_CellBender != 'Doublet'\n",
    "\n",
    "str(indx.keep.2)\n",
    "\n",
    "sum(indx.keep.2)"
   ]
  },
  {
   "cell_type": "code",
   "execution_count": 140,
   "id": "5ef72e6d-e1de-4edc-9918-443fb9045770",
   "metadata": {
    "execution": {
     "iopub.execute_input": "2025-04-23T18:57:39.904324Z",
     "iopub.status.busy": "2025-04-23T18:57:39.903426Z",
     "iopub.status.idle": "2025-04-23T18:57:39.917674Z",
     "shell.execute_reply": "2025-04-23T18:57:39.916582Z"
    }
   },
   "outputs": [
    {
     "name": "stdout",
     "output_type": "stream",
     "text": [
      " logi [1:99255] FALSE FALSE FALSE TRUE TRUE FALSE ...\n"
     ]
    },
    {
     "data": {
      "text/html": [
       "29595"
      ],
      "text/latex": [
       "29595"
      ],
      "text/markdown": [
       "29595"
      ],
      "text/plain": [
       "[1] 29595"
      ]
     },
     "metadata": {},
     "output_type": "display_data"
    }
   ],
   "source": [
    "indx.change.2<-is.na(adata@meta.data$integrative_genotyping) & adata@meta.data$Assigned_GFPbc_demux__NO_CellBender == 'Doublet'\n",
    "\n",
    "str(indx.change.2)\n",
    "\n",
    "sum(indx.change.2)"
   ]
  },
  {
   "cell_type": "code",
   "execution_count": 141,
   "id": "9777e0ca-0e64-472b-b602-57f2b890333c",
   "metadata": {
    "execution": {
     "iopub.execute_input": "2025-04-23T18:57:39.920297Z",
     "iopub.status.busy": "2025-04-23T18:57:39.919355Z",
     "iopub.status.idle": "2025-04-23T18:57:39.928407Z",
     "shell.execute_reply": "2025-04-23T18:57:39.927398Z"
    }
   },
   "outputs": [],
   "source": [
    "adata@meta.data$integrative_genotyping[indx.keep.2]<-as.character(adata@meta.data$Assigned_GFPbc_demux__NO_CellBender[indx.keep.2])"
   ]
  },
  {
   "cell_type": "markdown",
   "id": "1505bb0a-8666-49a2-9e1c-8bffa05c0f5d",
   "metadata": {},
   "source": [
    "## 3 Inside the 'Doublet' use the Cell Bender correction"
   ]
  },
  {
   "cell_type": "code",
   "execution_count": 142,
   "id": "a8ca1b06-a69e-4465-bd8f-9fbbac9b9ad0",
   "metadata": {
    "execution": {
     "iopub.execute_input": "2025-04-23T18:57:39.931047Z",
     "iopub.status.busy": "2025-04-23T18:57:39.930111Z",
     "iopub.status.idle": "2025-04-23T18:57:39.938760Z",
     "shell.execute_reply": "2025-04-23T18:57:39.937756Z"
    }
   },
   "outputs": [],
   "source": [
    "adata@meta.data$integrative_genotyping[indx.change.2]<-as.character(adata@meta.data$Assigned_GFPbc_demux_CellBender[indx.change.2])"
   ]
  },
  {
   "cell_type": "code",
   "execution_count": 143,
   "id": "43fd2e86-240d-44b8-83f5-4567875cdae5",
   "metadata": {
    "execution": {
     "iopub.execute_input": "2025-04-23T18:57:39.941354Z",
     "iopub.status.busy": "2025-04-23T18:57:39.940464Z",
     "iopub.status.idle": "2025-04-23T18:57:39.949670Z",
     "shell.execute_reply": "2025-04-23T18:57:39.948600Z"
    }
   },
   "outputs": [
    {
     "data": {
      "text/html": [
       "297765"
      ],
      "text/latex": [
       "297765"
      ],
      "text/markdown": [
       "297765"
      ],
      "text/plain": [
       "[1] 297765"
      ]
     },
     "metadata": {},
     "output_type": "display_data"
    }
   ],
   "source": [
    "length(indx.keep)+length(indx.keep.2)+length(indx.change.2)"
   ]
  },
  {
   "cell_type": "code",
   "execution_count": 144,
   "id": "d69ff503-114d-4dac-9373-875c93a54610",
   "metadata": {
    "execution": {
     "iopub.execute_input": "2025-04-23T18:57:39.952325Z",
     "iopub.status.busy": "2025-04-23T18:57:39.951410Z",
     "iopub.status.idle": "2025-04-23T18:57:39.960684Z",
     "shell.execute_reply": "2025-04-23T18:57:39.959641Z"
    }
   },
   "outputs": [
    {
     "data": {
      "text/html": [
       "99255"
      ],
      "text/latex": [
       "99255"
      ],
      "text/markdown": [
       "99255"
      ],
      "text/plain": [
       "[1] 99255"
      ]
     },
     "metadata": {},
     "output_type": "display_data"
    }
   ],
   "source": [
    "dim(adata@meta.data)[1]"
   ]
  },
  {
   "cell_type": "markdown",
   "id": "16cea8ce-7598-4371-9629-de14ece3e57c",
   "metadata": {},
   "source": [
    "## Order the factor"
   ]
  },
  {
   "cell_type": "code",
   "execution_count": 145,
   "id": "dd46965a-3c22-4d9a-9c7b-bf4897012c77",
   "metadata": {
    "execution": {
     "iopub.execute_input": "2025-04-23T18:57:39.963257Z",
     "iopub.status.busy": "2025-04-23T18:57:39.962354Z",
     "iopub.status.idle": "2025-04-23T18:57:39.975747Z",
     "shell.execute_reply": "2025-04-23T18:57:39.974689Z"
    }
   },
   "outputs": [
    {
     "data": {
      "text/html": [
       "<style>\n",
       ".dl-inline {width: auto; margin:0; padding: 0}\n",
       ".dl-inline>dt, .dl-inline>dd {float: none; width: auto; display: inline-block}\n",
       ".dl-inline>dt::after {content: \":\\0020\"; padding-right: .5ex}\n",
       ".dl-inline>dt:not(:first-of-type) {padding-left: .5ex}\n",
       "</style><dl class=dl-inline><dt>chrGFP_R882H1</dt><dd>1576</dd><dt>chrGFP_R882H2</dt><dd>3911</dd><dt>chrGFP_R882H3</dt><dd>1985</dd><dt>chrGFP_rs_R882H1</dt><dd>1887</dd><dt>chrGFP_rs_R882H2</dt><dd>1098</dd><dt>chrGFP_rs_R882H3</dt><dd>1131</dd><dt>chrGFP_rs1</dt><dd>3003</dd><dt>chrGFP_rs2</dt><dd>14371</dd><dt>chrGFP_rs3</dt><dd>18763</dd><dt>chrGFP_WTA</dt><dd>189</dd><dt>chrGFP_WTB</dt><dd>548</dd><dt>chrGFP_WTC</dt><dd>405</dd><dt>Doublet</dt><dd>17137</dd><dt>Negative</dt><dd>33251</dd></dl>\n"
      ],
      "text/latex": [
       "\\begin{description*}\n",
       "\\item[chrGFP\\textbackslash{}\\_R882H1] 1576\n",
       "\\item[chrGFP\\textbackslash{}\\_R882H2] 3911\n",
       "\\item[chrGFP\\textbackslash{}\\_R882H3] 1985\n",
       "\\item[chrGFP\\textbackslash{}\\_rs\\textbackslash{}\\_R882H1] 1887\n",
       "\\item[chrGFP\\textbackslash{}\\_rs\\textbackslash{}\\_R882H2] 1098\n",
       "\\item[chrGFP\\textbackslash{}\\_rs\\textbackslash{}\\_R882H3] 1131\n",
       "\\item[chrGFP\\textbackslash{}\\_rs1] 3003\n",
       "\\item[chrGFP\\textbackslash{}\\_rs2] 14371\n",
       "\\item[chrGFP\\textbackslash{}\\_rs3] 18763\n",
       "\\item[chrGFP\\textbackslash{}\\_WTA] 189\n",
       "\\item[chrGFP\\textbackslash{}\\_WTB] 548\n",
       "\\item[chrGFP\\textbackslash{}\\_WTC] 405\n",
       "\\item[Doublet] 17137\n",
       "\\item[Negative] 33251\n",
       "\\end{description*}\n"
      ],
      "text/markdown": [
       "chrGFP_R882H1\n",
       ":   1576chrGFP_R882H2\n",
       ":   3911chrGFP_R882H3\n",
       ":   1985chrGFP_rs_R882H1\n",
       ":   1887chrGFP_rs_R882H2\n",
       ":   1098chrGFP_rs_R882H3\n",
       ":   1131chrGFP_rs1\n",
       ":   3003chrGFP_rs2\n",
       ":   14371chrGFP_rs3\n",
       ":   18763chrGFP_WTA\n",
       ":   189chrGFP_WTB\n",
       ":   548chrGFP_WTC\n",
       ":   405Doublet\n",
       ":   17137Negative\n",
       ":   33251\n",
       "\n"
      ],
      "text/plain": [
       "   chrGFP_R882H1    chrGFP_R882H2    chrGFP_R882H3 chrGFP_rs_R882H1 \n",
       "            1576             3911             1985             1887 \n",
       "chrGFP_rs_R882H2 chrGFP_rs_R882H3       chrGFP_rs1       chrGFP_rs2 \n",
       "            1098             1131             3003            14371 \n",
       "      chrGFP_rs3       chrGFP_WTA       chrGFP_WTB       chrGFP_WTC \n",
       "           18763              189              548              405 \n",
       "         Doublet         Negative \n",
       "           17137            33251 "
      ]
     },
     "metadata": {},
     "output_type": "display_data"
    }
   ],
   "source": [
    "summary(as.factor(adata@meta.data$integrative_genotyping))"
   ]
  },
  {
   "cell_type": "code",
   "execution_count": 146,
   "id": "2280dd13-338b-4d8c-81a9-8ebb868be601",
   "metadata": {
    "execution": {
     "iopub.execute_input": "2025-04-23T18:57:39.978347Z",
     "iopub.status.busy": "2025-04-23T18:57:39.977466Z",
     "iopub.status.idle": "2025-04-23T18:57:39.983953Z",
     "shell.execute_reply": "2025-04-23T18:57:39.982936Z"
    }
   },
   "outputs": [],
   "source": [
    "#summary(droplevels(as.factor(adata@meta.data$Assigned_GFPbc[is.na(adata@meta.data$integrative_genotyping)])))"
   ]
  },
  {
   "cell_type": "code",
   "execution_count": 147,
   "id": "6cb3228a-f63b-4a80-9b05-a97da5583132",
   "metadata": {
    "execution": {
     "iopub.execute_input": "2025-04-23T18:57:39.986540Z",
     "iopub.status.busy": "2025-04-23T18:57:39.985625Z",
     "iopub.status.idle": "2025-04-23T18:57:39.992168Z",
     "shell.execute_reply": "2025-04-23T18:57:39.991143Z"
    }
   },
   "outputs": [],
   "source": [
    "#summary(droplevels(as.factor(adata@meta.data$Assigned_GFPbc_demux__NO_CellBender[is.na(adata@meta.data$integrative_genotyping)])))"
   ]
  },
  {
   "cell_type": "code",
   "execution_count": 148,
   "id": "eb8380bc-ac43-4d80-aa86-62181eaaee84",
   "metadata": {
    "execution": {
     "iopub.execute_input": "2025-04-23T18:57:39.994817Z",
     "iopub.status.busy": "2025-04-23T18:57:39.993863Z",
     "iopub.status.idle": "2025-04-23T18:57:40.000538Z",
     "shell.execute_reply": "2025-04-23T18:57:39.999510Z"
    }
   },
   "outputs": [],
   "source": [
    "#summary(droplevels(as.factor(adata@meta.data$Assigned_GFPbc_demux_CellBender[is.na(adata@meta.data$integrative_genotyping)])))"
   ]
  },
  {
   "cell_type": "code",
   "execution_count": 149,
   "id": "d7fa3f0b-2855-4ae8-bf37-fe38e51a4761",
   "metadata": {
    "execution": {
     "iopub.execute_input": "2025-04-23T18:57:40.003187Z",
     "iopub.status.busy": "2025-04-23T18:57:40.002274Z",
     "iopub.status.idle": "2025-04-23T18:57:40.010599Z",
     "shell.execute_reply": "2025-04-23T18:57:40.009576Z"
    }
   },
   "outputs": [],
   "source": [
    "adata@meta.data$integrative_genotyping<-factor(adata@meta.data$integrative_genotyping,\n",
    "                                       levels = c(\"chrGFP_WTA\",\"chrGFP_WTB\",\"chrGFP_WTC\",\n",
    "                                                  \"chrGFP_rs1\",\"chrGFP_rs2\",\"chrGFP_rs3\",\n",
    "                                                  \"chrGFP_R882H1\",\"chrGFP_R882H2\",\"chrGFP_R882H3\",\n",
    "                                                  \"chrGFP_rs_R882H1\",\"chrGFP_rs_R882H2\",\"chrGFP_rs_R882H3\",\"Doublet\",\"Negative\"),\n",
    "                                       ordered=T)"
   ]
  },
  {
   "cell_type": "code",
   "execution_count": 150,
   "id": "f80f2a1b-2bbc-4e6c-871a-be700c19f3ee",
   "metadata": {
    "execution": {
     "iopub.execute_input": "2025-04-23T18:57:40.013195Z",
     "iopub.status.busy": "2025-04-23T18:57:40.012289Z",
     "iopub.status.idle": "2025-04-23T18:57:40.023690Z",
     "shell.execute_reply": "2025-04-23T18:57:40.022643Z"
    }
   },
   "outputs": [
    {
     "data": {
      "text/html": [
       "<style>\n",
       ".dl-inline {width: auto; margin:0; padding: 0}\n",
       ".dl-inline>dt, .dl-inline>dd {float: none; width: auto; display: inline-block}\n",
       ".dl-inline>dt::after {content: \":\\0020\"; padding-right: .5ex}\n",
       ".dl-inline>dt:not(:first-of-type) {padding-left: .5ex}\n",
       "</style><dl class=dl-inline><dt>chrGFP_WTA</dt><dd>189</dd><dt>chrGFP_WTB</dt><dd>548</dd><dt>chrGFP_WTC</dt><dd>405</dd><dt>chrGFP_rs1</dt><dd>3003</dd><dt>chrGFP_rs2</dt><dd>14371</dd><dt>chrGFP_rs3</dt><dd>18763</dd><dt>chrGFP_R882H1</dt><dd>1576</dd><dt>chrGFP_R882H2</dt><dd>3911</dd><dt>chrGFP_R882H3</dt><dd>1985</dd><dt>chrGFP_rs_R882H1</dt><dd>1887</dd><dt>chrGFP_rs_R882H2</dt><dd>1098</dd><dt>chrGFP_rs_R882H3</dt><dd>1131</dd><dt>Doublet</dt><dd>17137</dd><dt>Negative</dt><dd>33251</dd></dl>\n"
      ],
      "text/latex": [
       "\\begin{description*}\n",
       "\\item[chrGFP\\textbackslash{}\\_WTA] 189\n",
       "\\item[chrGFP\\textbackslash{}\\_WTB] 548\n",
       "\\item[chrGFP\\textbackslash{}\\_WTC] 405\n",
       "\\item[chrGFP\\textbackslash{}\\_rs1] 3003\n",
       "\\item[chrGFP\\textbackslash{}\\_rs2] 14371\n",
       "\\item[chrGFP\\textbackslash{}\\_rs3] 18763\n",
       "\\item[chrGFP\\textbackslash{}\\_R882H1] 1576\n",
       "\\item[chrGFP\\textbackslash{}\\_R882H2] 3911\n",
       "\\item[chrGFP\\textbackslash{}\\_R882H3] 1985\n",
       "\\item[chrGFP\\textbackslash{}\\_rs\\textbackslash{}\\_R882H1] 1887\n",
       "\\item[chrGFP\\textbackslash{}\\_rs\\textbackslash{}\\_R882H2] 1098\n",
       "\\item[chrGFP\\textbackslash{}\\_rs\\textbackslash{}\\_R882H3] 1131\n",
       "\\item[Doublet] 17137\n",
       "\\item[Negative] 33251\n",
       "\\end{description*}\n"
      ],
      "text/markdown": [
       "chrGFP_WTA\n",
       ":   189chrGFP_WTB\n",
       ":   548chrGFP_WTC\n",
       ":   405chrGFP_rs1\n",
       ":   3003chrGFP_rs2\n",
       ":   14371chrGFP_rs3\n",
       ":   18763chrGFP_R882H1\n",
       ":   1576chrGFP_R882H2\n",
       ":   3911chrGFP_R882H3\n",
       ":   1985chrGFP_rs_R882H1\n",
       ":   1887chrGFP_rs_R882H2\n",
       ":   1098chrGFP_rs_R882H3\n",
       ":   1131Doublet\n",
       ":   17137Negative\n",
       ":   33251\n",
       "\n"
      ],
      "text/plain": [
       "      chrGFP_WTA       chrGFP_WTB       chrGFP_WTC       chrGFP_rs1 \n",
       "             189              548              405             3003 \n",
       "      chrGFP_rs2       chrGFP_rs3    chrGFP_R882H1    chrGFP_R882H2 \n",
       "           14371            18763             1576             3911 \n",
       "   chrGFP_R882H3 chrGFP_rs_R882H1 chrGFP_rs_R882H2 chrGFP_rs_R882H3 \n",
       "            1985             1887             1098             1131 \n",
       "         Doublet         Negative \n",
       "           17137            33251 "
      ]
     },
     "metadata": {},
     "output_type": "display_data"
    }
   ],
   "source": [
    "summary(adata@meta.data$integrative_genotyping)"
   ]
  },
  {
   "cell_type": "markdown",
   "id": "a32d7171-2c23-4e41-9f4d-0e940e2d7c9d",
   "metadata": {},
   "source": [
    "# Create the clone line factor and order it"
   ]
  },
  {
   "cell_type": "code",
   "execution_count": 151,
   "id": "27c996c4-3ee6-4871-94f7-68d74fcbede0",
   "metadata": {
    "execution": {
     "iopub.execute_input": "2025-04-23T18:57:40.026226Z",
     "iopub.status.busy": "2025-04-23T18:57:40.025324Z",
     "iopub.status.idle": "2025-04-23T18:57:40.032705Z",
     "shell.execute_reply": "2025-04-23T18:57:40.031700Z"
    }
   },
   "outputs": [],
   "source": [
    "adata@meta.data$clone_line<-adata@meta.data$integrative_genotyping"
   ]
  },
  {
   "cell_type": "code",
   "execution_count": 154,
   "id": "e378f56d-9952-4234-8a8d-b0d61b31f691",
   "metadata": {
    "execution": {
     "iopub.execute_input": "2025-04-23T18:59:54.036781Z",
     "iopub.status.busy": "2025-04-23T18:59:54.035652Z",
     "iopub.status.idle": "2025-04-23T18:59:54.080863Z",
     "shell.execute_reply": "2025-04-23T18:59:54.079796Z"
    }
   },
   "outputs": [],
   "source": [
    "suppressMessages(library(\"plyr\"))"
   ]
  },
  {
   "cell_type": "code",
   "execution_count": 155,
   "id": "07eb5d10-759a-43d4-8152-d0e0a5a85de0",
   "metadata": {
    "execution": {
     "iopub.execute_input": "2025-04-23T18:59:55.813997Z",
     "iopub.status.busy": "2025-04-23T18:59:55.812952Z",
     "iopub.status.idle": "2025-04-23T18:59:55.822434Z",
     "shell.execute_reply": "2025-04-23T18:59:55.821332Z"
    }
   },
   "outputs": [],
   "source": [
    "adata@meta.data$clone_line<-revalue(adata@meta.data$clone_line,\n",
    "                                   c('chrGFP_WTA' = 'wt_1',\n",
    "                                    'chrGFP_WTB' = 'wt_2',\n",
    "                                     'chrGFP_WTC' = 'wt_3',\n",
    "                                    'chrGFP_rs1' = 'rs62237617_1',\n",
    "                                     'chrGFP_rs2' = 'rs62237617_2',\n",
    "                                     'chrGFP_rs3' = 'rs62237617_3',\n",
    "                                     'chrGFP_R882H1' = 'DNMT3A_1',\n",
    "                                     'chrGFP_R882H2' = 'DNMT3A_2',\n",
    "                                     'chrGFP_R882H3' = 'DNMT3A_3',\n",
    "                                     'chrGFP_rs_R882H1' = 'rs62237617_DNMT3A_1',\n",
    "                                     'chrGFP_rs_R882H2' = 'rs62237617_DNMT3A_2',\n",
    "                                     'chrGFP_rs_R882H3' = 'rs62237617_DNMT3A_3') \n",
    "                                   )"
   ]
  },
  {
   "cell_type": "code",
   "execution_count": 156,
   "id": "42d2bd39-906b-4820-8661-2c849d409717",
   "metadata": {
    "execution": {
     "iopub.execute_input": "2025-04-23T19:00:36.675309Z",
     "iopub.status.busy": "2025-04-23T19:00:36.674217Z",
     "iopub.status.idle": "2025-04-23T19:00:36.687204Z",
     "shell.execute_reply": "2025-04-23T19:00:36.686105Z"
    }
   },
   "outputs": [
    {
     "data": {
      "text/html": [
       "<style>\n",
       ".dl-inline {width: auto; margin:0; padding: 0}\n",
       ".dl-inline>dt, .dl-inline>dd {float: none; width: auto; display: inline-block}\n",
       ".dl-inline>dt::after {content: \":\\0020\"; padding-right: .5ex}\n",
       ".dl-inline>dt:not(:first-of-type) {padding-left: .5ex}\n",
       "</style><dl class=dl-inline><dt>wt_1</dt><dd>189</dd><dt>wt_2</dt><dd>548</dd><dt>wt_3</dt><dd>405</dd><dt>rs62237617_1</dt><dd>3003</dd><dt>rs62237617_2</dt><dd>14371</dd><dt>rs62237617_3</dt><dd>18763</dd><dt>DNMT3A_1</dt><dd>1576</dd><dt>DNMT3A_2</dt><dd>3911</dd><dt>DNMT3A_3</dt><dd>1985</dd><dt>rs62237617_DNMT3A_1</dt><dd>1887</dd><dt>rs62237617_DNMT3A_2</dt><dd>1098</dd><dt>rs62237617_DNMT3A_3</dt><dd>1131</dd><dt>Doublet</dt><dd>17137</dd><dt>Negative</dt><dd>33251</dd></dl>\n"
      ],
      "text/latex": [
       "\\begin{description*}\n",
       "\\item[wt\\textbackslash{}\\_1] 189\n",
       "\\item[wt\\textbackslash{}\\_2] 548\n",
       "\\item[wt\\textbackslash{}\\_3] 405\n",
       "\\item[rs62237617\\textbackslash{}\\_1] 3003\n",
       "\\item[rs62237617\\textbackslash{}\\_2] 14371\n",
       "\\item[rs62237617\\textbackslash{}\\_3] 18763\n",
       "\\item[DNMT3A\\textbackslash{}\\_1] 1576\n",
       "\\item[DNMT3A\\textbackslash{}\\_2] 3911\n",
       "\\item[DNMT3A\\textbackslash{}\\_3] 1985\n",
       "\\item[rs62237617\\textbackslash{}\\_DNMT3A\\textbackslash{}\\_1] 1887\n",
       "\\item[rs62237617\\textbackslash{}\\_DNMT3A\\textbackslash{}\\_2] 1098\n",
       "\\item[rs62237617\\textbackslash{}\\_DNMT3A\\textbackslash{}\\_3] 1131\n",
       "\\item[Doublet] 17137\n",
       "\\item[Negative] 33251\n",
       "\\end{description*}\n"
      ],
      "text/markdown": [
       "wt_1\n",
       ":   189wt_2\n",
       ":   548wt_3\n",
       ":   405rs62237617_1\n",
       ":   3003rs62237617_2\n",
       ":   14371rs62237617_3\n",
       ":   18763DNMT3A_1\n",
       ":   1576DNMT3A_2\n",
       ":   3911DNMT3A_3\n",
       ":   1985rs62237617_DNMT3A_1\n",
       ":   1887rs62237617_DNMT3A_2\n",
       ":   1098rs62237617_DNMT3A_3\n",
       ":   1131Doublet\n",
       ":   17137Negative\n",
       ":   33251\n",
       "\n"
      ],
      "text/plain": [
       "               wt_1                wt_2                wt_3        rs62237617_1 \n",
       "                189                 548                 405                3003 \n",
       "       rs62237617_2        rs62237617_3            DNMT3A_1            DNMT3A_2 \n",
       "              14371               18763                1576                3911 \n",
       "           DNMT3A_3 rs62237617_DNMT3A_1 rs62237617_DNMT3A_2 rs62237617_DNMT3A_3 \n",
       "               1985                1887                1098                1131 \n",
       "            Doublet            Negative \n",
       "              17137               33251 "
      ]
     },
     "metadata": {},
     "output_type": "display_data"
    }
   ],
   "source": [
    "summary(adata@meta.data$clone_line)"
   ]
  },
  {
   "cell_type": "code",
   "execution_count": 157,
   "id": "2912d854-dc50-4535-8424-b93c13069df1",
   "metadata": {
    "execution": {
     "iopub.execute_input": "2025-04-23T19:00:54.045527Z",
     "iopub.status.busy": "2025-04-23T19:00:54.044457Z",
     "iopub.status.idle": "2025-04-23T19:00:54.101629Z",
     "shell.execute_reply": "2025-04-23T19:00:54.100543Z"
    }
   },
   "outputs": [],
   "source": [
    "adata@meta.data$clone_line<-factor(adata@meta.data$clone_line,\n",
    "                                  levels=c('wt_1','wt_2','wt_3','rs62237617_1','rs62237617_2','rs62237617_3',\n",
    "                                           'DNMT3A_1','DNMT3A_2','DNMT3A_3',\n",
    "                                          'rs62237617_DNMT3A_1','rs62237617_DNMT3A_2','rs62237617_DNMT3A_3'),\n",
    "                                  ordered=T)"
   ]
  },
  {
   "cell_type": "code",
   "execution_count": 158,
   "id": "cdac3157-d234-412f-928f-11101cf94ae2",
   "metadata": {
    "execution": {
     "iopub.execute_input": "2025-04-23T19:01:07.334109Z",
     "iopub.status.busy": "2025-04-23T19:01:07.333008Z",
     "iopub.status.idle": "2025-04-23T19:01:07.346926Z",
     "shell.execute_reply": "2025-04-23T19:01:07.345834Z"
    }
   },
   "outputs": [
    {
     "data": {
      "text/html": [
       "<style>\n",
       ".dl-inline {width: auto; margin:0; padding: 0}\n",
       ".dl-inline>dt, .dl-inline>dd {float: none; width: auto; display: inline-block}\n",
       ".dl-inline>dt::after {content: \":\\0020\"; padding-right: .5ex}\n",
       ".dl-inline>dt:not(:first-of-type) {padding-left: .5ex}\n",
       "</style><dl class=dl-inline><dt>wt_1</dt><dd>189</dd><dt>wt_2</dt><dd>548</dd><dt>wt_3</dt><dd>405</dd><dt>rs62237617_1</dt><dd>3003</dd><dt>rs62237617_2</dt><dd>14371</dd><dt>rs62237617_3</dt><dd>18763</dd><dt>DNMT3A_1</dt><dd>1576</dd><dt>DNMT3A_2</dt><dd>3911</dd><dt>DNMT3A_3</dt><dd>1985</dd><dt>rs62237617_DNMT3A_1</dt><dd>1887</dd><dt>rs62237617_DNMT3A_2</dt><dd>1098</dd><dt>rs62237617_DNMT3A_3</dt><dd>1131</dd><dt>NA's</dt><dd>50388</dd></dl>\n"
      ],
      "text/latex": [
       "\\begin{description*}\n",
       "\\item[wt\\textbackslash{}\\_1] 189\n",
       "\\item[wt\\textbackslash{}\\_2] 548\n",
       "\\item[wt\\textbackslash{}\\_3] 405\n",
       "\\item[rs62237617\\textbackslash{}\\_1] 3003\n",
       "\\item[rs62237617\\textbackslash{}\\_2] 14371\n",
       "\\item[rs62237617\\textbackslash{}\\_3] 18763\n",
       "\\item[DNMT3A\\textbackslash{}\\_1] 1576\n",
       "\\item[DNMT3A\\textbackslash{}\\_2] 3911\n",
       "\\item[DNMT3A\\textbackslash{}\\_3] 1985\n",
       "\\item[rs62237617\\textbackslash{}\\_DNMT3A\\textbackslash{}\\_1] 1887\n",
       "\\item[rs62237617\\textbackslash{}\\_DNMT3A\\textbackslash{}\\_2] 1098\n",
       "\\item[rs62237617\\textbackslash{}\\_DNMT3A\\textbackslash{}\\_3] 1131\n",
       "\\item[NA's] 50388\n",
       "\\end{description*}\n"
      ],
      "text/markdown": [
       "wt_1\n",
       ":   189wt_2\n",
       ":   548wt_3\n",
       ":   405rs62237617_1\n",
       ":   3003rs62237617_2\n",
       ":   14371rs62237617_3\n",
       ":   18763DNMT3A_1\n",
       ":   1576DNMT3A_2\n",
       ":   3911DNMT3A_3\n",
       ":   1985rs62237617_DNMT3A_1\n",
       ":   1887rs62237617_DNMT3A_2\n",
       ":   1098rs62237617_DNMT3A_3\n",
       ":   1131NA's\n",
       ":   50388\n",
       "\n"
      ],
      "text/plain": [
       "               wt_1                wt_2                wt_3        rs62237617_1 \n",
       "                189                 548                 405                3003 \n",
       "       rs62237617_2        rs62237617_3            DNMT3A_1            DNMT3A_2 \n",
       "              14371               18763                1576                3911 \n",
       "           DNMT3A_3 rs62237617_DNMT3A_1 rs62237617_DNMT3A_2 rs62237617_DNMT3A_3 \n",
       "               1985                1887                1098                1131 \n",
       "               NA's \n",
       "              50388 "
      ]
     },
     "metadata": {},
     "output_type": "display_data"
    }
   ],
   "source": [
    "summary(adata@meta.data$clone_line)"
   ]
  },
  {
   "cell_type": "markdown",
   "id": "1c2b30e6-8992-4c50-a839-6b5a2f01f666",
   "metadata": {},
   "source": [
    "# Add the genotype factor"
   ]
  },
  {
   "cell_type": "code",
   "execution_count": 160,
   "id": "d4f9d2e8-bd26-44ec-8251-092d992b9a40",
   "metadata": {
    "execution": {
     "iopub.execute_input": "2025-04-23T19:02:11.253134Z",
     "iopub.status.busy": "2025-04-23T19:02:11.252034Z",
     "iopub.status.idle": "2025-04-23T19:02:11.318078Z",
     "shell.execute_reply": "2025-04-23T19:02:11.316774Z"
    }
   },
   "outputs": [
    {
     "name": "stdout",
     "output_type": "stream",
     "text": [
      "adata@meta.data_PRE\n",
      "\n"
     ]
    },
    {
     "data": {
      "text/html": [
       "<style>\n",
       ".list-inline {list-style: none; margin:0; padding: 0}\n",
       ".list-inline>li {display: inline-block}\n",
       ".list-inline>li:not(:last-child)::after {content: \"\\00b7\"; padding: 0 .5ex}\n",
       "</style>\n",
       "<ol class=list-inline><li>'DNMT3A'</li><li>'rs62237617'</li><li>'rs62237617_DNMT3A'</li><li>'wt'</li><li>'NA\\'s'</li></ol>\n"
      ],
      "text/latex": [
       "\\begin{enumerate*}\n",
       "\\item 'DNMT3A'\n",
       "\\item 'rs62237617'\n",
       "\\item 'rs62237617\\_DNMT3A'\n",
       "\\item 'wt'\n",
       "\\item 'NA\\textbackslash{}'s'\n",
       "\\end{enumerate*}\n"
      ],
      "text/markdown": [
       "1. 'DNMT3A'\n",
       "2. 'rs62237617'\n",
       "3. 'rs62237617_DNMT3A'\n",
       "4. 'wt'\n",
       "5. 'NA\\'s'\n",
       "\n",
       "\n"
      ],
      "text/plain": [
       "[1] \"DNMT3A\"            \"rs62237617\"        \"rs62237617_DNMT3A\"\n",
       "[4] \"wt\"                \"NA's\"             "
      ]
     },
     "metadata": {},
     "output_type": "display_data"
    },
    {
     "name": "stdout",
     "output_type": "stream",
     "text": [
      "\n"
     ]
    },
    {
     "data": {
      "text/html": [
       "<style>\n",
       ".list-inline {list-style: none; margin:0; padding: 0}\n",
       ".list-inline>li {display: inline-block}\n",
       ".list-inline>li:not(:last-child)::after {content: \"\\00b7\"; padding: 0 .5ex}\n",
       "</style>\n",
       "<ol class=list-inline><li>'wt_1'</li><li>'wt_2'</li><li>'wt_3'</li><li>'rs62237617_1'</li><li>'rs62237617_2'</li><li>'rs62237617_3'</li><li>'DNMT3A_1'</li><li>'DNMT3A_2'</li><li>'DNMT3A_3'</li><li>'rs62237617_DNMT3A_1'</li><li>'rs62237617_DNMT3A_2'</li><li>'rs62237617_DNMT3A_3'</li><li>'NA\\'s'</li></ol>\n"
      ],
      "text/latex": [
       "\\begin{enumerate*}\n",
       "\\item 'wt\\_1'\n",
       "\\item 'wt\\_2'\n",
       "\\item 'wt\\_3'\n",
       "\\item 'rs62237617\\_1'\n",
       "\\item 'rs62237617\\_2'\n",
       "\\item 'rs62237617\\_3'\n",
       "\\item 'DNMT3A\\_1'\n",
       "\\item 'DNMT3A\\_2'\n",
       "\\item 'DNMT3A\\_3'\n",
       "\\item 'rs62237617\\_DNMT3A\\_1'\n",
       "\\item 'rs62237617\\_DNMT3A\\_2'\n",
       "\\item 'rs62237617\\_DNMT3A\\_3'\n",
       "\\item 'NA\\textbackslash{}'s'\n",
       "\\end{enumerate*}\n"
      ],
      "text/markdown": [
       "1. 'wt_1'\n",
       "2. 'wt_2'\n",
       "3. 'wt_3'\n",
       "4. 'rs62237617_1'\n",
       "5. 'rs62237617_2'\n",
       "6. 'rs62237617_3'\n",
       "7. 'DNMT3A_1'\n",
       "8. 'DNMT3A_2'\n",
       "9. 'DNMT3A_3'\n",
       "10. 'rs62237617_DNMT3A_1'\n",
       "11. 'rs62237617_DNMT3A_2'\n",
       "12. 'rs62237617_DNMT3A_3'\n",
       "13. 'NA\\'s'\n",
       "\n",
       "\n"
      ],
      "text/plain": [
       " [1] \"wt_1\"                \"wt_2\"                \"wt_3\"               \n",
       " [4] \"rs62237617_1\"        \"rs62237617_2\"        \"rs62237617_3\"       \n",
       " [7] \"DNMT3A_1\"            \"DNMT3A_2\"            \"DNMT3A_3\"           \n",
       "[10] \"rs62237617_DNMT3A_1\" \"rs62237617_DNMT3A_2\" \"rs62237617_DNMT3A_3\"\n",
       "[13] \"NA's\"               "
      ]
     },
     "metadata": {},
     "output_type": "display_data"
    },
    {
     "name": "stdout",
     "output_type": "stream",
     "text": [
      "\n"
     ]
    },
    {
     "data": {
      "text/html": [
       "<style>\n",
       ".dl-inline {width: auto; margin:0; padding: 0}\n",
       ".dl-inline>dt, .dl-inline>dd {float: none; width: auto; display: inline-block}\n",
       ".dl-inline>dt::after {content: \":\\0020\"; padding-right: .5ex}\n",
       ".dl-inline>dt:not(:first-of-type) {padding-left: .5ex}\n",
       "</style><dl class=dl-inline><dt>wt</dt><dd>1142</dd><dt>rs62237617</dt><dd>36137</dd><dt>DNMT3A</dt><dd>7472</dd><dt>rs62237617_DNMT3A</dt><dd>4116</dd><dt>NA's</dt><dd>50388</dd></dl>\n"
      ],
      "text/latex": [
       "\\begin{description*}\n",
       "\\item[wt] 1142\n",
       "\\item[rs62237617] 36137\n",
       "\\item[DNMT3A] 7472\n",
       "\\item[rs62237617\\textbackslash{}\\_DNMT3A] 4116\n",
       "\\item[NA's] 50388\n",
       "\\end{description*}\n"
      ],
      "text/markdown": [
       "wt\n",
       ":   1142rs62237617\n",
       ":   36137DNMT3A\n",
       ":   7472rs62237617_DNMT3A\n",
       ":   4116NA's\n",
       ":   50388\n",
       "\n"
      ],
      "text/plain": [
       "               wt        rs62237617            DNMT3A rs62237617_DNMT3A \n",
       "             1142             36137              7472              4116 \n",
       "             NA's \n",
       "            50388 "
      ]
     },
     "metadata": {},
     "output_type": "display_data"
    },
    {
     "name": "stdout",
     "output_type": "stream",
     "text": [
      "\n"
     ]
    }
   ],
   "source": [
    "  \n",
    "  adata@meta.data$Genotype<-NA\n",
    "  \n",
    "  adata@meta.data$Genotype[which(adata@meta.data$clone_line%in%c('wt_1','wt_2','wt_3'))]<-'wt'\n",
    "  adata@meta.data$Genotype[which(adata@meta.data$clone_line%in%c('rs62237617_1','rs62237617_2','rs62237617_3'))]<-'rs62237617'\n",
    "  adata@meta.data$Genotype[which(adata@meta.data$clone_line%in%c('DNMT3A_1','DNMT3A_2','DNMT3A_3'))]<-'DNMT3A'\n",
    "  adata@meta.data$Genotype[which(adata@meta.data$clone_line%in%c('rs62237617_DNMT3A_1','rs62237617_DNMT3A_2','rs62237617_DNMT3A_3'))]<-'rs62237617_DNMT3A'\n",
    "  \n",
    "  \n",
    "  cat(\"adata@meta.data_PRE\\n\")\n",
    "  #cat(str(adata@meta.data))\n",
    "  cat(\"\\n\")\n",
    "  names(summary(as.factor(adata@meta.data$Genotype)))\n",
    "  cat(\"\\n\")\n",
    "  names(summary(as.factor(adata@meta.data$clone_line)))\n",
    "  cat(\"\\n\")\n",
    "   \n",
    "  \n",
    "  \n",
    "  adata@meta.data$Genotype<-factor(adata@meta.data$Genotype,\n",
    "                                  levels=c('wt','rs62237617','DNMT3A','rs62237617_DNMT3A'),\n",
    "                                  ordered=T)\n",
    "\n",
    "summary(as.factor(adata@meta.data$Genotype))\n",
    "  cat(\"\\n\")"
   ]
  },
  {
   "cell_type": "markdown",
   "id": "9f0f61e8-187c-46b4-b5e8-3b728fa819a6",
   "metadata": {},
   "source": [
    "## Show the genotype breakdown new"
   ]
  },
  {
   "cell_type": "markdown",
   "id": "75c8ccf7-36e0-489e-a3b5-38fdaa721834",
   "metadata": {},
   "source": [
    "### clone_line vs Integrated_annotation vs time_point vs Diff"
   ]
  },
  {
   "cell_type": "code",
   "execution_count": 161,
   "id": "322b1906-30de-4fde-9f3e-cbed015ba564",
   "metadata": {
    "execution": {
     "iopub.execute_input": "2025-04-23T19:02:28.508521Z",
     "iopub.status.busy": "2025-04-23T19:02:28.507406Z",
     "iopub.status.idle": "2025-04-23T19:02:28.518813Z",
     "shell.execute_reply": "2025-04-23T19:02:28.517682Z"
    }
   },
   "outputs": [],
   "source": [
    "met<-adata[[]]"
   ]
  },
  {
   "cell_type": "code",
   "execution_count": 162,
   "id": "2238d2cd-2f06-4e9c-9956-1503a0daa9cf",
   "metadata": {
    "execution": {
     "iopub.execute_input": "2025-04-23T19:02:29.363428Z",
     "iopub.status.busy": "2025-04-23T19:02:29.362449Z",
     "iopub.status.idle": "2025-04-23T19:02:29.369822Z",
     "shell.execute_reply": "2025-04-23T19:02:29.368671Z"
    }
   },
   "outputs": [],
   "source": [
    "#colnames(met)"
   ]
  },
  {
   "cell_type": "code",
   "execution_count": 163,
   "id": "383c1582-4be0-4d27-a2e5-3ae37be6fca4",
   "metadata": {
    "execution": {
     "iopub.execute_input": "2025-04-23T19:02:33.326764Z",
     "iopub.status.busy": "2025-04-23T19:02:33.325592Z",
     "iopub.status.idle": "2025-04-23T19:02:33.367507Z",
     "shell.execute_reply": "2025-04-23T19:02:33.366040Z"
    }
   },
   "outputs": [],
   "source": [
    "met.dt<-data.table(met,key=c(\"time_point\",\"Integrated_annotation\",\"clone_line\",\"Diff\"))"
   ]
  },
  {
   "cell_type": "code",
   "execution_count": 164,
   "id": "3d33fc60-7916-401c-bb71-ef441501476d",
   "metadata": {
    "execution": {
     "iopub.execute_input": "2025-04-23T19:02:33.370362Z",
     "iopub.status.busy": "2025-04-23T19:02:33.369378Z",
     "iopub.status.idle": "2025-04-23T19:02:33.377075Z",
     "shell.execute_reply": "2025-04-23T19:02:33.375984Z"
    }
   },
   "outputs": [],
   "source": [
    "#str(met.dt)"
   ]
  },
  {
   "cell_type": "code",
   "execution_count": 165,
   "id": "3b7bf306-c722-4b33-969f-b2808c676f64",
   "metadata": {
    "execution": {
     "iopub.execute_input": "2025-04-23T19:02:33.379821Z",
     "iopub.status.busy": "2025-04-23T19:02:33.378878Z",
     "iopub.status.idle": "2025-04-23T19:02:33.396287Z",
     "shell.execute_reply": "2025-04-23T19:02:33.395178Z"
    }
   },
   "outputs": [
    {
     "name": "stdout",
     "output_type": "stream",
     "text": [
      "'data.frame':\t858 obs. of  5 variables:\n",
      " $ time_point           : Ord.factor w/ 7 levels \"0_days\"<\"8_days\"<..: 1 1 1 1 1 1 1 1 1 1 ...\n",
      " $ Integrated_annotation: Ord.factor w/ 21 levels \"hESC\"<\"HemogenicEndothelium\"<..: 1 1 1 1 1 1 1 1 1 1 ...\n",
      " $ clone_line           : Ord.factor w/ 12 levels \"wt_1\"<\"wt_2\"<..: NA NA 1 1 2 2 3 3 4 4 ...\n",
      " $ Diff                 : Ord.factor w/ 2 levels \"Diff_MK\"<\"Diff_lymph\": 1 2 1 2 1 2 1 2 1 2 ...\n",
      " $ Freq                 : int  8031 2550 52 12 107 76 68 13 118 5 ...\n"
     ]
    }
   ],
   "source": [
    "Freq.table<-as.data.frame(met.dt[,.(Freq=.N),by=key(met.dt)], stringsAsFactors=F)\n",
    "\n",
    "str(Freq.table)"
   ]
  },
  {
   "cell_type": "code",
   "execution_count": 166,
   "id": "20775979-55ed-44ad-a41b-d868769869b1",
   "metadata": {
    "execution": {
     "iopub.execute_input": "2025-04-23T19:02:40.699769Z",
     "iopub.status.busy": "2025-04-23T19:02:40.698669Z",
     "iopub.status.idle": "2025-04-23T19:02:40.746079Z",
     "shell.execute_reply": "2025-04-23T19:02:40.744906Z"
    }
   },
   "outputs": [
    {
     "name": "stdout",
     "output_type": "stream",
     "text": [
      "'data.frame':\t137 obs. of  4 variables:\n",
      " $ time_point           : Ord.factor w/ 7 levels \"0_days\"<\"8_days\"<..: 1 1 1 1 1 1 1 1 1 1 ...\n",
      " $ Integrated_annotation: Ord.factor w/ 21 levels \"hESC\"<\"HemogenicEndothelium\"<..: 1 1 2 3 4 5 6 7 8 9 ...\n",
      " $ Diff                 : Ord.factor w/ 2 levels \"Diff_MK\"<\"Diff_lymph\": 1 2 2 2 2 2 2 2 2 2 ...\n",
      " $ TOTAL                : int  13726 3580 10891 582 44 740 88 477 63 62 ...\n"
     ]
    }
   ],
   "source": [
    "met.dt<-data.table(met, key=c(\"time_point\",\"Integrated_annotation\",\"Diff\"))\n",
    "Freq.TOTAL<-as.data.frame(met.dt[,.(TOTAL=.N),by=key(met.dt)], stringsAsFactors=F)\n",
    "\n",
    "str(Freq.TOTAL)"
   ]
  },
  {
   "cell_type": "code",
   "execution_count": 167,
   "id": "5424e60d-a37b-4001-8fd5-38da59499516",
   "metadata": {
    "execution": {
     "iopub.execute_input": "2025-04-23T19:02:41.743458Z",
     "iopub.status.busy": "2025-04-23T19:02:41.742496Z",
     "iopub.status.idle": "2025-04-23T19:02:41.755953Z",
     "shell.execute_reply": "2025-04-23T19:02:41.754858Z"
    }
   },
   "outputs": [],
   "source": [
    "Freq.table<-merge(Freq.table,\n",
    "                  Freq.TOTAL,\n",
    "                  by=c(\"time_point\",\"Integrated_annotation\",\"Diff\"))\n",
    "Freq.table$Perc<-round((100*(Freq.table$Freq/Freq.table$TOTAL)),2)\n",
    "\n",
    "#Freq.table"
   ]
  },
  {
   "cell_type": "code",
   "execution_count": 168,
   "id": "54697306-1283-464c-a2ca-09d4ede08cde",
   "metadata": {
    "execution": {
     "iopub.execute_input": "2025-04-23T19:02:42.724584Z",
     "iopub.status.busy": "2025-04-23T19:02:42.723601Z",
     "iopub.status.idle": "2025-04-23T19:02:42.735879Z",
     "shell.execute_reply": "2025-04-23T19:02:42.734778Z"
    }
   },
   "outputs": [
    {
     "name": "stdout",
     "output_type": "stream",
     "text": [
      "'data.frame':\t858 obs. of  7 variables:\n",
      " $ time_point           : Ord.factor w/ 7 levels \"0_days\"<\"8_days\"<..: 1 1 1 1 1 1 1 1 1 1 ...\n",
      " $ Integrated_annotation: Ord.factor w/ 21 levels \"hESC\"<\"HemogenicEndothelium\"<..: 18 18 18 18 18 18 18 18 18 18 ...\n",
      " $ Diff                 : Ord.factor w/ 2 levels \"Diff_MK\"<\"Diff_lymph\": 2 2 2 2 2 2 2 2 2 2 ...\n",
      " $ clone_line           : Ord.factor w/ 12 levels \"wt_1\"<\"wt_2\"<..: NA 1 2 3 4 5 6 7 8 9 ...\n",
      " $ Freq                 : int  71 1 2 3 1 6 2 1 20 3 ...\n",
      " $ TOTAL                : int  112 112 112 112 112 112 112 112 112 112 ...\n",
      " $ Perc                 : num  63.39 0.89 1.79 2.68 0.89 ...\n"
     ]
    }
   ],
   "source": [
    "str(Freq.table)"
   ]
  },
  {
   "cell_type": "code",
   "execution_count": 169,
   "id": "d60bd35e-8c98-4d33-9556-084013b7c8a5",
   "metadata": {
    "execution": {
     "iopub.execute_input": "2025-04-23T19:02:49.832537Z",
     "iopub.status.busy": "2025-04-23T19:02:49.831425Z",
     "iopub.status.idle": "2025-04-23T19:02:49.872296Z",
     "shell.execute_reply": "2025-04-23T19:02:49.871102Z"
    }
   },
   "outputs": [
    {
     "name": "stdout",
     "output_type": "stream",
     "text": [
      "'data.frame':\t8 obs. of  3 variables:\n",
      " $ time_point: Ord.factor w/ 7 levels \"0_days\"<\"8_days\"<..: 1 1 2 3 4 5 6 7\n",
      " $ Diff      : Ord.factor w/ 2 levels \"Diff_MK\"<\"Diff_lymph\": 1 2 1 1 2 1 2 2\n",
      " $ ntime     : int  13727 18055 1502 11368 22294 11203 7490 13616\n"
     ]
    }
   ],
   "source": [
    "met.dt<-data.table(met, key=c(\"time_point\",\"Diff\"))\n",
    "Freq.time_point<-as.data.frame(met.dt[,.(ntime=.N),by=key(met.dt)], stringsAsFactors=F)\n",
    "\n",
    "\n",
    "str(Freq.time_point)"
   ]
  },
  {
   "cell_type": "code",
   "execution_count": 170,
   "id": "abd24531-669a-4d2a-93b1-5c68425a0605",
   "metadata": {
    "execution": {
     "iopub.execute_input": "2025-04-23T19:02:51.472672Z",
     "iopub.status.busy": "2025-04-23T19:02:51.471660Z",
     "iopub.status.idle": "2025-04-23T19:02:51.488503Z",
     "shell.execute_reply": "2025-04-23T19:02:51.487399Z"
    }
   },
   "outputs": [
    {
     "name": "stdout",
     "output_type": "stream",
     "text": [
      "'data.frame':\t858 obs. of  8 variables:\n",
      " $ time_point           : Ord.factor w/ 7 levels \"0_days\"<\"8_days\"<..: 1 1 1 1 1 1 1 1 1 1 ...\n",
      " $ Diff                 : Ord.factor w/ 2 levels \"Diff_MK\"<\"Diff_lymph\": 2 2 2 2 2 2 2 2 2 2 ...\n",
      " $ Integrated_annotation: Ord.factor w/ 21 levels \"hESC\"<\"HemogenicEndothelium\"<..: 18 18 18 18 18 18 18 18 18 18 ...\n",
      " $ clone_line           : Ord.factor w/ 12 levels \"wt_1\"<\"wt_2\"<..: NA 1 2 3 4 5 6 7 8 9 ...\n",
      " $ Freq                 : int  71 1 2 3 1 6 2 1 20 3 ...\n",
      " $ TOTAL                : int  112 112 112 112 112 112 112 112 112 112 ...\n",
      " $ Perc                 : num  63.39 0.89 1.79 2.68 0.89 ...\n",
      " $ ntime                : int  18055 18055 18055 18055 18055 18055 18055 18055 18055 18055 ...\n"
     ]
    }
   ],
   "source": [
    "Freq.table<-merge(Freq.table,\n",
    "                  Freq.time_point,\n",
    "                  by=c(\"time_point\",\"Diff\"))\n",
    "\n",
    "str(Freq.table)"
   ]
  },
  {
   "cell_type": "code",
   "execution_count": 171,
   "id": "869adbd4-3400-44b9-9347-1d633af47061",
   "metadata": {
    "execution": {
     "iopub.execute_input": "2025-04-23T19:02:52.332114Z",
     "iopub.status.busy": "2025-04-23T19:02:52.331133Z",
     "iopub.status.idle": "2025-04-23T19:02:52.345427Z",
     "shell.execute_reply": "2025-04-23T19:02:52.344287Z"
    }
   },
   "outputs": [
    {
     "name": "stdout",
     "output_type": "stream",
     "text": [
      "'data.frame':\t591 obs. of  8 variables:\n",
      " $ time_point           : Ord.factor w/ 7 levels \"0_days\"<\"8_days\"<..: 1 1 1 1 1 1 1 1 1 1 ...\n",
      " $ Diff                 : Ord.factor w/ 2 levels \"Diff_MK\"<\"Diff_lymph\": 2 2 2 2 2 2 2 2 2 2 ...\n",
      " $ Integrated_annotation: Ord.factor w/ 21 levels \"hESC\"<\"HemogenicEndothelium\"<..: 18 18 18 18 18 18 18 18 18 18 ...\n",
      " $ clone_line           : Ord.factor w/ 12 levels \"wt_1\"<\"wt_2\"<..: NA 1 2 3 4 5 6 7 8 9 ...\n",
      " $ Freq                 : int  71 1 2 3 1 6 2 1 20 3 ...\n",
      " $ TOTAL                : int  112 112 112 112 112 112 112 112 112 112 ...\n",
      " $ Perc                 : num  63.39 0.89 1.79 2.68 0.89 ...\n",
      " $ ntime                : int  18055 18055 18055 18055 18055 18055 18055 18055 18055 18055 ...\n"
     ]
    }
   ],
   "source": [
    "Freq.table_filtered<-Freq.table[which(Freq.table$TOTAL >= 100),]\n",
    "\n",
    "str(Freq.table_filtered)"
   ]
  },
  {
   "cell_type": "code",
   "execution_count": 172,
   "id": "71dec72a-22fc-48b9-8dcd-ada9db10fe90",
   "metadata": {
    "execution": {
     "iopub.execute_input": "2025-04-23T19:02:53.273279Z",
     "iopub.status.busy": "2025-04-23T19:02:53.272292Z",
     "iopub.status.idle": "2025-04-23T19:02:53.280317Z",
     "shell.execute_reply": "2025-04-23T19:02:53.279255Z"
    }
   },
   "outputs": [],
   "source": [
    "fill_colours<-c(brewer.pal(9, \"Greens\")[c(5,6,7)],brewer.pal(9, \"Reds\")[c(5,6,7)],brewer.pal(9, \"Purples\")[c(5,6,7)],brewer.pal(9, \"PuRd\")[c(5,6,7)],'gray','black')"
   ]
  },
  {
   "cell_type": "code",
   "execution_count": 173,
   "id": "588c266a-92ea-45c7-9302-f702276cd55c",
   "metadata": {
    "execution": {
     "iopub.execute_input": "2025-04-23T19:02:56.916700Z",
     "iopub.status.busy": "2025-04-23T19:02:56.915601Z",
     "iopub.status.idle": "2025-04-23T19:02:56.929297Z",
     "shell.execute_reply": "2025-04-23T19:02:56.928180Z"
    }
   },
   "outputs": [
    {
     "name": "stdout",
     "output_type": "stream",
     "text": [
      "'data.frame':\t591 obs. of  8 variables:\n",
      " $ time_point           : Ord.factor w/ 7 levels \"0_days\"<\"8_days\"<..: 1 1 1 1 1 1 1 1 1 1 ...\n",
      " $ Diff                 : Ord.factor w/ 2 levels \"Diff_MK\"<\"Diff_lymph\": 2 2 2 2 2 2 2 2 2 2 ...\n",
      " $ Integrated_annotation: Ord.factor w/ 21 levels \"hESC\"<\"HemogenicEndothelium\"<..: 18 18 18 18 18 18 18 18 18 18 ...\n",
      " $ clone_line           : Ord.factor w/ 12 levels \"wt_1\"<\"wt_2\"<..: NA 1 2 3 4 5 6 7 8 9 ...\n",
      " $ Freq                 : int  71 1 2 3 1 6 2 1 20 3 ...\n",
      " $ TOTAL                : int  112 112 112 112 112 112 112 112 112 112 ...\n",
      " $ Perc                 : num  63.39 0.89 1.79 2.68 0.89 ...\n",
      " $ ntime                : int  18055 18055 18055 18055 18055 18055 18055 18055 18055 18055 ...\n"
     ]
    }
   ],
   "source": [
    "str(Freq.table_filtered)"
   ]
  },
  {
   "cell_type": "code",
   "execution_count": 174,
   "id": "68856458-ca8b-465d-b54e-1917785a6f92",
   "metadata": {
    "execution": {
     "iopub.execute_input": "2025-04-23T19:02:57.817665Z",
     "iopub.status.busy": "2025-04-23T19:02:57.816688Z",
     "iopub.status.idle": "2025-04-23T19:02:59.090519Z",
     "shell.execute_reply": "2025-04-23T19:02:59.089217Z"
    }
   },
   "outputs": [
    {
     "name": "stdout",
     "output_type": "stream",
     "text": [
      "-------------------------------------->\t0 25 50 75 100\n"
     ]
    },
    {
     "data": {
      "image/png": "[encoded data removed]",
      "text/plain": [
       "plot without title"
      ]
     },
     "metadata": {
      "image/png": {
       "height": 420,
       "width": 420
      }
     },
     "output_type": "display_data"
    }
   ],
   "source": [
    "#### Stacked Graph #1---------------\n",
    "  \n",
    "  breaks.Rank<-(seq(0,100,by=25))\n",
    "  labels.Rank<-as.character(breaks.Rank)\n",
    "  \n",
    "  cat(\"-------------------------------------->\\t\")\n",
    "  cat(sprintf(as.character(labels.Rank)))\n",
    "  cat(\"\\n\")\n",
    "  \n",
    "  \n",
    "  stacked_barplot<-Freq.table_filtered %>%\n",
    "    mutate(myaxis = paste0(Integrated_annotation, \" \", \"n=\", TOTAL), drop=F) %>%\n",
    "    mutate(myaxis=fct_reorder(myaxis,as.numeric(Integrated_annotation)), drop=F) %>%\n",
    "    ggplot(aes(x=myaxis, y=Perc, fill=clone_line)) +\n",
    "    geom_bar(stat=\"identity\",colour='white')+\n",
    "    scale_y_continuous(name=paste(\"Percentage of cells in each cell type\",sep=\" \"),breaks=breaks.Rank,labels=labels.Rank,\n",
    "                       limits=c(breaks.Rank[1],breaks.Rank[length(breaks.Rank)]+1))+\n",
    "    scale_fill_manual(values=fill_colours,\n",
    "                      drop=F,\n",
    "                      name=\"Genotype\")\n",
    "\n",
    " stacked_barplot<-stacked_barplot+\n",
    "    theme_cowplot(font_size = 2)+\n",
    "    facet_grid(Diff ~ time_point+ntime, scales='free_x', space='free_x', switch=\"y\", \n",
    "               labeller=labeller(paste0(Freq.table_filtered$time_point, \"\\n\", \"n=\", Freq.table_filtered$ntime, drop=T)))+   \n",
    "    scale_x_discrete(name=\"Integrated_annotation\", drop=T)+\n",
    "    theme( strip.background = element_blank(),\n",
    "           strip.placement = \"outside\",\n",
    "           strip.text = element_text(size=6),\n",
    "           panel.spacing = unit(0.2, \"lines\"),\n",
    "           panel.background=element_rect(fill=\"white\"),\n",
    "           panel.border=element_rect(colour=\"white\",size=0,5),\n",
    "           panel.grid.major = element_blank(),\n",
    "           panel.grid.minor = element_blank())+\n",
    "        theme_classic()+\n",
    "            theme(axis.title.y=element_text(size=12, color=\"black\", family=\"sans\"),\n",
    "                  axis.title.x=element_blank(),\n",
    "                  axis.text.y=element_text(angle=0,size=10, color=\"black\", family=\"sans\"),\n",
    "                  axis.text.x=element_text(angle=90,size=8,hjust=1,vjust=0.5,color=\"black\", family=\"sans\"),\n",
    "                  axis.line.x = element_line(size = 0.2),\n",
    "                  axis.ticks.x = element_line(size = 0.2),\n",
    "                  axis.ticks.y = element_line(size = 0.2),\n",
    "                  axis.line.y = element_line(size = 0.2))+\n",
    "            theme(legend.title = element_blank(),\n",
    "                  legend.text = element_text(size=8, color=\"black\", family=\"sans\"),\n",
    "                  legend.key.size = unit(0.25, 'cm'), #change legend key size\n",
    "                  legend.key.height = unit(0.25, 'cm'), #change legend key height\n",
    "                  legend.key.width = unit(0.25, 'cm'), #change legend key width\n",
    "                  legend.position=\"bottom\")\n",
    "\n",
    "\n",
    "\n",
    "stacked_barplot"
   ]
  },
  {
   "cell_type": "code",
   "execution_count": 175,
   "id": "2dd789de-2944-4a96-82cb-479b50d3fae5",
   "metadata": {
    "execution": {
     "iopub.execute_input": "2025-04-23T19:03:52.162283Z",
     "iopub.status.busy": "2025-04-23T19:03:52.161129Z",
     "iopub.status.idle": "2025-04-23T19:03:53.884648Z",
     "shell.execute_reply": "2025-04-23T19:03:53.883249Z"
    }
   },
   "outputs": [],
   "source": [
    "setwd(path_graphs)\n",
    "\n",
    "svgname<-paste(\"stacked_barplot_Diff_vs_time_point_Integrated_annotation_vs_clone_line\",\".png\",sep='')\n",
    "makesvg = TRUE\n",
    "\n",
    "if (makesvg == TRUE)\n",
    "{\n",
    "  ggsave(svgname, plot= stacked_barplot,\n",
    "         device=\"png\",\n",
    "        width=13, height=13)\n",
    "}"
   ]
  },
  {
   "cell_type": "markdown",
   "id": "79c9af01-2fe8-4e6c-9efc-32f849406eab",
   "metadata": {},
   "source": [
    "# Subset for only genotyped cells"
   ]
  },
  {
   "cell_type": "code",
   "execution_count": 176,
   "id": "ace96cd1-6443-4be4-9e17-eb6bcb8617dc",
   "metadata": {
    "execution": {
     "iopub.execute_input": "2025-04-23T19:03:53.887502Z",
     "iopub.status.busy": "2025-04-23T19:03:53.886501Z",
     "iopub.status.idle": "2025-04-23T19:04:22.995745Z",
     "shell.execute_reply": "2025-04-23T19:04:22.994532Z"
    }
   },
   "outputs": [
    {
     "data": {
      "text/plain": [
       "An object of class Seurat \n",
       "671679 features across 48867 samples within 5 assays \n",
       "Active assay: integrated (3000 features, 3000 variable features)\n",
       " 2 layers present: data, scale.data\n",
       " 4 other assays present: RNA, RNA_raw, SCT, ATAC\n",
       " 2 dimensional reductions calculated: pca, umap"
      ]
     },
     "metadata": {},
     "output_type": "display_data"
    }
   ],
   "source": [
    "adata_sub<-subset(adata, integrative_genotyping != \"Doublet\" & integrative_genotyping != \"Negative\")\n",
    "adata_sub"
   ]
  },
  {
   "cell_type": "code",
   "execution_count": 193,
   "id": "98f35f4b-df20-4324-92de-899106cd0d04",
   "metadata": {
    "execution": {
     "iopub.execute_input": "2025-04-23T20:16:47.699101Z",
     "iopub.status.busy": "2025-04-23T20:16:47.697427Z",
     "iopub.status.idle": "2025-04-23T20:16:47.734297Z",
     "shell.execute_reply": "2025-04-23T20:16:47.732943Z"
    }
   },
   "outputs": [],
   "source": [
    "met<-droplevels(adata_sub[[]])"
   ]
  },
  {
   "cell_type": "markdown",
   "id": "8f81f5d4-15cc-4d24-ab9c-f56a1f06978e",
   "metadata": {},
   "source": [
    "### clone_line vs Integrated_annotation vs time_point vs Diff"
   ]
  },
  {
   "cell_type": "code",
   "execution_count": 194,
   "id": "e8eee6a1-9bb1-4a74-8c17-cde4279df231",
   "metadata": {
    "execution": {
     "iopub.execute_input": "2025-04-23T20:16:48.595358Z",
     "iopub.status.busy": "2025-04-23T20:16:48.594156Z",
     "iopub.status.idle": "2025-04-23T20:16:48.627702Z",
     "shell.execute_reply": "2025-04-23T20:16:48.626387Z"
    }
   },
   "outputs": [],
   "source": [
    "met.dt<-data.table(met,key=c(\"time_point\",\"Integrated_annotation\",\"clone_line\",\"Diff\"))"
   ]
  },
  {
   "cell_type": "code",
   "execution_count": 195,
   "id": "2c9ffbb2-6839-4106-8add-0fb74266bec4",
   "metadata": {
    "execution": {
     "iopub.execute_input": "2025-04-23T20:16:48.934215Z",
     "iopub.status.busy": "2025-04-23T20:16:48.933033Z",
     "iopub.status.idle": "2025-04-23T20:16:48.941925Z",
     "shell.execute_reply": "2025-04-23T20:16:48.940544Z"
    }
   },
   "outputs": [],
   "source": [
    "#str(met.dt)"
   ]
  },
  {
   "cell_type": "code",
   "execution_count": 196,
   "id": "208290a1-68a0-4a24-ad9b-9fbe58e63871",
   "metadata": {
    "execution": {
     "iopub.execute_input": "2025-04-23T20:16:49.234255Z",
     "iopub.status.busy": "2025-04-23T20:16:49.233090Z",
     "iopub.status.idle": "2025-04-23T20:16:49.252105Z",
     "shell.execute_reply": "2025-04-23T20:16:49.250741Z"
    }
   },
   "outputs": [
    {
     "name": "stdout",
     "output_type": "stream",
     "text": [
      "'data.frame':\t727 obs. of  5 variables:\n",
      " $ time_point           : Ord.factor w/ 7 levels \"0_days\"<\"8_days\"<..: 1 1 1 1 1 1 1 1 1 1 ...\n",
      " $ Integrated_annotation: Ord.factor w/ 21 levels \"hESC\"<\"HemogenicEndothelium\"<..: 1 1 1 1 1 1 1 1 1 1 ...\n",
      " $ clone_line           : Ord.factor w/ 12 levels \"wt_1\"<\"wt_2\"<..: 1 1 2 2 3 3 4 4 5 5 ...\n",
      " $ Diff                 : Ord.factor w/ 2 levels \"Diff_MK\"<\"Diff_lymph\": 1 2 1 2 1 2 1 2 1 2 ...\n",
      " $ Freq                 : int  52 12 107 76 68 13 118 5 95 35 ...\n"
     ]
    }
   ],
   "source": [
    "Freq.table<-as.data.frame(met.dt[,.(Freq=.N),by=key(met.dt)], stringsAsFactors=F)\n",
    "\n",
    "str(Freq.table)"
   ]
  },
  {
   "cell_type": "code",
   "execution_count": 197,
   "id": "551c0091-b6b1-4e70-9e01-7e457ff26c75",
   "metadata": {
    "execution": {
     "iopub.execute_input": "2025-04-23T20:16:49.543305Z",
     "iopub.status.busy": "2025-04-23T20:16:49.542098Z",
     "iopub.status.idle": "2025-04-23T20:16:49.580068Z",
     "shell.execute_reply": "2025-04-23T20:16:49.578699Z"
    }
   },
   "outputs": [
    {
     "name": "stdout",
     "output_type": "stream",
     "text": [
      "'data.frame':\t131 obs. of  4 variables:\n",
      " $ time_point           : Ord.factor w/ 7 levels \"0_days\"<\"8_days\"<..: 1 1 1 1 1 1 1 1 1 1 ...\n",
      " $ Integrated_annotation: Ord.factor w/ 21 levels \"hESC\"<\"HemogenicEndothelium\"<..: 1 1 2 3 4 5 6 7 8 9 ...\n",
      " $ Diff                 : Ord.factor w/ 2 levels \"Diff_MK\"<\"Diff_lymph\": 1 2 2 2 2 2 2 2 2 2 ...\n",
      " $ TOTAL                : int  5695 1030 3337 200 16 227 32 156 20 23 ...\n"
     ]
    }
   ],
   "source": [
    "met.dt<-data.table(met, key=c(\"time_point\",\"Integrated_annotation\",\"Diff\"))\n",
    "Freq.TOTAL<-as.data.frame(met.dt[,.(TOTAL=.N),by=key(met.dt)], stringsAsFactors=F)\n",
    "\n",
    "str(Freq.TOTAL)"
   ]
  },
  {
   "cell_type": "code",
   "execution_count": 198,
   "id": "8bf5ec36-48a4-4441-a0a0-ff0b70de8c3d",
   "metadata": {
    "execution": {
     "iopub.execute_input": "2025-04-23T20:16:50.026921Z",
     "iopub.status.busy": "2025-04-23T20:16:50.025739Z",
     "iopub.status.idle": "2025-04-23T20:16:50.041126Z",
     "shell.execute_reply": "2025-04-23T20:16:50.039780Z"
    }
   },
   "outputs": [],
   "source": [
    "Freq.table<-merge(Freq.table,\n",
    "                  Freq.TOTAL,\n",
    "                  by=c(\"time_point\",\"Integrated_annotation\",\"Diff\"))\n",
    "Freq.table$Perc<-round((100*(Freq.table$Freq/Freq.table$TOTAL)),2)\n",
    "\n",
    "#Freq.table"
   ]
  },
  {
   "cell_type": "code",
   "execution_count": 199,
   "id": "5c383ed9-4c97-47e5-a50a-9174557489b2",
   "metadata": {
    "execution": {
     "iopub.execute_input": "2025-04-23T20:16:50.535517Z",
     "iopub.status.busy": "2025-04-23T20:16:50.534334Z",
     "iopub.status.idle": "2025-04-23T20:16:50.548633Z",
     "shell.execute_reply": "2025-04-23T20:16:50.547305Z"
    }
   },
   "outputs": [
    {
     "name": "stdout",
     "output_type": "stream",
     "text": [
      "'data.frame':\t727 obs. of  7 variables:\n",
      " $ time_point           : Ord.factor w/ 7 levels \"0_days\"<\"8_days\"<..: 1 1 1 1 1 1 1 1 1 1 ...\n",
      " $ Integrated_annotation: Ord.factor w/ 21 levels \"hESC\"<\"HemogenicEndothelium\"<..: 18 18 18 18 18 18 18 18 18 18 ...\n",
      " $ Diff                 : Ord.factor w/ 2 levels \"Diff_MK\"<\"Diff_lymph\": 2 2 2 2 2 2 2 2 2 2 ...\n",
      " $ clone_line           : Ord.factor w/ 12 levels \"wt_1\"<\"wt_2\"<..: 1 2 3 4 5 6 7 8 9 11 ...\n",
      " $ Freq                 : int  1 2 3 1 6 2 1 20 3 1 ...\n",
      " $ TOTAL                : int  41 41 41 41 41 41 41 41 41 41 ...\n",
      " $ Perc                 : num  2.44 4.88 7.32 2.44 14.63 ...\n"
     ]
    }
   ],
   "source": [
    "str(Freq.table)"
   ]
  },
  {
   "cell_type": "code",
   "execution_count": 200,
   "id": "3ecae790-dbdd-49eb-aac5-958964a4f51d",
   "metadata": {
    "execution": {
     "iopub.execute_input": "2025-04-23T20:16:51.237867Z",
     "iopub.status.busy": "2025-04-23T20:16:51.236713Z",
     "iopub.status.idle": "2025-04-23T20:16:51.270946Z",
     "shell.execute_reply": "2025-04-23T20:16:51.269572Z"
    }
   },
   "outputs": [
    {
     "name": "stdout",
     "output_type": "stream",
     "text": [
      "'data.frame':\t8 obs. of  3 variables:\n",
      " $ time_point: Ord.factor w/ 7 levels \"0_days\"<\"8_days\"<..: 1 1 2 3 4 5 6 7\n",
      " $ Diff      : Ord.factor w/ 2 levels \"Diff_MK\"<\"Diff_lymph\": 1 2 1 1 2 1 2 2\n",
      " $ ntime     : int  5696 5514 183 4993 10742 7436 4853 9450\n"
     ]
    }
   ],
   "source": [
    "met.dt<-data.table(met, key=c(\"time_point\",\"Diff\"))\n",
    "Freq.time_point<-as.data.frame(met.dt[,.(ntime=.N),by=key(met.dt)], stringsAsFactors=F)\n",
    "\n",
    "\n",
    "str(Freq.time_point)"
   ]
  },
  {
   "cell_type": "code",
   "execution_count": 201,
   "id": "348068cb-ad03-4b35-ba3d-3b46522e663a",
   "metadata": {
    "execution": {
     "iopub.execute_input": "2025-04-23T20:16:51.911749Z",
     "iopub.status.busy": "2025-04-23T20:16:51.910519Z",
     "iopub.status.idle": "2025-04-23T20:16:51.929403Z",
     "shell.execute_reply": "2025-04-23T20:16:51.928157Z"
    }
   },
   "outputs": [
    {
     "name": "stdout",
     "output_type": "stream",
     "text": [
      "'data.frame':\t727 obs. of  8 variables:\n",
      " $ time_point           : Ord.factor w/ 7 levels \"0_days\"<\"8_days\"<..: 1 1 1 1 1 1 1 1 1 1 ...\n",
      " $ Diff                 : Ord.factor w/ 2 levels \"Diff_MK\"<\"Diff_lymph\": 2 2 2 2 2 2 2 2 2 2 ...\n",
      " $ Integrated_annotation: Ord.factor w/ 21 levels \"hESC\"<\"HemogenicEndothelium\"<..: 18 18 18 18 18 18 18 18 18 18 ...\n",
      " $ clone_line           : Ord.factor w/ 12 levels \"wt_1\"<\"wt_2\"<..: 1 2 3 4 5 6 7 8 9 11 ...\n",
      " $ Freq                 : int  1 2 3 1 6 2 1 20 3 1 ...\n",
      " $ TOTAL                : int  41 41 41 41 41 41 41 41 41 41 ...\n",
      " $ Perc                 : num  2.44 4.88 7.32 2.44 14.63 ...\n",
      " $ ntime                : int  5514 5514 5514 5514 5514 5514 5514 5514 5514 5514 ...\n"
     ]
    }
   ],
   "source": [
    "Freq.table<-merge(Freq.table,\n",
    "                  Freq.time_point,\n",
    "                  by=c(\"time_point\",\"Diff\"))\n",
    "\n",
    "str(Freq.table)"
   ]
  },
  {
   "cell_type": "code",
   "execution_count": 202,
   "id": "3f2b26e7-44f5-40c6-94c8-cbf5f7e7900e",
   "metadata": {
    "execution": {
     "iopub.execute_input": "2025-04-23T20:16:52.413141Z",
     "iopub.status.busy": "2025-04-23T20:16:52.411941Z",
     "iopub.status.idle": "2025-04-23T20:16:52.428623Z",
     "shell.execute_reply": "2025-04-23T20:16:52.427362Z"
    }
   },
   "outputs": [
    {
     "name": "stdout",
     "output_type": "stream",
     "text": [
      "'data.frame':\t496 obs. of  8 variables:\n",
      " $ time_point           : Ord.factor w/ 7 levels \"0_days\"<\"8_days\"<..: 1 1 1 1 1 1 1 1 1 1 ...\n",
      " $ Diff                 : Ord.factor w/ 2 levels \"Diff_MK\"<\"Diff_lymph\": 2 2 2 2 2 2 2 2 2 2 ...\n",
      " $ Integrated_annotation: Ord.factor w/ 21 levels \"hESC\"<\"HemogenicEndothelium\"<..: 19 19 19 19 19 19 19 19 19 3 ...\n",
      " $ clone_line           : Ord.factor w/ 12 levels \"wt_1\"<\"wt_2\"<..: 2 4 5 6 7 8 10 11 12 6 ...\n",
      " $ Freq                 : int  6 1 4 1 2 55 4 8 3 16 ...\n",
      " $ TOTAL                : int  84 84 84 84 84 84 84 84 84 200 ...\n",
      " $ Perc                 : num  7.14 1.19 4.76 1.19 2.38 ...\n",
      " $ ntime                : int  5514 5514 5514 5514 5514 5514 5514 5514 5514 5514 ...\n"
     ]
    }
   ],
   "source": [
    "Freq.table_filtered<-Freq.table[which(Freq.table$TOTAL >= 50),]\n",
    "\n",
    "str(Freq.table_filtered)"
   ]
  },
  {
   "cell_type": "code",
   "execution_count": 203,
   "id": "22c5a993-8af0-45a5-83e2-91b03b02659a",
   "metadata": {
    "execution": {
     "iopub.execute_input": "2025-04-23T20:16:52.866879Z",
     "iopub.status.busy": "2025-04-23T20:16:52.865788Z",
     "iopub.status.idle": "2025-04-23T20:16:52.874811Z",
     "shell.execute_reply": "2025-04-23T20:16:52.873557Z"
    }
   },
   "outputs": [],
   "source": [
    "fill_colours<-c(brewer.pal(9, \"Greens\")[c(5,6,7)],brewer.pal(9, \"Reds\")[c(5,6,7)],brewer.pal(9, \"Purples\")[c(5,6,7)],brewer.pal(9, \"PuRd\")[c(5,6,7)],'gray','black')"
   ]
  },
  {
   "cell_type": "code",
   "execution_count": 204,
   "id": "4f7df784-df3c-49a0-8019-b2f035af4595",
   "metadata": {
    "execution": {
     "iopub.execute_input": "2025-04-23T20:16:53.307484Z",
     "iopub.status.busy": "2025-04-23T20:16:53.306340Z",
     "iopub.status.idle": "2025-04-23T20:16:53.323821Z",
     "shell.execute_reply": "2025-04-23T20:16:53.322037Z"
    }
   },
   "outputs": [
    {
     "name": "stdout",
     "output_type": "stream",
     "text": [
      "'data.frame':\t496 obs. of  8 variables:\n",
      " $ time_point           : Ord.factor w/ 7 levels \"0_days\"<\"8_days\"<..: 1 1 1 1 1 1 1 1 1 1 ...\n",
      " $ Diff                 : Ord.factor w/ 2 levels \"Diff_MK\"<\"Diff_lymph\": 2 2 2 2 2 2 2 2 2 2 ...\n",
      " $ Integrated_annotation: Ord.factor w/ 21 levels \"hESC\"<\"HemogenicEndothelium\"<..: 19 19 19 19 19 19 19 19 19 3 ...\n",
      " $ clone_line           : Ord.factor w/ 12 levels \"wt_1\"<\"wt_2\"<..: 2 4 5 6 7 8 10 11 12 6 ...\n",
      " $ Freq                 : int  6 1 4 1 2 55 4 8 3 16 ...\n",
      " $ TOTAL                : int  84 84 84 84 84 84 84 84 84 200 ...\n",
      " $ Perc                 : num  7.14 1.19 4.76 1.19 2.38 ...\n",
      " $ ntime                : int  5514 5514 5514 5514 5514 5514 5514 5514 5514 5514 ...\n"
     ]
    }
   ],
   "source": [
    "str(Freq.table_filtered)"
   ]
  },
  {
   "cell_type": "code",
   "execution_count": 205,
   "id": "a4fc16d6-46a7-4dbe-9d08-78cc0ef50893",
   "metadata": {
    "execution": {
     "iopub.execute_input": "2025-04-23T20:16:54.063384Z",
     "iopub.status.busy": "2025-04-23T20:16:54.062034Z",
     "iopub.status.idle": "2025-04-23T20:16:57.183643Z",
     "shell.execute_reply": "2025-04-23T20:16:57.182453Z"
    }
   },
   "outputs": [
    {
     "name": "stdout",
     "output_type": "stream",
     "text": [
      "-------------------------------------->\t0 25 50 75 100\n"
     ]
    },
    {
     "data": {
      "image/png": "[encoded data removed]",
      "text/plain": [
       "plot without title"
      ]
     },
     "metadata": {
      "image/png": {
       "height": 420,
       "width": 420
      }
     },
     "output_type": "display_data"
    }
   ],
   "source": [
    "#### Stacked Graph #1---------------\n",
    "  \n",
    "  breaks.Rank<-(seq(0,100,by=25))\n",
    "  labels.Rank<-as.character(breaks.Rank)\n",
    "  \n",
    "  cat(\"-------------------------------------->\\t\")\n",
    "  cat(sprintf(as.character(labels.Rank)))\n",
    "  cat(\"\\n\")\n",
    "  \n",
    "  \n",
    "  stacked_barplot<-Freq.table_filtered %>%\n",
    "    mutate(myaxis = paste0(Integrated_annotation, \" \", \"n=\", TOTAL), drop=F) %>%\n",
    "    mutate(myaxis=fct_reorder(myaxis,as.numeric(Integrated_annotation)), drop=F) %>%\n",
    "    ggplot(aes(x=myaxis, y=Perc, fill=clone_line)) +\n",
    "    geom_bar(stat=\"identity\",colour='white')+\n",
    "    scale_y_continuous(name=paste(\"Percentage of cells in each cell type\",sep=\" \"),breaks=breaks.Rank,labels=labels.Rank,\n",
    "                       limits=c(breaks.Rank[1],breaks.Rank[length(breaks.Rank)]+1))+\n",
    "    scale_fill_manual(values=fill_colours,\n",
    "                      drop=F,\n",
    "                      name=\"Genotype\")\n",
    "\n",
    " stacked_barplot<-stacked_barplot+\n",
    "    theme_cowplot(font_size = 2)+\n",
    "    facet_grid(Diff ~ time_point+ntime, scales='free_x', space='free_x', switch=\"y\", \n",
    "               labeller=labeller(paste0(Freq.table_filtered$time_point, \"\\n\", \"n=\", Freq.table_filtered$ntime, drop=T)))+   \n",
    "    scale_x_discrete(name=\"Integrated_annotation\", drop=T)+\n",
    "    theme( strip.background = element_blank(),\n",
    "           strip.placement = \"outside\",\n",
    "           strip.text = element_text(size=6),\n",
    "           panel.spacing = unit(0.2, \"lines\"),\n",
    "           panel.background=element_rect(fill=\"white\"),\n",
    "           panel.border=element_rect(colour=\"white\",size=0,5),\n",
    "           panel.grid.major = element_blank(),\n",
    "           panel.grid.minor = element_blank())+\n",
    "        theme_classic()+\n",
    "            theme(axis.title.y=element_text(size=12, color=\"black\", family=\"sans\"),\n",
    "                  axis.title.x=element_blank(),\n",
    "                  axis.text.y=element_text(angle=0,size=10, color=\"black\", family=\"sans\"),\n",
    "                  axis.text.x=element_text(angle=45,size=8,hjust=1,vjust=1,color=\"black\", family=\"sans\"),\n",
    "                  axis.line.x = element_line(size = 0.2),\n",
    "                  axis.ticks.x = element_line(size = 0.2),\n",
    "                  axis.ticks.y = element_line(size = 0.2),\n",
    "                  axis.line.y = element_line(size = 0.2))+\n",
    "            theme(legend.title = element_blank(),\n",
    "                  legend.text = element_text(size=8, color=\"black\", family=\"sans\"),\n",
    "                  legend.key.size = unit(0.25, 'cm'), #change legend key size\n",
    "                  legend.key.height = unit(0.25, 'cm'), #change legend key height\n",
    "                  legend.key.width = unit(0.25, 'cm'), #change legend key width\n",
    "                  legend.position=\"bottom\")\n",
    "\n",
    "\n",
    "\n",
    "stacked_barplot"
   ]
  },
  {
   "cell_type": "code",
   "execution_count": 206,
   "id": "1e15dbd5-d272-44d4-bc2a-dacc76fcb35f",
   "metadata": {
    "execution": {
     "iopub.execute_input": "2025-04-23T20:16:57.186344Z",
     "iopub.status.busy": "2025-04-23T20:16:57.185431Z",
     "iopub.status.idle": "2025-04-23T20:16:58.358116Z",
     "shell.execute_reply": "2025-04-23T20:16:58.356762Z"
    }
   },
   "outputs": [],
   "source": [
    "setwd(path_graphs)\n",
    "\n",
    "svgname<-paste(\"stacked_barplot_Diff_vs_time_point_Integrated_annotation_vs_clone_line_only_genotyped_cells\",\".png\",sep='')\n",
    "makesvg = TRUE\n",
    "\n",
    "if (makesvg == TRUE)\n",
    "{\n",
    "  ggsave(svgname, plot= stacked_barplot,\n",
    "         device=\"png\",\n",
    "        width=13, height=13)\n",
    "}"
   ]
  },
  {
   "cell_type": "markdown",
   "id": "f6404c97-0624-4ff1-9ba3-e9ac0941f164",
   "metadata": {},
   "source": [
    "# Save the new object"
   ]
  },
  {
   "cell_type": "code",
   "execution_count": 191,
   "id": "8fd92ad7-aa39-4ae9-b178-79fc986487c4",
   "metadata": {
    "execution": {
     "iopub.execute_input": "2025-04-23T19:04:47.243948Z",
     "iopub.status.busy": "2025-04-23T19:04:47.242799Z",
     "iopub.status.idle": "2025-04-23T19:21:17.053864Z",
     "shell.execute_reply": "2025-04-23T19:21:17.050757Z"
    }
   },
   "outputs": [],
   "source": [
    "setwd(\"/group/soranzo/manuel.tardaguila/2025_hESC_lymph_multiome/Multiome/processing_outputs/\")\n",
    "\n",
    "saveRDS(adata_sub, file=\"merged_unprocessed_db_db_filt_clustered_QCed_cell_annotated_rpca_integrate_rpca_integrate_clustered_only_genotyped.rds\")"
   ]
  },
  {
   "cell_type": "code",
   "execution_count": 192,
   "id": "1f333e17-2b17-4b34-a84f-ff20814909d2",
   "metadata": {
    "execution": {
     "iopub.execute_input": "2025-04-23T19:21:17.058611Z",
     "iopub.status.busy": "2025-04-23T19:21:17.057083Z",
     "iopub.status.idle": "2025-04-23T19:58:34.044678Z",
     "shell.execute_reply": "2025-04-23T19:58:34.041337Z"
    }
   },
   "outputs": [],
   "source": [
    "setwd(\"/group/soranzo/manuel.tardaguila/2025_hESC_lymph_multiome/Multiome/processing_outputs/\")\n",
    "\n",
    "saveRDS(adata, file=\"merged_unprocessed_db_db_filt_clustered_QCed_cell_annotated_rpca_integrate_rpca_integrate_clustered_and_genotyped.rds\")"
   ]
  },
  {
   "cell_type": "code",
   "execution_count": null,
   "id": "9d580b99-9372-4eda-bb56-b28a1613c910",
   "metadata": {},
   "outputs": [],
   "source": []
  }
 ],
 "metadata": {
  "kernelspec": {
   "display_name": "R [conda env:multiome_QC_DEF]",
   "language": "R",
   "name": "conda-env-multiome_QC_DEF-r"
  },
  "language_info": {
   "codemirror_mode": "r",
   "file_extension": ".r",
   "mimetype": "text/x-r-source",
   "name": "R",
   "pygments_lexer": "r",
   "version": "4.3.1"
  }
 },
 "nbformat": 4,
 "nbformat_minor": 5
}
